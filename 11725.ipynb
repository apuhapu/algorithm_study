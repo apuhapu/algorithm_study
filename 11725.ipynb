{
  "nbformat": 4,
  "nbformat_minor": 0,
  "metadata": {
    "colab": {
      "name": "11725.ipynb",
      "provenance": [],
      "authorship_tag": "ABX9TyO0dRClUe25Rp+S/NKGUwes",
      "include_colab_link": true
    },
    "kernelspec": {
      "name": "python3",
      "display_name": "Python 3"
    },
    "language_info": {
      "name": "python"
    }
  },
  "cells": [
    {
      "cell_type": "markdown",
      "metadata": {
        "id": "view-in-github",
        "colab_type": "text"
      },
      "source": [
        "<a href=\"https://colab.research.google.com/github/apuhapu/algorithm_study/blob/main/11725.ipynb\" target=\"_parent\"><img src=\"https://colab.research.google.com/assets/colab-badge.svg\" alt=\"Open In Colab\"/></a>"
      ]
    },
    {
      "cell_type": "markdown",
      "source": [
        "https://www.acmicpc.net/problem/11725"
      ],
      "metadata": {
        "id": "VHIIT-O3o9QN"
      }
    },
    {
      "cell_type": "markdown",
      "source": [
        "1이 트리의 root이므로 1부터 bfs를 진행하면 각 정점의 전 정점이 부모가 된다."
      ],
      "metadata": {
        "id": "nOtxHD1TpJ82"
      }
    },
    {
      "cell_type": "code",
      "source": [
        "from collections import deque"
      ],
      "metadata": {
        "id": "fA5BNXDepAeH"
      },
      "execution_count": 2,
      "outputs": []
    },
    {
      "cell_type": "code",
      "source": [
        "def bfs(root):\n",
        "    deq = deque([root])\n",
        "    global visited\n",
        "    visited = [-1] * (n+1)\n",
        "    visited[1] = 0\n",
        "\n",
        "    while deq:\n",
        "        x = deq.popleft()\n",
        "        for i in graph[x]:\n",
        "            if visited[i] == -1:\n",
        "                visited[i] = x\n",
        "                deq.append(i)"
      ],
      "metadata": {
        "id": "_na7e6qPpf-g"
      },
      "execution_count": 9,
      "outputs": []
    },
    {
      "cell_type": "code",
      "source": [
        "n = int(input().rstrip())\n",
        "\n",
        "graph = [[] for _ in range(n+1)]\n",
        "for _ in range(n-1):\n",
        "    a, b = map(int, input().rstrip().split())\n",
        "    graph[a].append(b)\n",
        "    graph[b].append(a)"
      ],
      "metadata": {
        "colab": {
          "base_uri": "https://localhost:8080/"
        },
        "id": "fk0EoRLjqv6A",
        "outputId": "ef71c988-ac82-4e17-9fcf-ee65dea6de48"
      },
      "execution_count": 4,
      "outputs": [
        {
          "name": "stdout",
          "output_type": "stream",
          "text": [
            "7\n",
            "1 6\n",
            "6 3\n",
            "3 5\n",
            "4 1\n",
            "2 4\n",
            "4 7\n"
          ]
        }
      ]
    },
    {
      "cell_type": "code",
      "source": [
        "bfs(1)"
      ],
      "metadata": {
        "id": "Rs71BXXzrPuv"
      },
      "execution_count": 10,
      "outputs": []
    },
    {
      "cell_type": "code",
      "source": [
        "for j in visited[2:]:\n",
        "    print(j)"
      ],
      "metadata": {
        "colab": {
          "base_uri": "https://localhost:8080/"
        },
        "id": "G7OTPQ-urVyz",
        "outputId": "661a6e87-dd64-46b3-a176-7a7b76ca13d6"
      },
      "execution_count": 11,
      "outputs": [
        {
          "output_type": "stream",
          "name": "stdout",
          "text": [
            "4\n",
            "6\n",
            "1\n",
            "3\n",
            "1\n",
            "4\n"
          ]
        }
      ]
    },
    {
      "cell_type": "markdown",
      "source": [
        "제출본"
      ],
      "metadata": {
        "id": "mmKn7L-5risn"
      }
    },
    {
      "cell_type": "code",
      "source": [
        "from collections import deque\n",
        "import sys\n",
        "input = sys.stdin.readline\n",
        "\n",
        "def bfs(root):\n",
        "    deq = deque([root])\n",
        "    global visited\n",
        "    visited = [-1] * (n+1)\n",
        "    visited[1] = 0\n",
        "\n",
        "    while deq:\n",
        "        x = deq.popleft()\n",
        "        for i in graph[x]:\n",
        "            if visited[i] == -1:\n",
        "                visited[i] = x\n",
        "                deq.append(i)\n",
        "\n",
        "# 입력파트\n",
        "n = int(input().rstrip())\n",
        "\n",
        "graph = [[] for _ in range(n+1)]\n",
        "for _ in range(n-1):\n",
        "    a, b = map(int, input().rstrip().split())\n",
        "    graph[a].append(b)\n",
        "    graph[b].append(a)\n",
        "\n",
        "bfs(1)\n",
        "\n",
        "# 출력파트\n",
        "for j in visited[2:]:\n",
        "    print(j)"
      ],
      "metadata": {
        "id": "jUaOXtyurib7"
      },
      "execution_count": null,
      "outputs": []
    }
  ]
}
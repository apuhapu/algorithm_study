{
  "nbformat": 4,
  "nbformat_minor": 0,
  "metadata": {
    "colab": {
      "name": "16953.ipynb",
      "provenance": [],
      "authorship_tag": "ABX9TyM9Rr2cfk7FeLV43zIhMQUg",
      "include_colab_link": true
    },
    "kernelspec": {
      "name": "python3",
      "display_name": "Python 3"
    },
    "language_info": {
      "name": "python"
    }
  },
  "cells": [
    {
      "cell_type": "markdown",
      "metadata": {
        "id": "view-in-github",
        "colab_type": "text"
      },
      "source": [
        "<a href=\"https://colab.research.google.com/github/apuhapu/algorithm_study/blob/main/16953.ipynb\" target=\"_parent\"><img src=\"https://colab.research.google.com/assets/colab-badge.svg\" alt=\"Open In Colab\"/></a>"
      ]
    },
    {
      "cell_type": "markdown",
      "source": [
        "https://www.acmicpc.net/problem/16953"
      ],
      "metadata": {
        "id": "hIHr1tQ8mDPM"
      }
    },
    {
      "cell_type": "code",
      "source": [
        "from collections import deque"
      ],
      "metadata": {
        "id": "8IpjKdU6mGAn"
      },
      "execution_count": 1,
      "outputs": []
    },
    {
      "cell_type": "code",
      "source": [
        "def bfs(a, b):\n",
        "    deq = deque([a])\n",
        "    cnt = 1\n",
        "    while deq:\n",
        "        x = deq.popleft()\n",
        "\n",
        "        # 2*x\n",
        "        cnt += 1\n",
        "        if 2*x == b:\n",
        "            return cnt\n",
        "        elif 2*x > b:\n",
        "            continue\n",
        "        else:\n",
        "            deq.append(2*x)\n",
        "        print(2*x)\n",
        "        # 10*x + 1\n",
        "        cnt += 1\n",
        "        if 10*x + 1 == b:\n",
        "            return cnt\n",
        "        elif 10*x + 1 > b:\n",
        "            continue\n",
        "        else:\n",
        "            deq.append(10*x + 1)\n",
        "        print(10*x + 1)\n",
        "    return -1"
      ],
      "metadata": {
        "id": "h2gLb-GbmQoI"
      },
      "execution_count": 28,
      "outputs": []
    },
    {
      "cell_type": "code",
      "source": [
        "t = bfs(4,42)"
      ],
      "metadata": {
        "colab": {
          "base_uri": "https://localhost:8080/"
        },
        "id": "XMoQCFQ8qVY6",
        "outputId": "1d0f754b-eff8-4431-dcda-002bfe2c11b9"
      },
      "execution_count": 29,
      "outputs": [
        {
          "output_type": "stream",
          "name": "stdout",
          "text": [
            "8\n",
            "41\n",
            "16\n",
            "32\n"
          ]
        }
      ]
    },
    {
      "cell_type": "code",
      "source": [
        "print(t)"
      ],
      "metadata": {
        "colab": {
          "base_uri": "https://localhost:8080/"
        },
        "id": "ufFqQH5vuiO_",
        "outputId": "eafaac23-d428-4f38-f93a-e264d2b7b0f4"
      },
      "execution_count": 30,
      "outputs": [
        {
          "output_type": "stream",
          "name": "stdout",
          "text": [
            "-1\n"
          ]
        }
      ]
    },
    {
      "cell_type": "code",
      "source": [
        "if t == -1:\n",
        "    print(-1)\n",
        "else:\n",
        "    k = 2\n",
        "    while t >= 2 ** k:\n",
        "        k += 1\n",
        "    print(k)"
      ],
      "metadata": {
        "colab": {
          "base_uri": "https://localhost:8080/"
        },
        "id": "dw3uCaLFsati",
        "outputId": "bd0e7dec-9efb-4a13-946b-76f4676b2b01"
      },
      "execution_count": 21,
      "outputs": [
        {
          "output_type": "stream",
          "name": "stdout",
          "text": [
            "5\n"
          ]
        }
      ]
    },
    {
      "cell_type": "code",
      "source": [
        "from collections import deque\n",
        "\n",
        "def bfs(a, b):\n",
        "    if a == b:\n",
        "        return 0\n",
        "\n",
        "    deq = deque([a])\n",
        "    idx = 1\n",
        "    while deq:\n",
        "        x = deq.popleft()\n",
        "\n",
        "        # 2*x\n",
        "        idx += 1\n",
        "        if 2*x == b:\n",
        "            return idx\n",
        "        elif 2*x > b:\n",
        "            continue\n",
        "        else:\n",
        "            deq.append(2*x)\n",
        "\n",
        "        # 10*x + 1\n",
        "        idx += 1\n",
        "        if 10*x + 1 == b:\n",
        "            return idx\n",
        "        elif 10*x + 1 > b:\n",
        "            continue\n",
        "        else:\n",
        "            deq.append(10*x + 1)\n",
        "\n",
        "    return -1\n",
        "\n",
        "a, b = map(int,input().split())\n",
        "\n",
        "t = bfs(a,b)\n",
        "\n",
        "if t == -1:\n",
        "    print(-1)\n",
        "elif t == 0:\n",
        "    print(0)\n",
        "else:\n",
        "    k = 2\n",
        "    while t >= 2 ** k:\n",
        "        k += 1\n",
        "    print(k)"
      ],
      "metadata": {
        "colab": {
          "base_uri": "https://localhost:8080/"
        },
        "id": "R9H7PQHktvEK",
        "outputId": "73d57eab-926a-4bff-ca31-b63d8dbc77e3"
      },
      "execution_count": 35,
      "outputs": [
        {
          "output_type": "stream",
          "name": "stdout",
          "text": [
            "2 5\n",
            "-1\n"
          ]
        }
      ]
    },
    {
      "cell_type": "markdown",
      "source": [
        "틀림 >> 크다고 버리면 완전 이진 트리기 되지 못함\n",
        "높이를 재는 다른 방법이 필요\n",
        "\n",
        "덱에 연산 수도 같이 튜플로 해서 넣으면 해결"
      ],
      "metadata": {
        "id": "aHUgQ4CZwxAh"
      }
    },
    {
      "cell_type": "code",
      "source": [
        "from collections import deque\n",
        "\n",
        "def bfs(a, b):\n",
        "    if a == b:\n",
        "        return 0\n",
        "    # (숫자, 계산횟수)\n",
        "    deq = deque([(a,0)])\n",
        "    while deq:\n",
        "        x, y = deq.popleft()\n",
        "\n",
        "        # 2*x\n",
        "        if 2*x == b:\n",
        "            return y + 1 + 1\n",
        "        elif 2*x > b:\n",
        "            continue\n",
        "        else:\n",
        "            deq.append((2*x,y+1))\n",
        "\n",
        "        # 10*x + 1\n",
        "        if 10*x + 1 == b:\n",
        "            return y + 1 + 1\n",
        "        elif 10*x + 1 > b:\n",
        "            continue\n",
        "        else:\n",
        "            deq.append((10*x+1,y+1))\n",
        "\n",
        "    return -1\n",
        "\n",
        "a, b = map(int,input().split())\n",
        "\n",
        "print(bfs(a,b))"
      ],
      "metadata": {
        "colab": {
          "base_uri": "https://localhost:8080/"
        },
        "id": "NzgpXWbxxrxm",
        "outputId": "61eb7c82-4309-428c-80b9-b8f10cea6dd0"
      },
      "execution_count": 40,
      "outputs": [
        {
          "output_type": "stream",
          "name": "stdout",
          "text": [
            "100 40021\n",
            "5\n"
          ]
        }
      ]
    }
  ]
}
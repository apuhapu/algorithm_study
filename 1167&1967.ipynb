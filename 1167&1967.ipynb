{
  "nbformat": 4,
  "nbformat_minor": 0,
  "metadata": {
    "colab": {
      "name": "1167&1967.ipynb",
      "provenance": [],
      "authorship_tag": "ABX9TyP4h4oZqp5DHyLvl4iEWelc",
      "include_colab_link": true
    },
    "kernelspec": {
      "name": "python3",
      "display_name": "Python 3"
    },
    "language_info": {
      "name": "python"
    }
  },
  "cells": [
    {
      "cell_type": "markdown",
      "metadata": {
        "id": "view-in-github",
        "colab_type": "text"
      },
      "source": [
        "<a href=\"https://colab.research.google.com/github/apuhapu/algorithm_study/blob/main/1167%261967.ipynb\" target=\"_parent\"><img src=\"https://colab.research.google.com/assets/colab-badge.svg\" alt=\"Open In Colab\"/></a>"
      ]
    },
    {
      "cell_type": "markdown",
      "source": [
        "https://www.acmicpc.net/problem/1167"
      ],
      "metadata": {
        "id": "C-hUP_5rSNQv"
      }
    },
    {
      "cell_type": "code",
      "source": [
        "from collections import deque"
      ],
      "metadata": {
        "id": "cAAwkaCDDtu5"
      },
      "execution_count": 1,
      "outputs": []
    },
    {
      "cell_type": "code",
      "execution_count": 2,
      "metadata": {
        "colab": {
          "base_uri": "https://localhost:8080/"
        },
        "id": "75pAY619AB08",
        "outputId": "3378fc7a-cd79-4155-b2e8-bf7ff895a409"
      },
      "outputs": [
        {
          "name": "stdout",
          "output_type": "stream",
          "text": [
            "5\n",
            "1 3 2 -1\n",
            "2 4 4 -1\n",
            "3 1 2 4 3 -1\n",
            "4 2 4 3 3 5 6 -1\n",
            "5 4 6 -1\n"
          ]
        }
      ],
      "source": [
        "n = int(input())\n",
        "graph = [[] for _ in range(n+1)]\n",
        "for _ in range(n):\n",
        "    que = deque(list(map(int, input().rstrip().split())))\n",
        "    i = que.popleft()\n",
        "    while True:\n",
        "        x = que.popleft()\n",
        "        if x == -1:\n",
        "            break\n",
        "        y = que.popleft()\n",
        "        graph[i].append((y,x))"
      ]
    },
    {
      "cell_type": "code",
      "source": [
        "graph"
      ],
      "metadata": {
        "colab": {
          "base_uri": "https://localhost:8080/"
        },
        "id": "78bAU3sCaIYC",
        "outputId": "fd26e75c-50f3-4958-db11-f699224261b9"
      },
      "execution_count": 11,
      "outputs": [
        {
          "output_type": "execute_result",
          "data": {
            "text/plain": [
              "[[], [(2, 3)], [(4, 4)], [(2, 1), (3, 4)], [(3, 3), (4, 2), (6, 5)], [(6, 4)]]"
            ]
          },
          "metadata": {},
          "execution_count": 11
        }
      ]
    },
    {
      "cell_type": "code",
      "source": [
        "def dfs(graph, start):\n",
        "    visited = [-1 for _ in range(n+1)]\n",
        "    visited[start] = 0\n",
        "    stack = [start]\n",
        "    while stack:\n",
        "        x = stack.pop()\n",
        "        for l, v in graph[x]:\n",
        "            if visited[v] == -1:\n",
        "                visited[v] = visited[x] + l\n",
        "                stack.append(v)\n",
        "    return visited"
      ],
      "metadata": {
        "id": "2uVGQoEsS8bQ"
      },
      "execution_count": 22,
      "outputs": []
    },
    {
      "cell_type": "code",
      "source": [
        "lst = dfs(graph, 1)\n",
        "idx = lst.index(max(lst))"
      ],
      "metadata": {
        "id": "KUThO_a5bUmX"
      },
      "execution_count": 25,
      "outputs": []
    },
    {
      "cell_type": "code",
      "source": [
        "lst"
      ],
      "metadata": {
        "colab": {
          "base_uri": "https://localhost:8080/"
        },
        "id": "_3I7ny7Kb25M",
        "outputId": "d73fafea-e3de-4af2-867a-03ff4db8eeef"
      },
      "execution_count": 26,
      "outputs": [
        {
          "output_type": "execute_result",
          "data": {
            "text/plain": [
              "[-1, 0, 9, 2, 5, 11]"
            ]
          },
          "metadata": {},
          "execution_count": 26
        }
      ]
    },
    {
      "cell_type": "markdown",
      "source": [
        "1차 제출"
      ],
      "metadata": {
        "id": "MuDlHHqCdEOm"
      }
    },
    {
      "cell_type": "code",
      "source": [
        "import sys\n",
        "input = sys.stdin.readline\n",
        "from collections import deque\n",
        "\n",
        "def dfs(graph, start):\n",
        "    visited = [-1 for _ in range(n+1)]\n",
        "    visited[start] = 0\n",
        "    stack = [start]\n",
        "    while stack:\n",
        "        x = stack.pop()\n",
        "        for l, v in graph[x]:\n",
        "            if visited[v] == -1:\n",
        "                visited[v] = visited[x] + l\n",
        "                stack.append(v)\n",
        "    return visited\n",
        "\n",
        "# 입력파트\n",
        "n = int(input())\n",
        "graph = [[] for _ in range(n+1)]\n",
        "for _ in range(n):\n",
        "    que = deque(list(map(int, input().rstrip().split())))\n",
        "    i = que.popleft()\n",
        "    while True:\n",
        "        x = que.popleft()\n",
        "        if x == -1:\n",
        "            break\n",
        "        y = que.popleft()\n",
        "        graph[i].append((y,x))    # y는 weight x는 연결된 정점\n",
        "\n",
        "# 1에서 가장 먼 정점 찾기\n",
        "lst = dfs(graph, 1)\n",
        "idx = lst.index(max(lst))\n",
        "\n",
        "# 위에서 찾은 정점에서 가장 먼 거리 출력\n",
        "print(max(dfs(graph, idx)))"
      ],
      "metadata": {
        "id": "Y6Sg3TRudFs6"
      },
      "execution_count": null,
      "outputs": []
    },
    {
      "cell_type": "markdown",
      "source": [
        "통과!"
      ],
      "metadata": {
        "id": "97Igp5SOdNt_"
      }
    },
    {
      "cell_type": "markdown",
      "source": [
        "https://www.acmicpc.net/problem/1967"
      ],
      "metadata": {
        "id": "1_1deXQAeIK2"
      }
    },
    {
      "cell_type": "markdown",
      "source": [
        "비슷한 문제\n",
        "\n",
        "입력파트만 조금 다르다"
      ],
      "metadata": {
        "id": "hYdOQJIQeI-z"
      }
    },
    {
      "cell_type": "code",
      "source": [
        "#import sys\n",
        "#input = sys.stdin.readline\n",
        "\n",
        "def dfs(graph, start):\n",
        "    visited = [-1 for _ in range(n+1)]\n",
        "    visited[start] = 0\n",
        "    stack = [start]\n",
        "    while stack:\n",
        "        x = stack.pop()\n",
        "        for l, v in graph[x]:\n",
        "            if visited[v] == -1:\n",
        "                visited[v] = visited[x] + l\n",
        "                stack.append(v)\n",
        "    return visited\n",
        "\n",
        "# 입력파트\n",
        "n = int(input())\n",
        "graph = [[] for _ in range(n+1)]\n",
        "for _ in range(n-1):\n",
        "    a, b, w = map(int, input().rstrip().split())\n",
        "    graph[a].append((w,b))\n",
        "    graph[b].append((w,a))\n",
        "\n",
        "# 1에서 가장 먼 정점 찾기\n",
        "lst = dfs(graph, 1)\n",
        "idx = lst.index(max(lst))\n",
        "\n",
        "# 위에서 찾은 정점에서 가장 먼 거리 출력\n",
        "print(max(dfs(graph, idx)))"
      ],
      "metadata": {
        "colab": {
          "base_uri": "https://localhost:8080/"
        },
        "id": "GYHDfB0BeKe9",
        "outputId": "7ab39c72-7eaa-4cf3-d402-674083ddcdc8"
      },
      "execution_count": 31,
      "outputs": [
        {
          "output_type": "stream",
          "name": "stdout",
          "text": [
            "12\n",
            "1 2 3\n",
            "1 3 2\n",
            "2 4 5\n",
            "3 5 11\n",
            "3 6 9\n",
            "4 7 1\n",
            "4 8 7\n",
            "5 9 15\n",
            "5 10 4\n",
            "6 11 6\n",
            "6 12 10\n",
            "45\n"
          ]
        }
      ]
    }
  ]
}
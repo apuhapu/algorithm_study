{
  "nbformat": 4,
  "nbformat_minor": 0,
  "metadata": {
    "colab": {
      "name": "13549.ipynb",
      "provenance": [],
      "authorship_tag": "ABX9TyMykK5YOSyGhigkKWkv6lzl",
      "include_colab_link": true
    },
    "kernelspec": {
      "name": "python3",
      "display_name": "Python 3"
    },
    "language_info": {
      "name": "python"
    }
  },
  "cells": [
    {
      "cell_type": "markdown",
      "metadata": {
        "id": "view-in-github",
        "colab_type": "text"
      },
      "source": [
        "<a href=\"https://colab.research.google.com/github/apuhapu/algorithm_study/blob/main/13549.ipynb\" target=\"_parent\"><img src=\"https://colab.research.google.com/assets/colab-badge.svg\" alt=\"Open In Colab\"/></a>"
      ]
    },
    {
      "cell_type": "markdown",
      "source": [
        "https://www.acmicpc.net/problem/13549"
      ],
      "metadata": {
        "id": "06u9W4s2wGbX"
      }
    },
    {
      "cell_type": "code",
      "source": [
        "from collections import deque\n",
        "N, K = map(int, input().split())"
      ],
      "metadata": {
        "colab": {
          "base_uri": "https://localhost:8080/"
        },
        "id": "xYI9nyMazM7e",
        "outputId": "11ca460f-edf3-4d04-fbe3-3b966fee3867"
      },
      "execution_count": 1,
      "outputs": [
        {
          "name": "stdout",
          "output_type": "stream",
          "text": [
            "5 17\n"
          ]
        }
      ]
    },
    {
      "cell_type": "code",
      "execution_count": 3,
      "metadata": {
        "colab": {
          "base_uri": "https://localhost:8080/"
        },
        "id": "YSLWu_ALwDbi",
        "outputId": "6e5faa80-4d7d-4b13-a16a-e16b9732f69e"
      },
      "outputs": [
        {
          "output_type": "stream",
          "name": "stdout",
          "text": [
            "2\n"
          ]
        }
      ],
      "source": [
        "if N >= K:\n",
        "    print(N-K)\n",
        "else:\n",
        "    visited = [100001] * min(100000+1,2*K-N+1)\n",
        "    deq = deque([(N,0)])\n",
        "\n",
        "    while deq:\n",
        "        p, q = deq.popleft()\n",
        "        if q < visited[p]:\n",
        "            visited[p] = q\n",
        "\n",
        "            if p - 1 >= 0:\n",
        "                if q + 1 < visited[p-1]:\n",
        "                    deq.append((p - 1, q + 1))\n",
        "\n",
        "            if p + 1 < len(visited):\n",
        "                if q + 1 < visited[p+1]:\n",
        "                    deq.append((p + 1, q + 1))\n",
        "\n",
        "            if 2 * p < len(visited):\n",
        "                if q  < visited[2*p]:\n",
        "                    deq.append((2 * p, q))\n",
        "    print(visited[K])"
      ]
    },
    {
      "cell_type": "markdown",
      "source": [
        "해결"
      ],
      "metadata": {
        "id": "tmtcLAcdzhNg"
      }
    }
  ]
}
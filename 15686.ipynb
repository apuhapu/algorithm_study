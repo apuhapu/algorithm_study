{
  "nbformat": 4,
  "nbformat_minor": 0,
  "metadata": {
    "colab": {
      "name": "15686.ipynb",
      "provenance": [],
      "collapsed_sections": [],
      "authorship_tag": "ABX9TyMs+7mlZZ0gtmDNDlYaUJWZ",
      "include_colab_link": true
    },
    "kernelspec": {
      "name": "python3",
      "display_name": "Python 3"
    },
    "language_info": {
      "name": "python"
    }
  },
  "cells": [
    {
      "cell_type": "markdown",
      "metadata": {
        "id": "view-in-github",
        "colab_type": "text"
      },
      "source": [
        "<a href=\"https://colab.research.google.com/github/apuhapu/algorithm_study/blob/main/15686.ipynb\" target=\"_parent\"><img src=\"https://colab.research.google.com/assets/colab-badge.svg\" alt=\"Open In Colab\"/></a>"
      ]
    },
    {
      "cell_type": "markdown",
      "source": [
        "https://www.acmicpc.net/problem/15686"
      ],
      "metadata": {
        "id": "bo2tkNgMWF-2"
      }
    },
    {
      "cell_type": "code",
      "execution_count": 23,
      "metadata": {
        "colab": {
          "base_uri": "https://localhost:8080/"
        },
        "id": "Xcc1XM5TWDyc",
        "outputId": "059a66c3-dd89-4489-b740-fe4447b1e7bf"
      },
      "outputs": [
        {
          "name": "stdout",
          "output_type": "stream",
          "text": [
            "5 1\n",
            "1 2 0 2 1\n",
            "1 2 0 2 1\n",
            "1 2 0 2 1\n",
            "1 2 0 2 1\n",
            "1 2 0 2 1\n"
          ]
        }
      ],
      "source": [
        "n, m = map(int, input().rstrip().split())\n",
        "city = [list(map(int, input().rstrip().split())) for _ in range(n)]"
      ]
    },
    {
      "cell_type": "code",
      "source": [
        "city"
      ],
      "metadata": {
        "colab": {
          "base_uri": "https://localhost:8080/"
        },
        "id": "eOGuEoHmWmu8",
        "outputId": "40685de0-53de-4b0a-ecfd-f751ba2ac443"
      },
      "execution_count": 24,
      "outputs": [
        {
          "output_type": "execute_result",
          "data": {
            "text/plain": [
              "[[1, 2, 0, 2, 1],\n",
              " [1, 2, 0, 2, 1],\n",
              " [1, 2, 0, 2, 1],\n",
              " [1, 2, 0, 2, 1],\n",
              " [1, 2, 0, 2, 1]]"
            ]
          },
          "metadata": {},
          "execution_count": 24
        }
      ]
    },
    {
      "cell_type": "code",
      "source": [
        "chicken = []  # 치킨집 좌표 배열(최대 13)\n",
        "house_cnt = 0\n",
        "for i in range(n):\n",
        "    for j in range(n):\n",
        "        if city[i][j] == 2:\n",
        "            chicken.append((i,j))\n",
        "        elif city[i][j] == 1:\n",
        "            house_cnt += 1"
      ],
      "metadata": {
        "id": "TZSQXWpTWqY4"
      },
      "execution_count": 25,
      "outputs": []
    },
    {
      "cell_type": "code",
      "source": [
        "chicken"
      ],
      "metadata": {
        "colab": {
          "base_uri": "https://localhost:8080/"
        },
        "id": "hKXwJkkRXK3v",
        "outputId": "6f4b2221-510d-4b8e-d7e2-474f154985a6"
      },
      "execution_count": 26,
      "outputs": [
        {
          "output_type": "execute_result",
          "data": {
            "text/plain": [
              "[(0, 1),\n",
              " (0, 3),\n",
              " (1, 1),\n",
              " (1, 3),\n",
              " (2, 1),\n",
              " (2, 3),\n",
              " (3, 1),\n",
              " (3, 3),\n",
              " (4, 1),\n",
              " (4, 3)]"
            ]
          },
          "metadata": {},
          "execution_count": 26
        }
      ]
    },
    {
      "cell_type": "code",
      "source": [
        "house_cnt"
      ],
      "metadata": {
        "colab": {
          "base_uri": "https://localhost:8080/"
        },
        "id": "NPV_M-4TbF95",
        "outputId": "ba5b9566-63d8-4134-c26b-c83b12ab3253"
      },
      "execution_count": 39,
      "outputs": [
        {
          "output_type": "execute_result",
          "data": {
            "text/plain": [
              "10"
            ]
          },
          "metadata": {},
          "execution_count": 39
        }
      ]
    },
    {
      "cell_type": "code",
      "source": [
        "from collections import deque"
      ],
      "metadata": {
        "id": "9bXkPDMZXs6L"
      },
      "execution_count": 6,
      "outputs": []
    },
    {
      "cell_type": "code",
      "source": [
        "dr = [1,-1,0,0]\n",
        "dc = [0,0,1,-1]"
      ],
      "metadata": {
        "id": "JDEXnAuOYWjf"
      },
      "execution_count": 40,
      "outputs": []
    },
    {
      "cell_type": "code",
      "source": [
        "def chicken_distance(shop, city, house_cnt):\n",
        "    result = 0\n",
        "    que = deque(shop)\n",
        "    visited = [[-1]*n for _ in range(n)]\n",
        "    for i, j in shop:\n",
        "        visited[i][j] = 0\n",
        "    while que:\n",
        "        i, j = que.popleft()\n",
        "        for k in range(4):\n",
        "            r = i + dr[k]\n",
        "            c = j + dc[k]\n",
        "            if 0<=r<n and 0<=c<n and visited[r][c] == -1:\n",
        "                visited[r][c] = visited[i][j] + 1\n",
        "                que.append((r,c))\n",
        "                if city[r][c] == 1:\n",
        "                    result += visited[r][c]\n",
        "                    house_cnt -= 1\n",
        "                    if house_cnt == 0:\n",
        "                        break\n",
        "        if house_cnt == 0:\n",
        "            break\n",
        "    return result"
      ],
      "metadata": {
        "id": "EW5eiv3cXMm1"
      },
      "execution_count": 29,
      "outputs": []
    },
    {
      "cell_type": "code",
      "source": [
        "chicken_distance([(2,1)], city, house_cnt)"
      ],
      "metadata": {
        "colab": {
          "base_uri": "https://localhost:8080/"
        },
        "id": "gkkuLeMebmGx",
        "outputId": "c6fffc15-6463-4ff2-8a9b-0275c13161e6"
      },
      "execution_count": 43,
      "outputs": [
        {
          "output_type": "execute_result",
          "data": {
            "text/plain": [
              "32"
            ]
          },
          "metadata": {},
          "execution_count": 43
        }
      ]
    },
    {
      "cell_type": "code",
      "source": [
        "print(len(chicken) - 1)"
      ],
      "metadata": {
        "colab": {
          "base_uri": "https://localhost:8080/"
        },
        "id": "MtS5CaBVpeS7",
        "outputId": "00c75198-9a8a-43cb-d8ac-2fb03747dc9c"
      },
      "execution_count": 31,
      "outputs": [
        {
          "output_type": "stream",
          "name": "stdout",
          "text": [
            "9\n"
          ]
        }
      ]
    },
    {
      "cell_type": "code",
      "source": [
        "output = 10**7\n",
        "# 백트래킹\n",
        "def fun(cnt, idx, chicken):\n",
        "    global output\n",
        "    if cnt == m:\n",
        "        output = min(output, chicken_distance(arr, city, house_cnt))\n",
        "    else:\n",
        "        if idx == len(chicken):\n",
        "            pass\n",
        "        else:           \n",
        "            x, y = chicken[idx]\n",
        "            arr.append((x,y))\n",
        "            fun(cnt+1, idx+1, chicken)\n",
        "            arr.pop()\n",
        "            if idx < len(chicken) - 1:\n",
        "                fun(cnt, idx+1, chicken)"
      ],
      "metadata": {
        "id": "dt7DJDrGcFae"
      },
      "execution_count": 48,
      "outputs": []
    },
    {
      "cell_type": "code",
      "source": [
        "chicken"
      ],
      "metadata": {
        "colab": {
          "base_uri": "https://localhost:8080/"
        },
        "id": "qvFvWHnb6ElS",
        "outputId": "d11116ee-1b55-4da6-a5fd-41e374e0f89e"
      },
      "execution_count": 33,
      "outputs": [
        {
          "output_type": "execute_result",
          "data": {
            "text/plain": [
              "[(0, 1),\n",
              " (0, 3),\n",
              " (1, 1),\n",
              " (1, 3),\n",
              " (2, 1),\n",
              " (2, 3),\n",
              " (3, 1),\n",
              " (3, 3),\n",
              " (4, 1),\n",
              " (4, 3)]"
            ]
          },
          "metadata": {},
          "execution_count": 33
        }
      ]
    },
    {
      "cell_type": "code",
      "source": [
        "fun(0, 0, chicken)"
      ],
      "metadata": {
        "id": "D1v29Q-YkrUV"
      },
      "execution_count": 49,
      "outputs": []
    },
    {
      "cell_type": "code",
      "source": [
        "print(output)"
      ],
      "metadata": {
        "colab": {
          "base_uri": "https://localhost:8080/"
        },
        "id": "fYndLsifQvlm",
        "outputId": "c23f5a0b-7359-4cba-f451-bc3708c3fd11"
      },
      "execution_count": 50,
      "outputs": [
        {
          "output_type": "stream",
          "name": "stdout",
          "text": [
            "32\n"
          ]
        }
      ]
    },
    {
      "cell_type": "markdown",
      "source": [
        "제출본"
      ],
      "metadata": {
        "id": "Q7l4552NRfv6"
      }
    },
    {
      "cell_type": "code",
      "source": [
        "import sys\n",
        "from collections import deque\n",
        "# input = sys.stdin.readline\n",
        "\n",
        "# 입력파트\n",
        "n, m = map(int, input().rstrip().split())\n",
        "city = [list(map(int, input().rstrip().split())) for _ in range(n)]\n",
        "\n",
        "chicken = []  # 치킨집 좌표 배열(최대 13)\n",
        "house_cnt = 0 # 가정집 개수\n",
        "for i in range(n):\n",
        "    for j in range(n):\n",
        "        if city[i][j] == 2:\n",
        "            chicken.append((i,j))\n",
        "        elif city[i][j] == 1:\n",
        "            house_cnt += 1\n",
        "\n",
        "dr = [1,-1,0,0]\n",
        "dc = [0,0,1,-1]\n",
        "\n",
        "# 치킨거리 구하는 함수\n",
        "def chicken_distance(shop, city, house_cnt):\n",
        "    result = 0\n",
        "    que = deque(shop)\n",
        "    visited = [[-1]*n for _ in range(n)]\n",
        "    for i, j in shop:\n",
        "        visited[i][j] = 0\n",
        "    while que:\n",
        "        i, j = que.popleft()\n",
        "        for k in range(4):\n",
        "            r = i + dr[k]\n",
        "            c = j + dc[k]\n",
        "            if 0<=r<n and 0<=c<n and visited[r][c] == -1:\n",
        "                visited[r][c] = visited[i][j] + 1\n",
        "                que.append((r,c))\n",
        "                if city[r][c] == 1:\n",
        "                    result += visited[r][c]\n",
        "                    house_cnt -= 1\n",
        "                    if house_cnt == 0:\n",
        "                        break\n",
        "        if house_cnt == 0:\n",
        "            break\n",
        "    return result\n",
        "\n",
        "arr = list()\n",
        "output = 10**7\n",
        "# 백트래킹\n",
        "def fun(cnt, idx, chicken):\n",
        "    global output\n",
        "    if cnt == m:\n",
        "        output = min(output, chicken_distance(arr, city, house_cnt))\n",
        "    else:\n",
        "        if idx == len(chicken):\n",
        "            pass\n",
        "        else:           \n",
        "            x, y = chicken[idx]\n",
        "            arr.append((x,y))\n",
        "            fun(cnt+1, idx+1, chicken)\n",
        "            arr.pop()\n",
        "            if idx < len(chicken) - 1:\n",
        "                fun(cnt, idx+1, chicken)\n",
        "\n",
        "fun(0, 0, chicken)\n",
        "print(output)"
      ],
      "metadata": {
        "colab": {
          "base_uri": "https://localhost:8080/"
        },
        "id": "tb3UxClhRgpg",
        "outputId": "8cb5b072-43f0-4c65-d552-a75079294f4d"
      },
      "execution_count": 22,
      "outputs": [
        {
          "output_type": "stream",
          "name": "stdout",
          "text": [
            "5 1\n",
            "1 2 0 2 1\n",
            "1 2 0 2 1\n",
            "1 2 0 2 1\n",
            "1 2 0 2 1\n",
            "1 2 0 2 1\n",
            "11\n"
          ]
        }
      ]
    },
    {
      "cell_type": "markdown",
      "source": [
        "답이 32가 나와야하는데 11이 나옴"
      ],
      "metadata": {
        "id": "cFSjjKBASiyD"
      }
    },
    {
      "cell_type": "markdown",
      "source": [
        "output의 초기값을 너무 작게 잡았다. n이 최소 50이므로 1억으로 잡자"
      ],
      "metadata": {
        "id": "M-5DtvZrabkB"
      }
    },
    {
      "cell_type": "markdown",
      "source": [
        "통과"
      ],
      "metadata": {
        "id": "J5wwfc4bbQZb"
      }
    }
  ]
}
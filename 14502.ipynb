{
  "nbformat": 4,
  "nbformat_minor": 0,
  "metadata": {
    "colab": {
      "name": "14502.ipynb",
      "provenance": [],
      "authorship_tag": "ABX9TyN97vpuGXa/B7sLkzbbUmzo",
      "include_colab_link": true
    },
    "kernelspec": {
      "name": "python3",
      "display_name": "Python 3"
    },
    "language_info": {
      "name": "python"
    }
  },
  "cells": [
    {
      "cell_type": "markdown",
      "metadata": {
        "id": "view-in-github",
        "colab_type": "text"
      },
      "source": [
        "<a href=\"https://colab.research.google.com/github/apuhapu/algorithm_study/blob/main/14502.ipynb\" target=\"_parent\"><img src=\"https://colab.research.google.com/assets/colab-badge.svg\" alt=\"Open In Colab\"/></a>"
      ]
    },
    {
      "cell_type": "markdown",
      "source": [
        "https://www.acmicpc.net/problem/14502"
      ],
      "metadata": {
        "id": "7OOrV6smQX5e"
      }
    },
    {
      "cell_type": "code",
      "execution_count": 1,
      "metadata": {
        "colab": {
          "base_uri": "https://localhost:8080/"
        },
        "id": "IW2WhBenQVt3",
        "outputId": "683252c5-c063-41b3-c885-2a06bb2828d4"
      },
      "outputs": [
        {
          "name": "stdout",
          "output_type": "stream",
          "text": [
            "7 7\n",
            "2 0 0 0 1 1 0\n",
            "0 0 1 0 1 2 0\n",
            "0 1 1 0 1 0 0\n",
            "0 1 0 0 0 0 0\n",
            "0 0 0 0 0 1 1\n",
            "0 1 0 0 0 0 0\n",
            "0 1 0 0 0 0 0\n"
          ]
        }
      ],
      "source": [
        "n, m = map(int, input().rstrip().split())\n",
        "lab = [list(map(int, input().rstrip().split())) for _ in range(n)]"
      ]
    },
    {
      "cell_type": "code",
      "source": [
        "lab"
      ],
      "metadata": {
        "colab": {
          "base_uri": "https://localhost:8080/"
        },
        "id": "nuE-Zc9HQ48D",
        "outputId": "6fce730e-4687-4c6f-9771-fdff6a082437"
      },
      "execution_count": 2,
      "outputs": [
        {
          "output_type": "execute_result",
          "data": {
            "text/plain": [
              "[[2, 0, 0, 0, 1, 1, 0],\n",
              " [0, 0, 1, 0, 1, 2, 0],\n",
              " [0, 1, 1, 0, 1, 0, 0],\n",
              " [0, 1, 0, 0, 0, 0, 0],\n",
              " [0, 0, 0, 0, 0, 1, 1],\n",
              " [0, 1, 0, 0, 0, 0, 0],\n",
              " [0, 1, 0, 0, 0, 0, 0]]"
            ]
          },
          "metadata": {},
          "execution_count": 2
        }
      ]
    },
    {
      "cell_type": "code",
      "source": [
        "dr = [1,-1,0,0]\n",
        "dc = [0,0,1,-1]"
      ],
      "metadata": {
        "id": "xUteDszFQ8Cx"
      },
      "execution_count": 3,
      "outputs": []
    },
    {
      "cell_type": "code",
      "source": [
        "def isinside(r,c):\n",
        "    if r >= 0 and r < n and c >= 0 and c < m:\n",
        "        return True\n",
        "    else:\n",
        "        return False"
      ],
      "metadata": {
        "id": "_SiJ2j5MRVEv"
      },
      "execution_count": 4,
      "outputs": []
    },
    {
      "cell_type": "code",
      "source": [
        "from collections import deque"
      ],
      "metadata": {
        "id": "KYw5PodfRiWc"
      },
      "execution_count": 5,
      "outputs": []
    },
    {
      "cell_type": "code",
      "source": [
        "def bfs(graph):\n",
        "    lab = [x[:] for x in graph]\n",
        "    deq = deque()\n",
        "    for i in range(n):\n",
        "        for j in range(m):\n",
        "            if lab[i][j] == 2:\n",
        "                deq.append((i,j))\n",
        "    while deq:\n",
        "        r, c = deq.popleft()\n",
        "        for x, y in zip(dr,dc):\n",
        "            rr = r + x\n",
        "            cc = c + y\n",
        "            if isinside(rr,cc):\n",
        "                if lab[rr][cc] == 0:\n",
        "                    lab[rr][cc] = 2\n",
        "                    deq.append((rr,cc))\n",
        "    safe = 0\n",
        "    for i in range(n):\n",
        "        for j in range(m):\n",
        "            if lab[i][j] == 0:\n",
        "                safe += 1\n",
        "    return safe"
      ],
      "metadata": {
        "id": "UKxevUpvRmGd"
      },
      "execution_count": 12,
      "outputs": []
    },
    {
      "cell_type": "code",
      "source": [
        "max_safe = 0"
      ],
      "metadata": {
        "id": "qSxgJzgOUIwf"
      },
      "execution_count": 10,
      "outputs": []
    },
    {
      "cell_type": "code",
      "source": [
        "def blocks(block,graph,last):\n",
        "    lab = [x[:] for x in graph]\n",
        "    global max_safe\n",
        "    if block == 0:\n",
        "        max_safe = max(max_safe, bfs(lab))\n",
        "    else:\n",
        "        a, b = last\n",
        "        for i in range(a,n):\n",
        "            for j in range(m):\n",
        "                if i == a:\n",
        "                    if j > b:\n",
        "                        if lab[i][j] == 0:\n",
        "                            lab[i][j] = 1\n",
        "                            blocks(block-1,lab,(i,j))\n",
        "                            lab[i][j] = 0                        \n",
        "                else:\n",
        "                    if lab[i][j] == 0:\n",
        "                        lab[i][j] = 1\n",
        "                        blocks(block-1,lab,(i,j))\n",
        "                        lab[i][j] = 0"
      ],
      "metadata": {
        "id": "kfm8cI3EdfM1"
      },
      "execution_count": 8,
      "outputs": []
    },
    {
      "cell_type": "code",
      "source": [
        "blocks(3,lab,(0,-1))"
      ],
      "metadata": {
        "id": "LDZ1kcZsiKEN"
      },
      "execution_count": 13,
      "outputs": []
    },
    {
      "cell_type": "code",
      "source": [
        "print(max_safe)"
      ],
      "metadata": {
        "colab": {
          "base_uri": "https://localhost:8080/"
        },
        "id": "YyXJTT2ciaxt",
        "outputId": "e782c88e-cd33-4401-ef0f-2e0a0175f72f"
      },
      "execution_count": 14,
      "outputs": [
        {
          "output_type": "stream",
          "name": "stdout",
          "text": [
            "27\n"
          ]
        }
      ]
    },
    {
      "cell_type": "markdown",
      "source": [
        "제출본"
      ],
      "metadata": {
        "id": "n4wzTsoAjOyZ"
      }
    },
    {
      "cell_type": "code",
      "source": [
        "from collections import deque\n",
        "import sys\n",
        "input = sys.stdin.readline\n",
        "\n",
        "dr = [1,-1,0,0]\n",
        "dc = [0,0,1,-1]\n",
        "\n",
        "def isinside(r,c):\n",
        "    if r >= 0 and r < n and c >= 0 and c < m:\n",
        "        return True\n",
        "    else:\n",
        "        return False\n",
        "\n",
        "def bfs(graph):\n",
        "    lab = [x[:] for x in graph]\n",
        "    deq = deque()\n",
        "    for i in range(n):\n",
        "        for j in range(m):\n",
        "            if lab[i][j] == 2:\n",
        "                deq.append((i,j))\n",
        "    while deq:\n",
        "        r, c = deq.popleft()\n",
        "        for x, y in zip(dr,dc):\n",
        "            rr = r + x\n",
        "            cc = c + y\n",
        "            if isinside(rr,cc):\n",
        "                if lab[rr][cc] == 0:\n",
        "                    lab[rr][cc] = 2\n",
        "                    deq.append((rr,cc))\n",
        "    safe = 0\n",
        "    for i in range(n):\n",
        "        for j in range(m):\n",
        "            if lab[i][j] == 0:\n",
        "                safe += 1\n",
        "    return safe\n",
        "\n",
        "max_safe = 0\n",
        "\n",
        "def blocks(block,graph,last):\n",
        "    lab = [x[:] for x in graph]\n",
        "    global max_safe\n",
        "    if block == 0:\n",
        "        max_safe = max(max_safe, bfs(lab))\n",
        "    else:\n",
        "        a, b = last\n",
        "        for i in range(a,n):\n",
        "            for j in range(m):\n",
        "                if i == a:\n",
        "                    if j > b:\n",
        "                        if lab[i][j] == 0:\n",
        "                            lab[i][j] = 1\n",
        "                            blocks(block-1,lab,(i,j))\n",
        "                            lab[i][j] = 0                        \n",
        "                else:\n",
        "                    if lab[i][j] == 0:\n",
        "                        lab[i][j] = 1\n",
        "                        blocks(block-1,lab,(i,j))\n",
        "                        lab[i][j] = 0\n",
        "                        \n",
        "n, m = map(int, input().rstrip().split())\n",
        "lab = [list(map(int, input().rstrip().split())) for _ in range(n)]\n",
        "\n",
        "blocks(3,lab,(0,-1))\n",
        "print(max_safe)"
      ],
      "metadata": {
        "id": "l3i5AOndiz-V"
      },
      "execution_count": null,
      "outputs": []
    },
    {
      "cell_type": "markdown",
      "source": [
        "통과"
      ],
      "metadata": {
        "id": "G4A5pmIpjQgS"
      }
    }
  ]
}
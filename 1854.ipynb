{
  "nbformat": 4,
  "nbformat_minor": 0,
  "metadata": {
    "colab": {
      "name": "1854.ipynb",
      "provenance": [],
      "authorship_tag": "ABX9TyPw3vwP48/h9adiH6e17Fte",
      "include_colab_link": true
    },
    "kernelspec": {
      "name": "python3",
      "display_name": "Python 3"
    },
    "language_info": {
      "name": "python"
    }
  },
  "cells": [
    {
      "cell_type": "markdown",
      "metadata": {
        "id": "view-in-github",
        "colab_type": "text"
      },
      "source": [
        "<a href=\"https://colab.research.google.com/github/apuhapu/algorithm_study/blob/main/1854.ipynb\" target=\"_parent\"><img src=\"https://colab.research.google.com/assets/colab-badge.svg\" alt=\"Open In Colab\"/></a>"
      ]
    },
    {
      "cell_type": "markdown",
      "source": [
        "https://www.acmicpc.net/problem/1854"
      ],
      "metadata": {
        "id": "VkgIjAealgua"
      }
    },
    {
      "cell_type": "code",
      "execution_count": 1,
      "metadata": {
        "colab": {
          "base_uri": "https://localhost:8080/"
        },
        "id": "rnq82D3Jlejg",
        "outputId": "0831d1e5-caf4-4186-af42-9540c3cca639"
      },
      "outputs": [
        {
          "name": "stdout",
          "output_type": "stream",
          "text": [
            "5 10 2\n",
            "1 2 2\n",
            "1 3 7\n",
            "1 4 5\n",
            "1 5 6\n",
            "2 4 2\n",
            "2 3 4\n",
            "3 4 6\n",
            "3 5 8\n",
            "5 2 4\n",
            "5 4 1\n"
          ]
        }
      ],
      "source": [
        "import heapq\n",
        "\n",
        "v, e, k = map(int, input().split())\n",
        "graph = [[] for _ in range(v+1)]\n",
        "\n",
        "for _ in range(e):\n",
        "    a, b, w = map(int, input().rstrip().split())\n",
        "    graph[a].append((w,b))\n",
        "\n",
        "start = 1"
      ]
    },
    {
      "cell_type": "code",
      "source": [
        "def dijkstra(graph, start, k):\n",
        "    dis = [[] for _ in range(v+1)]\n",
        "    for i in range(v+1):\n",
        "        heapq.heappush(dis[i], (-987654321,987654321))\n",
        "    heapq.heappush(dis[start], (0,0))\n",
        "    heap = []\n",
        "    heapq.heappush(heap,(0, start))\n",
        "\n",
        "    while heap:\n",
        "        # x : 꺼낸 w, y : 꺼낸 노드\n",
        "        x, y = heapq.heappop(heap)\n",
        "\n",
        "        # 꺼낸 w가 기존 dis값 k개 중 가장 큰 것 보다 크면 무시\n",
        "        if len(dis[y]) == k:\n",
        "            z1, z = dis[y][0]\n",
        "            if z < x:\n",
        "                continue\n",
        "\n",
        "        # 꺼낸 노드와 연결된 간선\n",
        "        for w, b in graph[y]:\n",
        "            distance = x + w\n",
        "            \n",
        "            # distance가 dis[b] 최대값 보다 작으면 갱신\n",
        "            if len(dis[b]) == k:\n",
        "                t1, t = heapq.heappop(dis[b])\n",
        "                if distance < t:\n",
        "                    heapq.heappush(dis[b], (-distance, distance))\n",
        "                    heapq.heappush(heap, (distance, b))\n",
        "                else:\n",
        "                     heapq.heappush(dis[b], (t1, t))\n",
        "            else:\n",
        "                heapq.heappush(dis[b], (-distance, distance))\n",
        "                heapq.heappush(heap, (distance, b))\n",
        "    return dis"
      ],
      "metadata": {
        "id": "u4nfz4IAoA9y"
      },
      "execution_count": 36,
      "outputs": []
    },
    {
      "cell_type": "code",
      "source": [
        "output = dijkstra(graph, start, k)"
      ],
      "metadata": {
        "id": "O8ph9y4YoXQC"
      },
      "execution_count": 37,
      "outputs": []
    },
    {
      "cell_type": "code",
      "source": [
        "print(output)"
      ],
      "metadata": {
        "colab": {
          "base_uri": "https://localhost:8080/"
        },
        "id": "vRvogEmTu34E",
        "outputId": "50d61c1a-7d39-4b12-cabd-cfafb555e553"
      },
      "execution_count": 38,
      "outputs": [
        {
          "output_type": "stream",
          "name": "stdout",
          "text": [
            "[[], [(0, 0)], [(-10, 10), (-2, 2)], [(-7, 7), (-6, 6)], [(-5, 5), (-4, 4)], [(-14, 14), (-6, 6)]]\n"
          ]
        }
      ]
    },
    {
      "cell_type": "code",
      "source": [
        "for lst in output[1:]:\n",
        "    if len(lst) < k:\n",
        "        print(-1)\n",
        "    elif lst[0][1] == 987654321:\n",
        "        print(-1)\n",
        "    else:\n",
        "        print(lst[0][1])"
      ],
      "metadata": {
        "colab": {
          "base_uri": "https://localhost:8080/"
        },
        "id": "FOfLltKPw09R",
        "outputId": "462f1783-7123-4d92-c7ab-9f7b817017e2"
      },
      "execution_count": 35,
      "outputs": [
        {
          "output_type": "stream",
          "name": "stdout",
          "text": [
            "-1\n",
            "10\n",
            "7\n",
            "5\n",
            "14\n"
          ]
        }
      ]
    },
    {
      "cell_type": "markdown",
      "source": [
        "틀림 >> 예상 이유 : 아마 꺼낸 w가 기존 dis값 k개 중 가장 큰 것 보다 크면 무시 부분이 연결된 부분의 크기까지 고려하지 않다보니 그 경우가 무시되는 듯\n",
        "\n",
        "and 시간초과"
      ],
      "metadata": {
        "id": "Pkc91tJW3GoZ"
      }
    },
    {
      "cell_type": "code",
      "source": [
        "import sys\n",
        "import heapq\n",
        "input = sys.stdin.readline\n",
        "\n",
        "v, e, k = map(int, input().rstrip().split())\n",
        "graph = [[] for _ in range(v+1)]\n",
        "\n",
        "for _ in range(e):\n",
        "    a, b, w = map(int, input().rstrip().split())\n",
        "    graph[a].append((w,b))\n",
        "\n",
        "start = 1\n",
        "\n",
        "def dijkstra(graph, start, k):\n",
        "    dis = [[] for _ in range(v+1)]\n",
        "    heapq.heappush(dis[start], (0,0))\n",
        "\n",
        "    heap = []\n",
        "    heapq.heappush(heap,(0, start))\n",
        "\n",
        "    while heap:\n",
        "        # x : 꺼낸 w, y : 꺼낸 노드\n",
        "        x, y = heapq.heappop(heap)\n",
        "\n",
        "        # 꺼낸 노드와 연결된 간선\n",
        "        for w, b in graph[y]:\n",
        "            distance = x + w\n",
        "            \n",
        "            # distance가 dis[b] 최대값 보다 작으면 갱신\n",
        "            if len(dis[b]) < k:\n",
        "                heapq.heappush(dis[b], (-distance, distance))\n",
        "                heapq.heappush(heap, (distance, b))\n",
        "            elif dis[b][0][1] > distance:\n",
        "                heapq.heappop(dis[b])\n",
        "                heapq.heappush(dis[b], (-distance, distance))\n",
        "                heapq.heappush(heap, (distance, b))                \n",
        "\n",
        "    return dis\n",
        "\n",
        "output = dijkstra(graph, start, k)\n",
        "\n",
        "for lst in output[1:]:\n",
        "    if len(lst) < k:\n",
        "        print(-1)\n",
        "    elif lst[0][1] == 987654321:\n",
        "        print(-1)\n",
        "    else:\n",
        "        print(lst[0][1])"
      ],
      "metadata": {
        "colab": {
          "base_uri": "https://localhost:8080/",
          "height": 248
        },
        "id": "MssN4kdgxOGT",
        "outputId": "944c549e-1198-465a-a553-507eb22b7154"
      },
      "execution_count": 25,
      "outputs": [
        {
          "output_type": "error",
          "ename": "ValueError",
          "evalue": "ignored",
          "traceback": [
            "\u001b[0;31m---------------------------------------------------------------------------\u001b[0m",
            "\u001b[0;31mValueError\u001b[0m                                Traceback (most recent call last)",
            "\u001b[0;32m<ipython-input-25-0bf8dac88c37>\u001b[0m in \u001b[0;36m<module>\u001b[0;34m()\u001b[0m\n\u001b[1;32m      3\u001b[0m \u001b[0minput\u001b[0m \u001b[0;34m=\u001b[0m \u001b[0msys\u001b[0m\u001b[0;34m.\u001b[0m\u001b[0mstdin\u001b[0m\u001b[0;34m.\u001b[0m\u001b[0mreadline\u001b[0m\u001b[0;34m\u001b[0m\u001b[0;34m\u001b[0m\u001b[0m\n\u001b[1;32m      4\u001b[0m \u001b[0;34m\u001b[0m\u001b[0m\n\u001b[0;32m----> 5\u001b[0;31m \u001b[0mv\u001b[0m\u001b[0;34m,\u001b[0m \u001b[0me\u001b[0m\u001b[0;34m,\u001b[0m \u001b[0mk\u001b[0m \u001b[0;34m=\u001b[0m \u001b[0mmap\u001b[0m\u001b[0;34m(\u001b[0m\u001b[0mint\u001b[0m\u001b[0;34m,\u001b[0m \u001b[0minput\u001b[0m\u001b[0;34m(\u001b[0m\u001b[0;34m)\u001b[0m\u001b[0;34m.\u001b[0m\u001b[0mrstrip\u001b[0m\u001b[0;34m(\u001b[0m\u001b[0;34m)\u001b[0m\u001b[0;34m.\u001b[0m\u001b[0msplit\u001b[0m\u001b[0;34m(\u001b[0m\u001b[0;34m)\u001b[0m\u001b[0;34m)\u001b[0m\u001b[0;34m\u001b[0m\u001b[0;34m\u001b[0m\u001b[0m\n\u001b[0m\u001b[1;32m      6\u001b[0m \u001b[0mgraph\u001b[0m \u001b[0;34m=\u001b[0m \u001b[0;34m[\u001b[0m\u001b[0;34m[\u001b[0m\u001b[0;34m]\u001b[0m \u001b[0;32mfor\u001b[0m \u001b[0m_\u001b[0m \u001b[0;32min\u001b[0m \u001b[0mrange\u001b[0m\u001b[0;34m(\u001b[0m\u001b[0mv\u001b[0m\u001b[0;34m+\u001b[0m\u001b[0;36m1\u001b[0m\u001b[0;34m)\u001b[0m\u001b[0;34m]\u001b[0m\u001b[0;34m\u001b[0m\u001b[0;34m\u001b[0m\u001b[0m\n\u001b[1;32m      7\u001b[0m \u001b[0;34m\u001b[0m\u001b[0m\n",
            "\u001b[0;31mValueError\u001b[0m: not enough values to unpack (expected 3, got 0)"
          ]
        }
      ]
    }
  ]
}
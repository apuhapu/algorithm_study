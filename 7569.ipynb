{
  "nbformat": 4,
  "nbformat_minor": 0,
  "metadata": {
    "colab": {
      "name": "7569.ipynb",
      "provenance": [],
      "authorship_tag": "ABX9TyN+aEY8+Yln7kB/q+jyv5Jo",
      "include_colab_link": true
    },
    "kernelspec": {
      "name": "python3",
      "display_name": "Python 3"
    },
    "language_info": {
      "name": "python"
    }
  },
  "cells": [
    {
      "cell_type": "markdown",
      "metadata": {
        "id": "view-in-github",
        "colab_type": "text"
      },
      "source": [
        "<a href=\"https://colab.research.google.com/github/apuhapu/algorithm_study/blob/main/7569.ipynb\" target=\"_parent\"><img src=\"https://colab.research.google.com/assets/colab-badge.svg\" alt=\"Open In Colab\"/></a>"
      ]
    },
    {
      "cell_type": "markdown",
      "source": [
        "https://www.acmicpc.net/problem/7569"
      ],
      "metadata": {
        "id": "z1qVNiWE5JEt"
      }
    },
    {
      "cell_type": "code",
      "execution_count": null,
      "metadata": {
        "id": "AKi2HfSb5GbN"
      },
      "outputs": [],
      "source": [
        "from collections import deque\n",
        "import sys\n",
        "input = sys.stdin.readline\n",
        "deq = deque()\n",
        "m, n, h = map(int, input().rstrip().split())\n",
        "box = []\n",
        "for _ in range(h):\n",
        "    tomatoes = []\n",
        "    for _ in range(n):\n",
        "        tomatoes.append(list(map(int, input().rstrip().split())))\n",
        "    box.append(tomatoes)\n",
        "\n",
        "dr = [1,-1,0,0,0,0]\n",
        "dc = [0,0,1,-1,0,0]\n",
        "dh = [0,0,0,0,1,-1]\n",
        "visited = [[[-1]*m for _ in range(n)] for _ in range(h)]\n",
        "\n",
        "def isinside(r, c, hi):\n",
        "    if r >= 0 and r < n and c >= 0 and c < m and hi >= 0 and hi < h:\n",
        "        return True\n",
        "    else:\n",
        "        return False\n",
        "\n",
        "def bfs():\n",
        "    global ma\n",
        "    ma = 0\n",
        "    while deq:\n",
        "        r, c, hi = deq.popleft()\n",
        "        for i, j, k in zip(dr,dc,dh):\n",
        "            a = r + i\n",
        "            b = c + j\n",
        "            d = hi + k\n",
        "            \n",
        "            if isinside(a, b, d):\n",
        "                if box[d][a][b] == 0:\n",
        "                    if visited[d][a][b] == -1:\n",
        "                        visited[d][a][b] = visited[hi][r][c] +1\n",
        "                        deq.append((a,b,d))\n",
        "                        ma = visited[d][a][b]\n",
        "for z in range(h):\n",
        "    for x in range(n):\n",
        "        for y in range(m):\n",
        "            if box[z][x][y] == 1:\n",
        "                visited[z][x][y] = 0\n",
        "                deq.append((x,y,z))\n",
        "\n",
        "bfs()\n",
        "\n",
        "# 다 잘 익었는지 확인\n",
        "ti = False\n",
        "for z in range(h):\n",
        "    for x in range(n):\n",
        "        for y in range(m):\n",
        "            if box[z][x][y] == 0:\n",
        "                if visited[z][x][y] == -1:\n",
        "                    print(-1)\n",
        "                    ti = True\n",
        "                    break\n",
        "        if ti:\n",
        "            break\n",
        "    if ti:\n",
        "        break\n",
        "\n",
        "# 최대 시간\n",
        "if not ti:\n",
        "    print(ma)"
      ]
    }
  ]
}
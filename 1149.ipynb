{
  "nbformat": 4,
  "nbformat_minor": 0,
  "metadata": {
    "colab": {
      "name": "1149.ipynb",
      "provenance": [],
      "authorship_tag": "ABX9TyO2bHAJFZbNXQO+KVMtKl/t",
      "include_colab_link": true
    },
    "kernelspec": {
      "name": "python3",
      "display_name": "Python 3"
    },
    "language_info": {
      "name": "python"
    }
  },
  "cells": [
    {
      "cell_type": "markdown",
      "metadata": {
        "id": "view-in-github",
        "colab_type": "text"
      },
      "source": [
        "<a href=\"https://colab.research.google.com/github/apuhapu/algorithm_study/blob/main/1149.ipynb\" target=\"_parent\"><img src=\"https://colab.research.google.com/assets/colab-badge.svg\" alt=\"Open In Colab\"/></a>"
      ]
    },
    {
      "cell_type": "markdown",
      "source": [
        "https://www.acmicpc.net/problem/1149"
      ],
      "metadata": {
        "id": "mO_xemsr-BDJ"
      }
    },
    {
      "cell_type": "code",
      "execution_count": 10,
      "metadata": {
        "colab": {
          "base_uri": "https://localhost:8080/"
        },
        "id": "QBy5YqjK-ASU",
        "outputId": "9f5658c7-e00e-45bc-9360-147bc9fcfa4c"
      },
      "outputs": [
        {
          "name": "stdout",
          "output_type": "stream",
          "text": [
            "6\n",
            "30 19 5\n",
            "64 77 64\n",
            "15 19 97\n",
            "4 71 57\n",
            "90 86 84\n",
            "93 32 91\n"
          ]
        }
      ],
      "source": [
        "# 집의 수\n",
        "n = int(input())\n",
        "cost = [[] for _ in range(n+1)]\n",
        "for i in range(1,n+1):\n",
        "    cost[i] = list(map(int, input().rstrip().split()))"
      ]
    },
    {
      "cell_type": "code",
      "source": [
        "dp = [[0,0,0] for _ in range(n+1)]"
      ],
      "metadata": {
        "id": "mPI0azyL-tPB"
      },
      "execution_count": 32,
      "outputs": []
    },
    {
      "cell_type": "code",
      "source": [
        "dp[1] = cost[1]"
      ],
      "metadata": {
        "id": "CvCWG5ToFuNQ"
      },
      "execution_count": 33,
      "outputs": []
    },
    {
      "cell_type": "markdown",
      "source": [
        "dp에 3개의 변수로 저장해서 직전 dp값과 비교하여 작은수를 택한다"
      ],
      "metadata": {
        "id": "Gr9Dj5LkHQcv"
      }
    },
    {
      "cell_type": "code",
      "source": [
        "for i in range(2, n+1):\n",
        "    dp[i][0] = min(dp[i-1][1],dp[i-1][2]) + cost[i][0]\n",
        "    dp[i][1] = min(dp[i-1][0],dp[i-1][2]) + cost[i][1]\n",
        "    dp[i][2] = min(dp[i-1][0],dp[i-1][1]) + cost[i][2]"
      ],
      "metadata": {
        "id": "xYiTZV5DF4Rc"
      },
      "execution_count": 34,
      "outputs": []
    },
    {
      "cell_type": "code",
      "source": [
        "print(min(dp[n]))"
      ],
      "metadata": {
        "colab": {
          "base_uri": "https://localhost:8080/"
        },
        "id": "Z9JhlZyNGTxg",
        "outputId": "92afa648-3edc-4854-ffeb-c737351d52ef"
      },
      "execution_count": 35,
      "outputs": [
        {
          "output_type": "stream",
          "name": "stdout",
          "text": [
            "208\n"
          ]
        }
      ]
    },
    {
      "cell_type": "markdown",
      "source": [
        "제출본"
      ],
      "metadata": {
        "id": "q20fLVfZHfAW"
      }
    },
    {
      "cell_type": "code",
      "source": [
        "import sys\n",
        "input = sys.stdin.readline\n",
        "\n",
        "# 집의 수\n",
        "n = int(input())\n",
        "\n",
        "cost = [[] for _ in range(n+1)]\n",
        "for i in range(1,n+1):\n",
        "    cost[i] = list(map(int, input().rstrip().split()))\n",
        "    \n",
        "dp = [[0,0,0] for _ in range(n+1)]\n",
        "dp[1] = cost[1]\n",
        "for i in range(2, n+1):\n",
        "    dp[i][0] = min(dp[i-1][1],dp[i-1][2]) + cost[i][0]\n",
        "    dp[i][1] = min(dp[i-1][0],dp[i-1][2]) + cost[i][1]\n",
        "    dp[i][2] = min(dp[i-1][0],dp[i-1][1]) + cost[i][2]\n",
        "    \n",
        "print(min(dp[n]))"
      ],
      "metadata": {
        "id": "7DBas-piHgpN"
      },
      "execution_count": null,
      "outputs": []
    }
  ]
}
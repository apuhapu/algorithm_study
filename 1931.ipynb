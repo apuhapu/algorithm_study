{
  "nbformat": 4,
  "nbformat_minor": 0,
  "metadata": {
    "colab": {
      "name": "1931.ipynb",
      "provenance": [],
      "authorship_tag": "ABX9TyMdaPws9Q1vmjZ9K0G9dfCC",
      "include_colab_link": true
    },
    "kernelspec": {
      "name": "python3",
      "display_name": "Python 3"
    },
    "language_info": {
      "name": "python"
    }
  },
  "cells": [
    {
      "cell_type": "markdown",
      "metadata": {
        "id": "view-in-github",
        "colab_type": "text"
      },
      "source": [
        "<a href=\"https://colab.research.google.com/github/apuhapu/algorithm_study/blob/main/1931.ipynb\" target=\"_parent\"><img src=\"https://colab.research.google.com/assets/colab-badge.svg\" alt=\"Open In Colab\"/></a>"
      ]
    },
    {
      "cell_type": "markdown",
      "source": [
        "https://www.acmicpc.net/problem/1931"
      ],
      "metadata": {
        "id": "v0YVukVbHf7X"
      }
    },
    {
      "cell_type": "code",
      "execution_count": 2,
      "metadata": {
        "colab": {
          "base_uri": "https://localhost:8080/"
        },
        "id": "iAZKr-08HduU",
        "outputId": "c7cbb895-eeb8-42dd-bf38-5b8df01d451b"
      },
      "outputs": [
        {
          "name": "stdout",
          "output_type": "stream",
          "text": [
            "11\n",
            "1 4\n",
            "3 5\n",
            "0 6\n",
            "5 7\n",
            "3 8\n",
            "5 9\n",
            "6 10\n",
            "8 11\n",
            "8 12\n",
            "2 13\n",
            "12 14\n"
          ]
        }
      ],
      "source": [
        "# import sys\n",
        "# input = sys.stdin.readline\n",
        "n = int(input().rstrip())\n",
        "lst = []\n",
        "for _ in range(n):\n",
        "    a, b = map(int, input().rstrip().split())\n",
        "    lst.append((b,a))"
      ]
    },
    {
      "cell_type": "code",
      "source": [
        "from collections import deque"
      ],
      "metadata": {
        "id": "kiSXzUa2NVzp"
      },
      "execution_count": 12,
      "outputs": []
    },
    {
      "cell_type": "code",
      "source": [
        "cnt = 0"
      ],
      "metadata": {
        "id": "dTCs2YqGKnha"
      },
      "execution_count": 11,
      "outputs": []
    },
    {
      "cell_type": "code",
      "source": [
        "lst.sort()"
      ],
      "metadata": {
        "id": "QgTddSx3J_bt"
      },
      "execution_count": 9,
      "outputs": []
    },
    {
      "cell_type": "code",
      "source": [
        "lst"
      ],
      "metadata": {
        "colab": {
          "base_uri": "https://localhost:8080/"
        },
        "id": "gatzhzW2KbjT",
        "outputId": "d6045cf0-d2ab-459e-e3b5-f63dec389ac7"
      },
      "execution_count": 10,
      "outputs": [
        {
          "output_type": "execute_result",
          "data": {
            "text/plain": [
              "[(4, 1),\n",
              " (5, 3),\n",
              " (6, 0),\n",
              " (7, 5),\n",
              " (8, 3),\n",
              " (9, 5),\n",
              " (10, 6),\n",
              " (11, 8),\n",
              " (12, 8),\n",
              " (13, 2),\n",
              " (14, 12)]"
            ]
          },
          "metadata": {},
          "execution_count": 10
        }
      ]
    },
    {
      "cell_type": "code",
      "source": [
        "deq = deque(lst)\n",
        "k = 0"
      ],
      "metadata": {
        "id": "NGjjufbWRPWq"
      },
      "execution_count": 13,
      "outputs": []
    },
    {
      "cell_type": "code",
      "source": [
        "while deq:\n",
        "    b, a = deq.popleft()\n",
        "    if a >= k:\n",
        "        k = b\n",
        "        cnt += 1"
      ],
      "metadata": {
        "id": "xGFFwJD_LAEv"
      },
      "execution_count": 14,
      "outputs": []
    },
    {
      "cell_type": "code",
      "source": [
        "print(cnt)"
      ],
      "metadata": {
        "colab": {
          "base_uri": "https://localhost:8080/"
        },
        "id": "-BewF068Scln",
        "outputId": "b799b6e9-c964-4721-e290-95d70ac22848"
      },
      "execution_count": 15,
      "outputs": [
        {
          "output_type": "stream",
          "name": "stdout",
          "text": [
            "4\n"
          ]
        }
      ]
    },
    {
      "cell_type": "code",
      "source": [
        "import sys\n",
        "from collections import deque\n",
        "input = sys.stdin.readline\n",
        "n = int(input().rstrip())\n",
        "cnt = 0\n",
        "lst = []\n",
        "for _ in range(n):\n",
        "    a, b = map(int, input().rstrip().split())\n",
        "    lst.append((b,a))\n",
        "lst.sort()\n",
        "deq = deque(lst)\n",
        "k = 0\n",
        "while deq:\n",
        "    b, a = deq.popleft()\n",
        "    if a >= k:\n",
        "        k = b\n",
        "        cnt += 1\n",
        "print(cnt)"
      ],
      "metadata": {
        "id": "kAHV0DdbSxcm"
      },
      "execution_count": null,
      "outputs": []
    },
    {
      "cell_type": "markdown",
      "source": [
        "문제없이 성공!"
      ],
      "metadata": {
        "id": "WH68J6mPSyQz"
      }
    }
  ]
}
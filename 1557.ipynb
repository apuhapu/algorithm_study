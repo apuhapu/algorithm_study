{
  "nbformat": 4,
  "nbformat_minor": 0,
  "metadata": {
    "colab": {
      "name": "1557.ipynb",
      "provenance": [],
      "authorship_tag": "ABX9TyM5z/DCoyMZIE8pPvAE5fmf",
      "include_colab_link": true
    },
    "kernelspec": {
      "name": "python3",
      "display_name": "Python 3"
    },
    "language_info": {
      "name": "python"
    }
  },
  "cells": [
    {
      "cell_type": "markdown",
      "metadata": {
        "id": "view-in-github",
        "colab_type": "text"
      },
      "source": [
        "<a href=\"https://colab.research.google.com/github/apuhapu/algorithm_study/blob/main/1557.ipynb\" target=\"_parent\"><img src=\"https://colab.research.google.com/assets/colab-badge.svg\" alt=\"Open In Colab\"/></a>"
      ]
    },
    {
      "cell_type": "markdown",
      "source": [
        "https://www.acmicpc.net/problem/1557"
      ],
      "metadata": {
        "id": "b95z78hb3_lk"
      }
    },
    {
      "cell_type": "code",
      "execution_count": null,
      "metadata": {
        "id": "C5jBAabH3-xt"
      },
      "outputs": [],
      "source": [
        "n = 10**9"
      ]
    },
    {
      "cell_type": "code",
      "source": [
        "lst = [False] * (n+1)"
      ],
      "metadata": {
        "id": "ATHLEoNq4J2F"
      },
      "execution_count": null,
      "outputs": []
    },
    {
      "cell_type": "code",
      "source": [
        "i = 2\n",
        "cnt = 10**9\n",
        "while i*i <= n:\n",
        "    a = 1\n",
        "    while a*i*i <= n:\n",
        "        if not lst[a*i*i]:\n",
        "            cnt -= 1\n",
        "            lst[a*i*i] = True\n",
        "        a += 1\n",
        "    i += 1"
      ],
      "metadata": {
        "id": "lOFxP4Jq4TZQ"
      },
      "execution_count": null,
      "outputs": []
    },
    {
      "cell_type": "code",
      "source": [
        "cnt"
      ],
      "metadata": {
        "colab": {
          "base_uri": "https://localhost:8080/"
        },
        "id": "7r6FAGDf6yya",
        "outputId": "635e59cf-c03f-4861-9b08-79be642bd469"
      },
      "execution_count": null,
      "outputs": [
        {
          "output_type": "execute_result",
          "data": {
            "text/plain": [
              "607927124"
            ]
          },
          "metadata": {},
          "execution_count": 4
        }
      ]
    },
    {
      "cell_type": "code",
      "source": [
        "n-cnt > cnt"
      ],
      "metadata": {
        "colab": {
          "base_uri": "https://localhost:8080/"
        },
        "id": "R3twfeN662GT",
        "outputId": "6f143452-057a-4ca6-aa56-1b8cb2abc3bd"
      },
      "execution_count": null,
      "outputs": [
        {
          "output_type": "execute_result",
          "data": {
            "text/plain": [
              "False"
            ]
          },
          "metadata": {},
          "execution_count": 7
        }
      ]
    },
    {
      "cell_type": "markdown",
      "source": [
        "10억 중에 제곱 ㄴㄴ 수는 약 60퍼센트(607927124)\n",
        "\n",
        "이론상 square-free도 약 60퍼"
      ],
      "metadata": {
        "id": "IHmFXsBH7ItE"
      }
    },
    {
      "cell_type": "code",
      "source": [
        "def nonocnt(x):\n",
        "    i = 2\n",
        "    lst = [False] * (x+1)\n",
        "    cnt = x\n",
        "    while i*i <= x and i <= int(x**(0.5)) and :\n",
        "        a = 1\n",
        "        while a*i*i <= x:\n",
        "            if not lst[a*i*i]:\n",
        "                cnt -= 1\n",
        "                lst[a*i*i] = True\n",
        "            a += 1\n",
        "        i += 1\n",
        "    return cnt"
      ],
      "metadata": {
        "id": "X666-Mms8_ng"
      },
      "execution_count": 4,
      "outputs": []
    },
    {
      "cell_type": "code",
      "source": [
        "k = int(input())"
      ],
      "metadata": {
        "colab": {
          "base_uri": "https://localhost:8080/"
        },
        "id": "Y6aF8y6p8PGK",
        "outputId": "70c9ee51-d97a-4e4f-b750-f7e3e91e2331"
      },
      "execution_count": 2,
      "outputs": [
        {
          "name": "stdout",
          "output_type": "stream",
          "text": [
            "1234567\n"
          ]
        }
      ]
    },
    {
      "cell_type": "code",
      "source": [
        "start = 1\n",
        "end = 2*k\n",
        "while start <= end:\n",
        "    mid = (start+end) // 2\n",
        "    if nonocnt(mid) == k:\n",
        "        print(mid)\n",
        "        break\n",
        "    elif nonocnt(mid) < k:\n",
        "        start = mid + 1\n",
        "    else:\n",
        "        end = mid - 1\n",
        "else:\n",
        "    print(start)"
      ],
      "metadata": {
        "colab": {
          "base_uri": "https://localhost:8080/"
        },
        "id": "5atQL4Ih_2KL",
        "outputId": "114ea662-1e87-4be4-b688-06f313474b79"
      },
      "execution_count": 5,
      "outputs": [
        {
          "output_type": "stream",
          "name": "stdout",
          "text": [
            "2030745\n"
          ]
        }
      ]
    },
    {
      "cell_type": "markdown",
      "source": [
        "너무 오래걸림 >> i = 2일때 while 문을 한번 돌리면 i가 4, 6, 8 ... 2n 등등은 중복해서 체크하므로 셀 필요가 없다.\n",
        "\n",
        "i가 소수일때만 측정?"
      ],
      "metadata": {
        "id": "bYVm0Vcc8Rtd"
      }
    },
    {
      "cell_type": "code",
      "source": [
        "def isprime(p):\n",
        "    for x in range(2,int(p**(0.5)+1)):\n",
        "        if p % x == 0:\n",
        "            return False\n",
        "            break\n",
        "    else:\n",
        "        return True"
      ],
      "metadata": {
        "id": "cHw-aoSR-LiL"
      },
      "execution_count": 17,
      "outputs": []
    },
    {
      "cell_type": "code",
      "source": [
        "def nonocnt(x):\n",
        "    i = 2\n",
        "    lst = [False] * (x+1)\n",
        "    cnt = x\n",
        "    while i*i <= x and i <= int(x**(0.5)) and isprime(i):\n",
        "        a = 1\n",
        "        while a*i*i <= x:\n",
        "            if not lst[a*i*i]:\n",
        "                cnt -= 1\n",
        "                lst[a*i*i] = True\n",
        "            a += 1\n",
        "        i += 1\n",
        "    return cnt"
      ],
      "metadata": {
        "id": "kIgHOohn_IhP"
      },
      "execution_count": 25,
      "outputs": []
    },
    {
      "cell_type": "code",
      "source": [
        "start = 1\n",
        "end = 2*k\n",
        "while start <= end:\n",
        "    mid = (start+end) // 2\n",
        "    if nonocnt(mid) == k:\n",
        "        print(mid)\n",
        "        break\n",
        "    elif nonocnt(mid) < k:\n",
        "        start = mid + 1\n",
        "    else:\n",
        "        end = mid - 1\n",
        "else:\n",
        "    print(start)"
      ],
      "metadata": {
        "colab": {
          "base_uri": "https://localhost:8080/"
        },
        "id": "ISouYrQ__NQN",
        "outputId": "d99fd544-8470-4626-9ba9-f4cd0ee30ef3"
      },
      "execution_count": 26,
      "outputs": [
        {
          "output_type": "stream",
          "name": "stdout",
          "text": [
            "1851850\n"
          ]
        }
      ]
    },
    {
      "cell_type": "markdown",
      "source": [
        "시간은 절반이지만 답이 틀림"
      ],
      "metadata": {
        "id": "mCOsYKzi_YKt"
      }
    },
    {
      "cell_type": "markdown",
      "source": [
        "뫼비우스 함수를 이용하여 풀이\n",
        "\n",
        "일단 k의 범위가 10**9 이므로 square-free 분포가 60퍼인 것을 \n",
        "\n",
        "\n",
        "감안하여 그의 두배만큼 생성\n",
        "\n",
        "> 입력된 k의 두배의 0.5승 만큼 생성"
      ],
      "metadata": {
        "id": "YparAJSvAHnK"
      }
    },
    {
      "cell_type": "code",
      "source": [
        "ran = int((2*k)**(0.5))+1"
      ],
      "metadata": {
        "id": "cNk3WPpiHU_w"
      },
      "execution_count": 36,
      "outputs": []
    },
    {
      "cell_type": "code",
      "source": [
        "ran"
      ],
      "metadata": {
        "colab": {
          "base_uri": "https://localhost:8080/"
        },
        "id": "9qwW8n2-Hog-",
        "outputId": "330d6b35-bb39-4e4f-f075-ea99a99b4a43"
      },
      "execution_count": 41,
      "outputs": [
        {
          "output_type": "execute_result",
          "data": {
            "text/plain": [
              "1572"
            ]
          },
          "metadata": {},
          "execution_count": 41
        }
      ]
    },
    {
      "cell_type": "code",
      "source": [
        "mu = [0] * ran"
      ],
      "metadata": {
        "id": "r6pRKn_CAiLx"
      },
      "execution_count": 37,
      "outputs": []
    },
    {
      "cell_type": "code",
      "source": [
        "mu[1] = 1\n",
        "for i in range(1,ran):\n",
        "    for j in range(2*i,ran,i):\n",
        "        mu[j] -= mu[i]"
      ],
      "metadata": {
        "id": "3HmnKanyCJdB"
      },
      "execution_count": 38,
      "outputs": []
    },
    {
      "cell_type": "code",
      "source": [
        "mu[1:11]"
      ],
      "metadata": {
        "colab": {
          "base_uri": "https://localhost:8080/"
        },
        "id": "pxhS9hdYDKzx",
        "outputId": "0c6c5c98-0781-450b-ca6f-e63a93f8fa4d"
      },
      "execution_count": 39,
      "outputs": [
        {
          "output_type": "execute_result",
          "data": {
            "text/plain": [
              "[1, -1, -1, 0, -1, 1, -1, 0, 0, 1]"
            ]
          },
          "metadata": {},
          "execution_count": 39
        }
      ]
    },
    {
      "cell_type": "code",
      "source": [
        "mu[-11:-1]"
      ],
      "metadata": {
        "colab": {
          "base_uri": "https://localhost:8080/"
        },
        "id": "I0TzkBjvG0JJ",
        "outputId": "5e59dc79-5f65-4ccd-a6c4-ed21ee2f868d"
      },
      "execution_count": 40,
      "outputs": [
        {
          "output_type": "execute_result",
          "data": {
            "text/plain": [
              "[1, -1, 1, 0, 1, 0, -1, 0, 1, -1]"
            ]
          },
          "metadata": {},
          "execution_count": 40
        }
      ]
    },
    {
      "cell_type": "code",
      "source": [
        "def square_free(k):\n",
        "    cnt = 0\n",
        "    i = 1\n",
        "    while i*i <= k:\n",
        "        cnt += mu[i]*(k//(i*i))\n",
        "        i += 1\n",
        "    return cnt"
      ],
      "metadata": {
        "id": "qbCQLKwnHrL8"
      },
      "execution_count": 44,
      "outputs": []
    },
    {
      "cell_type": "code",
      "source": [
        "start = 1\n",
        "end = 2*k\n",
        "while start <= end:\n",
        "    mid = (start+end) // 2\n",
        "    if square_free(mid) == k:\n",
        "        print(mid)\n",
        "        break\n",
        "    elif square_free(mid) < k:\n",
        "        start = mid + 1\n",
        "    else:\n",
        "        end = mid - 1\n",
        "else:\n",
        "    print(start)"
      ],
      "metadata": {
        "colab": {
          "base_uri": "https://localhost:8080/"
        },
        "id": "ViC9WfhZJV8F",
        "outputId": "7812c7be-dbc2-4edb-ea45-0b18c121457f"
      },
      "execution_count": 45,
      "outputs": [
        {
          "output_type": "stream",
          "name": "stdout",
          "text": [
            "2030745\n"
          ]
        }
      ]
    },
    {
      "cell_type": "markdown",
      "source": [
        "1차 제출본"
      ],
      "metadata": {
        "id": "1Ih-JHP2Jicz"
      }
    },
    {
      "cell_type": "code",
      "source": [
        "# 입력파트\n",
        "k = int(input())\n",
        "\n",
        "# 필요한 i의 범위 >> sqrt(2k)+1 / \n",
        "\n",
        "ran = int((2*k)**(0.5))+1\n",
        "\n",
        "# 뫼비우스 함수\n",
        "mu = [0] * ran\n",
        "mu[1] = 1\n",
        "for i in range(1,ran):\n",
        "    for j in range(2*i,ran,i):\n",
        "        mu[j] -= mu[i]\n",
        "\n",
        "# x이하의 square_free 정수 개수 구하는 함수\n",
        "def square_free(x):\n",
        "    cnt = 0\n",
        "    i = 1\n",
        "    while i*i <= x:\n",
        "        cnt += mu[i]*(x//(i*i))\n",
        "        i += 1\n",
        "    return cnt\n",
        "\n",
        "# 이분탐색\n",
        "start = k # k보다 작을 수 없으므로 & 이론상 1부터 n까지 square_free 수의 개수는 약 60%*n / 10**9의 경우 607927124개\n",
        "end = int(2*k)\n",
        "while start <= end:\n",
        "    mid = (start+end) // 2\n",
        "    if square_free(mid) == k:\n",
        "        if square_free(mid -1) == k:\n",
        "            end = mid -1  # 가장 작은 수를 찾아야 하기 때문\n",
        "        else:\n",
        "            print(mid)\n",
        "            break\n",
        "    elif square_free(mid) < k:\n",
        "        start = mid + 1\n",
        "    else:\n",
        "        end = mid - 1\n",
        "else:\n",
        "    print(end)"
      ],
      "metadata": {
        "colab": {
          "base_uri": "https://localhost:8080/"
        },
        "id": "octHDhUOJj1J",
        "outputId": "d33273fb-bcf6-47d0-f721-010c3413acb1"
      },
      "execution_count": 81,
      "outputs": [
        {
          "output_type": "stream",
          "name": "stdout",
          "text": [
            "607927124\n",
            "999999998\n"
          ]
        }
      ]
    },
    {
      "cell_type": "markdown",
      "source": [
        "계속 틀려서 이유를 확인해보니 가장 작은 수를 찾는 로직을 추가를 안했었다. 추가완료"
      ],
      "metadata": {
        "id": "nrKgx149QF-Y"
      }
    },
    {
      "cell_type": "markdown",
      "source": [
        "비슷한 문제"
      ],
      "metadata": {
        "id": "ZcPQEcoASDiG"
      }
    },
    {
      "cell_type": "markdown",
      "source": [
        "https://www.acmicpc.net/problem/1016"
      ],
      "metadata": {
        "id": "VBC-Uxa8SCc1"
      }
    },
    {
      "cell_type": "code",
      "source": [
        "# 입력파트\n",
        "mi, ma = map(int, input().rstrip().split())\n",
        "\n",
        "# 필요한 i의 범위 >> sqrt(2ma)+1 / \n",
        "ran = int((2*ma)**(0.5))+1\n",
        "\n",
        "# 뫼비우스 함수\n",
        "mu = [0] * ran\n",
        "mu[1] = 1\n",
        "for i in range(1,ran):\n",
        "    for j in range(2*i,ran,i):\n",
        "        mu[j] -= mu[i]\n",
        "\n",
        "# x이하의 square_free 정수 개수 구하는 함수\n",
        "def square_free(x):\n",
        "    cnt = 0\n",
        "    i = 1\n",
        "    while i*i <= x:\n",
        "        cnt += mu[i]*(x//(i*i))\n",
        "        i += 1\n",
        "    return cnt\n",
        "\n",
        "print(square_free(ma)-square_free(mi-1))"
      ],
      "metadata": {
        "colab": {
          "base_uri": "https://localhost:8080/"
        },
        "id": "gH4tbL_iSFh5",
        "outputId": "9f9b70fb-f1b9-4120-da15-b8adce1a9352"
      },
      "execution_count": 87,
      "outputs": [
        {
          "output_type": "stream",
          "name": "stdout",
          "text": [
            "1 1000\n",
            "608\n"
          ]
        }
      ]
    },
    {
      "cell_type": "markdown",
      "source": [
        "통과"
      ],
      "metadata": {
        "id": "VQjxKEkkSwYr"
      }
    }
  ]
}
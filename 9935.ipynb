{
  "nbformat": 4,
  "nbformat_minor": 0,
  "metadata": {
    "colab": {
      "name": "9935.ipynb",
      "provenance": [],
      "authorship_tag": "ABX9TyPMoL3ms8Y59CEC9Pfg+RrC",
      "include_colab_link": true
    },
    "kernelspec": {
      "name": "python3",
      "display_name": "Python 3"
    },
    "language_info": {
      "name": "python"
    }
  },
  "cells": [
    {
      "cell_type": "markdown",
      "metadata": {
        "id": "view-in-github",
        "colab_type": "text"
      },
      "source": [
        "<a href=\"https://colab.research.google.com/github/apuhapu/algorithm_study/blob/main/9935.ipynb\" target=\"_parent\"><img src=\"https://colab.research.google.com/assets/colab-badge.svg\" alt=\"Open In Colab\"/></a>"
      ]
    },
    {
      "cell_type": "markdown",
      "source": [
        "https://www.acmicpc.net/problem/9935"
      ],
      "metadata": {
        "id": "vCxHTgTlHeLj"
      }
    },
    {
      "cell_type": "code",
      "execution_count": 30,
      "metadata": {
        "colab": {
          "base_uri": "https://localhost:8080/"
        },
        "id": "Dk_Mk-1XHdjd",
        "outputId": "0c5dc02b-0599-4388-db30-44084e971932"
      },
      "outputs": [
        {
          "name": "stdout",
          "output_type": "stream",
          "text": [
            "mirkovC4nizCC44\n",
            "C4\n"
          ]
        }
      ],
      "source": [
        "str1 = str(input().rstrip())\n",
        "bomb = list(input().rstrip())"
      ]
    },
    {
      "cell_type": "code",
      "source": [
        "while True:\n",
        "    str2 = str1.replace(bomb,'')\n",
        "    if str2 == '':\n",
        "        print('FRULA')\n",
        "        break\n",
        "    elif str1 == str2:\n",
        "        print(str1)\n",
        "        break\n",
        "    else:\n",
        "        str1 = str2"
      ],
      "metadata": {
        "colab": {
          "base_uri": "https://localhost:8080/"
        },
        "id": "5yAesiRQIBTs",
        "outputId": "08c2495c-48ac-49f8-d85a-a70529a6c56b"
      },
      "execution_count": 23,
      "outputs": [
        {
          "output_type": "stream",
          "name": "stdout",
          "text": [
            "abcdef\n"
          ]
        }
      ]
    },
    {
      "cell_type": "markdown",
      "source": [
        "48퍼쯤에 시간초과\n",
        "\n",
        "스택을 사용하여 삭제"
      ],
      "metadata": {
        "id": "JDGeAXAGK1jN"
      }
    },
    {
      "cell_type": "code",
      "source": [
        "l = len(bomb)\n",
        "lst = []"
      ],
      "metadata": {
        "id": "BQCGFxxgNVz7"
      },
      "execution_count": 31,
      "outputs": []
    },
    {
      "cell_type": "code",
      "source": [
        "for x in str1:\n",
        "    lst.append(x)\n",
        "    if lst[-l:] == bomb:\n",
        "        lst[-l:] = []"
      ],
      "metadata": {
        "id": "xVnu3F7BNevF"
      },
      "execution_count": 32,
      "outputs": []
    },
    {
      "cell_type": "code",
      "source": [
        "print(''.join(map(str,lst)))"
      ],
      "metadata": {
        "colab": {
          "base_uri": "https://localhost:8080/"
        },
        "id": "LMFrg4qTN0Ev",
        "outputId": "b54b75e3-adfc-4519-cad0-9e837a365b0f"
      },
      "execution_count": 34,
      "outputs": [
        {
          "output_type": "stream",
          "name": "stdout",
          "text": [
            "mirkovniz\n"
          ]
        }
      ]
    },
    {
      "cell_type": "markdown",
      "source": [
        "통과"
      ],
      "metadata": {
        "id": "y_ca4sTdOqgq"
      }
    }
  ]
}
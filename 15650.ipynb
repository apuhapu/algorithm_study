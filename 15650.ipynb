{
  "nbformat": 4,
  "nbformat_minor": 0,
  "metadata": {
    "colab": {
      "name": "15650.ipynb",
      "provenance": [],
      "authorship_tag": "ABX9TyOscWUeEALbRRCCaZ042GnH",
      "include_colab_link": true
    },
    "kernelspec": {
      "name": "python3",
      "display_name": "Python 3"
    },
    "language_info": {
      "name": "python"
    }
  },
  "cells": [
    {
      "cell_type": "markdown",
      "metadata": {
        "id": "view-in-github",
        "colab_type": "text"
      },
      "source": [
        "<a href=\"https://colab.research.google.com/github/apuhapu/algorithm_study/blob/main/15650.ipynb\" target=\"_parent\"><img src=\"https://colab.research.google.com/assets/colab-badge.svg\" alt=\"Open In Colab\"/></a>"
      ]
    },
    {
      "cell_type": "markdown",
      "source": [
        "https://www.acmicpc.net/problem/15650"
      ],
      "metadata": {
        "id": "RtTOOudUoNIu"
      }
    },
    {
      "cell_type": "code",
      "source": [
        "n, m = map(int, input().split())\n",
        "visited = [False] * (n+1)\n",
        "answer = []"
      ],
      "metadata": {
        "colab": {
          "base_uri": "https://localhost:8080/"
        },
        "id": "t32sqgXyoR_a",
        "outputId": "1e66d6a0-1ede-41d5-ab9f-e9144ba9a3be"
      },
      "execution_count": 13,
      "outputs": [
        {
          "name": "stdout",
          "output_type": "stream",
          "text": [
            "4 2\n"
          ]
        }
      ]
    },
    {
      "cell_type": "code",
      "source": [
        "def series(lth, n, m):\n",
        "    if lth == m:\n",
        "        print(' '.join(map(str, answer)))\n",
        "        \n",
        "    for i in range(1, n+1):\n",
        "        if not visited[i]:\n",
        "            visited[i] = True\n",
        "            answer.append(i)\n",
        "            series(lth+1, n, m)\n",
        "            visited[i] = False\n",
        "            answer.pop()"
      ],
      "metadata": {
        "id": "im76n6vFoS4R"
      },
      "execution_count": 3,
      "outputs": []
    },
    {
      "cell_type": "code",
      "source": [
        "series(0, n, m)"
      ],
      "metadata": {
        "colab": {
          "base_uri": "https://localhost:8080/"
        },
        "id": "rkRsLiTtoYLZ",
        "outputId": "b8227a63-64ee-4d07-ae5f-1e1732ffbd3e"
      },
      "execution_count": 4,
      "outputs": [
        {
          "output_type": "stream",
          "name": "stdout",
          "text": [
            "1 2\n",
            "1 3\n",
            "1 4\n",
            "2 1\n",
            "2 3\n",
            "2 4\n",
            "3 1\n",
            "3 2\n",
            "3 4\n",
            "4 1\n",
            "4 2\n",
            "4 3\n"
          ]
        }
      ]
    },
    {
      "cell_type": "markdown",
      "source": [
        "중복되는 경우를 제거해야함\n",
        "\n",
        "오름차순인것을 이용 answer 리스트의 마지막 원소보다 큰 번호만 탐색"
      ],
      "metadata": {
        "id": "C7tJt_D9ooVo"
      }
    },
    {
      "cell_type": "code",
      "execution_count": 15,
      "metadata": {
        "id": "T3JzFWqcoEta"
      },
      "outputs": [],
      "source": [
        "def series(lth, n, m):\n",
        "    if lth == m:\n",
        "        print(' '.join(map(str, answer)))\n",
        "        \n",
        "    if not answer:\n",
        "        k = 1\n",
        "    else:\n",
        "        k = answer[-1] + 1\n",
        "    for i in range(k, n+1):\n",
        "        if not visited[i]:\n",
        "            visited[i] = True\n",
        "            answer.append(i)\n",
        "            series(lth+1, n, m)\n",
        "            visited[i] = False\n",
        "            answer.pop()"
      ]
    },
    {
      "cell_type": "code",
      "source": [
        "series(0, n, m)"
      ],
      "metadata": {
        "colab": {
          "base_uri": "https://localhost:8080/"
        },
        "id": "JyOf1AmorNgb",
        "outputId": "d7c91e51-4455-4858-9045-4b327ec93858"
      },
      "execution_count": 16,
      "outputs": [
        {
          "output_type": "stream",
          "name": "stdout",
          "text": [
            "1 2\n",
            "1 3\n",
            "1 4\n",
            "2 3\n",
            "2 4\n",
            "3 4\n"
          ]
        }
      ]
    },
    {
      "cell_type": "markdown",
      "source": [
        "완성본"
      ],
      "metadata": {
        "id": "pMso6vrPrm7A"
      }
    },
    {
      "cell_type": "code",
      "source": [
        "n, m = map(int, input().split())\n",
        "visited = [False] * (n+1)\n",
        "answer = []\n",
        "\n",
        "def series(lth, n, m):\n",
        "    if lth == m:\n",
        "        print(' '.join(map(str, answer)))\n",
        "        \n",
        "    if not answer:\n",
        "        k = 1\n",
        "    else:\n",
        "        k = answer[-1] + 1\n",
        "    for i in range(k, n+1):\n",
        "        if not visited[i]:\n",
        "            visited[i] = True\n",
        "            answer.append(i)\n",
        "            series(lth+1, n, m)\n",
        "            visited[i] = False\n",
        "            answer.pop()\n",
        "\n",
        "series(0, n, m)"
      ],
      "metadata": {
        "colab": {
          "base_uri": "https://localhost:8080/"
        },
        "id": "bkQoAWo0rbqn",
        "outputId": "b407d8e1-228c-4a4c-a7c9-6b1f30f1ce39"
      },
      "execution_count": 17,
      "outputs": [
        {
          "output_type": "stream",
          "name": "stdout",
          "text": [
            "4 2\n",
            "1 2\n",
            "1 3\n",
            "1 4\n",
            "2 3\n",
            "2 4\n",
            "3 4\n"
          ]
        }
      ]
    }
  ]
}
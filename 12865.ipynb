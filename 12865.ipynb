{
  "nbformat": 4,
  "nbformat_minor": 0,
  "metadata": {
    "colab": {
      "name": "12865.ipynb",
      "provenance": [],
      "authorship_tag": "ABX9TyPHx3KEdbF9sqgurHZjU3UY",
      "include_colab_link": true
    },
    "kernelspec": {
      "name": "python3",
      "display_name": "Python 3"
    },
    "language_info": {
      "name": "python"
    }
  },
  "cells": [
    {
      "cell_type": "markdown",
      "metadata": {
        "id": "view-in-github",
        "colab_type": "text"
      },
      "source": [
        "<a href=\"https://colab.research.google.com/github/apuhapu/algorithm_study/blob/main/12865.ipynb\" target=\"_parent\"><img src=\"https://colab.research.google.com/assets/colab-badge.svg\" alt=\"Open In Colab\"/></a>"
      ]
    },
    {
      "cell_type": "markdown",
      "source": [
        "https://www.acmicpc.net/problem/12865"
      ],
      "metadata": {
        "id": "KAosk6jeG312"
      }
    },
    {
      "cell_type": "code",
      "execution_count": 3,
      "metadata": {
        "id": "xfrzO1dtEGkr",
        "colab": {
          "base_uri": "https://localhost:8080/"
        },
        "outputId": "8f495666-5a68-40db-fb9a-66917d7f8465"
      },
      "outputs": [
        {
          "name": "stdout",
          "output_type": "stream",
          "text": [
            "4 7\n",
            "6 13\n",
            "4 8\n",
            "3 6\n",
            "5 12\n"
          ]
        }
      ],
      "source": [
        "n, k = map(int, input().rstrip().split())\n",
        "lst = []\n",
        "for _ in range(n):\n",
        "    w, v = map(int, input().rstrip().split())\n",
        "    lst.append((w,v))"
      ]
    },
    {
      "cell_type": "code",
      "source": [
        "dp = [[0] * (k+1) for _ in range(n+1)]"
      ],
      "metadata": {
        "id": "hW1CdjKyqjF3"
      },
      "execution_count": 4,
      "outputs": []
    },
    {
      "cell_type": "code",
      "source": [
        "for i in range(1,n+1):\n",
        "    for j in range(1,k+1):\n",
        "        w = lst[i-1][0]\n",
        "        if w > j:\n",
        "            dp[i][j] = dp[i-1][j]\n",
        "        else:\n",
        "            dp[i][j] = max(dp[i-1][j], dp[i][j-1], dp[i][j-w] + lst[i-1][1])"
      ],
      "metadata": {
        "id": "XCuQ8bFRqozt"
      },
      "execution_count": 5,
      "outputs": []
    },
    {
      "cell_type": "code",
      "source": [
        "print(dp[-1][-1])"
      ],
      "metadata": {
        "colab": {
          "base_uri": "https://localhost:8080/"
        },
        "id": "vZH_VWN9sV9d",
        "outputId": "c7148e2b-bed8-4fb8-e866-5ba421ddadd7"
      },
      "execution_count": 7,
      "outputs": [
        {
          "output_type": "stream",
          "name": "stdout",
          "text": [
            "14\n"
          ]
        }
      ]
    },
    {
      "cell_type": "markdown",
      "source": [
        "1차 제출"
      ],
      "metadata": {
        "id": "FiA5YNxas0bM"
      }
    },
    {
      "cell_type": "code",
      "source": [
        "#import sys\n",
        "#input = sys.stdin.readline\n",
        "\n",
        "n, k = map(int, input().rstrip().split())\n",
        "lst = []\n",
        "for _ in range(n):\n",
        "    w, v = map(int, input().rstrip().split())\n",
        "    lst.append((w,v))\n",
        "    \n",
        "dp = [[0] * (k+1) for _ in range(n+1)]\n",
        "\n",
        "for i in range(1,n+1):\n",
        "    for j in range(1,k+1):\n",
        "        w = lst[i-1][0]\n",
        "        if w > j:\n",
        "            dp[i][j] = dp[i-1][j]\n",
        "        else:\n",
        "            dp[i][j] = max(dp[i-1][j], dp[i][j-1], dp[i][j-w] + lst[i-1][1])\n",
        "\n",
        "print(max(dp[-1]))"
      ],
      "metadata": {
        "colab": {
          "base_uri": "https://localhost:8080/"
        },
        "id": "lse00ArNs17E",
        "outputId": "3f090a74-e5a1-43ef-eddf-d5b01063cf47"
      },
      "execution_count": 10,
      "outputs": [
        {
          "output_type": "stream",
          "name": "stdout",
          "text": [
            "3 6\n",
            "3 14\n",
            "2 8\n",
            "3 9\n",
            "23\n"
          ]
        }
      ]
    },
    {
      "cell_type": "code",
      "source": [
        "dp"
      ],
      "metadata": {
        "colab": {
          "base_uri": "https://localhost:8080/"
        },
        "id": "aLWLX1xJtEBT",
        "outputId": "7b426a1f-b705-4de7-f950-95654e64dc5b"
      },
      "execution_count": 11,
      "outputs": [
        {
          "output_type": "execute_result",
          "data": {
            "text/plain": [
              "[[0, 0, 0, 0, 0, 0, 0],\n",
              " [0, 0, 0, 14, 14, 14, 14],\n",
              " [0, 0, 8, 14, 14, 22, 22],\n",
              " [0, 0, 8, 14, 14, 22, 23]]"
            ]
          },
          "metadata": {},
          "execution_count": 11
        }
      ]
    },
    {
      "cell_type": "markdown",
      "source": [
        "틀림\n",
        "\n",
        "각 물품을 두번 사용하는 경우가 생김 >> 이중 포문의 else에서 3번째 비교대상을 i-1로 변경"
      ],
      "metadata": {
        "id": "RzMo-Lz8syHh"
      }
    },
    {
      "cell_type": "code",
      "source": [
        "#import sys\n",
        "#input = sys.stdin.readline\n",
        "\n",
        "n, k = map(int, input().rstrip().split())\n",
        "lst = []\n",
        "for _ in range(n):\n",
        "    w, v = map(int, input().rstrip().split())\n",
        "    lst.append((w,v))\n",
        "    \n",
        "dp = [[0] * (k+1) for _ in range(n+1)]\n",
        "\n",
        "for i in range(1,n+1):\n",
        "    for j in range(1,k+1):\n",
        "        w = lst[i-1][0]\n",
        "        if w > j:\n",
        "            dp[i][j] = dp[i-1][j]\n",
        "        else:\n",
        "            dp[i][j] = max(dp[i-1][j], dp[i][j-1], dp[i-1][j-w] + lst[i-1][1])\n",
        "\n",
        "print(dp[-1][-1])"
      ],
      "metadata": {
        "id": "mXpN1y_FtpdB"
      },
      "execution_count": null,
      "outputs": []
    },
    {
      "cell_type": "markdown",
      "source": [
        "성공"
      ],
      "metadata": {
        "id": "5_akcMzcuJYH"
      }
    }
  ]
}
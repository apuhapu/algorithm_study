{
  "nbformat": 4,
  "nbformat_minor": 0,
  "metadata": {
    "colab": {
      "name": "11724.ipynb",
      "provenance": [],
      "authorship_tag": "ABX9TyP7dIy7VKx0qjNt0vfd5bW/",
      "include_colab_link": true
    },
    "kernelspec": {
      "name": "python3",
      "display_name": "Python 3"
    },
    "language_info": {
      "name": "python"
    }
  },
  "cells": [
    {
      "cell_type": "markdown",
      "metadata": {
        "id": "view-in-github",
        "colab_type": "text"
      },
      "source": [
        "<a href=\"https://colab.research.google.com/github/apuhapu/algorithm_study/blob/main/11724.ipynb\" target=\"_parent\"><img src=\"https://colab.research.google.com/assets/colab-badge.svg\" alt=\"Open In Colab\"/></a>"
      ]
    },
    {
      "cell_type": "code",
      "execution_count": null,
      "metadata": {
        "colab": {
          "base_uri": "https://localhost:8080/"
        },
        "id": "70EuCiZCZZBL",
        "outputId": "1191df6d-0b06-4c0c-b3f5-3218f1f032de"
      },
      "outputs": [
        {
          "name": "stdout",
          "output_type": "stream",
          "text": [
            "6 5\n",
            "1 2\n",
            "2 5\n",
            "5 1\n",
            "3 4\n",
            "4 6\n"
          ]
        }
      ],
      "source": [
        "# import sys\n",
        "# input = sys.stdin.readline\n",
        "from collections import deque\n",
        "N, M = map(int, input().split())\n",
        "lst = [[] for _ in range(N+1)]\n",
        "for _ in range(M):\n",
        "    u, v = map(int, input().split())\n",
        "    lst[u].append(v)\n",
        "    lst[v].append(u)"
      ]
    },
    {
      "cell_type": "code",
      "source": [
        "print(lst)"
      ],
      "metadata": {
        "colab": {
          "base_uri": "https://localhost:8080/"
        },
        "id": "-zenp2DFc00J",
        "outputId": "20b6349e-c99c-4243-be42-d4774b28aa0d"
      },
      "execution_count": null,
      "outputs": [
        {
          "output_type": "stream",
          "name": "stdout",
          "text": [
            "[[], [2, 5], [1, 5], [4], [3, 6], [2, 1], [4]]\n"
          ]
        }
      ]
    },
    {
      "cell_type": "code",
      "source": [
        "visited = [False] * (N+1)\n",
        "count = 0\n",
        "deq = deque()"
      ],
      "metadata": {
        "id": "y-md2nIbaiwg"
      },
      "execution_count": null,
      "outputs": []
    },
    {
      "cell_type": "code",
      "source": [
        "for i in range(1, N+1):\n",
        "    if not visited[i]:\n",
        "        deq.append(i)\n",
        "        count += 1\n",
        "        while deq:\n",
        "            x = deq.popleft()\n",
        "            visited[x] = True\n",
        "            for y in lst[x]:\n",
        "                if not visited[y]:\n",
        "                    deq.append(y)\n",
        "print(count)"
      ],
      "metadata": {
        "colab": {
          "base_uri": "https://localhost:8080/"
        },
        "id": "C0YRPLWdbY9h",
        "outputId": "9e5f4099-27da-4fe4-89ba-05a4eae465ff"
      },
      "execution_count": null,
      "outputs": [
        {
          "output_type": "stream",
          "name": "stdout",
          "text": [
            "2\n"
          ]
        }
      ]
    },
    {
      "cell_type": "code",
      "source": [
        "input = input"
      ],
      "metadata": {
        "id": "u-00CrIMgKzo"
      },
      "execution_count": null,
      "outputs": []
    },
    {
      "cell_type": "code",
      "source": [
        "from collections import deque\n",
        "\n",
        "N, M = map(int, input().split())\n",
        "lst = [[] for _ in range(N+1)]\n",
        "for _ in range(M):\n",
        "    u, v = map(int, input().split())\n",
        "    lst[u].append(v)\n",
        "    lst[v].append(u)\n",
        "    \n",
        "visited = [False] * (N+1)\n",
        "count = 0\n",
        "deq = deque()\n",
        "\n",
        "def bfs(d):\n",
        "    visited[d] = True\n",
        "    deq.append(d)\n",
        "    \n",
        "    while deq:\n",
        "        x = deq.popleft()\n",
        "        for y in lst[x]:\n",
        "            if not visited[y]:\n",
        "                deq.append(y)\n",
        "                visited[y] = True\n",
        "    \n",
        "    \n",
        "    \n",
        "for i in range(1, N+1):\n",
        "    if len(lst[i]) == 0:\n",
        "        count += 1\n",
        "    else:\n",
        "        bfs(i)\n",
        "        count += 1\n",
        "    \n",
        "print(count)"
      ],
      "metadata": {
        "colab": {
          "base_uri": "https://localhost:8080/"
        },
        "id": "f8GyxM-4dvEx",
        "outputId": "f2137166-39a4-4f9d-f662-44547421d2c5"
      },
      "execution_count": null,
      "outputs": [
        {
          "output_type": "stream",
          "name": "stdout",
          "text": [
            "6 8\n",
            "1 2\n",
            "2 5\n",
            "5 1\n",
            "3 4\n",
            "4 6\n",
            "5 4\n",
            "2 4\n",
            "2 3\n",
            "6\n"
          ]
        }
      ]
    },
    {
      "cell_type": "code",
      "source": [
        "n,m=map(int,input().split())\n",
        "\n",
        "graph=[[] for _ in range(n+1)]\n",
        "\n",
        "for i in range(1,m+1): # 그래프 만들기 \n",
        "    a,b=map(int,input().split())\n",
        "    graph[a].append(b)\n",
        "    graph[b].append(a)\n",
        "\n",
        "visited=[False]*(n+1)\n",
        "q=deque()\n",
        "\n",
        "def bfs(s):\n",
        "    visited[s]=True\n",
        "    q.append(s)\n",
        "\n",
        "    while len(q)!=0:\n",
        "        curr=q.popleft()\n",
        "        for i in graph[curr]:\n",
        "            if not visited[i]:\n",
        "                q.append(i)\n",
        "                visited[i]=True\n",
        "\n",
        "cnt=0\n",
        "for i in range(1,n+1):\n",
        "    if not visited[i]:\n",
        "        bfs(i)\n",
        "        cnt+=1\n",
        "print(cnt)"
      ],
      "metadata": {
        "colab": {
          "base_uri": "https://localhost:8080/"
        },
        "id": "qbHxl3Y4k-a4",
        "outputId": "d25a95ab-3836-41a2-e9d7-7c97d4f35295"
      },
      "execution_count": null,
      "outputs": [
        {
          "output_type": "stream",
          "name": "stdout",
          "text": [
            "6 8\n",
            "1 2\n",
            "2 5\n",
            "5 1\n",
            "3 4\n",
            "4 6\n",
            "5 4\n",
            "2 4\n",
            "2 3\n",
            "1\n"
          ]
        }
      ]
    }
  ]
}
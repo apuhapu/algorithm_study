{
  "nbformat": 4,
  "nbformat_minor": 0,
  "metadata": {
    "colab": {
      "name": "2252.ipynb",
      "provenance": [],
      "authorship_tag": "ABX9TyNRk0k4chuGbCPxAtnv/XM5",
      "include_colab_link": true
    },
    "kernelspec": {
      "name": "python3",
      "display_name": "Python 3"
    },
    "language_info": {
      "name": "python"
    }
  },
  "cells": [
    {
      "cell_type": "markdown",
      "metadata": {
        "id": "view-in-github",
        "colab_type": "text"
      },
      "source": [
        "<a href=\"https://colab.research.google.com/github/apuhapu/algorithm_study/blob/main/2252.ipynb\" target=\"_parent\"><img src=\"https://colab.research.google.com/assets/colab-badge.svg\" alt=\"Open In Colab\"/></a>"
      ]
    },
    {
      "cell_type": "markdown",
      "source": [
        "https://www.acmicpc.net/problem/2252"
      ],
      "metadata": {
        "id": "Xbr-wxZbPgrQ"
      }
    },
    {
      "cell_type": "code",
      "execution_count": 1,
      "metadata": {
        "colab": {
          "base_uri": "https://localhost:8080/"
        },
        "id": "Vd2fEFsrPe31",
        "outputId": "7d2a0637-9b2f-41e3-bf8e-4421df662204"
      },
      "outputs": [
        {
          "name": "stdout",
          "output_type": "stream",
          "text": [
            "4 2\n"
          ]
        }
      ],
      "source": [
        "n, m = map(int, input().rstrip().split())"
      ]
    },
    {
      "cell_type": "code",
      "source": [
        "graph = [[] for _ in range(n+1)]\n",
        "connect_cnt = [0] * (n+1)\n",
        "connect_cnt[0] = -1"
      ],
      "metadata": {
        "id": "IIt_K-p0Pukv"
      },
      "execution_count": 41,
      "outputs": []
    },
    {
      "cell_type": "code",
      "source": [
        "for _ in range(m):\n",
        "    a, b = map(int, input().rstrip().split())\n",
        "    graph[a].append(b)\n",
        "    connect_cnt[b] += 1"
      ],
      "metadata": {
        "colab": {
          "base_uri": "https://localhost:8080/"
        },
        "id": "JGbtlHAoQF3Z",
        "outputId": "b0754e5f-4221-45eb-fd80-d54f0f472daf"
      },
      "execution_count": 42,
      "outputs": [
        {
          "name": "stdout",
          "output_type": "stream",
          "text": [
            "4 2\n",
            "3 1\n"
          ]
        }
      ]
    },
    {
      "cell_type": "code",
      "source": [
        "from collections import deque"
      ],
      "metadata": {
        "id": "ceXh9pN4QoZT"
      },
      "execution_count": 33,
      "outputs": []
    },
    {
      "cell_type": "code",
      "source": [
        "que = deque([i for i in range(1,n+1)])\n",
        "que1 = deque()"
      ],
      "metadata": {
        "id": "iUs6D7GlQuFv"
      },
      "execution_count": 43,
      "outputs": []
    },
    {
      "cell_type": "code",
      "source": [
        "for _ in range(n):\n",
        "    x = que.popleft()\n",
        "    if connect_cnt[x] == 0:\n",
        "        que1.append(x)\n",
        "    else:\n",
        "        que.append(x)"
      ],
      "metadata": {
        "id": "uqoxFAVrQ6Y9"
      },
      "execution_count": 44,
      "outputs": []
    },
    {
      "cell_type": "code",
      "source": [
        "que"
      ],
      "metadata": {
        "colab": {
          "base_uri": "https://localhost:8080/"
        },
        "id": "sQ02rpVsScTp",
        "outputId": "12cd71cf-a318-419f-d71c-e1f22a0fcb4f"
      },
      "execution_count": 36,
      "outputs": [
        {
          "output_type": "execute_result",
          "data": {
            "text/plain": [
              "deque([1, 2])"
            ]
          },
          "metadata": {},
          "execution_count": 36
        }
      ]
    },
    {
      "cell_type": "code",
      "source": [
        "que1"
      ],
      "metadata": {
        "colab": {
          "base_uri": "https://localhost:8080/"
        },
        "id": "kuptUuNKSlYy",
        "outputId": "3d7ee54b-db4a-45b0-dbd6-7904a51ca3e0"
      },
      "execution_count": 37,
      "outputs": [
        {
          "output_type": "execute_result",
          "data": {
            "text/plain": [
              "deque([3, 4])"
            ]
          },
          "metadata": {},
          "execution_count": 37
        }
      ]
    },
    {
      "cell_type": "code",
      "source": [
        "output = []"
      ],
      "metadata": {
        "id": "slZvn8pOTRlx"
      },
      "execution_count": 45,
      "outputs": []
    },
    {
      "cell_type": "code",
      "source": [
        "graph"
      ],
      "metadata": {
        "colab": {
          "base_uri": "https://localhost:8080/"
        },
        "id": "ApbHpN5HTu-J",
        "outputId": "baca7cce-d311-4bd4-ca31-ced68fc7a81b"
      },
      "execution_count": 46,
      "outputs": [
        {
          "output_type": "execute_result",
          "data": {
            "text/plain": [
              "[[], [], [], [1], [2]]"
            ]
          },
          "metadata": {},
          "execution_count": 46
        }
      ]
    },
    {
      "cell_type": "markdown",
      "source": [
        "위상정렬"
      ],
      "metadata": {
        "id": "w7zEZIhHUz8o"
      }
    },
    {
      "cell_type": "code",
      "source": [
        "while que1:\n",
        "    x = que1.popleft()\n",
        "    for y in graph[x]:\n",
        "        connect_cnt[y] -= 1\n",
        "    for _ in range(len(que)):\n",
        "        xx = que.popleft()\n",
        "        if connect_cnt[xx] == 0:\n",
        "            que1.append(xx)\n",
        "        else:\n",
        "            que.append(xx)\n",
        "    print(que1)\n",
        "    output.append(x)"
      ],
      "metadata": {
        "colab": {
          "base_uri": "https://localhost:8080/"
        },
        "id": "EXlfsCbESmu0",
        "outputId": "75b1c3c5-cdbf-499a-9a5c-fcb815d8e338"
      },
      "execution_count": 47,
      "outputs": [
        {
          "output_type": "stream",
          "name": "stdout",
          "text": [
            "deque([4, 1])\n",
            "deque([1, 2])\n",
            "deque([2])\n",
            "deque([])\n"
          ]
        }
      ]
    },
    {
      "cell_type": "code",
      "source": [
        "print(*output)"
      ],
      "metadata": {
        "colab": {
          "base_uri": "https://localhost:8080/"
        },
        "id": "NZHgaXNzTZ9Y",
        "outputId": "c9ed7df9-34dc-4799-8169-339e5ad2beeb"
      },
      "execution_count": 48,
      "outputs": [
        {
          "output_type": "stream",
          "name": "stdout",
          "text": [
            "3 4 1 2\n"
          ]
        }
      ]
    },
    {
      "cell_type": "code",
      "source": [
        "from collections import deque\n",
        "import sys\n",
        "input = sys.stdin.readline\n",
        "\n",
        "# 입력\n",
        "n, m = map(int, input().rstrip().split())\n",
        "graph = [[] for _ in range(n+1)]\n",
        "connect_cnt = [0] * (n+1)\n",
        "connect_cnt[0] = -1\n",
        "\n",
        "for _ in range(m):\n",
        "    a, b = map(int, input().rstrip().split())\n",
        "    graph[a].append(b)\n",
        "    connect_cnt[b] += 1\n",
        "\n",
        "que = deque([i for i in range(1,n+1)])\n",
        "que1 = deque()\n",
        "\n",
        "# 초기 진입차수 0인 정점 que1에 넣기\n",
        "for _ in range(n):\n",
        "    x = que.popleft()\n",
        "    if connect_cnt[x] == 0:\n",
        "        que1.append(x)\n",
        "    else:\n",
        "        que.append(x)\n",
        "\n",
        "output = []\n",
        "\n",
        "# 위상 정렬\n",
        "while que1:\n",
        "    x = que1.popleft()\n",
        "    # x와 연결된 정점의 진입차수 -1\n",
        "    for y in graph[x]:\n",
        "        connect_cnt[y] -= 1\n",
        "    # 진입차수 0인 정점 que1에 넣기\n",
        "    for _ in range(len(que)):\n",
        "        xx = que.popleft()\n",
        "        if connect_cnt[xx] == 0:\n",
        "            que1.append(xx)\n",
        "        else:\n",
        "            que.append(xx)\n",
        "    # 끝난 정점 output에 추가\n",
        "    output.append(x)\n",
        "\n",
        "print(*output)"
      ],
      "metadata": {
        "id": "Jc8tTTHbUwv9"
      },
      "execution_count": null,
      "outputs": []
    },
    {
      "cell_type": "markdown",
      "source": [
        "성공"
      ],
      "metadata": {
        "id": "jmICSaiGWR_q"
      }
    },
    {
      "cell_type": "code",
      "source": [
        "from collections import deque\n",
        "import sys\n",
        "#input = sys.stdin.readline\n",
        "\n",
        "# 입력\n",
        "n, m = map(int, input().rstrip().split())\n",
        "graph = [[] for _ in range(n+1)]\n",
        "connect_cnt = [0] * (n+1)\n",
        "connect_cnt[0] = -1\n",
        "\n",
        "for _ in range(m):\n",
        "    a, b = map(int, input().rstrip().split())\n",
        "    graph[a].append(b)\n",
        "    connect_cnt[b] += 1\n",
        "\n",
        "\n",
        "que1 = deque()\n",
        "\n",
        "# 초기 진입차수 0인 정점 que1에 넣기\n",
        "for x in range(1,n+1): \n",
        "    if connect_cnt[x] == 0:\n",
        "        que1.append(x)\n",
        "\n",
        "output = []\n",
        "\n",
        "# 위상 정렬\n",
        "while que1:\n",
        "    x = que1.popleft()\n",
        "    # x와 연결된 정점의 진입차수 -1\n",
        "    for y in graph[x]:\n",
        "        connect_cnt[y] -= 1\n",
        "        if connect_cnt[y] == 0:\n",
        "            que1.append(y)\n",
        "\n",
        "    # 끝난 정점 output에 추가\n",
        "    output.append(x)\n",
        "\n",
        "print(*output)"
      ],
      "metadata": {
        "colab": {
          "base_uri": "https://localhost:8080/"
        },
        "id": "7lhtVoOgXJ50",
        "outputId": "077745c1-1ed1-4af3-f33a-0355aa175c10"
      },
      "execution_count": 51,
      "outputs": [
        {
          "output_type": "stream",
          "name": "stdout",
          "text": [
            "4 2\n",
            "4 2\n",
            "3 1\n",
            "3 4 1 2\n"
          ]
        }
      ]
    },
    {
      "cell_type": "markdown",
      "source": [
        "진입차수를 낮춘 뒤 비교하는것이 더 효율적임"
      ],
      "metadata": {
        "id": "XueuH4dgXJQA"
      }
    }
  ]
}
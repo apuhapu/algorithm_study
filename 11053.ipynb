{
  "nbformat": 4,
  "nbformat_minor": 0,
  "metadata": {
    "colab": {
      "name": "11053.ipynb",
      "provenance": [],
      "authorship_tag": "ABX9TyNJ++KKd6qe/aJXqztR94by",
      "include_colab_link": true
    },
    "kernelspec": {
      "name": "python3",
      "display_name": "Python 3"
    },
    "language_info": {
      "name": "python"
    }
  },
  "cells": [
    {
      "cell_type": "markdown",
      "metadata": {
        "id": "view-in-github",
        "colab_type": "text"
      },
      "source": [
        "<a href=\"https://colab.research.google.com/github/apuhapu/algorithm_study/blob/main/11053.ipynb\" target=\"_parent\"><img src=\"https://colab.research.google.com/assets/colab-badge.svg\" alt=\"Open In Colab\"/></a>"
      ]
    },
    {
      "cell_type": "markdown",
      "source": [
        "https://www.acmicpc.net/problem/11053"
      ],
      "metadata": {
        "id": "PUdtdeMx1O67"
      }
    },
    {
      "cell_type": "code",
      "execution_count": 1,
      "metadata": {
        "colab": {
          "base_uri": "https://localhost:8080/"
        },
        "id": "25R7Abbi1OIe",
        "outputId": "d8e7891d-c149-4268-b8c0-dd31b83b51d2"
      },
      "outputs": [
        {
          "output_type": "stream",
          "name": "stdout",
          "text": [
            "6\n",
            "10 20 10 30 20 50\n",
            "4\n"
          ]
        }
      ],
      "source": [
        "n = int(input().rstrip())\n",
        "lst = list(map(int, input().rstrip().split()))\n",
        "se = set(lst)\n",
        "print(len(se))"
      ]
    },
    {
      "cell_type": "markdown",
      "source": [
        "부분 수열은 원래 수열의 순서도 만족해야함\n",
        "\n",
        "위 방법은 원래 수열의 순서를 고려 X"
      ],
      "metadata": {
        "id": "kT9rNZEX2JRi"
      }
    },
    {
      "cell_type": "code",
      "source": [
        "dp = [0] * n"
      ],
      "metadata": {
        "id": "n5zYZkTZ2M05"
      },
      "execution_count": 2,
      "outputs": []
    },
    {
      "cell_type": "code",
      "source": [
        "for i in range(n):\n",
        "    dp[i] = 1\n",
        "    for j in range(i):\n",
        "        # i보다 idx가 작은 놈들 중에서 lst값이 더 작고 dp의 값(부분수열의 길이)이 더 큰놈\n",
        "        if lst[j] < lst[i] and dp[i] < dp[j] + 1: # i를 추가했을 때  + 1\n",
        "            dp[i] = dp[j] + 1\n",
        "\n",
        "print(max(dp))"
      ],
      "metadata": {
        "colab": {
          "base_uri": "https://localhost:8080/"
        },
        "id": "eB316T0x-ug1",
        "outputId": "02090f56-7c9b-45f5-b4c9-3da3d67b0104"
      },
      "execution_count": 3,
      "outputs": [
        {
          "output_type": "stream",
          "name": "stdout",
          "text": [
            "4\n"
          ]
        }
      ]
    },
    {
      "cell_type": "markdown",
      "source": [
        "제출본"
      ],
      "metadata": {
        "id": "TRo08_AdAtDn"
      }
    },
    {
      "cell_type": "code",
      "source": [
        "import sys\n",
        "input = sys.stdin.readline\n",
        "n = int(input().rstrip())\n",
        "lst = list(map(int, input().rstrip().split()))\n",
        "dp = [0] * n\n",
        "\n",
        "for i in range(n):\n",
        "    dp[i] = 1\n",
        "    for j in range(i):\n",
        "        # i보다 idx가 작은 놈들 중에서 lst값이 더 작고 dp의 값(부분수열의 길이)이 더 큰놈\n",
        "        if lst[j] < lst[i] and dp[i] < dp[j] + 1: # i를 추가했을 때  + 1\n",
        "            dp[i] = dp[j] + 1\n",
        "\n",
        "print(max(dp))"
      ],
      "metadata": {
        "id": "vH8Qcl0wAsjr"
      },
      "execution_count": null,
      "outputs": []
    }
  ]
}
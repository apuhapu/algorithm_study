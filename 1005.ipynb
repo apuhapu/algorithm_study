{
  "nbformat": 4,
  "nbformat_minor": 0,
  "metadata": {
    "colab": {
      "name": "1005.ipynb",
      "provenance": [],
      "authorship_tag": "ABX9TyNvb9EDxL9HXbtF13lLAKRT",
      "include_colab_link": true
    },
    "kernelspec": {
      "name": "python3",
      "display_name": "Python 3"
    },
    "language_info": {
      "name": "python"
    }
  },
  "cells": [
    {
      "cell_type": "markdown",
      "metadata": {
        "id": "view-in-github",
        "colab_type": "text"
      },
      "source": [
        "<a href=\"https://colab.research.google.com/github/apuhapu/algorithm_study/blob/main/1005.ipynb\" target=\"_parent\"><img src=\"https://colab.research.google.com/assets/colab-badge.svg\" alt=\"Open In Colab\"/></a>"
      ]
    },
    {
      "cell_type": "markdown",
      "source": [
        "https://www.acmicpc.net/problem/1005"
      ],
      "metadata": {
        "id": "V4ql7RsabKA3"
      }
    },
    {
      "cell_type": "code",
      "execution_count": 43,
      "metadata": {
        "colab": {
          "base_uri": "https://localhost:8080/"
        },
        "id": "PJO28aijYMRN",
        "outputId": "34aba9b9-d044-4b86-874e-adff721284ce"
      },
      "outputs": [
        {
          "name": "stdout",
          "output_type": "stream",
          "text": [
            "4 4\n",
            "10 1 100 10\n",
            "1 2\n",
            "1 3\n",
            "2 4\n",
            "3 4\n",
            "4\n"
          ]
        }
      ],
      "source": [
        "n, k  = map(int, input().rstrip().split())\n",
        "time = [0] + list(map(int, input().rstrip().split()))\n",
        "graph = [[] for _ in range(n+1)]\n",
        "idx = [0] * (n+1)\n",
        "for _ in range(k):\n",
        "    a, b = map(int, input().rstrip().split())\n",
        "    graph[a].append(b)\n",
        "    idx[b] += 1\n",
        "\n",
        "w = int(input())"
      ]
    },
    {
      "cell_type": "code",
      "source": [
        "from collections import deque"
      ],
      "metadata": {
        "id": "lXlRKmTUapV6"
      },
      "execution_count": 38,
      "outputs": []
    },
    {
      "cell_type": "code",
      "source": [
        "time"
      ],
      "metadata": {
        "colab": {
          "base_uri": "https://localhost:8080/"
        },
        "id": "t8-ZBVZtcPLu",
        "outputId": "712e3b01-18b1-45d5-f961-1f682a95daa0"
      },
      "execution_count": 44,
      "outputs": [
        {
          "output_type": "execute_result",
          "data": {
            "text/plain": [
              "[0, 10, 1, 100, 10]"
            ]
          },
          "metadata": {},
          "execution_count": 44
        }
      ]
    },
    {
      "cell_type": "code",
      "source": [
        "que = deque()\n",
        "for i in range(1,n+1):\n",
        "    if idx[i] == 0:\n",
        "        que.append((i,0))"
      ],
      "metadata": {
        "id": "EJHkY2wca2Ya"
      },
      "execution_count": 45,
      "outputs": []
    },
    {
      "cell_type": "code",
      "source": [
        "que"
      ],
      "metadata": {
        "colab": {
          "base_uri": "https://localhost:8080/"
        },
        "id": "h2EgxFAYwpp_",
        "outputId": "b14b1c3b-5303-4ebc-f232-90da22360898"
      },
      "execution_count": 46,
      "outputs": [
        {
          "output_type": "execute_result",
          "data": {
            "text/plain": [
              "deque([(1, 0)])"
            ]
          },
          "metadata": {},
          "execution_count": 46
        }
      ]
    },
    {
      "cell_type": "code",
      "source": [
        "while que:\n",
        "    x, t = que.popleft()\n",
        "    t += time[x]\n",
        "    for y in graph[x]:\n",
        "        idx[y] -= 1\n",
        "        if idx[y] == 0:\n",
        "            if y == w:\n",
        "                print(t+time[w])\n",
        "                break\n",
        "            else:\n",
        "                que.append((y,t))"
      ],
      "metadata": {
        "colab": {
          "base_uri": "https://localhost:8080/"
        },
        "id": "nKfHMb89bAYc",
        "outputId": "8a200ef4-de1a-48fa-8411-0f7b235f05f9"
      },
      "execution_count": 47,
      "outputs": [
        {
          "output_type": "stream",
          "name": "stdout",
          "text": [
            "10\n",
            "11\n",
            "110\n",
            "120\n"
          ]
        }
      ]
    },
    {
      "cell_type": "markdown",
      "source": [
        " 제출안"
      ],
      "metadata": {
        "id": "nOHzAnfwxIeq"
      }
    },
    {
      "cell_type": "code",
      "source": [
        "from collections import deque\n",
        "import sys\n",
        "#input = sys.stdin.readline\n",
        "\n",
        "t = int(input())\n",
        "for _ in range(t):\n",
        "    # 입력파트\n",
        "    n, k  = map(int, input().rstrip().split())\n",
        "      # 시간 배열\n",
        "    time = [0] + list(map(int, input().rstrip().split()))\n",
        "    graph = [[] for _ in range(n+1)]\n",
        "      # 진입차수\n",
        "    idx = [0] * (n+1)\n",
        "    for _ in range(k):\n",
        "        a, b = map(int, input().rstrip().split())\n",
        "        graph[a].append(b)\n",
        "        idx[b] += 1\n",
        "\n",
        "    w = int(input())\n",
        "    # 진입차수 0인 정점 que에 추가\n",
        "    que = deque()\n",
        "    for i in range(1,n+1):\n",
        "        if idx[i] == 0:\n",
        "            que.append((i,0))\n",
        "\n",
        "    # 위상정렬\n",
        "    while que:\n",
        "        x, t = que.popleft()\n",
        "        t += time[x]\n",
        "        for y in graph[x]:\n",
        "            idx[y] -= 1\n",
        "            if idx[y] == 0:\n",
        "                if y == w:\n",
        "                    print(t+time[w])\n",
        "                    break\n",
        "                else:\n",
        "                    que.append((y,t))"
      ],
      "metadata": {
        "colab": {
          "base_uri": "https://localhost:8080/"
        },
        "id": "QrrsG-ZcxJ21",
        "outputId": "566657d2-e3fb-4676-f71b-4198e7be5100"
      },
      "execution_count": 48,
      "outputs": [
        {
          "output_type": "stream",
          "name": "stdout",
          "text": [
            "1\n",
            "6 6\n",
            "10 5 1 1 9 8\n",
            "1 2\n",
            "1 4\n",
            "2 3\n",
            "4 5\n",
            "3 6\n",
            "5 6\n",
            "6\n",
            "28\n"
          ]
        }
      ]
    },
    {
      "cell_type": "markdown",
      "source": [
        "오답\n",
        "\n",
        "w의 차수가 0이 되게 만드는 정점의 시간이 최소 건설시간이 아닐 수도 있음"
      ],
      "metadata": {
        "id": "TvLR04aGyGLG"
      }
    },
    {
      "cell_type": "code",
      "source": [
        "from collections import deque\n",
        "import sys\n",
        "#input = sys.stdin.readline\n",
        "\n",
        "t = int(input())\n",
        "for _ in range(t):\n",
        "    # 입력파트\n",
        "    n, k  = map(int, input().rstrip().split())\n",
        "      # 시간 배열\n",
        "    time = [0] + list(map(int, input().rstrip().split()))\n",
        "    graph = [[] for _ in range(n+1)]\n",
        "      # 진입차수\n",
        "    idx = [0] * (n+1)\n",
        "    for _ in range(k):\n",
        "        a, b = map(int, input().rstrip().split())\n",
        "        graph[a].append(b)\n",
        "        idx[b] += 1\n",
        "\n",
        "    w = int(input())\n",
        "    # 진입차수 0인 정점 que에 추가\n",
        "    que = deque()\n",
        "    for i in range(1,n+1):\n",
        "        if idx[i] == 0:\n",
        "            que.append((i,0))\n",
        "    output = 0\n",
        "    # 위상정렬\n",
        "    while que:\n",
        "        x, t = que.popleft()\n",
        "        t += time[x]\n",
        "        for y in graph[x]:\n",
        "            idx[y] -= 1\n",
        "            if idx[y] == 0:\n",
        "                if y == w:\n",
        "                    output = max(output, t)\n",
        "                    break\n",
        "                else:\n",
        "                    que.append((y,t))\n",
        "            if y == w:\n",
        "                output = max(output, t)\n",
        "\n",
        "    print(output+time[w])"
      ],
      "metadata": {
        "colab": {
          "base_uri": "https://localhost:8080/"
        },
        "id": "YAMlFi0Ly2QC",
        "outputId": "96b29c8c-6843-4a54-f28a-a2ef1226453f"
      },
      "execution_count": 59,
      "outputs": [
        {
          "output_type": "stream",
          "name": "stdout",
          "text": [
            "1\n",
            "7 6\n",
            "8 1 1 1 1 1 1\n",
            "1 5\n",
            "2 5\n",
            "3 6\n",
            "4 6\n",
            "5 7\n",
            "6 7\n",
            "7\n",
            "3\n"
          ]
        }
      ]
    },
    {
      "cell_type": "code",
      "source": [
        "print(output)"
      ],
      "metadata": {
        "colab": {
          "base_uri": "https://localhost:8080/"
        },
        "id": "X5NJeFP535Gl",
        "outputId": "88d6acb2-90cd-40ab-f12a-14d99875b040"
      },
      "execution_count": 60,
      "outputs": [
        {
          "output_type": "stream",
          "name": "stdout",
          "text": [
            "2\n"
          ]
        }
      ]
    },
    {
      "cell_type": "code",
      "source": [
        "# 입력파트\n",
        "n, k  = map(int, input().rstrip().split())\n",
        "  # 시간 배열\n",
        "time = [0] + list(map(int, input().rstrip().split()))\n",
        "graph = [[] for _ in range(n+1)]\n",
        "  # 진입차수\n",
        "idx = [0] * (n+1)\n",
        "for _ in range(k):\n",
        "    a, b = map(int, input().rstrip().split())\n",
        "    graph[a].append(b)\n",
        "    idx[b] += 1\n",
        "\n",
        "w = int(input())"
      ],
      "metadata": {
        "colab": {
          "base_uri": "https://localhost:8080/"
        },
        "id": "IHQHFREwJieR",
        "outputId": "e0c75d16-d1d1-4408-ab4c-09a22e3f7fd6"
      },
      "execution_count": 69,
      "outputs": [
        {
          "name": "stdout",
          "output_type": "stream",
          "text": [
            "7 6\n",
            "8 1 1 1 1 1 1\n",
            "1 5\n",
            "2 5\n",
            "3 6\n",
            "4 6\n",
            "5 7\n",
            "6 7\n",
            "7\n"
          ]
        }
      ]
    },
    {
      "cell_type": "code",
      "source": [
        "time"
      ],
      "metadata": {
        "colab": {
          "base_uri": "https://localhost:8080/"
        },
        "id": "y-qZ4OKdJuHp",
        "outputId": "6c0800f9-4caf-4c4b-cde5-c0b672d7b81d"
      },
      "execution_count": 70,
      "outputs": [
        {
          "output_type": "execute_result",
          "data": {
            "text/plain": [
              "[0, 8, 1, 1, 1, 1, 1, 1]"
            ]
          },
          "metadata": {},
          "execution_count": 70
        }
      ]
    },
    {
      "cell_type": "code",
      "source": [
        "graph"
      ],
      "metadata": {
        "colab": {
          "base_uri": "https://localhost:8080/"
        },
        "id": "LOh5vVE1JvZR",
        "outputId": "9e97a513-c982-40d0-f18c-cbe9bf222017"
      },
      "execution_count": 71,
      "outputs": [
        {
          "output_type": "execute_result",
          "data": {
            "text/plain": [
              "[[], [5], [5], [6], [6], [7], [7], []]"
            ]
          },
          "metadata": {},
          "execution_count": 71
        }
      ]
    },
    {
      "cell_type": "code",
      "source": [
        "idx"
      ],
      "metadata": {
        "colab": {
          "base_uri": "https://localhost:8080/"
        },
        "id": "AgpW0pX1Jx5_",
        "outputId": "82c425e6-a538-4e68-f14f-cf5c56ee2f5e"
      },
      "execution_count": 72,
      "outputs": [
        {
          "output_type": "execute_result",
          "data": {
            "text/plain": [
              "[0, 0, 0, 0, 0, 2, 2, 2]"
            ]
          },
          "metadata": {},
          "execution_count": 72
        }
      ]
    },
    {
      "cell_type": "code",
      "source": [
        "# 진입차수 0인 정점 que에 추가\n",
        "que = deque()\n",
        "for i in range(1,n+1):\n",
        "    if idx[i] == 0:\n",
        "        que.append((i,0))\n",
        "output = 0"
      ],
      "metadata": {
        "id": "nYlfmrYHJop-"
      },
      "execution_count": 73,
      "outputs": []
    },
    {
      "cell_type": "code",
      "source": [
        "que"
      ],
      "metadata": {
        "colab": {
          "base_uri": "https://localhost:8080/"
        },
        "id": "gRHvPvNlJ4u0",
        "outputId": "ec0fbae5-1954-4598-863f-c4cec5fad2b6"
      },
      "execution_count": 74,
      "outputs": [
        {
          "output_type": "execute_result",
          "data": {
            "text/plain": [
              "deque([(1, 0), (2, 0), (3, 0), (4, 0)])"
            ]
          },
          "metadata": {},
          "execution_count": 74
        }
      ]
    },
    {
      "cell_type": "code",
      "source": [
        "output = [0] * (n+1)"
      ],
      "metadata": {
        "id": "NDcVXXtgNJUB"
      },
      "execution_count": 75,
      "outputs": []
    },
    {
      "cell_type": "code",
      "source": [
        "# 위상정렬\n",
        "while que:\n",
        "    x, t = que.popleft()\n",
        "    t += time[x]\n",
        "    for y in graph[x]:\n",
        "        idx[y] -= 1\n",
        "        output[y] = max(output[y], t)\n",
        "\n",
        "        if idx[y] == 0:\n",
        "            if y == w:                \n",
        "                break\n",
        "            else:\n",
        "                que.append((y,output[y]))\n",
        "\n",
        "    print(que)"
      ],
      "metadata": {
        "colab": {
          "base_uri": "https://localhost:8080/",
          "height": 321
        },
        "id": "LAGRCKHlJ3j5",
        "outputId": "ce73a4ac-f6e2-429e-aef8-88b6c97fe118"
      },
      "execution_count": 76,
      "outputs": [
        {
          "output_type": "stream",
          "name": "stdout",
          "text": [
            "deque([(2, 0), (3, 0), (4, 0)])\n",
            "deque([(3, 0), (4, 0), (5, 8)])\n",
            "deque([(4, 0), (5, 8)])\n",
            "deque([(5, 8), (6, 1)])\n",
            "deque([(6, 1)])\n",
            "deque([])\n"
          ]
        },
        {
          "output_type": "error",
          "ename": "TypeError",
          "evalue": "ignored",
          "traceback": [
            "\u001b[0;31m---------------------------------------------------------------------------\u001b[0m",
            "\u001b[0;31mTypeError\u001b[0m                                 Traceback (most recent call last)",
            "\u001b[0;32m<ipython-input-76-c7189ce4f98f>\u001b[0m in \u001b[0;36m<module>\u001b[0;34m()\u001b[0m\n\u001b[1;32m     14\u001b[0m \u001b[0;34m\u001b[0m\u001b[0m\n\u001b[1;32m     15\u001b[0m     \u001b[0mprint\u001b[0m\u001b[0;34m(\u001b[0m\u001b[0mque\u001b[0m\u001b[0;34m)\u001b[0m\u001b[0;34m\u001b[0m\u001b[0;34m\u001b[0m\u001b[0m\n\u001b[0;32m---> 16\u001b[0;31m \u001b[0mprint\u001b[0m\u001b[0;34m(\u001b[0m\u001b[0moutput\u001b[0m\u001b[0;34m+\u001b[0m\u001b[0mtime\u001b[0m\u001b[0;34m[\u001b[0m\u001b[0mw\u001b[0m\u001b[0;34m]\u001b[0m\u001b[0;34m)\u001b[0m\u001b[0;34m\u001b[0m\u001b[0;34m\u001b[0m\u001b[0m\n\u001b[0m",
            "\u001b[0;31mTypeError\u001b[0m: can only concatenate list (not \"int\") to list"
          ]
        }
      ]
    },
    {
      "cell_type": "code",
      "source": [
        "print(output[w]+time[w])"
      ],
      "metadata": {
        "colab": {
          "base_uri": "https://localhost:8080/"
        },
        "id": "RLm4HurqOGw_",
        "outputId": "c552ddc3-9aa4-4140-8bee-a512ece23eb2"
      },
      "execution_count": 77,
      "outputs": [
        {
          "output_type": "stream",
          "name": "stdout",
          "text": [
            "10\n"
          ]
        }
      ]
    },
    {
      "cell_type": "code",
      "source": [
        "from collections import deque\n",
        "import sys\n",
        "input = sys.stdin.readline\n",
        "\n",
        "t = int(input())\n",
        "for _ in range(t):\n",
        "    # 입력파트\n",
        "    n, k  = map(int, input().rstrip().split())\n",
        "\n",
        "      # 시간 배열\n",
        "    time = [0] + list(map(int, input().rstrip().split()))\n",
        "    graph = [[] for _ in range(n+1)]\n",
        "\n",
        "      # 진입차수\n",
        "    idx = [0] * (n+1)\n",
        "    for _ in range(k):\n",
        "        a, b = map(int, input().rstrip().split())\n",
        "        graph[a].append(b)\n",
        "        idx[b] += 1\n",
        "\n",
        "    w = int(input())\n",
        "\n",
        "    # 진입차수 0인 정점 que에 추가\n",
        "    que = deque()\n",
        "    for i in range(1,n+1):\n",
        "        if idx[i] == 0:\n",
        "            que.append((i,0))\n",
        "\n",
        "    output = [0] * (n+1)\n",
        "\n",
        "    # 위상정렬\n",
        "    while que:\n",
        "        x, t = que.popleft()\n",
        "        t += time[x]\n",
        "        for y in graph[x]:\n",
        "            idx[y] -= 1\n",
        "            output[y] = max(output[y], t)\n",
        "\n",
        "            if idx[y] == 0:\n",
        "                if y == w:                \n",
        "                    break\n",
        "                else:\n",
        "                    que.append((y,output[y]))\n",
        "\n",
        "        print(que)\n",
        "    print(output[w]+time[w])"
      ],
      "metadata": {
        "id": "YAIEX69UONIX"
      },
      "execution_count": null,
      "outputs": []
    },
    {
      "cell_type": "markdown",
      "source": [
        "통과"
      ],
      "metadata": {
        "id": "Wm30jnlpOr5t"
      }
    }
  ]
}
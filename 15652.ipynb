{
  "nbformat": 4,
  "nbformat_minor": 0,
  "metadata": {
    "colab": {
      "name": "15652.ipynb",
      "provenance": [],
      "authorship_tag": "ABX9TyPRH+IPEk+EhJtBnhoenEjo",
      "include_colab_link": true
    },
    "kernelspec": {
      "name": "python3",
      "display_name": "Python 3"
    },
    "language_info": {
      "name": "python"
    }
  },
  "cells": [
    {
      "cell_type": "markdown",
      "metadata": {
        "id": "view-in-github",
        "colab_type": "text"
      },
      "source": [
        "<a href=\"https://colab.research.google.com/github/apuhapu/algorithm_study/blob/main/15652.ipynb\" target=\"_parent\"><img src=\"https://colab.research.google.com/assets/colab-badge.svg\" alt=\"Open In Colab\"/></a>"
      ]
    },
    {
      "cell_type": "markdown",
      "source": [
        "https://www.acmicpc.net/problem/15652"
      ],
      "metadata": {
        "id": "DuIreUEhsFZg"
      }
    },
    {
      "cell_type": "code",
      "source": [
        "n, m = map(int, input().split())\n",
        "visited = [False] * (n+1)\n",
        "answer = []"
      ],
      "metadata": {
        "colab": {
          "base_uri": "https://localhost:8080/"
        },
        "id": "yBpi5geCsEvk",
        "outputId": "a9e83a31-140b-461f-8245-6ffc830406cc"
      },
      "execution_count": 24,
      "outputs": [
        {
          "name": "stdout",
          "output_type": "stream",
          "text": [
            "3 3\n"
          ]
        }
      ]
    },
    {
      "cell_type": "code",
      "source": [
        "answer = []\n",
        "visited = [False] * (n+1)"
      ],
      "metadata": {
        "id": "iGsm1kaSvkA-"
      },
      "execution_count": 51,
      "outputs": []
    },
    {
      "cell_type": "code",
      "source": [
        "def series(lth, n, m):\n",
        "    if lth == m:\n",
        "        print(' '.join(map(str, answer)))\n",
        "        \n",
        "    else:\n",
        "        if not answer:\n",
        "            k = 1\n",
        "        else:\n",
        "            k = answer[-1]\n",
        "        for i in range(k, n+1):\n",
        "            if not visited[i]:\n",
        "                if lth == m - 1:\n",
        "                    visited[i] = True\n",
        "                answer.append(i)\n",
        "                series(lth+1, n, m)\n",
        "                answer.pop()\n",
        "                visited[i] = False"
      ],
      "metadata": {
        "id": "dw74sudnsPOn"
      },
      "execution_count": 50,
      "outputs": []
    },
    {
      "cell_type": "code",
      "source": [
        "series(0, n, m)"
      ],
      "metadata": {
        "colab": {
          "base_uri": "https://localhost:8080/"
        },
        "id": "Z2goGwuhs5gG",
        "outputId": "027dc610-e717-463f-9664-0495bc037800"
      },
      "execution_count": 52,
      "outputs": [
        {
          "output_type": "stream",
          "name": "stdout",
          "text": [
            "1 1 1\n",
            "1 1 2\n",
            "1 1 3\n",
            "1 2 2\n",
            "1 2 3\n",
            "1 3 3\n",
            "2 2 2\n",
            "2 2 3\n",
            "2 3 3\n",
            "3 3 3\n"
          ]
        }
      ]
    },
    {
      "cell_type": "code",
      "source": [
        "n, m = map(int, input().split())\n",
        "visited = [False] * (n+1)\n",
        "answer = []"
      ],
      "metadata": {
        "colab": {
          "base_uri": "https://localhost:8080/"
        },
        "id": "mspL7kMM0Die",
        "outputId": "5cefa1e0-4fa2-4919-97df-f023999f364f"
      },
      "execution_count": 53,
      "outputs": [
        {
          "name": "stdout",
          "output_type": "stream",
          "text": [
            "5 4\n"
          ]
        }
      ]
    },
    {
      "cell_type": "code",
      "source": [
        "series(0, n, m)"
      ],
      "metadata": {
        "colab": {
          "base_uri": "https://localhost:8080/"
        },
        "id": "g1ii54TB0Kr4",
        "outputId": "aa28a7a5-94ca-404f-ca42-581b6aa784e6"
      },
      "execution_count": 54,
      "outputs": [
        {
          "output_type": "stream",
          "name": "stdout",
          "text": [
            "1 1 1 1\n",
            "1 1 1 2\n",
            "1 1 1 3\n",
            "1 1 1 4\n",
            "1 1 1 5\n",
            "1 1 2 2\n",
            "1 1 2 3\n",
            "1 1 2 4\n",
            "1 1 2 5\n",
            "1 1 3 3\n",
            "1 1 3 4\n",
            "1 1 3 5\n",
            "1 1 4 4\n",
            "1 1 4 5\n",
            "1 1 5 5\n",
            "1 2 2 2\n",
            "1 2 2 3\n",
            "1 2 2 4\n",
            "1 2 2 5\n",
            "1 2 3 3\n",
            "1 2 3 4\n",
            "1 2 3 5\n",
            "1 2 4 4\n",
            "1 2 4 5\n",
            "1 2 5 5\n",
            "1 3 3 3\n",
            "1 3 3 4\n",
            "1 3 3 5\n",
            "1 3 4 4\n",
            "1 3 4 5\n",
            "1 3 5 5\n",
            "1 4 4 4\n",
            "1 4 4 5\n",
            "1 4 5 5\n",
            "1 5 5 5\n",
            "2 2 2 2\n",
            "2 2 2 3\n",
            "2 2 2 4\n",
            "2 2 2 5\n",
            "2 2 3 3\n",
            "2 2 3 4\n",
            "2 2 3 5\n",
            "2 2 4 4\n",
            "2 2 4 5\n",
            "2 2 5 5\n",
            "2 3 3 3\n",
            "2 3 3 4\n",
            "2 3 3 5\n",
            "2 3 4 4\n",
            "2 3 4 5\n",
            "2 3 5 5\n",
            "2 4 4 4\n",
            "2 4 4 5\n",
            "2 4 5 5\n",
            "2 5 5 5\n",
            "3 3 3 3\n",
            "3 3 3 4\n",
            "3 3 3 5\n",
            "3 3 4 4\n",
            "3 3 4 5\n",
            "3 3 5 5\n",
            "3 4 4 4\n",
            "3 4 4 5\n",
            "3 4 5 5\n",
            "3 5 5 5\n",
            "4 4 4 4\n",
            "4 4 4 5\n",
            "4 4 5 5\n",
            "4 5 5 5\n",
            "5 5 5 5\n"
          ]
        }
      ]
    },
    {
      "cell_type": "markdown",
      "source": [
        "중복이 허용되므로 visites를 그냥 True False 하면 안됨\n",
        "그냥 없이 해도 상관 없음"
      ],
      "metadata": {
        "id": "yxHv7XqHz0dx"
      }
    },
    {
      "cell_type": "code",
      "source": [
        "n, m = map(int, input().split())\n",
        "answer = []\n",
        "\n",
        "def series(lth, n, m):\n",
        "    if lth == m:\n",
        "        print(' '.join(map(str, answer)))\n",
        "        \n",
        "    else:\n",
        "        if not answer:\n",
        "            k = 1\n",
        "        else:\n",
        "            k = answer[-1]\n",
        "        for i in range(k, n+1):\n",
        "            if not visited[i]:\n",
        "                answer.append(i)\n",
        "                series(lth+1, n, m)\n",
        "                answer.pop()\n",
        "\n",
        "series(0,n,m)"
      ],
      "metadata": {
        "colab": {
          "base_uri": "https://localhost:8080/"
        },
        "id": "IByjdU3h1qfE",
        "outputId": "fc865ad7-6ef6-450e-be48-026cc2b01b41"
      },
      "execution_count": 58,
      "outputs": [
        {
          "output_type": "stream",
          "name": "stdout",
          "text": [
            "3 3\n",
            "1 1 1\n",
            "1 1 2\n",
            "1 1 3\n",
            "1 2 2\n",
            "1 2 3\n",
            "1 3 3\n",
            "2 2 2\n",
            "2 2 3\n",
            "2 3 3\n",
            "3 3 3\n"
          ]
        }
      ]
    }
  ]
}
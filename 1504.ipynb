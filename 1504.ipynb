{
  "nbformat": 4,
  "nbformat_minor": 0,
  "metadata": {
    "colab": {
      "name": "1504.ipynb",
      "provenance": [],
      "authorship_tag": "ABX9TyOlZqUMZ/vT8sIuwcWv5kM+",
      "include_colab_link": true
    },
    "kernelspec": {
      "name": "python3",
      "display_name": "Python 3"
    },
    "language_info": {
      "name": "python"
    }
  },
  "cells": [
    {
      "cell_type": "markdown",
      "metadata": {
        "id": "view-in-github",
        "colab_type": "text"
      },
      "source": [
        "<a href=\"https://colab.research.google.com/github/apuhapu/algorithm_study/blob/main/1504.ipynb\" target=\"_parent\"><img src=\"https://colab.research.google.com/assets/colab-badge.svg\" alt=\"Open In Colab\"/></a>"
      ]
    },
    {
      "cell_type": "markdown",
      "source": [
        "https://www.acmicpc.net/problem/1504"
      ],
      "metadata": {
        "id": "TNIHaUvQASbr"
      }
    },
    {
      "cell_type": "code",
      "execution_count": 1,
      "metadata": {
        "id": "ORmZh67dAOVu",
        "colab": {
          "base_uri": "https://localhost:8080/",
          "height": 523
        },
        "outputId": "337eb78e-c898-4a6f-99b9-e94eb2f440f9"
      },
      "outputs": [
        {
          "name": "stdout",
          "output_type": "stream",
          "text": [
            "4 6\n",
            "1 2 3\n",
            "2 3 3\n",
            "3 4 1\n",
            "1 3 5\n",
            "2 4 5\n",
            "1 4 4\n",
            "2 3\n"
          ]
        },
        {
          "output_type": "error",
          "ename": "NameError",
          "evalue": "ignored",
          "traceback": [
            "\u001b[0;31m---------------------------------------------------------------------------\u001b[0m",
            "\u001b[0;31mNameError\u001b[0m                                 Traceback (most recent call last)",
            "\u001b[0;32m<ipython-input-1-19322300b7cc>\u001b[0m in \u001b[0;36m<module>\u001b[0;34m()\u001b[0m\n\u001b[1;32m     35\u001b[0m     \u001b[0;32mreturn\u001b[0m \u001b[0mdis\u001b[0m\u001b[0;34m\u001b[0m\u001b[0;34m\u001b[0m\u001b[0m\n\u001b[1;32m     36\u001b[0m \u001b[0;34m\u001b[0m\u001b[0m\n\u001b[0;32m---> 37\u001b[0;31m \u001b[0moutput1\u001b[0m \u001b[0;34m=\u001b[0m \u001b[0mdijkstra\u001b[0m\u001b[0;34m(\u001b[0m\u001b[0mgraph\u001b[0m\u001b[0;34m,\u001b[0m \u001b[0mstart\u001b[0m\u001b[0;34m)\u001b[0m\u001b[0;34m\u001b[0m\u001b[0;34m\u001b[0m\u001b[0m\n\u001b[0m\u001b[1;32m     38\u001b[0m \u001b[0moutput2\u001b[0m \u001b[0;34m=\u001b[0m \u001b[0mdijkstra\u001b[0m\u001b[0;34m(\u001b[0m\u001b[0mgraph\u001b[0m\u001b[0;34m,\u001b[0m \u001b[0mv1\u001b[0m\u001b[0;34m)\u001b[0m\u001b[0;34m\u001b[0m\u001b[0;34m\u001b[0m\u001b[0m\n\u001b[1;32m     39\u001b[0m \u001b[0moutput3\u001b[0m \u001b[0;34m=\u001b[0m \u001b[0mdijkstra\u001b[0m\u001b[0;34m(\u001b[0m\u001b[0mgraph\u001b[0m\u001b[0;34m,\u001b[0m \u001b[0mv2\u001b[0m\u001b[0;34m)\u001b[0m\u001b[0;34m\u001b[0m\u001b[0;34m\u001b[0m\u001b[0m\n",
            "\u001b[0;32m<ipython-input-1-19322300b7cc>\u001b[0m in \u001b[0;36mdijkstra\u001b[0;34m(graph, start)\u001b[0m\n\u001b[1;32m     15\u001b[0m     \u001b[0mdis\u001b[0m \u001b[0;34m=\u001b[0m \u001b[0;34m[\u001b[0m\u001b[0mfloat\u001b[0m\u001b[0;34m(\u001b[0m\u001b[0;34m'inf'\u001b[0m\u001b[0;34m)\u001b[0m\u001b[0;34m]\u001b[0m \u001b[0;34m*\u001b[0m \u001b[0;34m(\u001b[0m\u001b[0mv\u001b[0m\u001b[0;34m+\u001b[0m\u001b[0;36m1\u001b[0m\u001b[0;34m)\u001b[0m\u001b[0;34m\u001b[0m\u001b[0;34m\u001b[0m\u001b[0m\n\u001b[1;32m     16\u001b[0m     \u001b[0mdis\u001b[0m\u001b[0;34m[\u001b[0m\u001b[0mstart\u001b[0m\u001b[0;34m]\u001b[0m \u001b[0;34m=\u001b[0m \u001b[0;36m0\u001b[0m\u001b[0;34m\u001b[0m\u001b[0;34m\u001b[0m\u001b[0m\n\u001b[0;32m---> 17\u001b[0;31m     \u001b[0mlst\u001b[0m\u001b[0;34m[\u001b[0m\u001b[0mstart\u001b[0m\u001b[0;34m]\u001b[0m \u001b[0;34m=\u001b[0m \u001b[0;34m[\u001b[0m\u001b[0mstart\u001b[0m\u001b[0;34m]\u001b[0m\u001b[0;34m\u001b[0m\u001b[0;34m\u001b[0m\u001b[0m\n\u001b[0m\u001b[1;32m     18\u001b[0m     \u001b[0mheap\u001b[0m \u001b[0;34m=\u001b[0m \u001b[0;34m[\u001b[0m\u001b[0;34m]\u001b[0m\u001b[0;34m\u001b[0m\u001b[0;34m\u001b[0m\u001b[0m\n\u001b[1;32m     19\u001b[0m     \u001b[0mheapq\u001b[0m\u001b[0;34m.\u001b[0m\u001b[0mheappush\u001b[0m\u001b[0;34m(\u001b[0m\u001b[0mheap\u001b[0m\u001b[0;34m,\u001b[0m\u001b[0;34m(\u001b[0m\u001b[0;36m0\u001b[0m\u001b[0;34m,\u001b[0m \u001b[0mstart\u001b[0m\u001b[0;34m)\u001b[0m\u001b[0;34m)\u001b[0m\u001b[0;34m\u001b[0m\u001b[0;34m\u001b[0m\u001b[0m\n",
            "\u001b[0;31mNameError\u001b[0m: name 'lst' is not defined"
          ]
        }
      ],
      "source": [
        "import heapq\n",
        "\n",
        "v, e = map(int, input().split())\n",
        "graph = [[] for _ in range(v+1)]\n",
        "\n",
        "for _ in range(e):\n",
        "    a, b, w = map(int, input().rstrip().split())\n",
        "    graph[a].append((w,b))\n",
        "    graph[b].append((w,a))\n",
        "\n",
        "start, end = 1, v\n",
        "v1, v2 = map(int, input().split())\n",
        "\n",
        "def dijkstra(graph, start):\n",
        "    dis = [float('inf')] * (v+1)\n",
        "    dis[start] = 0\n",
        "    heap = []\n",
        "    heapq.heappush(heap,(0, start))\n",
        "\n",
        "    while heap:\n",
        "        # x : 꺼낸 w, y : 꺼낸 노드\n",
        "        x, y = heapq.heappop(heap)\n",
        "\n",
        "        # 꺼낸 w가 기존 dis값보다 크면 무시\n",
        "        if dis[y] < x:\n",
        "            continue\n",
        "\n",
        "        # 꺼낸 노드와 연결된 간선\n",
        "        for w, b in graph[y]:\n",
        "            distance = x + w\n",
        "            if distance < dis[b]:\n",
        "                dis[b] = distance\n",
        "                heapq.heappush(heap, (distance, b))\n",
        "    return dis\n",
        "\n",
        "output1 = dijkstra(graph, start)\n",
        "output2 = dijkstra(graph, v1)\n",
        "output3 = dijkstra(graph, v2)\n",
        "k = output1[v1] + output2[v2] + output3[end]\n",
        "m = output1[v2] + output3[v1] + output2[end]\n",
        "q = min(k,m)\n",
        "if q == float('inf'):\n",
        "    print(-1)\n",
        "else:\n",
        "    print(q)"
      ]
    },
    {
      "cell_type": "markdown",
      "source": [
        "start >> v1 >> v2 >> end와\n",
        "\n",
        "start >> v2 >> v1 >> end를 고려 못했음"
      ],
      "metadata": {
        "id": "n40Y2I7yEDKi"
      }
    },
    {
      "cell_type": "code",
      "source": [
        "def dijkstra(graph, start):\n",
        "    dis = [float('inf')] * (v+1)\n",
        "    dis[start] = 0\n",
        "    heap = []\n",
        "    heapq.heappush(heap,(0, start))\n",
        "\n",
        "    while heap:\n",
        "        # x : 꺼낸 w, y : 꺼낸 노드\n",
        "        x, y = heapq.heappop(heap)\n",
        "\n",
        "        # 꺼낸 w가 기존 dis값보다 크면 무시\n",
        "        if dis[y] < x:\n",
        "            continue\n",
        "\n",
        "        # 꺼낸 노드와 연결된 간선\n",
        "        for w, b in graph[y]:\n",
        "            distance = x + w\n",
        "            if distance < dis[b]:\n",
        "                dis[b] = distance\n",
        "                heapq.heappush(heap, (distance, b))\n",
        "    return dis\n",
        "\n",
        "output1 = dijkstra(graph, start)\n",
        "output2 = dijkstra(graph, v1)\n",
        "output3 = dijkstra(graph, v2)\n",
        "k = output1[v1] + output2[v2] + output3[end]\n",
        "m = output1[v2] + output3[v1] + output2[end]\n",
        "q = min(k,m)\n",
        "if q == float('inf'):\n",
        "    print(-1)\n",
        "else:\n",
        "    print(q)"
      ],
      "metadata": {
        "colab": {
          "base_uri": "https://localhost:8080/"
        },
        "id": "i2m9WiuWCL8k",
        "outputId": "4701adfe-2b4f-417f-90a6-9dece6e20e90"
      },
      "execution_count": 3,
      "outputs": [
        {
          "output_type": "stream",
          "name": "stdout",
          "text": [
            "7\n"
          ]
        }
      ]
    }
  ]
}
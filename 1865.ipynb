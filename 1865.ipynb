{
  "nbformat": 4,
  "nbformat_minor": 0,
  "metadata": {
    "colab": {
      "name": "1865.ipynb",
      "provenance": [],
      "authorship_tag": "ABX9TyNvVI2LwJwcWKG4COqModAE",
      "include_colab_link": true
    },
    "kernelspec": {
      "name": "python3",
      "display_name": "Python 3"
    },
    "language_info": {
      "name": "python"
    }
  },
  "cells": [
    {
      "cell_type": "markdown",
      "metadata": {
        "id": "view-in-github",
        "colab_type": "text"
      },
      "source": [
        "<a href=\"https://colab.research.google.com/github/apuhapu/algorithm_study/blob/main/1865.ipynb\" target=\"_parent\"><img src=\"https://colab.research.google.com/assets/colab-badge.svg\" alt=\"Open In Colab\"/></a>"
      ]
    },
    {
      "cell_type": "markdown",
      "source": [
        "https://www.acmicpc.net/problem/1865"
      ],
      "metadata": {
        "id": "GaAA5asgTDbH"
      }
    },
    {
      "cell_type": "code",
      "execution_count": null,
      "metadata": {
        "id": "9o2GhY3xTBy7"
      },
      "outputs": [],
      "source": [
        "tc_num = int(input())\n",
        "for _ in range(tc_num):\n",
        "    n, m, w = map(int, input().rstrip().split())\n",
        "    edges = []\n",
        "    for _ in range(m):\n",
        "        s, e, t = map(int, input().rstrip().split())\n",
        "        edges.append((s,e,t))\n",
        "        edges.append((e,s,t))\n",
        "    for _ in range(w):\n",
        "        s, e, t = map(int, input().rstrip().split())\n",
        "        edges.append((s,e,-t))\n",
        "    \n",
        "    for i in range(1,n+1):\n",
        "        if b_f(i):\n",
        "            print('YES')\n",
        "            break\n",
        "    else:\n",
        "        print('NO')"
      ]
    },
    {
      "cell_type": "code",
      "source": [
        "n, m, w = map(int, input().rstrip().split())\n",
        "edges = []\n",
        "for _ in range(m):\n",
        "    s, e, t = map(int, input().rstrip().split())\n",
        "    edges.append((s,e,t))\n",
        "    edges.append((e,s,t))\n",
        "for _ in range(w):\n",
        "    s, e, t = map(int, input().rstrip().split())\n",
        "    edges.append((s,e,-t))"
      ],
      "metadata": {
        "colab": {
          "base_uri": "https://localhost:8080/"
        },
        "id": "nUtFg6zaU-Zj",
        "outputId": "fea235ab-5cac-49cc-ebe8-32ea5bc55399"
      },
      "execution_count": 10,
      "outputs": [
        {
          "name": "stdout",
          "output_type": "stream",
          "text": [
            "3 2 0\n",
            "2 3 -1\n",
            "3 2 -1\n"
          ]
        }
      ]
    },
    {
      "cell_type": "code",
      "source": [
        "Inf = int(1e9)\n",
        "distance = [Inf] * (n+1)"
      ],
      "metadata": {
        "id": "JLucQoDzUpJe"
      },
      "execution_count": 11,
      "outputs": []
    },
    {
      "cell_type": "code",
      "source": [
        "def b_f(start):\n",
        "    distance[start] = 0\n",
        "    for i in range(1,n+1):\n",
        "        for s, e, t in edges:\n",
        "            if distance[s] != Inf and distance[e] > distance[s] + t:\n",
        "                distance[e] = distance[s] + t\n",
        "                if i == n:\n",
        "                    return True\n",
        "    else:\n",
        "        return False"
      ],
      "metadata": {
        "id": "55M-ZSBAUa_9"
      },
      "execution_count": 6,
      "outputs": []
    },
    {
      "cell_type": "code",
      "source": [
        "if b_f(1):\n",
        "    print('YES')\n",
        "else:\n",
        "    print('NO')"
      ],
      "metadata": {
        "colab": {
          "base_uri": "https://localhost:8080/"
        },
        "id": "qfrD_kvvWIpQ",
        "outputId": "7c64567e-df40-433c-d062-ecf3e631ac43"
      },
      "execution_count": 13,
      "outputs": [
        {
          "output_type": "stream",
          "name": "stdout",
          "text": [
            "YES\n"
          ]
        }
      ]
    },
    {
      "cell_type": "markdown",
      "source": [
        "제출본"
      ],
      "metadata": {
        "id": "OyyvCAcWdFzV"
      }
    },
    {
      "cell_type": "code",
      "source": [
        "import sys\n",
        "input = sys.stdin.readline\n",
        "\n",
        "Inf = 100001\n",
        "\n",
        "\n",
        "def b_f(start):\n",
        "    distance[start] = 0\n",
        "    for i in range(1,n+1):\n",
        "        for s, e, t in edges:\n",
        "            if distance[e] > distance[s] + t:\n",
        "                distance[e] = distance[s] + t\n",
        "                if i == n:\n",
        "                    return True\n",
        "    else:\n",
        "        return False\n",
        "    \n",
        "if __name__ == '__main__':\n",
        "    tc_num = int(input())\n",
        "    for _ in range(tc_num):\n",
        "        n, m, w = map(int, input().rstrip().split())\n",
        "        edges = []\n",
        "        distance = [Inf] * (n+1)\n",
        "        for _ in range(m):\n",
        "            s, e, t = map(int, input().rstrip().split())\n",
        "            edges.append((s,e,t))\n",
        "            edges.append((e,s,t))\n",
        "        for _ in range(w):\n",
        "            s, e, t = map(int, input().rstrip().split())\n",
        "            edges.append((s,e,-t))\n",
        "    \n",
        "        if b_f(1):\n",
        "            print('YES')\n",
        "        else:\n",
        "            print('NO')"
      ],
      "metadata": {
        "id": "nrkZX63sdJUl"
      },
      "execution_count": null,
      "outputs": []
    },
    {
      "cell_type": "markdown",
      "source": [
        "함수에서 시작점의 inf가 아님을 비교할 필요가 없었다.\n",
        "\n",
        "왜냐하면 inf를 무한대가 아닌 그냥 정수값이기 때문에 방문하지 못하는게 아님\n",
        "\n",
        "이 케이스에서만 특이하게 비교 필요 없었던 것"
      ],
      "metadata": {
        "id": "mrhkJgyrdNU-"
      }
    }
  ]
}
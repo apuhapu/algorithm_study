{
  "nbformat": 4,
  "nbformat_minor": 0,
  "metadata": {
    "colab": {
      "provenance": [],
      "authorship_tag": "ABX9TyOolarGhywdCPe9Ga1ugYmN",
      "include_colab_link": true
    },
    "kernelspec": {
      "name": "python3",
      "display_name": "Python 3"
    },
    "language_info": {
      "name": "python"
    }
  },
  "cells": [
    {
      "cell_type": "markdown",
      "metadata": {
        "id": "view-in-github",
        "colab_type": "text"
      },
      "source": [
        "<a href=\"https://colab.research.google.com/github/apuhapu/algorithm_study/blob/main/BOJ_2239.ipynb\" target=\"_parent\"><img src=\"https://colab.research.google.com/assets/colab-badge.svg\" alt=\"Open In Colab\"/></a>"
      ]
    },
    {
      "cell_type": "markdown",
      "source": [
        "https://www.acmicpc.net/problem/2239"
      ],
      "metadata": {
        "id": "Fi394iYNjdd8"
      }
    },
    {
      "cell_type": "code",
      "execution_count": null,
      "metadata": {
        "colab": {
          "base_uri": "https://localhost:8080/"
        },
        "id": "BaMdYve9jVre",
        "outputId": "e751b49d-0ef3-4b1b-d687-5b9e8aecad3f"
      },
      "outputs": [
        {
          "name": "stdout",
          "output_type": "stream",
          "text": [
            "103000509\n",
            "002109400\n",
            "000704000\n",
            "300502006\n",
            "060000050\n",
            "700803004\n",
            "000401000\n",
            "009205800\n",
            "804000107\n"
          ]
        }
      ],
      "source": [
        "board = []\n",
        "for _ in range(9):\n",
        "    board.append(list(map(int,list(str(input().rstrip())))))"
      ]
    },
    {
      "cell_type": "code",
      "source": [
        "copy_board = [x[:] for x in board]"
      ],
      "metadata": {
        "id": "NUwbCfREj6U6"
      },
      "execution_count": null,
      "outputs": []
    },
    {
      "cell_type": "code",
      "source": [
        "for i in range(1,10):\n",
        "    globals()['hor_'+str(i)] = [False] * 10  # 가로\n",
        "    globals()['ver_'+str(i)] = [False] * 10  # 세로\n",
        "    globals()['sqr_'+str(i)] = [False] * 10  # 네모"
      ],
      "metadata": {
        "id": "zulCKOAOkRno"
      },
      "execution_count": null,
      "outputs": []
    },
    {
      "cell_type": "code",
      "source": [
        "print(globals()['hor_'+str(5)])"
      ],
      "metadata": {
        "colab": {
          "base_uri": "https://localhost:8080/"
        },
        "id": "hR2eeO95nVZ-",
        "outputId": "ed40fa60-fe3d-4004-f6fc-2037ae8f2bb8"
      },
      "execution_count": null,
      "outputs": [
        {
          "output_type": "stream",
          "name": "stdout",
          "text": [
            "[False, False, False, False, False, False, False, False, False, False]\n"
          ]
        }
      ]
    },
    {
      "cell_type": "code",
      "source": [
        "blank_lst = []"
      ],
      "metadata": {
        "id": "9XVAWouVOh-j"
      },
      "execution_count": null,
      "outputs": []
    },
    {
      "cell_type": "code",
      "source": [
        "for i in range(9):\n",
        "    for j in range(9):\n",
        "        curr = board[i][j]\n",
        "        if curr == 0:\n",
        "            blank_lst.append((i,j))\n",
        "        else:\n",
        "            globals()['hor_'+str(i+1)][curr] = True\n",
        "            globals()['ver_'+str(j+1)][curr] = True\n",
        "            if i < 3:\n",
        "                if j < 3:\n",
        "                    globals()['sqr_'+str(1)][curr] = True\n",
        "                elif j < 6:\n",
        "                    globals()['sqr_'+str(2)][curr] = True\n",
        "                else:\n",
        "                    globals()['sqr_'+str(3)][curr] = True\n",
        "            elif i < 6:\n",
        "                if j < 3:\n",
        "                    globals()['sqr_'+str(4)][curr] = True\n",
        "                elif j < 6:\n",
        "                    globals()['sqr_'+str(5)][curr] = True\n",
        "                else:\n",
        "                    globals()['sqr_'+str(6)][curr] = True\n",
        "            else:\n",
        "                if j < 3:\n",
        "                    globals()['sqr_'+str(7)][curr] = True\n",
        "                elif j < 6:\n",
        "                    globals()['sqr_'+str(8)][curr] = True\n",
        "                else:\n",
        "                    globals()['sqr_'+str(9)][curr] = True"
      ],
      "metadata": {
        "id": "PlcLokEYlXar"
      },
      "execution_count": null,
      "outputs": []
    },
    {
      "cell_type": "code",
      "source": [
        "blank_lst"
      ],
      "metadata": {
        "colab": {
          "base_uri": "https://localhost:8080/"
        },
        "id": "xJXLhhIlRZ4G",
        "outputId": "0ddca8e9-b968-4469-c4e6-42c474cc2212"
      },
      "execution_count": null,
      "outputs": [
        {
          "output_type": "execute_result",
          "data": {
            "text/plain": [
              "[(0, 1),\n",
              " (0, 3),\n",
              " (0, 4),\n",
              " (0, 5),\n",
              " (0, 7),\n",
              " (1, 0),\n",
              " (1, 1),\n",
              " (1, 4),\n",
              " (1, 7),\n",
              " (1, 8),\n",
              " (2, 0),\n",
              " (2, 1),\n",
              " (2, 2),\n",
              " (2, 4),\n",
              " (2, 6),\n",
              " (2, 7),\n",
              " (2, 8),\n",
              " (3, 1),\n",
              " (3, 2),\n",
              " (3, 4),\n",
              " (3, 6),\n",
              " (3, 7),\n",
              " (4, 0),\n",
              " (4, 2),\n",
              " (4, 3),\n",
              " (4, 4),\n",
              " (4, 5),\n",
              " (4, 6),\n",
              " (4, 8),\n",
              " (5, 1),\n",
              " (5, 2),\n",
              " (5, 4),\n",
              " (5, 6),\n",
              " (5, 7),\n",
              " (6, 0),\n",
              " (6, 1),\n",
              " (6, 2),\n",
              " (6, 4),\n",
              " (6, 6),\n",
              " (6, 7),\n",
              " (6, 8),\n",
              " (7, 0),\n",
              " (7, 1),\n",
              " (7, 4),\n",
              " (7, 7),\n",
              " (7, 8),\n",
              " (8, 1),\n",
              " (8, 3),\n",
              " (8, 4),\n",
              " (8, 5),\n",
              " (8, 7)]"
            ]
          },
          "metadata": {},
          "execution_count": 71
        }
      ]
    },
    {
      "cell_type": "code",
      "source": [
        "def check_sqr(x,y):\n",
        "    if x < 3:\n",
        "        if y < 3:\n",
        "            return 1\n",
        "        elif y < 6:\n",
        "            return 2\n",
        "        else:\n",
        "            return 3\n",
        "\n",
        "    elif x < 6:\n",
        "        if y < 3:\n",
        "            return 4\n",
        "        elif y < 6:\n",
        "            return 5\n",
        "        else:\n",
        "            return 6\n",
        "\n",
        "    else:\n",
        "        if y < 3:\n",
        "            return 7\n",
        "        elif y < 6:\n",
        "            return 8\n",
        "        else:\n",
        "            return 9"
      ],
      "metadata": {
        "id": "94FspkKLFNV9"
      },
      "execution_count": null,
      "outputs": []
    },
    {
      "cell_type": "code",
      "source": [
        "tic = False"
      ],
      "metadata": {
        "id": "Qwbv-UEfQSU9"
      },
      "execution_count": null,
      "outputs": []
    },
    {
      "cell_type": "code",
      "source": [
        "def print_board(lst):\n",
        "    for l in lst:\n",
        "        l = list(map(str,l))\n",
        "        print(''.join(s for s in l))"
      ],
      "metadata": {
        "id": "iLW96-PSR2FW"
      },
      "execution_count": null,
      "outputs": []
    },
    {
      "cell_type": "code",
      "source": [
        "def sudoku(idx):\n",
        "    global tic\n",
        "    global board\n",
        "    if tic:\n",
        "        return\n",
        "    else:\n",
        "        if idx == len(blank_lst):\n",
        "            tic = True\n",
        "            return print_board(board)\n",
        "        x, y = blank_lst[idx]\n",
        "        sqr_idx = check_sqr(x,y)\n",
        "        for k in range(1,10):\n",
        "            if (not globals()['hor_'+str(x+1)][k]) and (not globals()['ver_'+str(y+1)][k]) and (not globals()['sqr_'+str(sqr_idx)][k]):\n",
        "                board[x][y] = k\n",
        "                globals()['hor_'+str(x+1)][k] = True\n",
        "                globals()['ver_'+str(y+1)][k] = True\n",
        "                globals()['sqr_'+str(sqr_idx)][k] = True\n",
        "                sudoku(idx+1)\n",
        "                board[x][y] = 0\n",
        "                globals()['hor_'+str(x+1)][k] = False\n",
        "                globals()['ver_'+str(y+1)][k] = False\n",
        "                globals()['sqr_'+str(sqr_idx)][k] = False\n",
        "            else:\n",
        "                continue"
      ],
      "metadata": {
        "id": "yOVaOixCDy-w"
      },
      "execution_count": null,
      "outputs": []
    },
    {
      "cell_type": "code",
      "source": [
        "sudoku(0)"
      ],
      "metadata": {
        "colab": {
          "base_uri": "https://localhost:8080/"
        },
        "id": "Pk098dAAOM0U",
        "outputId": "f33be4f1-87b8-4112-dd26-187f88d52b1e"
      },
      "execution_count": null,
      "outputs": [
        {
          "output_type": "stream",
          "name": "stdout",
          "text": [
            "143628579\n",
            "572139468\n",
            "986754231\n",
            "391542786\n",
            "468917352\n",
            "725863914\n",
            "237481695\n",
            "619275843\n",
            "854396127\n"
          ]
        }
      ]
    },
    {
      "cell_type": "code",
      "source": [
        "board"
      ],
      "metadata": {
        "colab": {
          "base_uri": "https://localhost:8080/"
        },
        "id": "NGdr6n6pRoYY",
        "outputId": "374b295f-a973-49bb-960b-94fc9cf07613"
      },
      "execution_count": null,
      "outputs": [
        {
          "output_type": "execute_result",
          "data": {
            "text/plain": [
              "[[1, 0, 3, 0, 0, 0, 5, 0, 9],\n",
              " [0, 0, 2, 1, 0, 9, 4, 0, 0],\n",
              " [0, 0, 0, 7, 0, 4, 0, 0, 0],\n",
              " [3, 0, 0, 5, 0, 2, 0, 0, 6],\n",
              " [0, 6, 0, 0, 0, 0, 0, 5, 0],\n",
              " [7, 0, 0, 8, 0, 3, 0, 0, 4],\n",
              " [0, 0, 0, 4, 0, 1, 0, 0, 0],\n",
              " [0, 0, 9, 2, 0, 5, 8, 0, 0],\n",
              " [8, 0, 4, 0, 0, 0, 1, 0, 7]]"
            ]
          },
          "metadata": {},
          "execution_count": 64
        }
      ]
    },
    {
      "cell_type": "markdown",
      "source": [
        "종합"
      ],
      "metadata": {
        "id": "XJ3te1jqTDJq"
      }
    },
    {
      "cell_type": "code",
      "source": [
        "def check_sqr(x,y):\n",
        "    if x < 3:\n",
        "        if y < 3:\n",
        "            return 1\n",
        "        elif y < 6:\n",
        "            return 2\n",
        "        else:\n",
        "            return 3\n",
        "\n",
        "    elif x < 6:\n",
        "        if y < 3:\n",
        "            return 4\n",
        "        elif y < 6:\n",
        "            return 5\n",
        "        else:\n",
        "            return 6\n",
        "\n",
        "    else:\n",
        "        if y < 3:\n",
        "            return 7\n",
        "        elif y < 6:\n",
        "            return 8\n",
        "        else:\n",
        "            return 9\n",
        "\n",
        "def print_board(lst):\n",
        "    for l in lst:\n",
        "        l = list(map(str,l))\n",
        "        print(''.join(s for s in l))\n",
        "\n",
        "def sudoku(idx):\n",
        "    global tic\n",
        "    global board\n",
        "\n",
        "    if idx == len(blank_lst):\n",
        "        tic = True\n",
        "        return print_board(board)\n",
        "    x, y = blank_lst[idx]\n",
        "    sqr_idx = check_sqr(x,y)\n",
        "    for k in range(1,10):\n",
        "        if (not globals()['hor_'+str(x+1)][k]) and (not globals()['ver_'+str(y+1)][k]) and (not globals()['sqr_'+str(sqr_idx)][k]):\n",
        "            board[x][y] = k\n",
        "            globals()['hor_'+str(x+1)][k] = True\n",
        "            globals()['ver_'+str(y+1)][k] = True\n",
        "            globals()['sqr_'+str(sqr_idx)][k] = True\n",
        "            sudoku(idx+1)\n",
        "            if tic:\n",
        "                return\n",
        "            board[x][y] = 0\n",
        "            globals()['hor_'+str(x+1)][k] = False\n",
        "            globals()['ver_'+str(y+1)][k] = False\n",
        "            globals()['sqr_'+str(sqr_idx)][k] = False\n",
        "        else:\n",
        "            continue\n",
        "\n",
        "import sys\n",
        "# input = sys.stdin.readline\n",
        "\n",
        "board = []\n",
        "for _ in range(9):\n",
        "    board.append(list(map(int,list(str(input().rstrip())))))\n",
        "\n",
        "for i in range(1,10):\n",
        "    globals()['hor_'+str(i)] = [False] * 10  # 가로\n",
        "    globals()['ver_'+str(i)] = [False] * 10  # 세로\n",
        "    globals()['sqr_'+str(i)] = [False] * 10  # 네모\n",
        "\n",
        "blank_lst = []\n",
        "\n",
        "for i in range(9):\n",
        "    for j in range(9):\n",
        "        curr = board[i][j]\n",
        "        if curr == 0:\n",
        "            blank_lst.append((i,j))\n",
        "        else:\n",
        "            globals()['hor_'+str(i+1)][curr] = True\n",
        "            globals()['ver_'+str(j+1)][curr] = True\n",
        "            if i < 3:\n",
        "                if j < 3:\n",
        "                    globals()['sqr_'+str(1)][curr] = True\n",
        "                elif j < 6:\n",
        "                    globals()['sqr_'+str(2)][curr] = True\n",
        "                else:\n",
        "                    globals()['sqr_'+str(3)][curr] = True\n",
        "            elif i < 6:\n",
        "                if j < 3:\n",
        "                    globals()['sqr_'+str(4)][curr] = True\n",
        "                elif j < 6:\n",
        "                    globals()['sqr_'+str(5)][curr] = True\n",
        "                else:\n",
        "                    globals()['sqr_'+str(6)][curr] = True\n",
        "            else:\n",
        "                if j < 3:\n",
        "                    globals()['sqr_'+str(7)][curr] = True\n",
        "                elif j < 6:\n",
        "                    globals()['sqr_'+str(8)][curr] = True\n",
        "                else:\n",
        "                    globals()['sqr_'+str(9)][curr] = True\n",
        "\n",
        "tic = False\n",
        "sudoku(0)"
      ],
      "metadata": {
        "colab": {
          "base_uri": "https://localhost:8080/"
        },
        "id": "iwqV3Yp9TElh",
        "outputId": "1fde0132-d133-4db0-a868-7a5fde2ab119"
      },
      "execution_count": null,
      "outputs": [
        {
          "output_type": "stream",
          "name": "stdout",
          "text": [
            "103000509\n",
            "002109400\n",
            "000704000\n",
            "300502006\n",
            "060000050\n",
            "700803004\n",
            "000401000\n",
            "009205800\n",
            "804000107\n",
            "143628579\n",
            "572139468\n",
            "986754231\n",
            "391542786\n",
            "468917352\n",
            "725863914\n",
            "237481695\n",
            "619275843\n",
            "854396127\n"
          ]
        }
      ]
    }
  ]
}
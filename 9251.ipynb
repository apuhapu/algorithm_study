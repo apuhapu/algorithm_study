{
  "nbformat": 4,
  "nbformat_minor": 0,
  "metadata": {
    "colab": {
      "name": "9251.ipynb",
      "provenance": [],
      "authorship_tag": "ABX9TyOUpBKF1Xfwk0mEk25YvQ+f",
      "include_colab_link": true
    },
    "kernelspec": {
      "name": "python3",
      "display_name": "Python 3"
    },
    "language_info": {
      "name": "python"
    }
  },
  "cells": [
    {
      "cell_type": "markdown",
      "metadata": {
        "id": "view-in-github",
        "colab_type": "text"
      },
      "source": [
        "<a href=\"https://colab.research.google.com/github/apuhapu/algorithm_study/blob/main/9251.ipynb\" target=\"_parent\"><img src=\"https://colab.research.google.com/assets/colab-badge.svg\" alt=\"Open In Colab\"/></a>"
      ]
    },
    {
      "cell_type": "markdown",
      "source": [
        "https://www.acmicpc.net/problem/9251"
      ],
      "metadata": {
        "id": "I1Zlm-13ByiE"
      }
    },
    {
      "cell_type": "markdown",
      "source": [
        "input data >> 최대 1000 + 1000 >> 최대 2000"
      ],
      "metadata": {
        "id": "nIkcriSQBzXA"
      }
    },
    {
      "cell_type": "code",
      "execution_count": 1,
      "metadata": {
        "colab": {
          "base_uri": "https://localhost:8080/"
        },
        "id": "4UcXKAQlBwR7",
        "outputId": "2a527710-2ee9-4905-d40c-ce998d7e877a"
      },
      "outputs": [
        {
          "name": "stdout",
          "output_type": "stream",
          "text": [
            "ACAYKP\n",
            "CAPCAK\n"
          ]
        }
      ],
      "source": [
        "a = input().rstrip()\n",
        "b = input().rstrip()"
      ]
    },
    {
      "cell_type": "code",
      "source": [
        "a_l = len(a)\n",
        "b_l = len(b)"
      ],
      "metadata": {
        "id": "JDxhLF2CCQzM"
      },
      "execution_count": 10,
      "outputs": []
    },
    {
      "cell_type": "code",
      "source": [
        "dp = [[-1] * (b_l + 1) for _ in range(a_l + 1)]"
      ],
      "metadata": {
        "id": "lE_iPaE8CjZH"
      },
      "execution_count": 11,
      "outputs": []
    },
    {
      "cell_type": "code",
      "source": [
        "dp"
      ],
      "metadata": {
        "colab": {
          "base_uri": "https://localhost:8080/"
        },
        "id": "gBUn8yLJCqht",
        "outputId": "6ce8ce41-d6ed-44ee-cbef-4faa20372df7"
      },
      "execution_count": 12,
      "outputs": [
        {
          "output_type": "execute_result",
          "data": {
            "text/plain": [
              "[[-1, -1, -1, -1, -1, -1, -1],\n",
              " [-1, -1, -1, -1, -1, -1, -1],\n",
              " [-1, -1, -1, -1, -1, -1, -1],\n",
              " [-1, -1, -1, -1, -1, -1, -1],\n",
              " [-1, -1, -1, -1, -1, -1, -1],\n",
              " [-1, -1, -1, -1, -1, -1, -1],\n",
              " [-1, -1, -1, -1, -1, -1, -1]]"
            ]
          },
          "metadata": {},
          "execution_count": 12
        }
      ]
    },
    {
      "cell_type": "code",
      "source": [
        "for i in range(a_l + 1):\n",
        "    for j in range(b_l + 1):\n",
        "        if i == 0 or j == 0:\n",
        "            dp[i][j] = 0\n",
        "        elif a[i-1] == b[j-1]:\n",
        "            dp[i][j] = dp[i-1][j-1] + 1\n",
        "        else:\n",
        "            dp[i][j] = max(dp[i-1][j], dp[i][j-1])"
      ],
      "metadata": {
        "id": "0UU4DontCsor"
      },
      "execution_count": 13,
      "outputs": []
    },
    {
      "cell_type": "code",
      "source": [
        "print(dp[-1][-1])"
      ],
      "metadata": {
        "colab": {
          "base_uri": "https://localhost:8080/"
        },
        "id": "rlVwjTrADyn3",
        "outputId": "9f0b5de9-2fd8-4b61-871e-e1cf9d346e84"
      },
      "execution_count": 16,
      "outputs": [
        {
          "output_type": "stream",
          "name": "stdout",
          "text": [
            "4\n"
          ]
        }
      ]
    },
    {
      "cell_type": "markdown",
      "source": [
        "1차 제출안"
      ],
      "metadata": {
        "id": "_rqAV1dCFte8"
      }
    },
    {
      "cell_type": "code",
      "source": [
        "import sys\n",
        "input = sys.stdin.readline\n",
        "\n",
        "# 입력 파트\n",
        "a = input().rstrip()\n",
        "b = input().rstrip()\n",
        "\n",
        "# dp배열을 만들기 위한 길이 측정, 1을 추가한 이유는 초기 아무것도 없이 0을 추가하기 위함\n",
        "a_l = len(a) + 1\n",
        "b_l = len(b) + 1\n",
        "\n",
        "dp = [[-1] * (b_l) for _ in range(a_l)]\n",
        "\n",
        "# dp 배열 채우기\n",
        "for i in range(a_l):\n",
        "    for j in range(b_l):\n",
        "        if i == 0 or j == 0:    # 위에서 추가한 1에 0 값 넣기\n",
        "            dp[i][j] = 0\n",
        "        elif a[i-1] == b[j-1]:    # 위에서 +1을 했기 때문에 문자열 비교에서는 인덱스에 -1\n",
        "            dp[i][j] = dp[i-1][j-1] + 1\n",
        "        else:\n",
        "            dp[i][j] = max(dp[i-1][j], dp[i][j-1])\n",
        "\n",
        "print(dp[-1][-1])"
      ],
      "metadata": {
        "id": "l7uYSUUDFtI3"
      },
      "execution_count": null,
      "outputs": []
    },
    {
      "cell_type": "markdown",
      "source": [
        "통과"
      ],
      "metadata": {
        "id": "pFYt2L-2Fwmw"
      }
    }
  ]
}
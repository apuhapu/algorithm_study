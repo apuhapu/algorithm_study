{
  "nbformat": 4,
  "nbformat_minor": 0,
  "metadata": {
    "colab": {
      "name": "8.2 스터디.ipynb",
      "provenance": [],
      "authorship_tag": "ABX9TyMF0ZsjC4Q5eKcqnD/peklN",
      "include_colab_link": true
    },
    "kernelspec": {
      "name": "python3",
      "display_name": "Python 3"
    },
    "language_info": {
      "name": "python"
    }
  },
  "cells": [
    {
      "cell_type": "markdown",
      "metadata": {
        "id": "view-in-github",
        "colab_type": "text"
      },
      "source": [
        "<a href=\"https://colab.research.google.com/github/apuhapu/algorithm_study/blob/main/8_2_%EC%8A%A4%ED%84%B0%EB%94%94.ipynb\" target=\"_parent\"><img src=\"https://colab.research.google.com/assets/colab-badge.svg\" alt=\"Open In Colab\"/></a>"
      ]
    },
    {
      "cell_type": "code",
      "execution_count": 3,
      "metadata": {
        "colab": {
          "base_uri": "https://localhost:8080/"
        },
        "id": "2tKI6inDPMVW",
        "outputId": "0e275b7b-9886-4002-d4b4-fec7c1717834"
      },
      "outputs": [
        {
          "name": "stdout",
          "output_type": "stream",
          "text": [
            "XXXX....XXX.....XX\n"
          ]
        }
      ],
      "source": [
        "lst = list(str(input()))"
      ]
    },
    {
      "cell_type": "code",
      "source": [
        "lst"
      ],
      "metadata": {
        "colab": {
          "base_uri": "https://localhost:8080/"
        },
        "id": "gkgOa6KbP_kz",
        "outputId": "5bdcf1b5-af0e-4847-b3ae-e18fd1c99063"
      },
      "execution_count": 4,
      "outputs": [
        {
          "output_type": "execute_result",
          "data": {
            "text/plain": [
              "['X',\n",
              " 'X',\n",
              " 'X',\n",
              " 'X',\n",
              " '.',\n",
              " '.',\n",
              " '.',\n",
              " '.',\n",
              " 'X',\n",
              " 'X',\n",
              " 'X',\n",
              " '.',\n",
              " '.',\n",
              " '.',\n",
              " '.',\n",
              " '.',\n",
              " 'X',\n",
              " 'X']"
            ]
          },
          "metadata": {},
          "execution_count": 4
        }
      ]
    },
    {
      "cell_type": "code",
      "source": [
        "cnt = 0\n",
        "output = []\n",
        "tic = True"
      ],
      "metadata": {
        "id": "lcxlLXiVQF-M"
      },
      "execution_count": 12,
      "outputs": []
    },
    {
      "cell_type": "code",
      "source": [
        "for x in lst:\n",
        "    if x == '.':\n",
        "        if cnt == 2:\n",
        "            output.append('BB')\n",
        "            continue\n",
        "        else:\n",
        "            print(-1)\n",
        "            tic = False\n",
        "            break\n",
        "    else:\n",
        "        cnt += 1\n",
        "\n",
        "    if cnt == 4:\n",
        "        output.append('AAAA')\n",
        "        cnt = 0"
      ],
      "metadata": {
        "colab": {
          "base_uri": "https://localhost:8080/"
        },
        "id": "nXOERA82QA-n",
        "outputId": "a5fa4c88-69d2-4161-a739-fd62e16eb241"
      },
      "execution_count": 13,
      "outputs": [
        {
          "output_type": "stream",
          "name": "stdout",
          "text": [
            "-1\n"
          ]
        }
      ]
    },
    {
      "cell_type": "code",
      "source": [
        "if tic:\n",
        "    print(str(output))"
      ],
      "metadata": {
        "id": "256KvfJWQ48V"
      },
      "execution_count": 14,
      "outputs": []
    },
    {
      "cell_type": "code",
      "source": [
        "lst = list(str(input()))\n",
        "cnt = 0\n",
        "output = []\n",
        "tic = True\n",
        "\n",
        "for x in lst:\n",
        "    if x == '.':\n",
        "        if cnt == 2:\n",
        "            output.append('BB')\n",
        "            cnt = 0\n",
        "        elif cnt == 0:\n",
        "            pass\n",
        "        else:\n",
        "            print(-1)\n",
        "            tic = False\n",
        "            break\n",
        "        output.append('.')\n",
        "    else:\n",
        "        cnt += 1\n",
        "\n",
        "    if cnt == 4:\n",
        "        output.append('AAAA')\n",
        "        cnt = 0\n",
        "else:\n",
        "    if cnt == 2:\n",
        "        output.append('BB')\n",
        "    elif cnt > 0:\n",
        "        print(-1)\n",
        "        tic = False\n",
        "\n",
        "if tic:\n",
        "    print(''.join(output))"
      ],
      "metadata": {
        "colab": {
          "base_uri": "https://localhost:8080/"
        },
        "id": "lIaBBTwlRFbj",
        "outputId": "8b54f74e-f62a-4994-e937-eea2f1f54f62"
      },
      "execution_count": 31,
      "outputs": [
        {
          "output_type": "stream",
          "name": "stdout",
          "text": [
            "X\n",
            "-1\n"
          ]
        }
      ]
    },
    {
      "cell_type": "markdown",
      "source": [
        "성공"
      ],
      "metadata": {
        "id": "6rBqW5evTNNF"
      }
    },
    {
      "cell_type": "code",
      "source": [
        "n, m  = map(int, input().rstrip().split())\n",
        "floor = [list(input().rstrip()) for _ in range(n)]"
      ],
      "metadata": {
        "colab": {
          "base_uri": "https://localhost:8080/"
        },
        "id": "xkCcBXWLTM6C",
        "outputId": "a7bae5fb-c52d-485c-917f-2ff4cd4ab2fe"
      },
      "execution_count": 33,
      "outputs": [
        {
          "name": "stdout",
          "output_type": "stream",
          "text": [
            "6 9\n",
            "-||--||--\n",
            "--||--||-\n",
            "|--||--||\n",
            "||--||--|\n",
            "-||--||--\n",
            "--||--||-\n"
          ]
        }
      ]
    },
    {
      "cell_type": "code",
      "source": [
        "floor"
      ],
      "metadata": {
        "colab": {
          "base_uri": "https://localhost:8080/"
        },
        "id": "qzFDeP2dU_4g",
        "outputId": "daf2ee94-d7cf-4e5f-e399-77d3242639fe"
      },
      "execution_count": 34,
      "outputs": [
        {
          "output_type": "execute_result",
          "data": {
            "text/plain": [
              "[['-', '|', '|', '-', '-', '|', '|', '-', '-'],\n",
              " ['-', '-', '|', '|', '-', '-', '|', '|', '-'],\n",
              " ['|', '-', '-', '|', '|', '-', '-', '|', '|'],\n",
              " ['|', '|', '-', '-', '|', '|', '-', '-', '|'],\n",
              " ['-', '|', '|', '-', '-', '|', '|', '-', '-'],\n",
              " ['-', '-', '|', '|', '-', '-', '|', '|', '-']]"
            ]
          },
          "metadata": {},
          "execution_count": 34
        }
      ]
    },
    {
      "cell_type": "code",
      "source": [
        "cnt_r = 0\n",
        "for i in range(n):\n",
        "    cnt = 0\n",
        "    for j in range(m):\n",
        "        if floor[i][j] == '-':\n",
        "            cnt += 1\n",
        "        else:\n",
        "            if cnt > 0:\n",
        "                cnt_r += 1\n",
        "                cnt = 0\n",
        "    else:\n",
        "        if cnt > 0:\n",
        "            cnt_r += 1"
      ],
      "metadata": {
        "id": "6z9fnJpcVBls"
      },
      "execution_count": 35,
      "outputs": []
    },
    {
      "cell_type": "code",
      "source": [
        "cnt_r"
      ],
      "metadata": {
        "colab": {
          "base_uri": "https://localhost:8080/"
        },
        "id": "fl_L36rrV8PZ",
        "outputId": "1eff2627-eae4-4727-e274-ea8dd4d10450"
      },
      "execution_count": 36,
      "outputs": [
        {
          "output_type": "execute_result",
          "data": {
            "text/plain": [
              "16"
            ]
          },
          "metadata": {},
          "execution_count": 36
        }
      ]
    },
    {
      "cell_type": "code",
      "source": [
        "cnt_c = 0\n",
        "for j in range(m):\n",
        "    cnt = 0\n",
        "    for i in range(n):\n",
        "        if floor[i][j] == '|':\n",
        "            cnt += 1\n",
        "        else:\n",
        "            if cnt > 0:\n",
        "                cnt_c += 1\n",
        "                cnt = 0\n",
        "    else:\n",
        "        if cnt > 0:\n",
        "            cnt_c += 1"
      ],
      "metadata": {
        "id": "mBvkj34WWAYY"
      },
      "execution_count": 37,
      "outputs": []
    },
    {
      "cell_type": "code",
      "source": [
        "cnt_c"
      ],
      "metadata": {
        "colab": {
          "base_uri": "https://localhost:8080/"
        },
        "id": "AtMFmuVmWW8q",
        "outputId": "7bd181bb-0516-4c59-d53c-fed7c21d1f0c"
      },
      "execution_count": 38,
      "outputs": [
        {
          "output_type": "execute_result",
          "data": {
            "text/plain": [
              "15"
            ]
          },
          "metadata": {},
          "execution_count": 38
        }
      ]
    },
    {
      "cell_type": "code",
      "source": [
        "print(cnt_r+cnt_c)"
      ],
      "metadata": {
        "colab": {
          "base_uri": "https://localhost:8080/"
        },
        "id": "GCOZR2XpWYNB",
        "outputId": "65e68689-bcf6-4df4-d8a0-a04d1a1117f5"
      },
      "execution_count": 39,
      "outputs": [
        {
          "output_type": "stream",
          "name": "stdout",
          "text": [
            "31\n"
          ]
        }
      ]
    },
    {
      "cell_type": "markdown",
      "source": [
        "제출본"
      ],
      "metadata": {
        "id": "16wjI8q8Wcqz"
      }
    },
    {
      "cell_type": "code",
      "source": [
        "n, m  = map(int, input().rstrip().split())\n",
        "floor = [list(input().rstrip()) for _ in range(n)]\n",
        "\n",
        "cnt_r = 0\n",
        "for i in range(n):\n",
        "    cnt = 0\n",
        "    for j in range(m):\n",
        "        if floor[i][j] == '-':\n",
        "            cnt += 1\n",
        "        else:\n",
        "            if cnt > 0:\n",
        "                cnt_r += 1\n",
        "                cnt = 0\n",
        "    else:\n",
        "        if cnt > 0:\n",
        "            cnt_r += 1\n",
        "\n",
        "cnt_c = 0\n",
        "for j in range(m):\n",
        "    cnt = 0\n",
        "    for i in range(n):\n",
        "        if floor[i][j] == '|':\n",
        "            cnt += 1\n",
        "        else:\n",
        "            if cnt > 0:\n",
        "                cnt_c += 1\n",
        "                cnt = 0\n",
        "    else:\n",
        "        if cnt > 0:\n",
        "            cnt_c += 1\n",
        "\n",
        "print(cnt_r+cnt_c)"
      ],
      "metadata": {
        "colab": {
          "base_uri": "https://localhost:8080/"
        },
        "id": "xsuCUvekWeQC",
        "outputId": "0e658872-0b0a-4670-9220-35a32f6bfc5d"
      },
      "execution_count": 40,
      "outputs": [
        {
          "output_type": "stream",
          "name": "stdout",
          "text": [
            "4 4\n",
            "----\n",
            "----\n",
            "----\n",
            "----\n",
            "4\n"
          ]
        }
      ]
    },
    {
      "cell_type": "markdown",
      "source": [
        "성공"
      ],
      "metadata": {
        "id": "QtM8jxD6W1eR"
      }
    },
    {
      "cell_type": "code",
      "source": [
        "n = int(input())"
      ],
      "metadata": {
        "colab": {
          "base_uri": "https://localhost:8080/"
        },
        "id": "PZuGr6ZcW49m",
        "outputId": "f662cbfe-46ce-4a41-be26-b34bf208bd42"
      },
      "execution_count": 41,
      "outputs": [
        {
          "name": "stdout",
          "output_type": "stream",
          "text": [
            "5\n"
          ]
        }
      ]
    },
    {
      "cell_type": "code",
      "source": [
        "if n % 2 == 0:\n",
        "    print('CY')\n",
        "else:\n",
        "    print('SK')"
      ],
      "metadata": {
        "colab": {
          "base_uri": "https://localhost:8080/"
        },
        "id": "VELdXbT4YTWo",
        "outputId": "1762d9f1-7ad9-4d85-d02b-86156729af8d"
      },
      "execution_count": 42,
      "outputs": [
        {
          "output_type": "stream",
          "name": "stdout",
          "text": [
            "SK\n"
          ]
        }
      ]
    },
    {
      "cell_type": "code",
      "source": [
        "n = input()\n",
        "k = int(n[-1])\n",
        "if k % 2 == 0:\n",
        "    print('CY')\n",
        "else:\n",
        "    print('SK')"
      ],
      "metadata": {
        "id": "KtseMT26YxOS"
      },
      "execution_count": null,
      "outputs": []
    },
    {
      "cell_type": "markdown",
      "source": [
        "성공"
      ],
      "metadata": {
        "id": "Oqsn8M2FZaVA"
      }
    },
    {
      "cell_type": "code",
      "source": [
        "n = int(input())\n",
        "cnt = 0\n",
        "room = {}\n",
        "for _ in range(n):\n",
        "    name, tic = input().rstrip().split()\n",
        "    if tic == 'enter':\n",
        "        room[name] = 1\n",
        "    else:\n",
        "        room[name] = 0\n",
        "room1 = sorted(room.items(),reverse = True)\n",
        "for people, item in room1:\n",
        "    if item == 1:\n",
        "        print(people)"
      ],
      "metadata": {
        "colab": {
          "base_uri": "https://localhost:8080/"
        },
        "id": "T1EqvBXNZbll",
        "outputId": "71b7a80f-8bfa-46ec-9fcd-25aa1bf896c9"
      },
      "execution_count": 49,
      "outputs": [
        {
          "output_type": "stream",
          "name": "stdout",
          "text": [
            "4\n",
            "Baha enter\n",
            "Askar enter\n",
            "Baha leave\n",
            "Artem enter\n",
            "Askar\n",
            "Artem\n"
          ]
        }
      ]
    }
  ]
}
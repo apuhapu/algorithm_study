{
  "nbformat": 4,
  "nbformat_minor": 0,
  "metadata": {
    "colab": {
      "name": "16236.ipynb",
      "provenance": [],
      "collapsed_sections": [],
      "authorship_tag": "ABX9TyO6CxGP8pmc0DgT2DvUYdAr",
      "include_colab_link": true
    },
    "kernelspec": {
      "name": "python3",
      "display_name": "Python 3"
    },
    "language_info": {
      "name": "python"
    }
  },
  "cells": [
    {
      "cell_type": "markdown",
      "metadata": {
        "id": "view-in-github",
        "colab_type": "text"
      },
      "source": [
        "<a href=\"https://colab.research.google.com/github/apuhapu/algorithm_study/blob/main/16236.ipynb\" target=\"_parent\"><img src=\"https://colab.research.google.com/assets/colab-badge.svg\" alt=\"Open In Colab\"/></a>"
      ]
    },
    {
      "cell_type": "markdown",
      "source": [
        "https://www.acmicpc.net/problem/16236"
      ],
      "metadata": {
        "id": "J1jJ5LNTPhkH"
      }
    },
    {
      "cell_type": "code",
      "source": [
        "from collections import deque"
      ],
      "metadata": {
        "id": "yzK5GJvlQ62_"
      },
      "execution_count": null,
      "outputs": []
    },
    {
      "cell_type": "code",
      "execution_count": null,
      "metadata": {
        "colab": {
          "base_uri": "https://localhost:8080/"
        },
        "id": "sAidUVrnPcfa",
        "outputId": "c89769f1-5302-4cb4-bac3-6039deeddd74"
      },
      "outputs": [
        {
          "name": "stdout",
          "output_type": "stream",
          "text": [
            "6\n",
            "5 4 3 2 3 4\n",
            "4 3 2 3 4 5\n",
            "3 2 9 5 6 6\n",
            "2 1 2 3 4 5\n",
            "3 2 1 6 5 4\n",
            "6 6 6 6 6 6\n"
          ]
        }
      ],
      "source": [
        "n = int(input())\n",
        "graph = [list(map(int, input().rstrip().split())) for _ in range(n)]"
      ]
    },
    {
      "cell_type": "code",
      "source": [
        "copy = [yy[:] for yy in graph]"
      ],
      "metadata": {
        "id": "LnymxWCGSEaB"
      },
      "execution_count": null,
      "outputs": []
    },
    {
      "cell_type": "code",
      "source": [
        "graph = [yy[:] for yy in copy]"
      ],
      "metadata": {
        "id": "npdYz0QBaHHy"
      },
      "execution_count": null,
      "outputs": []
    },
    {
      "cell_type": "code",
      "source": [
        "# 1순위 윗 방향 2순위 왼쪽 방향\n",
        "dr = [-1,0,0,1]\n",
        "dc = [0,-1,1,0]"
      ],
      "metadata": {
        "id": "NFYs4T5eRAOh"
      },
      "execution_count": null,
      "outputs": []
    },
    {
      "cell_type": "code",
      "source": [
        "tic = False\n",
        "for i in range(n):\n",
        "    for j in range(n):\n",
        "        if graph[i][j] == 9:\n",
        "            x, y = i, j\n",
        "            tic = True\n",
        "            break\n",
        "    if tic:\n",
        "        break"
      ],
      "metadata": {
        "id": "znLH3BFdRRHX"
      },
      "execution_count": null,
      "outputs": []
    },
    {
      "cell_type": "code",
      "source": [
        "t = 0\n",
        "size = 2\n",
        "stomach = 0"
      ],
      "metadata": {
        "id": "Nsv0iDu1Y0Es"
      },
      "execution_count": null,
      "outputs": []
    },
    {
      "cell_type": "code",
      "source": [
        "def dfs():\n",
        "    global x,y,size,stomach\n",
        "    visited = [[-1] * n for _ in range(n)]\n",
        "    visited[x][y] = 0\n",
        "    que = deque([(x,y)])\n",
        "    while que:\n",
        "        a, b = que.popleft()\n",
        "        for i, j in zip(dr,dc):\n",
        "            r = a + i\n",
        "            c = b + j\n",
        "            if 0 <= r < n and 0 <= c < n and visited[r][c] == -1:\n",
        "                # 먹이 획득\n",
        "                if 0 < graph[r][c] < size:\n",
        "                    graph[r][c] = 0\n",
        "                    stomach += 1\n",
        "                    # 상어 성장\n",
        "                    if stomach == size:\n",
        "                        size += 1\n",
        "                        stomach = 0\n",
        "                    x, y = r, c\n",
        "                    return visited[a][b] + 1\n",
        "                # 통과하는 경우\n",
        "                elif graph[r][c] == size or graph[r][c] == 0 or graph[r][c] == 9:\n",
        "                    visited[r][c] = visited[a][b] + 1\n",
        "                    que.append((r,c))\n",
        "                # 커서 통과를 못하는 경우\n",
        "                else:\n",
        "                    visited[r][c] = -2\n",
        "    else:\n",
        "        return 0"
      ],
      "metadata": {
        "id": "ZZt6qu6eSi4w"
      },
      "execution_count": null,
      "outputs": []
    },
    {
      "cell_type": "code",
      "source": [
        "for xx in graph:\n",
        "    print(xx)"
      ],
      "metadata": {
        "colab": {
          "base_uri": "https://localhost:8080/"
        },
        "id": "zvptxtVHW3yO",
        "outputId": "8967cca7-92e8-45dc-c2e1-1d8f7a2d57d0"
      },
      "execution_count": null,
      "outputs": [
        {
          "output_type": "stream",
          "name": "stdout",
          "text": [
            "[5, 4, 3, 2, 3, 4]\n",
            "[4, 3, 2, 3, 4, 5]\n",
            "[3, 2, 9, 5, 6, 6]\n",
            "[2, 1, 2, 3, 4, 5]\n",
            "[3, 2, 1, 6, 5, 4]\n",
            "[6, 6, 6, 6, 6, 6]\n"
          ]
        }
      ]
    },
    {
      "cell_type": "code",
      "source": [
        "while True:\n",
        "    dt = dfs()\n",
        "    if dt == 0:\n",
        "        print(t)\n",
        "        break\n",
        "    else:\n",
        "        print('dt = ',dt)\n",
        "        print('x,y = ',x,y)\n",
        "        t += dt"
      ],
      "metadata": {
        "colab": {
          "base_uri": "https://localhost:8080/"
        },
        "id": "YdzCAmVAWgQQ",
        "outputId": "84532854-5fb6-4574-f433-39eeb261805c"
      },
      "execution_count": null,
      "outputs": [
        {
          "output_type": "stream",
          "name": "stdout",
          "text": [
            "dt =  2\n",
            "x,y =  3 1\n",
            "dt =  2\n",
            "x,y =  4 2\n",
            "dt =  1\n",
            "x,y =  3 2\n",
            "dt =  2\n",
            "x,y =  1 2\n",
            "dt =  2\n",
            "x,y =  0 3\n",
            "dt =  1\n",
            "x,y =  0 2\n",
            "dt =  2\n",
            "x,y =  0 4\n",
            "dt =  2\n",
            "x,y =  1 3\n",
            "dt =  2\n",
            "x,y =  1 1\n",
            "dt =  1\n",
            "x,y =  0 1\n",
            "dt =  2\n",
            "x,y =  1 0\n",
            "dt =  1\n",
            "x,y =  2 0\n",
            "dt =  1\n",
            "x,y =  2 1\n",
            "dt =  2\n",
            "x,y =  3 0\n",
            "dt =  1\n",
            "x,y =  4 0\n",
            "dt =  1\n",
            "x,y =  4 1\n",
            "dt =  3\n",
            "x,y =  3 3\n",
            "dt =  1\n",
            "x,y =  2 3\n",
            "dt =  2\n",
            "x,y =  1 4\n",
            "dt =  1\n",
            "x,y =  1 5\n",
            "dt =  1\n",
            "x,y =  0 5\n",
            "dt =  2\n",
            "x,y =  2 5\n",
            "dt =  1\n",
            "x,y =  2 4\n",
            "dt =  1\n",
            "x,y =  3 4\n",
            "dt =  1\n",
            "x,y =  3 5\n",
            "dt =  1\n",
            "x,y =  4 5\n",
            "dt =  1\n",
            "x,y =  4 4\n",
            "dt =  1\n",
            "x,y =  4 3\n",
            "dt =  1\n",
            "x,y =  5 3\n",
            "dt =  1\n",
            "x,y =  5 2\n",
            "dt =  1\n",
            "x,y =  5 1\n",
            "dt =  1\n",
            "x,y =  5 0\n",
            "dt =  4\n",
            "x,y =  5 4\n",
            "dt =  1\n",
            "x,y =  5 5\n",
            "dt =  10\n",
            "x,y =  0 0\n",
            "60\n"
          ]
        }
      ]
    },
    {
      "cell_type": "code",
      "source": [
        "print(x,y)\n",
        "print(size, stomach)"
      ],
      "metadata": {
        "colab": {
          "base_uri": "https://localhost:8080/"
        },
        "id": "P-qmo7HwXV2Y",
        "outputId": "a04c5cde-8780-4b51-ee89-a2229629c6ca"
      },
      "execution_count": null,
      "outputs": [
        {
          "output_type": "stream",
          "name": "stdout",
          "text": [
            "2 2\n",
            "3 2\n"
          ]
        }
      ]
    },
    {
      "cell_type": "markdown",
      "source": [
        "위 과정에서 0,2에서 원래는 0.4를 가야하는데 1,1를 도달하는 오류가 발견되었다. 단순히 dr dc의 순서로 구별할 수는 없다."
      ],
      "metadata": {
        "id": "gjFVUNv4fyE6"
      }
    },
    {
      "cell_type": "code",
      "source": [
        "def dfs():\n",
        "    global x,y,size,stomach\n",
        "    visited = [[-1] * n for _ in range(n)]\n",
        "    visited[x][y] = 0\n",
        "    que = deque([(x,y)])\n",
        "    max_r, max_c = n, n\n",
        "    dis = 3*n\n",
        "    switch = False\n",
        "    while que:\n",
        "        a, b = que.popleft()\n",
        "        if visited[a][b] < dis:\n",
        "            for i, j in zip(dr,dc):\n",
        "                r = a + i\n",
        "                c = b + j\n",
        "                if 0 <= r < n and 0 <= c < n and visited[r][c] == -1 :\n",
        "                    # 먹이 획득\n",
        "                    if 0 < graph[r][c] < size:\n",
        "                        dis = visited[a][b] + 1\n",
        "                        # 같은 거리의 먹이보다 위에 있고 왼쪽에 있는지 확인\n",
        "                        if r < max_r or (r == max_r and c < max_c):\n",
        "                            max_r, max_c = r, c\n",
        "                            switch = True\n",
        "                            visited[r][c] = visited[a][b] + 1\n",
        "                        # 필요 없을 때\n",
        "                        else:\n",
        "                            visited[r][c] = -2\n",
        "                    # 통과하는 경우\n",
        "                    elif graph[r][c] == size or graph[r][c] == 0 or graph[r][c] == 9:\n",
        "                        visited[r][c] = visited[a][b] + 1\n",
        "                        que.append((r,c))\n",
        "                    # 커서 통과를 못하는 경우\n",
        "                    else:\n",
        "                        visited[r][c] = -2\n",
        "    else:\n",
        "        if switch:\n",
        "            graph[max_r][max_c] = 0\n",
        "            stomach += 1\n",
        "            # 상어 성장\n",
        "            if stomach == size:\n",
        "                size += 1\n",
        "                stomach = 0\n",
        "            x, y = max_r, max_c\n",
        "            return visited[x][y]\n",
        "        else:\n",
        "            return 0"
      ],
      "metadata": {
        "id": "c3ICko1YgGkC"
      },
      "execution_count": null,
      "outputs": []
    },
    {
      "cell_type": "markdown",
      "source": [
        "제출본"
      ],
      "metadata": {
        "id": "Oc7siW87j3cI"
      }
    },
    {
      "cell_type": "code",
      "source": [
        "from collections import deque\n",
        "import sys\n",
        "#input = sys.stdin.readline\n",
        "\n",
        "# 입력\n",
        "n = int(input())\n",
        "graph = [list(map(int, input().rstrip().split())) for _ in range(n)]\n",
        "\n",
        "# 1순위 윗 방향 2순위 왼쪽 방향(추가로 과정이 필요함)\n",
        "dr = [-1,0,0,1]\n",
        "dc = [0,-1,1,0]\n",
        "\n",
        "# 초기 상어 위치\n",
        "tic = False\n",
        "for i in range(n):\n",
        "    for j in range(n):\n",
        "        if graph[i][j] == 9:\n",
        "            x, y = i, j\n",
        "            tic = True\n",
        "            graph[i][j] = 0\n",
        "            break\n",
        "    if tic:\n",
        "        break\n",
        "\n",
        "t = 0\n",
        "size = 2\n",
        "stomach = 0\n",
        "\n",
        "def bfs():\n",
        "    global x,y,size,stomach\n",
        "    visited = [[-1] * n for _ in range(n)]\n",
        "    visited[x][y] = 0\n",
        "    que = deque([(x,y)])\n",
        "\n",
        "    # 최단거리를 찾았을 때 r,c의 좌표와 그때의 거리\n",
        "    max_r, max_c = n, n\n",
        "    dis = 401\n",
        "\n",
        "    # 최단거리를 찾았을 때 True로 바뀌는 스위치\n",
        "    switch = False\n",
        "\n",
        "    while que:\n",
        "        a, b = que.popleft()\n",
        "        # 최단거리보다 짧은지 확인 >> 이것보다 멀다면 탐색할 이유가 없음\n",
        "        if visited[a][b] < dis:\n",
        "            for i, j in zip(dr,dc):\n",
        "                r = a + i\n",
        "                c = b + j\n",
        "                # grpah안에 있고 방문 여부 확인\n",
        "                if 0 <= r < n and 0 <= c < n and visited[r][c] == -1:\n",
        "\n",
        "                    # case 1 : 먹이 획득(size보다 작은 먹이 발견 시)\n",
        "                    if 0 < graph[r][c] < size:\n",
        "                        dis = visited[a][b] + 1 # 최단거리 변경\n",
        "\n",
        "                        # 같은 거리의 먹이보다 위에 있고 왼쪽에 있는지 확인\n",
        "                        if r < max_r or (r == max_r and c < max_c):\n",
        "                            max_r, max_c = r, c\n",
        "                            switch = True\n",
        "                            visited[r][c] = visited[a][b] + 1\n",
        "                        # 기존 최단거리보다 우선순위에서 밀려날 때\n",
        "                        else:\n",
        "                            visited[r][c] = -2\n",
        "\n",
        "                    # case 2 : 통과하는 경우(먹이와 size가 같거나 먹이가 없는 경우)\n",
        "                    elif graph[r][c] == size or graph[r][c] == 0:\n",
        "                        visited[r][c] = visited[a][b] + 1\n",
        "                        que.append((r,c))\n",
        "                    # case 3 : 먹이의 크기가 size보다 커서 통과를 못하는 경우\n",
        "                    else:\n",
        "                        visited[r][c] = -2\n",
        "    else:\n",
        "        # 먹이 발견 시\n",
        "        if switch:\n",
        "            graph[max_r][max_c] = 0   # 먹이 칸을 0으로 변경\n",
        "            stomach += 1              # 먹이 먹은 표시\n",
        "\n",
        "            # 상어 size 성장\n",
        "            if stomach == size:\n",
        "                size += 1\n",
        "                stomach = 0\n",
        "            \n",
        "            x, y = max_r, max_c # 새롭게 상어 위치 좌표 변경\n",
        "            return visited[x][y]\n",
        "\n",
        "        # 먹이를 발견 못했을 경우\n",
        "        else:\n",
        "            return 0\n",
        "\n",
        "# 출력파트\n",
        "while True:\n",
        "    dt = bfs()\n",
        "    if dt == 0:\n",
        "        print(t)\n",
        "        break\n",
        "    else:\n",
        "        t += dt"
      ],
      "metadata": {
        "colab": {
          "base_uri": "https://localhost:8080/"
        },
        "id": "H1CT30elj6hO",
        "outputId": "ada5f3d1-16b9-4aeb-e06c-ca23a534ea60"
      },
      "execution_count": 9,
      "outputs": [
        {
          "output_type": "stream",
          "name": "stdout",
          "text": [
            "6\n",
            "1 1 1 1 1 1\n",
            "2 2 6 2 2 3\n",
            "2 2 5 2 2 3\n",
            "2 2 2 4 6 3\n",
            "0 0 0 0 0 6\n",
            "0 0 0 0 0 9\n",
            "39\n"
          ]
        }
      ]
    },
    {
      "cell_type": "markdown",
      "source": [
        "초기 distance설정을 너무 작게 잡아서 n의 최대값이 20이므로\n",
        "\n",
        "20*20+1로 변경 후 통과"
      ],
      "metadata": {
        "id": "ZIq5WAn1dT7r"
      }
    }
  ]
}
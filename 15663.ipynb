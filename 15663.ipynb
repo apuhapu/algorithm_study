{
  "nbformat": 4,
  "nbformat_minor": 0,
  "metadata": {
    "colab": {
      "name": "15663.ipynb",
      "provenance": [],
      "authorship_tag": "ABX9TyP7dSJ55nVtp0mkN5Lt1bqG",
      "include_colab_link": true
    },
    "kernelspec": {
      "name": "python3",
      "display_name": "Python 3"
    },
    "language_info": {
      "name": "python"
    }
  },
  "cells": [
    {
      "cell_type": "markdown",
      "metadata": {
        "id": "view-in-github",
        "colab_type": "text"
      },
      "source": [
        "<a href=\"https://colab.research.google.com/github/apuhapu/algorithm_study/blob/main/15663.ipynb\" target=\"_parent\"><img src=\"https://colab.research.google.com/assets/colab-badge.svg\" alt=\"Open In Colab\"/></a>"
      ]
    },
    {
      "cell_type": "markdown",
      "source": [
        "https://www.acmicpc.net/problem/15663"
      ],
      "metadata": {
        "id": "MmzwsZiu6o0Y"
      }
    },
    {
      "cell_type": "markdown",
      "source": [
        "인덱스 중복 X, 입력 숫자 중복 가능"
      ],
      "metadata": {
        "id": "C_6nmlde6qCv"
      }
    },
    {
      "cell_type": "code",
      "execution_count": 1,
      "metadata": {
        "colab": {
          "base_uri": "https://localhost:8080/"
        },
        "id": "_syrohC16nJe",
        "outputId": "e80fab85-f5f0-45f9-b877-c75a7a182194"
      },
      "outputs": [
        {
          "name": "stdout",
          "output_type": "stream",
          "text": [
            "4 2\n",
            "9 7 9 1\n"
          ]
        }
      ],
      "source": [
        "n, m = map(int, input().split())\n",
        "lst = list(map(int, input().split()))\n",
        "visited = [False] * (n + 1)\n",
        "answer = []"
      ]
    },
    {
      "cell_type": "code",
      "source": [
        "lst.sort()"
      ],
      "metadata": {
        "id": "g-qZMf4K66At"
      },
      "execution_count": 2,
      "outputs": []
    },
    {
      "cell_type": "code",
      "source": [
        "lst"
      ],
      "metadata": {
        "colab": {
          "base_uri": "https://localhost:8080/"
        },
        "id": "-Ri5jR0n7AT4",
        "outputId": "1e05dab9-7204-4ccd-a3d5-22dca3e0b56b"
      },
      "execution_count": 3,
      "outputs": [
        {
          "output_type": "execute_result",
          "data": {
            "text/plain": [
              "[1, 7, 9, 9]"
            ]
          },
          "metadata": {},
          "execution_count": 3
        }
      ]
    },
    {
      "cell_type": "code",
      "source": [
        "def series(lth, n, m):\n",
        "    if lth == m:\n",
        "        print(' '.join(map(str, answer)))\n",
        "        \n",
        "    else:\n",
        "        for i in range(1, n+1):\n",
        "            if not visited[i]:\n",
        "                visited[i] = True\n",
        "                answer.append(lst[i-1])\n",
        "                series(lth + 1, n, m)\n",
        "                answer.pop()\n",
        "                visited[i] = False"
      ],
      "metadata": {
        "id": "q7zRPaEQ63wa"
      },
      "execution_count": 4,
      "outputs": []
    },
    {
      "cell_type": "code",
      "source": [
        "series(0,n,m)"
      ],
      "metadata": {
        "colab": {
          "base_uri": "https://localhost:8080/"
        },
        "id": "NF6mSQFV61dx",
        "outputId": "7c05ab62-c080-4664-ffe3-1d05be255752"
      },
      "execution_count": 5,
      "outputs": [
        {
          "output_type": "stream",
          "name": "stdout",
          "text": [
            "1 7\n",
            "1 9\n",
            "1 9\n",
            "7 1\n",
            "7 9\n",
            "7 9\n",
            "9 1\n",
            "9 7\n",
            "9 9\n",
            "9 1\n",
            "9 7\n",
            "9 9\n"
          ]
        }
      ]
    },
    {
      "cell_type": "markdown",
      "source": [
        "중복 숫자에 대한 중복 수열을 제거할 필요가 있음"
      ],
      "metadata": {
        "id": "B4TF31sH74mu"
      }
    },
    {
      "cell_type": "code",
      "source": [
        "output = []"
      ],
      "metadata": {
        "id": "J6yUFXZ78gOf"
      },
      "execution_count": 11,
      "outputs": []
    },
    {
      "cell_type": "code",
      "source": [
        "def series(lth, n, m):\n",
        "    if lth == m:\n",
        "        output.append(' '.join(map(str, answer)))\n",
        "        \n",
        "    else:\n",
        "        for i in range(1, n+1):\n",
        "            if not visited[i]:\n",
        "                visited[i] = True\n",
        "                answer.append(lst[i-1])\n",
        "                series(lth + 1, n, m)\n",
        "                answer.pop()\n",
        "                visited[i] = False"
      ],
      "metadata": {
        "id": "RdjrL1K28Hcy"
      },
      "execution_count": 7,
      "outputs": []
    },
    {
      "cell_type": "code",
      "source": [
        "series(0,n,m)"
      ],
      "metadata": {
        "id": "THqPQEyr8kiS"
      },
      "execution_count": 12,
      "outputs": []
    },
    {
      "cell_type": "code",
      "source": [
        "output"
      ],
      "metadata": {
        "colab": {
          "base_uri": "https://localhost:8080/"
        },
        "id": "llu6BTxX85pJ",
        "outputId": "137d5b11-7721-4183-fa2b-7aad8949325a"
      },
      "execution_count": 13,
      "outputs": [
        {
          "output_type": "execute_result",
          "data": {
            "text/plain": [
              "['1 7',\n",
              " '1 9',\n",
              " '1 9',\n",
              " '7 1',\n",
              " '7 9',\n",
              " '7 9',\n",
              " '9 1',\n",
              " '9 7',\n",
              " '9 9',\n",
              " '9 1',\n",
              " '9 7',\n",
              " '9 9']"
            ]
          },
          "metadata": {},
          "execution_count": 13
        }
      ]
    },
    {
      "cell_type": "code",
      "source": [
        "output2 = set(output)"
      ],
      "metadata": {
        "id": "VrMnqNwq8mYM"
      },
      "execution_count": 14,
      "outputs": []
    },
    {
      "cell_type": "code",
      "source": [
        "output2"
      ],
      "metadata": {
        "colab": {
          "base_uri": "https://localhost:8080/"
        },
        "id": "-DWZXof98_79",
        "outputId": "34292d2e-3956-43a8-b68d-f498de351c9f"
      },
      "execution_count": 17,
      "outputs": [
        {
          "output_type": "execute_result",
          "data": {
            "text/plain": [
              "{'1 7', '1 9', '7 1', '7 9', '9 1', '9 7', '9 9'}"
            ]
          },
          "metadata": {},
          "execution_count": 17
        }
      ]
    },
    {
      "cell_type": "code",
      "source": [
        "output3 = list(output2)"
      ],
      "metadata": {
        "id": "XDBxj-bf9e9x"
      },
      "execution_count": 22,
      "outputs": []
    },
    {
      "cell_type": "code",
      "source": [
        "output3.sort()"
      ],
      "metadata": {
        "id": "sGYjNlV-9lpU"
      },
      "execution_count": 24,
      "outputs": []
    },
    {
      "cell_type": "code",
      "source": [
        "output3"
      ],
      "metadata": {
        "colab": {
          "base_uri": "https://localhost:8080/"
        },
        "id": "HtJeIh5E9qcD",
        "outputId": "34d80f78-0fa3-47cf-cee4-bc285366b22b"
      },
      "execution_count": 25,
      "outputs": [
        {
          "output_type": "execute_result",
          "data": {
            "text/plain": [
              "['1 7', '1 9', '7 1', '7 9', '9 1', '9 7', '9 9']"
            ]
          },
          "metadata": {},
          "execution_count": 25
        }
      ]
    },
    {
      "cell_type": "code",
      "source": [
        "len(output2)"
      ],
      "metadata": {
        "colab": {
          "base_uri": "https://localhost:8080/"
        },
        "id": "Mz1gOxZo9RsM",
        "outputId": "adb46200-d861-41b4-dea2-4f42ecf2a9b1"
      },
      "execution_count": 18,
      "outputs": [
        {
          "output_type": "execute_result",
          "data": {
            "text/plain": [
              "7"
            ]
          },
          "metadata": {},
          "execution_count": 18
        }
      ]
    },
    {
      "cell_type": "code",
      "source": [
        "for i in output3:\n",
        "    print(i)"
      ],
      "metadata": {
        "colab": {
          "base_uri": "https://localhost:8080/"
        },
        "id": "ryTh6W468t8W",
        "outputId": "d129625f-9622-4401-a9d4-389e2a2b75ba"
      },
      "execution_count": 26,
      "outputs": [
        {
          "output_type": "stream",
          "name": "stdout",
          "text": [
            "1 7\n",
            "1 9\n",
            "7 1\n",
            "7 9\n",
            "9 1\n",
            "9 7\n",
            "9 9\n"
          ]
        }
      ]
    },
    {
      "cell_type": "markdown",
      "source": [
        "1차 제출안"
      ],
      "metadata": {
        "id": "3o0KeRWm98jD"
      }
    },
    {
      "cell_type": "code",
      "source": [
        "n, m = map(int, input().split())\n",
        "lst = list(map(int, input().split()))\n",
        "visited = [False] * (n + 1)\n",
        "answer = []\n",
        "lst.sort()\n",
        "output = []\n",
        "\n",
        "def series(lth, n, m):\n",
        "    if lth == m:\n",
        "        output.append(' '.join(map(str, answer)))\n",
        "        \n",
        "    else:\n",
        "        for i in range(1, n+1):\n",
        "            if not visited[i]:\n",
        "                visited[i] = True\n",
        "                answer.append(lst[i-1])\n",
        "                series(lth + 1, n, m)\n",
        "                answer.pop()\n",
        "                visited[i] = False\n",
        "\n",
        "series(0,n,m)\n",
        "output = list(set(output))\n",
        "output.sort()\n",
        "\n",
        "for i in output:\n",
        "    print(i)"
      ],
      "metadata": {
        "colab": {
          "base_uri": "https://localhost:8080/"
        },
        "id": "mV-63LyL945a",
        "outputId": "65d4594b-33e1-4edd-92ed-a52c8ce1425c"
      },
      "execution_count": 36,
      "outputs": [
        {
          "output_type": "stream",
          "name": "stdout",
          "text": [
            "3 1\n",
            "1 19 2\n",
            "1\n",
            "19\n",
            "2\n"
          ]
        }
      ]
    },
    {
      "cell_type": "markdown",
      "source": [
        "output에 추가할 때 문자열로 추가하여 문제가 생김\n",
        "\n",
        "수정 필"
      ],
      "metadata": {
        "id": "GecvqZBn_eSG"
      }
    },
    {
      "cell_type": "code",
      "source": [
        "n, m = map(int, input().split())\n",
        "lst = list(map(int, input().split()))\n",
        "visited = [False] * (n + 1)\n",
        "answer = []\n",
        "lst.sort()\n",
        "output = []\n",
        "\n",
        "def series(lth, n, m):\n",
        "    if lth == m:\n",
        "        x = ' '.join(map(str, answer))\n",
        "        if x not in output:\n",
        "            print(x)\n",
        "            output.append(x)\n",
        "        \n",
        "    else:\n",
        "        for i in range(1, n+1):\n",
        "            if not visited[i]:\n",
        "                visited[i] = True\n",
        "                answer.append(lst[i-1])\n",
        "                series(lth + 1, n, m)\n",
        "                answer.pop()\n",
        "                visited[i] = False\n",
        "\n",
        "series(0,n,m)"
      ],
      "metadata": {
        "colab": {
          "base_uri": "https://localhost:8080/"
        },
        "id": "pM2s3H-F_lMS",
        "outputId": "8bc3d7c2-007c-465e-f670-3852a42d5975"
      },
      "execution_count": 49,
      "outputs": [
        {
          "output_type": "stream",
          "name": "stdout",
          "text": [
            "4 2\n",
            "9 7 9 1\n",
            "1 7\n",
            "1 9\n",
            "7 1\n",
            "7 9\n",
            "9 1\n",
            "9 7\n",
            "9 9\n"
          ]
        }
      ]
    }
  ]
}
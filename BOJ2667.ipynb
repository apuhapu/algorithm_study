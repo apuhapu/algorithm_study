{
  "nbformat": 4,
  "nbformat_minor": 0,
  "metadata": {
    "colab": {
      "provenance": [],
      "authorship_tag": "ABX9TyMJ+/hFJMLOd5EyHDYhVkKr",
      "include_colab_link": true
    },
    "kernelspec": {
      "name": "python3",
      "display_name": "Python 3"
    },
    "language_info": {
      "name": "python"
    }
  },
  "cells": [
    {
      "cell_type": "markdown",
      "metadata": {
        "id": "view-in-github",
        "colab_type": "text"
      },
      "source": [
        "<a href=\"https://colab.research.google.com/github/apuhapu/algorithm_study/blob/main/BOJ2667.ipynb\" target=\"_parent\"><img src=\"https://colab.research.google.com/assets/colab-badge.svg\" alt=\"Open In Colab\"/></a>"
      ]
    },
    {
      "cell_type": "markdown",
      "source": [
        "https://www.acmicpc.net/problem/2667"
      ],
      "metadata": {
        "id": "pcXVvZ4FoJKa"
      }
    },
    {
      "cell_type": "code",
      "execution_count": 6,
      "metadata": {
        "id": "_cefGXu1oGPu"
      },
      "outputs": [],
      "source": [
        "import sys\n",
        "from collections import deque\n",
        "# input = sys.stdin.readline"
      ]
    },
    {
      "cell_type": "code",
      "source": [
        "n = int(input())\n",
        "board = [ list( map( int, str( input().rstrip() ) ) ) for _ in range(n)]"
      ],
      "metadata": {
        "colab": {
          "base_uri": "https://localhost:8080/"
        },
        "id": "FL7WZ-2roN1Y",
        "outputId": "33491ebf-4f15-4924-f764-a8ff1e212761"
      },
      "execution_count": 2,
      "outputs": [
        {
          "name": "stdout",
          "output_type": "stream",
          "text": [
            "7\n",
            "0110100\n",
            "0110101\n",
            "1110101\n",
            "0000111\n",
            "0100000\n",
            "0111110\n",
            "0111000\n"
          ]
        }
      ]
    },
    {
      "cell_type": "code",
      "source": [
        "board"
      ],
      "metadata": {
        "colab": {
          "base_uri": "https://localhost:8080/"
        },
        "id": "0hKfT8qwop4q",
        "outputId": "97688545-b942-4a0f-c809-773d757a5a9b"
      },
      "execution_count": 26,
      "outputs": [
        {
          "output_type": "execute_result",
          "data": {
            "text/plain": [
              "[[0, 0, 0, 0, 0, 0, 0],\n",
              " [0, 0, 0, 0, 0, 0, 0],\n",
              " [0, 0, 0, 0, 0, 0, 0],\n",
              " [0, 0, 0, 0, 0, 0, 0],\n",
              " [0, 0, 0, 0, 0, 0, 0],\n",
              " [0, 0, 0, 0, 0, 0, 0],\n",
              " [0, 0, 0, 0, 0, 0, 0]]"
            ]
          },
          "metadata": {},
          "execution_count": 26
        }
      ]
    },
    {
      "cell_type": "code",
      "source": [
        "def bfs(board, node):\n",
        "    que = deque([node])\n",
        "    temp = 0  # 한 군락의 주택 수\n",
        "    dr = [1,-1,0,0]\n",
        "    dc = [0,0,1,-1]\n",
        "\n",
        "    while que:\n",
        "        r,c = que.popleft()\n",
        "        if board[r][c] == 1:\n",
        "            board[r][c] = 0\n",
        "            temp += 1\n",
        "\n",
        "            for i in range(4):\n",
        "                rr = r + dr[i]\n",
        "                cc = c + dc[i]\n",
        "                if 0 <= rr < n and 0 <= cc < n:\n",
        "                    if board[rr][cc] == 1:\n",
        "                        que.append((rr,cc))\n",
        "\n",
        "    return temp"
      ],
      "metadata": {
        "id": "tu-5PnlNo1zS"
      },
      "execution_count": 19,
      "outputs": []
    },
    {
      "cell_type": "code",
      "source": [
        "lst = []\n",
        "for i in range(n):\n",
        "    for j in range(n):\n",
        "        if board[i][j] == 1:\n",
        "            lst.append( bfs(board, (i,j)) )"
      ],
      "metadata": {
        "id": "CBKwFSWssEFW"
      },
      "execution_count": 23,
      "outputs": []
    },
    {
      "cell_type": "code",
      "source": [
        "lst.sort()"
      ],
      "metadata": {
        "id": "y6mbK5wTuvrE"
      },
      "execution_count": 24,
      "outputs": []
    },
    {
      "cell_type": "code",
      "source": [
        "print(len(lst))\n",
        "for l in lst:\n",
        "    print(l)"
      ],
      "metadata": {
        "colab": {
          "base_uri": "https://localhost:8080/"
        },
        "id": "KSWRx8cAuyng",
        "outputId": "b2aec3de-6acf-4148-9ea2-edb885f3e726"
      },
      "execution_count": 27,
      "outputs": [
        {
          "output_type": "stream",
          "name": "stdout",
          "text": [
            "2\n",
            "8\n",
            "9\n"
          ]
        }
      ]
    },
    {
      "cell_type": "markdown",
      "source": [
        "1차 제출본"
      ],
      "metadata": {
        "id": "jRt8ID2MwFAx"
      }
    },
    {
      "cell_type": "code",
      "source": [
        "import sys\n",
        "from collections import deque\n",
        "input = sys.stdin.readline\n",
        "\n",
        "def bfs(board, node):\n",
        "    que = deque([node])\n",
        "    temp = 0  # 한 군락의 주택 수\n",
        "    dr = [1,-1,0,0]\n",
        "    dc = [0,0,1,-1]\n",
        "\n",
        "    while que:\n",
        "        r,c = que.popleft()\n",
        "        if board[r][c] == 1:\n",
        "            board[r][c] = 0\n",
        "            temp += 1\n",
        "\n",
        "            for i in range(4):\n",
        "                rr = r + dr[i]\n",
        "                cc = c + dc[i]\n",
        "                if 0 <= rr < n and 0 <= cc < n:\n",
        "                    if board[rr][cc] == 1:\n",
        "                        que.append((rr,cc))\n",
        "\n",
        "    return temp\n",
        "\n",
        "\n",
        "n = int(input())\n",
        "board = [ list( map( int, str( input().rstrip() ) ) ) for _ in range(n)]\n",
        "\n",
        "lst = []  # 주택 단지 수 리스트\n",
        "for i in range(n):\n",
        "    for j in range(n):\n",
        "        if board[i][j] == 1:\n",
        "            lst.append( bfs(board, (i,j)) )\n",
        "\n",
        "lst.sort() # 오름차순\n",
        "\n",
        "# 출력\n",
        "print(len(lst))\n",
        "for l in lst:\n",
        "    print(l)"
      ],
      "metadata": {
        "id": "X0QxgQETwIRn"
      },
      "execution_count": null,
      "outputs": []
    }
  ]
}
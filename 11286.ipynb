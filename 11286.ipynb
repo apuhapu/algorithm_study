{
  "nbformat": 4,
  "nbformat_minor": 0,
  "metadata": {
    "colab": {
      "name": "11286.ipynb",
      "provenance": [],
      "authorship_tag": "ABX9TyNr8IwGFRTrsN1vyErzQsfj",
      "include_colab_link": true
    },
    "kernelspec": {
      "name": "python3",
      "display_name": "Python 3"
    },
    "language_info": {
      "name": "python"
    }
  },
  "cells": [
    {
      "cell_type": "markdown",
      "metadata": {
        "id": "view-in-github",
        "colab_type": "text"
      },
      "source": [
        "<a href=\"https://colab.research.google.com/github/apuhapu/algorithm_study/blob/main/11286.ipynb\" target=\"_parent\"><img src=\"https://colab.research.google.com/assets/colab-badge.svg\" alt=\"Open In Colab\"/></a>"
      ]
    },
    {
      "cell_type": "markdown",
      "source": [
        "https://www.acmicpc.net/problem/11286"
      ],
      "metadata": {
        "id": "Ooh0wQJb6CFY"
      }
    },
    {
      "cell_type": "code",
      "execution_count": 1,
      "metadata": {
        "id": "EtpJYKHU5--z"
      },
      "outputs": [],
      "source": [
        "import heapq"
      ]
    },
    {
      "cell_type": "code",
      "source": [
        "heap = []"
      ],
      "metadata": {
        "id": "gk01_FtO6MGZ"
      },
      "execution_count": 6,
      "outputs": []
    },
    {
      "cell_type": "code",
      "source": [
        "n = 18"
      ],
      "metadata": {
        "id": "7bzhRpnm6SKU"
      },
      "execution_count": 3,
      "outputs": []
    },
    {
      "cell_type": "code",
      "source": [
        "for _ in range(n):\n",
        "    x = int(input().rstrip())\n",
        "    if x == 0:\n",
        "        if len(heap) == 0:\n",
        "            print(0)\n",
        "        else:\n",
        "            print(heapq.heappop(heap)[1])\n",
        "    else:\n",
        "        heapq.heappush(heap, (abs(x),x))"
      ],
      "metadata": {
        "colab": {
          "base_uri": "https://localhost:8080/"
        },
        "id": "-PgIB53u6Xr5",
        "outputId": "0314840d-bee2-4b63-ee82-5c84fc6cc250"
      },
      "execution_count": 7,
      "outputs": [
        {
          "output_type": "stream",
          "name": "stdout",
          "text": [
            "1\n",
            "-1\n",
            "0\n",
            "-1\n",
            "0\n",
            "1\n",
            "0\n",
            "0\n",
            "1\n",
            "1\n",
            "-1\n",
            "-1\n",
            "2\n",
            "-2\n",
            "0\n",
            "-1\n",
            "0\n",
            "-1\n",
            "0\n",
            "1\n",
            "0\n",
            "1\n",
            "0\n",
            "-2\n",
            "0\n",
            "2\n",
            "0\n",
            "0\n"
          ]
        }
      ]
    },
    {
      "cell_type": "markdown",
      "source": [
        "모듈이 편하다! (튜플로 저렇게 활용이 편한듯)"
      ],
      "metadata": {
        "id": "Sl09Ihtg7pD1"
      }
    }
  ]
}
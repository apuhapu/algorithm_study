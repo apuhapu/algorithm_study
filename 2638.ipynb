{
  "nbformat": 4,
  "nbformat_minor": 0,
  "metadata": {
    "colab": {
      "name": "2638.ipynb",
      "provenance": [],
      "authorship_tag": "ABX9TyO1IrXcJNfVD/PQhGOSHNA9",
      "include_colab_link": true
    },
    "kernelspec": {
      "name": "python3",
      "display_name": "Python 3"
    },
    "language_info": {
      "name": "python"
    }
  },
  "cells": [
    {
      "cell_type": "markdown",
      "metadata": {
        "id": "view-in-github",
        "colab_type": "text"
      },
      "source": [
        "<a href=\"https://colab.research.google.com/github/apuhapu/algorithm_study/blob/main/2638.ipynb\" target=\"_parent\"><img src=\"https://colab.research.google.com/assets/colab-badge.svg\" alt=\"Open In Colab\"/></a>"
      ]
    },
    {
      "cell_type": "markdown",
      "source": [
        "https://www.acmicpc.net/problem/2638"
      ],
      "metadata": {
        "id": "nxoYjfHHz5PN"
      }
    },
    {
      "cell_type": "code",
      "execution_count": 1,
      "metadata": {
        "id": "J9LocK18z0pX"
      },
      "outputs": [],
      "source": [
        "from collections import deque"
      ]
    },
    {
      "cell_type": "code",
      "source": [
        "n, m = map(int, input().rstrip().split())\n",
        "graph = [list(map(int, input().rstrip().split())) for _ in range(n)]"
      ],
      "metadata": {
        "colab": {
          "base_uri": "https://localhost:8080/"
        },
        "id": "RAw_WtEj0CWc",
        "outputId": "6e252c74-8e7b-435d-f331-a5e982244633"
      },
      "execution_count": 2,
      "outputs": [
        {
          "name": "stdout",
          "output_type": "stream",
          "text": [
            "8 9\n",
            "0 0 0 0 0 0 0 0 0\n",
            "0 0 0 1 1 0 0 0 0\n",
            "0 0 0 1 1 0 1 1 0\n",
            "0 0 1 1 1 1 1 1 0\n",
            "0 0 1 1 1 1 1 0 0\n",
            "0 0 1 1 0 1 1 0 0\n",
            "0 0 0 0 0 0 0 0 0\n",
            "0 0 0 0 0 0 0 0 0\n"
          ]
        }
      ]
    },
    {
      "cell_type": "code",
      "source": [
        "visited = [[False] * m for _ in range(n)] # T : 실외공기"
      ],
      "metadata": {
        "id": "np4dFHiI1ceX"
      },
      "execution_count": 28,
      "outputs": []
    },
    {
      "cell_type": "code",
      "source": [
        "dr = [1,-1,0,0]\n",
        "dc = [0,0,1,-1]"
      ],
      "metadata": {
        "id": "yr6iRwUG2raY"
      },
      "execution_count": 29,
      "outputs": []
    },
    {
      "cell_type": "code",
      "source": [
        "def dfs(que):\n",
        "    for aa, bb in que:\n",
        "        visited[aa][bb] = True\n",
        "    while que:\n",
        "        a, b = que.popleft()\n",
        "        for i in range(4):\n",
        "            r = a + dr[i]\n",
        "            c = b + dc[i]\n",
        "            if 0<=r<n and 0<=c<m and not visited[r][c] and graph[r][c] == 0:\n",
        "                visited[r][c] = True\n",
        "                que.append((r,c))"
      ],
      "metadata": {
        "id": "8BycrwDt2xpa"
      },
      "execution_count": 30,
      "outputs": []
    },
    {
      "cell_type": "code",
      "source": [
        "que = deque([(0,0)])"
      ],
      "metadata": {
        "id": "5NbLiUdi_cEJ"
      },
      "execution_count": 31,
      "outputs": []
    },
    {
      "cell_type": "code",
      "source": [
        "dfs(que)"
      ],
      "metadata": {
        "id": "MRkpiiH036-V"
      },
      "execution_count": 32,
      "outputs": []
    },
    {
      "cell_type": "code",
      "source": [
        "visited"
      ],
      "metadata": {
        "colab": {
          "base_uri": "https://localhost:8080/"
        },
        "id": "glgWGB1h3_6e",
        "outputId": "9c445400-5594-445a-9740-83f53be39dd3"
      },
      "execution_count": 33,
      "outputs": [
        {
          "output_type": "execute_result",
          "data": {
            "text/plain": [
              "[[True, True, True, True, True, True, True, True, True],\n",
              " [True, True, True, False, False, True, True, True, True],\n",
              " [True, True, True, False, False, True, False, False, True],\n",
              " [True, True, False, False, False, False, False, False, True],\n",
              " [True, True, False, False, False, False, False, True, True],\n",
              " [True, True, False, False, True, False, False, True, True],\n",
              " [True, True, True, True, True, True, True, True, True],\n",
              " [True, True, True, True, True, True, True, True, True]]"
            ]
          },
          "metadata": {},
          "execution_count": 33
        }
      ]
    },
    {
      "cell_type": "code",
      "source": [
        "cheese = deque([])\n",
        "cnt = 0\n",
        "for i in range(n):\n",
        "    for j in range(m):\n",
        "        if graph[i][j] == 1:\n",
        "            cheese.append((i,j))\n",
        "            cnt += 1"
      ],
      "metadata": {
        "id": "Z66IIg0d7Y_j"
      },
      "execution_count": 34,
      "outputs": []
    },
    {
      "cell_type": "code",
      "source": [
        "cheese"
      ],
      "metadata": {
        "colab": {
          "base_uri": "https://localhost:8080/"
        },
        "id": "PLYS-Tgs9SYv",
        "outputId": "56153aa1-f34c-482f-ac35-f08e43057b9e"
      },
      "execution_count": 35,
      "outputs": [
        {
          "output_type": "execute_result",
          "data": {
            "text/plain": [
              "deque([(1, 3),\n",
              "       (1, 4),\n",
              "       (2, 3),\n",
              "       (2, 4),\n",
              "       (2, 6),\n",
              "       (2, 7),\n",
              "       (3, 2),\n",
              "       (3, 3),\n",
              "       (3, 4),\n",
              "       (3, 5),\n",
              "       (3, 6),\n",
              "       (3, 7),\n",
              "       (4, 2),\n",
              "       (4, 3),\n",
              "       (4, 4),\n",
              "       (4, 5),\n",
              "       (4, 6),\n",
              "       (5, 2),\n",
              "       (5, 3),\n",
              "       (5, 5),\n",
              "       (5, 6)])"
            ]
          },
          "metadata": {},
          "execution_count": 35
        }
      ]
    },
    {
      "cell_type": "code",
      "source": [
        "hour = 0\n",
        "while cheese:\n",
        "    for _ in range(cnt):\n",
        "        a, b = cheese[0]\n",
        "        t = 0\n",
        "        for i in range(4):\n",
        "            if t >= 2:\n",
        "                break\n",
        "            r = a + dr[i]\n",
        "            c = b + dc[i]\n",
        "            if visited[r][c]:\n",
        "                t += 1\n",
        "        if t >= 2:\n",
        "            que.append(cheese.popleft())\n",
        "            cnt -= 1\n",
        "        else:\n",
        "            cheese.rotate(-1)\n",
        "    \n",
        "    dfs(que)\n",
        "    hour += 1\n",
        "else:\n",
        "    print(hour)"
      ],
      "metadata": {
        "colab": {
          "base_uri": "https://localhost:8080/"
        },
        "id": "yuWR_cFd8zXH",
        "outputId": "ebdf8a04-a1cd-4e48-a4d5-6a2e22213d9d"
      },
      "execution_count": 36,
      "outputs": [
        {
          "output_type": "stream",
          "name": "stdout",
          "text": [
            "4\n"
          ]
        }
      ]
    },
    {
      "cell_type": "markdown",
      "source": [
        "1차 제출"
      ],
      "metadata": {
        "id": "DVvGkBGzA1rH"
      }
    },
    {
      "cell_type": "code",
      "source": [
        "from collections import deque\n",
        "import sys\n",
        "#input = sys.stdin.readline\n",
        "\n",
        "# 입력\n",
        "n, m = map(int, input().rstrip().split())\n",
        "graph = [list(map(int, input().rstrip().split())) for _ in range(n)]\n",
        "\n",
        "visited = [[False] * m for _ in range(n)] # T : 실외공기\n",
        "dr = [1,-1,0,0]\n",
        "dc = [0,0,1,-1]\n",
        "\n",
        "def bfs(que):\n",
        "    for aa, bb in que:\n",
        "        visited[aa][bb] = True\n",
        "    while que:\n",
        "        a, b = que.popleft()\n",
        "        for i in range(4):\n",
        "            r = a + dr[i]\n",
        "            c = b + dc[i]\n",
        "            if 0<=r<n and 0<=c<m and not visited[r][c] and graph[r][c] == 0:\n",
        "                visited[r][c] = True\n",
        "                que.append((r,c))\n",
        "\n",
        "# 가장자리는 차즈가 없으므로 bfs를 통해서 실외공기 구별\n",
        "que = deque([(0,0)])\n",
        "bfs(que)\n",
        "\n",
        "# 치즈 개수와 좌표 큐 생성\n",
        "cheese = deque([])\n",
        "cnt = 0\n",
        "for i in range(n):\n",
        "    for j in range(m):\n",
        "        if graph[i][j] == 1:\n",
        "            cheese.append((i,j))\n",
        "            cnt += 1\n",
        "\n",
        "# 치즈 큐가 빌 때까지 치즈 녹이기\n",
        "hour = 0\n",
        "while cheese:\n",
        "    for _ in range(cnt):\n",
        "        a, b = cheese[0]\n",
        "        t = 0 # 주변 실외공기 개수\n",
        "        for i in range(4):\n",
        "            if t >= 2:\n",
        "                break\n",
        "            r = a + dr[i]\n",
        "            c = b + dc[i]\n",
        "            if visited[r][c]:\n",
        "                t += 1\n",
        "        if t >= 2:\n",
        "            # 녹아서 실외공기로 치환\n",
        "            que.append(cheese.popleft())\n",
        "            cnt -= 1\n",
        "        else:\n",
        "            cheese.rotate(-1)\n",
        "    # 녹은 치즈 좌표를 bfs통해 실외공기(True) 변환 및 시간 추가\n",
        "    bfs(que)\n",
        "    hour += 1\n",
        "else:\n",
        "    print(hour)"
      ],
      "metadata": {
        "colab": {
          "base_uri": "https://localhost:8080/"
        },
        "id": "KHICv3D9A3ks",
        "outputId": "cd8c333d-1f60-4956-913a-7404b54484a0"
      },
      "execution_count": 37,
      "outputs": [
        {
          "output_type": "stream",
          "name": "stdout",
          "text": [
            "8 9\n",
            "0 0 0 0 0 0 0 0 0\n",
            "0 0 0 0 0 0 0 0 0\n",
            "0 1 1 0 0 0 1 1 0\n",
            "0 1 0 1 1 1 0 1 0\n",
            "0 1 0 0 1 0 0 1 0\n",
            "0 1 0 1 1 1 0 1 0\n",
            "0 1 1 0 0 0 1 1 0\n",
            "0 0 0 0 0 0 0 0 0\n",
            "3\n"
          ]
        }
      ]
    },
    {
      "cell_type": "markdown",
      "source": [
        "통과"
      ],
      "metadata": {
        "id": "7KCTPpSEDiH9"
      }
    }
  ]
}
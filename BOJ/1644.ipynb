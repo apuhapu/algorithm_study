{
  "nbformat": 4,
  "nbformat_minor": 0,
  "metadata": {
    "colab": {
      "provenance": [],
      "authorship_tag": "ABX9TyMBw6UzSLI4sY8WCniz6aJo",
      "include_colab_link": true
    },
    "kernelspec": {
      "name": "python3",
      "display_name": "Python 3"
    },
    "language_info": {
      "name": "python"
    }
  },
  "cells": [
    {
      "cell_type": "markdown",
      "metadata": {
        "id": "view-in-github",
        "colab_type": "text"
      },
      "source": [
        "<a href=\"https://colab.research.google.com/github/apuhapu/algorithm_study/blob/main/BOJ/1644.ipynb\" target=\"_parent\"><img src=\"https://colab.research.google.com/assets/colab-badge.svg\" alt=\"Open In Colab\"/></a>"
      ]
    },
    {
      "cell_type": "markdown",
      "source": [
        "https://www.acmicpc.net/problem/1644"
      ],
      "metadata": {
        "id": "U1U6NhZPOpzR"
      }
    },
    {
      "cell_type": "code",
      "execution_count": null,
      "metadata": {
        "id": "4KijtOxfM6VT"
      },
      "outputs": [],
      "source": [
        "n = int(input())"
      ]
    },
    {
      "cell_type": "code",
      "source": [
        "n = 53"
      ],
      "metadata": {
        "id": "v5C_VyjFNz8x"
      },
      "execution_count": 11,
      "outputs": []
    },
    {
      "cell_type": "markdown",
      "source": [
        "소수 리스트 생성"
      ],
      "metadata": {
        "id": "1FlHnII8Q_xn"
      }
    },
    {
      "cell_type": "code",
      "source": [
        "p_lst = []\n",
        "for i in range(1, n+1):\n",
        "    if i == 1:\n",
        "        continue\n",
        "    elif i == 2:\n",
        "        p_lst.append(i)\n",
        "    else:\n",
        "        for p in p_lst:\n",
        "            if i % p == 0:\n",
        "                break\n",
        "        else:\n",
        "            p_lst.append(i)"
      ],
      "metadata": {
        "id": "if1rkHTkN05m"
      },
      "execution_count": 12,
      "outputs": []
    },
    {
      "cell_type": "code",
      "source": [
        "p_lst"
      ],
      "metadata": {
        "colab": {
          "base_uri": "https://localhost:8080/"
        },
        "id": "Vfig_6w7OcYD",
        "outputId": "809012b8-8199-49d7-84e9-1dc38091f798"
      },
      "execution_count": 13,
      "outputs": [
        {
          "output_type": "execute_result",
          "data": {
            "text/plain": [
              "[2, 3, 5, 7, 11, 13, 17, 19, 23, 29, 31, 37, 41, 43, 47, 53]"
            ]
          },
          "metadata": {},
          "execution_count": 13
        }
      ]
    },
    {
      "cell_type": "markdown",
      "source": [
        "투포인터 활용하여 연속합 카운트"
      ],
      "metadata": {
        "id": "94WV13zMRCmV"
      }
    },
    {
      "cell_type": "code",
      "source": [
        "l = len(p_lst)"
      ],
      "metadata": {
        "id": "K5cs6TDSOks_"
      },
      "execution_count": 14,
      "outputs": []
    },
    {
      "cell_type": "code",
      "source": [
        "a, b = 0, 0\n",
        "temp = 2\n",
        "cnt = 0\n",
        "while b < l:\n",
        "    if temp < n:\n",
        "        b += 1\n",
        "        if b == l:\n",
        "            break\n",
        "        temp += p_lst[b]\n",
        "    elif temp > n:\n",
        "        a += 1\n",
        "        temp -= p_lst[a-1]\n",
        "    else:\n",
        "        cnt += 1\n",
        "        a += 1\n",
        "        b += 1\n",
        "        if b == l:\n",
        "            break\n",
        "        temp += p_lst[b] - p_lst[a-1]"
      ],
      "metadata": {
        "id": "NnjtozMTOrdw"
      },
      "execution_count": 23,
      "outputs": []
    },
    {
      "cell_type": "code",
      "source": [
        "cnt"
      ],
      "metadata": {
        "colab": {
          "base_uri": "https://localhost:8080/"
        },
        "id": "_E1YKrA8QMJM",
        "outputId": "0920016d-45c7-4624-e6fa-5a03510357e1"
      },
      "execution_count": 24,
      "outputs": [
        {
          "output_type": "execute_result",
          "data": {
            "text/plain": [
              "2"
            ]
          },
          "metadata": {},
          "execution_count": 24
        }
      ]
    },
    {
      "cell_type": "markdown",
      "source": [
        "제출본"
      ],
      "metadata": {
        "id": "CKfpnp_zRG3e"
      }
    },
    {
      "cell_type": "code",
      "source": [
        "n = int(input())\n",
        "\n",
        "if n == 1:\n",
        "    print(0)\n",
        "else:\n",
        "    # prime list\n",
        "    p_lst = []\n",
        "    for i in range(1, n+1):\n",
        "        if i == 1:\n",
        "            continue\n",
        "        elif i == 2:\n",
        "            p_lst.append(i)\n",
        "        else:\n",
        "            for p in p_lst:\n",
        "                if i % p == 0:\n",
        "                    break\n",
        "            else:\n",
        "                p_lst.append(i)\n",
        "\n",
        "    l = len(p_lst)\n",
        "    a, b = 0, 0  # pointer\n",
        "    temp = 2  # first prime must be 2\n",
        "    cnt = 0\n",
        "    while b < l:\n",
        "        if temp < n:\n",
        "            b += 1\n",
        "            if b == l:\n",
        "                break\n",
        "            temp += p_lst[b]\n",
        "        elif temp > n:\n",
        "            a += 1\n",
        "            temp -= p_lst[a-1]\n",
        "        else:\n",
        "            cnt += 1\n",
        "            a += 1\n",
        "            b += 1\n",
        "            if b == l:\n",
        "                break\n",
        "            temp += p_lst[b] - p_lst[a-1]\n",
        "\n",
        "    print(cnt)"
      ],
      "metadata": {
        "colab": {
          "base_uri": "https://localhost:8080/"
        },
        "id": "WOIYmhYCQ8hp",
        "outputId": "5cb4ecf3-90fc-40c7-bcc6-368de9ae97ff"
      },
      "execution_count": 29,
      "outputs": [
        {
          "output_type": "stream",
          "name": "stdout",
          "text": [
            "53\n",
            "2\n"
          ]
        }
      ]
    },
    {
      "cell_type": "markdown",
      "source": [
        "시간초과"
      ],
      "metadata": {
        "id": "eBTbkho6RrA0"
      }
    },
    {
      "cell_type": "markdown",
      "source": [
        "소수 알고리즘 개선"
      ],
      "metadata": {
        "id": "on-aUBiuSJqw"
      }
    },
    {
      "cell_type": "code",
      "source": [
        "dis = [True] * (n+1)\n",
        "dis[0] = False\n",
        "dis[1] = False\n",
        "p_lst = []\n",
        "\n",
        "for i in range(2, n+1):\n",
        "    if dis[i]:\n",
        "        p_lst.append(i)\n",
        "        for j in range(2*i, n+1, i):\n",
        "            dis[j] = False"
      ],
      "metadata": {
        "id": "LmE8QkMNRtlD"
      },
      "execution_count": 30,
      "outputs": []
    },
    {
      "cell_type": "code",
      "source": [
        "p_lst"
      ],
      "metadata": {
        "colab": {
          "base_uri": "https://localhost:8080/"
        },
        "id": "YleBCk5pUdFn",
        "outputId": "5e6e8447-87e9-4ca2-8e81-1d3bb6dc1faa"
      },
      "execution_count": 31,
      "outputs": [
        {
          "output_type": "execute_result",
          "data": {
            "text/plain": [
              "[2, 3, 5, 7, 11, 13, 17, 19, 23, 29, 31, 37, 41, 43, 47, 53]"
            ]
          },
          "metadata": {},
          "execution_count": 31
        }
      ]
    },
    {
      "cell_type": "code",
      "source": [
        "n = int(input())\n",
        "\n",
        "if n == 1:\n",
        "    print(0)\n",
        "else:\n",
        "    # prime list\n",
        "    dis = [True] * (n+1)\n",
        "    dis[0] = False\n",
        "    dis[1] = False\n",
        "    p_lst = []\n",
        "\n",
        "    for i in range(2, n+1):\n",
        "        if dis[i]:\n",
        "            p_lst.append(i)\n",
        "            for j in range(2*i, n+1, i):\n",
        "                dis[j] = False\n",
        "\n",
        "    l = len(p_lst)\n",
        "    a, b = 0, 0  # pointer\n",
        "    temp = 2  # first prime must be 2\n",
        "    cnt = 0\n",
        "    while b < l:\n",
        "        if temp < n:\n",
        "            b += 1\n",
        "            if b == l:\n",
        "                break\n",
        "            temp += p_lst[b]\n",
        "        elif temp > n:\n",
        "            a += 1\n",
        "            temp -= p_lst[a-1]\n",
        "        else:\n",
        "            cnt += 1\n",
        "            a += 1\n",
        "            b += 1\n",
        "            if b == l:\n",
        "                break\n",
        "            temp += p_lst[b] - p_lst[a-1]\n",
        "\n",
        "    print(cnt)"
      ],
      "metadata": {
        "colab": {
          "base_uri": "https://localhost:8080/"
        },
        "id": "4pR6DN7tUgSS",
        "outputId": "b0632ca4-fb2a-4016-9ac9-cfd3c3bc46b5"
      },
      "execution_count": 33,
      "outputs": [
        {
          "output_type": "stream",
          "name": "stdout",
          "text": [
            "41\n",
            "3\n"
          ]
        }
      ]
    },
    {
      "cell_type": "markdown",
      "source": [
        "통과"
      ],
      "metadata": {
        "id": "E8iVbWU7U7Uy"
      }
    }
  ]
}
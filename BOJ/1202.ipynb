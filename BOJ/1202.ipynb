{
  "nbformat": 4,
  "nbformat_minor": 0,
  "metadata": {
    "colab": {
      "provenance": [],
      "authorship_tag": "ABX9TyMcVRwTh/nX3oIZtE08/ySe",
      "include_colab_link": true
    },
    "kernelspec": {
      "name": "python3",
      "display_name": "Python 3"
    },
    "language_info": {
      "name": "python"
    }
  },
  "cells": [
    {
      "cell_type": "markdown",
      "metadata": {
        "id": "view-in-github",
        "colab_type": "text"
      },
      "source": [
        "<a href=\"https://colab.research.google.com/github/apuhapu/algorithm_study/blob/main/BOJ/1202.ipynb\" target=\"_parent\"><img src=\"https://colab.research.google.com/assets/colab-badge.svg\" alt=\"Open In Colab\"/></a>"
      ]
    },
    {
      "cell_type": "markdown",
      "source": [
        "https://www.acmicpc.net/problem/1202"
      ],
      "metadata": {
        "id": "OPePy4xtDFku"
      }
    },
    {
      "cell_type": "code",
      "source": [
        "import heapq as hq"
      ],
      "metadata": {
        "id": "f7sOIl2MFcFP"
      },
      "execution_count": 2,
      "outputs": []
    },
    {
      "cell_type": "code",
      "execution_count": 13,
      "metadata": {
        "colab": {
          "base_uri": "https://localhost:8080/"
        },
        "id": "6xWKa6WaDCQk",
        "outputId": "e8b692af-5c9b-48e7-c30a-b52e067ab775"
      },
      "outputs": [
        {
          "name": "stdout",
          "output_type": "stream",
          "text": [
            " 3 2\n",
            "1 65\n",
            "5 23\n",
            "2 99\n",
            "10\n",
            "2\n"
          ]
        }
      ],
      "source": [
        "n, k = map(int, input().rstrip().split())\n",
        "\n",
        "jewel_list = []\n",
        "for _ in range(n):\n",
        "    m, v = map(int, input().rstrip().split())\n",
        "    hq.heappush(jewel_list, (-v,m))\n",
        "\n",
        "bag_list = []\n",
        "for _ in range(k):\n",
        "    bag_list.append(int(input()))"
      ]
    },
    {
      "cell_type": "code",
      "source": [
        "jewel_list"
      ],
      "metadata": {
        "colab": {
          "base_uri": "https://localhost:8080/"
        },
        "id": "Xl25OHDHF8E0",
        "outputId": "3c9500dc-7890-4eff-c342-6ced5fe62f25"
      },
      "execution_count": 14,
      "outputs": [
        {
          "output_type": "execute_result",
          "data": {
            "text/plain": [
              "[(-99, 2), (-23, 5), (-65, 1)]"
            ]
          },
          "metadata": {},
          "execution_count": 14
        }
      ]
    },
    {
      "cell_type": "code",
      "source": [
        "bag_list.sort()"
      ],
      "metadata": {
        "id": "P2oxbhSsHNqw"
      },
      "execution_count": 15,
      "outputs": []
    },
    {
      "cell_type": "code",
      "source": [
        "result = 0\n",
        "while jewel_list:\n",
        "    j_value, j_mass = hq.heappop(jewel_list)\n",
        "    j_value = -j_value\n",
        "    if j_mass > bag_list[-1]:\n",
        "        continue\n",
        "    else:\n",
        "        start = 0\n",
        "        end = len(bag_list)\n",
        "        while start < end:\n",
        "            mid = (start+end) // 2\n",
        "            if bag_list[mid] < j_mass:\n",
        "                start = mid + 1\n",
        "            else:\n",
        "                end = mid\n",
        "        idx = end\n",
        "        result += j_value\n",
        "        del bag_list[idx]\n",
        "    if not bag_list:\n",
        "        break"
      ],
      "metadata": {
        "id": "K2CxF-CxHjVJ"
      },
      "execution_count": 16,
      "outputs": []
    },
    {
      "cell_type": "code",
      "source": [
        "print(result)"
      ],
      "metadata": {
        "colab": {
          "base_uri": "https://localhost:8080/"
        },
        "id": "RlUrlZjpMKAC",
        "outputId": "968c6211-15a4-4570-ac83-61f0661dfaab"
      },
      "execution_count": 17,
      "outputs": [
        {
          "output_type": "stream",
          "name": "stdout",
          "text": [
            "164\n"
          ]
        }
      ]
    },
    {
      "cell_type": "markdown",
      "source": [
        "1차 제출"
      ],
      "metadata": {
        "id": "QE66vX0YMX2E"
      }
    },
    {
      "cell_type": "code",
      "source": [
        "import heapq as hq\n",
        "#import sys\n",
        "#input = sys.stdin.readline\n",
        "\n",
        "# input part\n",
        "\"\"\"\n",
        "n : number of jewels\n",
        "k : number of bags\n",
        "\"\"\"\n",
        "n, k = map(int, input().rstrip().split())\n",
        "\n",
        "jewel_list = []\n",
        "for _ in range(n):\n",
        "    m, v = map(int, input().rstrip().split())\n",
        "    hq.heappush(jewel_list, (-v,m)) # heap\n",
        "\n",
        "bag_list = []\n",
        "for _ in range(k):\n",
        "    bag_list.append(int(input()))\n",
        "bag_list.sort()\n",
        "\n",
        "# compare part\n",
        "result = 0\n",
        "while jewel_list:\n",
        "    j_value, j_mass = hq.heappop(jewel_list)\n",
        "    j_value = -j_value\n",
        "    if j_mass > bag_list[-1]:\n",
        "        continue\n",
        "    else:\n",
        "        start = 0\n",
        "        end = len(bag_list)\n",
        "        while start < end:\n",
        "            mid = (start+end) // 2\n",
        "            if bag_list[mid] < j_mass:\n",
        "                start = mid + 1\n",
        "            else:\n",
        "                end = mid\n",
        "        idx = end\n",
        "        result += j_value\n",
        "        del bag_list[idx]\n",
        "    if not bag_list:\n",
        "        break\n",
        "\n",
        "print(result)"
      ],
      "metadata": {
        "colab": {
          "base_uri": "https://localhost:8080/"
        },
        "id": "siLjWjXLMZcg",
        "outputId": "c97da70a-3864-4eaa-8c2e-44c16b0f61f7"
      },
      "execution_count": 18,
      "outputs": [
        {
          "name": "stdout",
          "output_type": "stream",
          "text": [
            "4 2\n",
            "4 100\n",
            "5 110\n",
            "6 90\n",
            "7 80\n",
            "5\n",
            "7\n"
          ]
        }
      ]
    },
    {
      "cell_type": "markdown",
      "source": [
        "시간초과"
      ],
      "metadata": {
        "id": "t0xveTToOPt5"
      }
    },
    {
      "cell_type": "markdown",
      "source": [
        "2차 제출 (비교 주체를 보석에서 가방으로 전환)"
      ],
      "metadata": {
        "id": "TFvox6NfXHse"
      }
    },
    {
      "cell_type": "code",
      "source": [
        "import heapq as hq\n",
        "#import sys\n",
        "#input = sys.stdin.readline\n",
        "\n",
        "# input part\n",
        "\"\"\"\n",
        "n : number of jewels\n",
        "k : number of bags\n",
        "\"\"\"\n",
        "n, k = map(int, input().rstrip().split())\n",
        "\n",
        "jewel_list = []\n",
        "for _ in range(n):\n",
        "    m, v = map(int, input().rstrip().split())\n",
        "    hq.heappush(jewel_list, (m,v))\n",
        "\n",
        "bag_list = []\n",
        "for _ in range(k):\n",
        "    bag_list.append(int(input()))\n",
        "bag_list.sort()\n",
        "\n",
        "# compare part\n",
        "result = 0\n",
        "respository = []\n",
        "for bag in bag_list:\n",
        "    while jewel_list and bag >= jewel_list[0][0]:\n",
        "        hq.heappush(respository, -hq.heappop(jewel_list)[1])\n",
        "\n",
        "    if respository:\n",
        "        result -= hq.heappop(respository)\n",
        "    \n",
        "print(result)"
      ],
      "metadata": {
        "colab": {
          "base_uri": "https://localhost:8080/"
        },
        "id": "-iPrEBsWSOcT",
        "outputId": "47e609f5-82d0-4c65-bbf4-fa27d8a838c4"
      },
      "execution_count": 20,
      "outputs": [
        {
          "output_type": "stream",
          "name": "stdout",
          "text": [
            "3 2\n",
            "1 65\n",
            "5 23\n",
            "2 99\n",
            "10\n",
            "2\n",
            "164\n"
          ]
        }
      ]
    }
  ]
}
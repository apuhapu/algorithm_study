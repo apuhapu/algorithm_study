{
  "nbformat": 4,
  "nbformat_minor": 0,
  "metadata": {
    "colab": {
      "provenance": [],
      "authorship_tag": "ABX9TyOuXMQlPFHqQP3RMmlO2pRC",
      "include_colab_link": true
    },
    "kernelspec": {
      "name": "python3",
      "display_name": "Python 3"
    },
    "language_info": {
      "name": "python"
    }
  },
  "cells": [
    {
      "cell_type": "markdown",
      "metadata": {
        "id": "view-in-github",
        "colab_type": "text"
      },
      "source": [
        "<a href=\"https://colab.research.google.com/github/apuhapu/algorithm_study/blob/main/BOJ/1806.ipynb\" target=\"_parent\"><img src=\"https://colab.research.google.com/assets/colab-badge.svg\" alt=\"Open In Colab\"/></a>"
      ]
    },
    {
      "cell_type": "markdown",
      "source": [
        "https://www.acmicpc.net/problem/1806"
      ],
      "metadata": {
        "id": "t6dOVlrxCO_5"
      }
    },
    {
      "cell_type": "markdown",
      "source": [
        "투포인터 활용"
      ],
      "metadata": {
        "id": "hiQ1Ml_5YRVB"
      }
    },
    {
      "cell_type": "code",
      "source": [
        "import sys\n",
        "#input = sys.stdin.readline"
      ],
      "metadata": {
        "id": "pJWWCFCACUwe"
      },
      "execution_count": 1,
      "outputs": []
    },
    {
      "cell_type": "code",
      "execution_count": 16,
      "metadata": {
        "colab": {
          "base_uri": "https://localhost:8080/"
        },
        "id": "QSOrHU8AB80O",
        "outputId": "53278709-ebce-429d-b021-aae35a4f9ee3"
      },
      "outputs": [
        {
          "name": "stdout",
          "output_type": "stream",
          "text": [
            "10 150\n",
            "5 1 3 5 10 7 4 9 2 8\n"
          ]
        }
      ],
      "source": [
        "n, s = map(int, input().rstrip().split())\n",
        "lst = list(map(int, input().rstrip().split()))"
      ]
    },
    {
      "cell_type": "code",
      "source": [
        "start = 0\n",
        "end = 0\n",
        "sum_series = lst[0]\n",
        "temp = 0"
      ],
      "metadata": {
        "id": "xZCs0yJaCnI4"
      },
      "execution_count": 17,
      "outputs": []
    },
    {
      "cell_type": "code",
      "source": [
        "while True:\n",
        "    if sum_series >= s:\n",
        "        if temp == 0: # 초기 상태일 경우\n",
        "            temp = end - start + 1\n",
        "        else:\n",
        "            temp = min(temp, end - start + 1)\n",
        "        start += 1\n",
        "        sum_series -= lst[start-1]\n",
        "\n",
        "    else:\n",
        "        end += 1\n",
        "        if end == n:\n",
        "            break\n",
        "        else:\n",
        "            sum_series += lst[end]"
      ],
      "metadata": {
        "id": "znnSHfqwCqBA"
      },
      "execution_count": 18,
      "outputs": []
    },
    {
      "cell_type": "code",
      "source": [
        "print(temp)"
      ],
      "metadata": {
        "colab": {
          "base_uri": "https://localhost:8080/"
        },
        "id": "QWYIl5eeGZDB",
        "outputId": "d6ef7db3-b90b-416f-a602-17751f528f33"
      },
      "execution_count": 19,
      "outputs": [
        {
          "output_type": "stream",
          "name": "stdout",
          "text": [
            "0\n"
          ]
        }
      ]
    }
  ]
}
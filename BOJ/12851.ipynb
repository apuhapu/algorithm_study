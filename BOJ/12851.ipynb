{
  "nbformat": 4,
  "nbformat_minor": 0,
  "metadata": {
    "colab": {
      "name": "12851.ipynb",
      "provenance": [],
      "authorship_tag": "ABX9TyPRV3WAZNaHSmicl2rmIhH4",
      "include_colab_link": true
    },
    "kernelspec": {
      "name": "python3",
      "display_name": "Python 3"
    },
    "language_info": {
      "name": "python"
    }
  },
  "cells": [
    {
      "cell_type": "markdown",
      "metadata": {
        "id": "view-in-github",
        "colab_type": "text"
      },
      "source": [
        "<a href=\"https://colab.research.google.com/github/apuhapu/algorithm_study/blob/main/12851.ipynb\" target=\"_parent\"><img src=\"https://colab.research.google.com/assets/colab-badge.svg\" alt=\"Open In Colab\"/></a>"
      ]
    },
    {
      "cell_type": "markdown",
      "source": [
        "https://www.acmicpc.net/problem/12851"
      ],
      "metadata": {
        "id": "ym-ZQlBsZ0sd"
      }
    },
    {
      "cell_type": "code",
      "execution_count": 1,
      "metadata": {
        "colab": {
          "base_uri": "https://localhost:8080/"
        },
        "id": "akxLU1Y3UUkO",
        "outputId": "80e41760-c7cb-4a60-8105-1e7919b00918"
      },
      "outputs": [
        {
          "output_type": "stream",
          "name": "stdout",
          "text": [
            "5 17\n",
            "4\n",
            "2\n"
          ]
        }
      ],
      "source": [
        "from collections import deque\n",
        "\n",
        "def compare(x, y):\n",
        "    if x == 0:\n",
        "        return y\n",
        "    elif y == 0:\n",
        "        return x\n",
        "    else:\n",
        "        return min(x, y)\n",
        "\n",
        "N, K = map(int, input().split())\n",
        "if N >= K:\n",
        "    print(N-K)\n",
        "    print(1)\n",
        "else:\n",
        "    lst = [0] * min(100000+1,2*(N+K)+1)\n",
        "    visited = [False] * min(100000+1,2*(N+K)+1)\n",
        "    deq = deque([N])\n",
        "    cnt = 0\n",
        "    while deq:\n",
        "        p = deq.popleft()\n",
        "        if not visited[p]:\n",
        "            visited[p] = True\n",
        "\n",
        "            if p - 1 >= max(0, N - K):\n",
        "                if p - 1 == K:\n",
        "                    if lst[p - 1] == lst[p] + 1:\n",
        "                        cnt += 1\n",
        "                    else:\n",
        "                        cnt = 1\n",
        "                        lst[p - 1] = compare(lst[p - 1], lst[p] + 1)\n",
        "                else:\n",
        "                    deq.append(p - 1)\n",
        "                    lst[p - 1] = compare(lst[p - 1], lst[p] + 1)\n",
        "\n",
        "            if p + 1 < len(visited):\n",
        "                if p + 1 == K:\n",
        "                    if lst[p + 1] == lst[p] + 1:\n",
        "                        cnt += 1\n",
        "                    else:\n",
        "                        cnt = 1\n",
        "                        lst[p + 1] = compare(lst[p + 1], lst[p] + 1)\n",
        "                else:\n",
        "                    deq.append(p + 1)\n",
        "                    lst[p + 1] = compare(lst[p + 1], lst[p] + 1)\n",
        "\n",
        "            if 2 * p < len(visited):\n",
        "                if 2 * p == K:\n",
        "                    if lst[2 * p] == lst[p] + 1:\n",
        "                        cnt += 1\n",
        "                    else:\n",
        "                        cnt = 1\n",
        "                        lst[2 * p] = compare(lst[2 * p], lst[p] + 1)\n",
        "                else:              \n",
        "                    deq.append(2 * p)\n",
        "                    lst[2 * p] = compare(lst[2 * p], lst[p] + 1)\n",
        "\n",
        "    print(lst[K])\n",
        "    print(cnt)"
      ]
    },
    {
      "cell_type": "markdown",
      "source": [
        "57퍼 쯤 실패\n",
        "\n",
        "아마 같지 않을때마다 cnt를 1로 초기화 해서 그런듯 비교값이 클때는 무시하는 것을 추가"
      ],
      "metadata": {
        "id": "R7lFVAyCb450"
      }
    },
    {
      "cell_type": "code",
      "source": [
        "from collections import deque\n",
        "\n",
        "def compare(x, y):\n",
        "    if x == 0:\n",
        "        return y\n",
        "    elif y == 0:\n",
        "        return x\n",
        "    else:\n",
        "        return min(x, y)\n",
        "\n",
        "N, K = map(int, input().split())\n",
        "if N >= K:\n",
        "    print(N-K)\n",
        "    print(1)\n",
        "else:\n",
        "    lst = [0] * min(100000+1,2*K-N+1)\n",
        "    visited = [100001] * min(100000+1,2*K-N+1)\n",
        "    deq = deque([(N,0)])\n",
        "\n",
        "    while deq:\n",
        "        p, q = deq.popleft()\n",
        "        if q <= visited[p]:\n",
        "            visited[p] = q\n",
        "\n",
        "            if p - 1 >= 0 and p - 1 != N:\n",
        "                if p - 1 == K:\n",
        "                    if lst[K] == lst[p] + 1:\n",
        "                        cnt += 1\n",
        "                    elif lst[K] < lst[p] + 1 and lst[K] != 0:\n",
        "                        pass\n",
        "                    elif lst[K] > lst[p] + 1:\n",
        "                        cnt = 1\n",
        "                        lst[K] = lst[p] + 1\n",
        "                    else:\n",
        "                        cnt = 1\n",
        "                        lst[K] = lst[p] + 1\n",
        "                else:\n",
        "                    deq.append((p - 1, q + 1))\n",
        "                    lst[p - 1] = compare(lst[p - 1], lst[p] + 1)\n",
        "\n",
        "            if p + 1 < len(visited) and p + 1 != N:\n",
        "                if p + 1 == K:\n",
        "                    if lst[K] == lst[p] + 1:\n",
        "                        cnt += 1\n",
        "                    elif lst[K] < lst[p] + 1 and lst[K] != 0:\n",
        "                        pass\n",
        "                    elif lst[K] > lst[p] + 1:\n",
        "                        cnt = 1\n",
        "                        lst[K] = lst[p] + 1\n",
        "                    else:\n",
        "                        cnt = 1\n",
        "                        lst[K] = lst[p] + 1\n",
        "                else:\n",
        "                    deq.append((p + 1, q + 1))\n",
        "                    lst[p + 1] = compare(lst[p + 1], lst[p] + 1)\n",
        "\n",
        "            if 2 * p < len(visited) and 2 * p != N:\n",
        "                if 2 * p == K:\n",
        "                    if lst[K] == lst[p] + 1:\n",
        "                        cnt += 1\n",
        "                    elif lst[K] < lst[p] + 1 and lst[K] != 0:\n",
        "                        pass\n",
        "                    elif lst[K] > lst[p] + 1:\n",
        "                        cnt = 1\n",
        "                        lst[K] = lst[p] + 1\n",
        "                    else:\n",
        "                        cnt = 1\n",
        "                        lst[K] = lst[p] + 1\n",
        "                else:              \n",
        "                    deq.append((2 * p, q + 1))\n",
        "                    lst[2 * p] = compare(lst[2 * p], lst[p] + 1)\n",
        "\n",
        "    print(lst[K])\n",
        "    print(cnt)"
      ],
      "metadata": {
        "colab": {
          "base_uri": "https://localhost:8080/"
        },
        "id": "n49cqQxvb66c",
        "outputId": "fbb825fe-7006-4997-e0ac-2027bfaf9f23"
      },
      "execution_count": 36,
      "outputs": [
        {
          "output_type": "stream",
          "name": "stdout",
          "text": [
            "5 100000\n",
            "19\n",
            "4\n"
          ]
        }
      ]
    },
    {
      "cell_type": "markdown",
      "source": [
        "실패 아마 1에서 2로 가는 방법이 2가지인데 그걸 vistied를 활용하면 1가지로 줄어들어서 그런듯\n",
        "\n",
        "visited를 거길 지나간 연선의 최소 개수로 바꾸니 해결"
      ],
      "metadata": {
        "id": "ExuDzZsEhVsp"
      }
    }
  ]
}

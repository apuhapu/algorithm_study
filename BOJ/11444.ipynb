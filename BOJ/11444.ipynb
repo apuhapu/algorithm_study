{
  "nbformat": 4,
  "nbformat_minor": 0,
  "metadata": {
    "colab": {
      "provenance": [],
      "authorship_tag": "ABX9TyPpI4k5n61rUX2IaHA8UqRe",
      "include_colab_link": true
    },
    "kernelspec": {
      "name": "python3",
      "display_name": "Python 3"
    },
    "language_info": {
      "name": "python"
    }
  },
  "cells": [
    {
      "cell_type": "markdown",
      "metadata": {
        "id": "view-in-github",
        "colab_type": "text"
      },
      "source": [
        "<a href=\"https://colab.research.google.com/github/apuhapu/algorithm_study/blob/main/BOJ/11444.ipynb\" target=\"_parent\"><img src=\"https://colab.research.google.com/assets/colab-badge.svg\" alt=\"Open In Colab\"/></a>"
      ]
    },
    {
      "cell_type": "markdown",
      "source": [
        "https://www.acmicpc.net/problem/11444"
      ],
      "metadata": {
        "id": "xbqBYTYufyRv"
      }
    },
    {
      "cell_type": "code",
      "execution_count": 1,
      "metadata": {
        "id": "ckbsJ1R4futL"
      },
      "outputs": [],
      "source": [
        "import math"
      ]
    },
    {
      "cell_type": "code",
      "source": [
        "math.sqrt(5)"
      ],
      "metadata": {
        "colab": {
          "base_uri": "https://localhost:8080/"
        },
        "id": "9TldsXSohm3L",
        "outputId": "4bd44f74-07b2-4eac-db64-8b5c14433d25"
      },
      "execution_count": 2,
      "outputs": [
        {
          "output_type": "execute_result",
          "data": {
            "text/plain": [
              "2.23606797749979"
            ]
          },
          "metadata": {},
          "execution_count": 2
        }
      ]
    },
    {
      "cell_type": "code",
      "source": [
        "5**0.5"
      ],
      "metadata": {
        "colab": {
          "base_uri": "https://localhost:8080/"
        },
        "id": "y8EjBbT7hqZW",
        "outputId": "12778a42-54f6-435a-e4c2-057321998011"
      },
      "execution_count": 3,
      "outputs": [
        {
          "output_type": "execute_result",
          "data": {
            "text/plain": [
              "2.23606797749979"
            ]
          },
          "metadata": {},
          "execution_count": 3
        }
      ]
    },
    {
      "cell_type": "code",
      "source": [
        "def fibo(n):\n",
        "    a = 5**0.5\n",
        "    return round((1/a)*( ((1+a)/2)**n - ((1-a)/2)**n ))%1000000007"
      ],
      "metadata": {
        "id": "q4EOVdy3g0Z5"
      },
      "execution_count": 19,
      "outputs": []
    },
    {
      "cell_type": "code",
      "source": [
        "fibo(1000) # 맞는 값 : 517691607"
      ],
      "metadata": {
        "colab": {
          "base_uri": "https://localhost:8080/"
        },
        "id": "TeIL4cs2h_X6",
        "outputId": "b3b09ccc-5a9f-4804-fccd-2d592acadfcb"
      },
      "execution_count": 20,
      "outputs": [
        {
          "output_type": "execute_result",
          "data": {
            "text/plain": [
              "831340229"
            ]
          },
          "metadata": {},
          "execution_count": 20
        }
      ]
    },
    {
      "cell_type": "markdown",
      "source": [
        "수업시간에 배운 피보나치 일반항을 사용하였으나\n",
        "\n",
        "연산이 많아지면 truncation error로 인해 위처럼 다른 것을 알 수 있다."
      ],
      "metadata": {
        "id": "8qS8avkdjois"
      }
    },
    {
      "cell_type": "markdown",
      "source": [
        "matrix 사용"
      ],
      "metadata": {
        "id": "v_wRJqh5lE1L"
      }
    },
    {
      "cell_type": "markdown",
      "source": [
        "$\\begin{pmatrix}F_{n+2}\\\\F_{n+1}\\\\ \\end{pmatrix} = \n",
        "\\begin{pmatrix}1&1\\\\1&0\\\\ \\end{pmatrix}\n",
        "\\begin{pmatrix}F_{n+1}\\\\F_{n}\\\\ \\end{pmatrix}$"
      ],
      "metadata": {
        "id": "WM8iCm24mxEc"
      }
    },
    {
      "cell_type": "markdown",
      "source": [
        "$\\begin{pmatrix}F_{n+1}\\\\F_{n}\\\\ \\end{pmatrix} = \n",
        "\\begin{pmatrix}1&1\\\\1&0\\\\ \\end{pmatrix}^n\n",
        "\\begin{pmatrix}F_{1}\\\\F_{0}\\\\ \\end{pmatrix}$"
      ],
      "metadata": {
        "id": "QC8URoD2o-WV"
      }
    },
    {
      "cell_type": "code",
      "source": [
        "A = [[1,1],[1,0]]\n",
        "\n",
        "def multiMatrix(n):\n",
        "    if n == 1:\n",
        "        return A\n",
        "    else:\n",
        "        temp = multiMatrix(n//2)\n",
        "        temp = oper(temp, temp)\n",
        "        if n % 2 == 1:\n",
        "            temp = oper(temp, A)\n",
        "        return temp"
      ],
      "metadata": {
        "id": "KSIvwP4fkUvu"
      },
      "execution_count": 28,
      "outputs": []
    },
    {
      "cell_type": "code",
      "source": [
        "def oper(A, B):\n",
        "    moduler = 1000000007\n",
        "    C = [[0,0],[0,0]]\n",
        "    C[0][0] = (A[0][0]*B[0][0] + A[0][1]*B[1][0]) % moduler\n",
        "    C[0][1] = (A[0][0]*B[0][1] + A[0][1]*B[1][1]) % moduler\n",
        "    C[1][0] = (A[1][0]*B[0][0] + A[1][1]*B[1][0]) % moduler\n",
        "    C[1][1] = (A[1][0]*B[0][1] + A[1][1]*B[1][1]) % moduler\n",
        "    return C"
      ],
      "metadata": {
        "id": "6nOt-rFNuS77"
      },
      "execution_count": 24,
      "outputs": []
    },
    {
      "cell_type": "code",
      "source": [
        "multiMatrix(999)"
      ],
      "metadata": {
        "colab": {
          "base_uri": "https://localhost:8080/"
        },
        "id": "gjlufcL-vmqg",
        "outputId": "78d8b330-8304-4a2a-db97-9e2d43d66332"
      },
      "execution_count": 27,
      "outputs": [
        {
          "output_type": "execute_result",
          "data": {
            "text/plain": [
              "[[517691607, 589888339], [589888339, 927803275]]"
            ]
          },
          "metadata": {},
          "execution_count": 27
        }
      ]
    },
    {
      "cell_type": "markdown",
      "source": [
        "multiMatrix(n)의 (0,1)항의 값은 $F_{n}$와 같으므로 다음과 같이 표현 가능하다."
      ],
      "metadata": {
        "id": "V4a0iFFBv0HU"
      }
    },
    {
      "cell_type": "code",
      "source": [
        "A = [[1,1],[1,0]]\n",
        "\n",
        "def multiMatrix(n):\n",
        "    if n == 1:\n",
        "        return A\n",
        "    else:\n",
        "        temp = multiMatrix(n//2)\n",
        "        temp = oper(temp, temp)\n",
        "        if n % 2 == 1:\n",
        "            temp = oper(temp, A)\n",
        "        return temp\n",
        "\n",
        "def oper(A, B):\n",
        "    moduler = 1000000007\n",
        "    C = [[0,0],[0,0]]\n",
        "    C[0][0] = (A[0][0]*B[0][0] + A[0][1]*B[1][0]) % moduler\n",
        "    C[0][1] = (A[0][0]*B[0][1] + A[0][1]*B[1][1]) % moduler\n",
        "    C[1][0] = (A[1][0]*B[0][0] + A[1][1]*B[1][0]) % moduler\n",
        "    C[1][1] = (A[1][0]*B[0][1] + A[1][1]*B[1][1]) % moduler\n",
        "    return C\n",
        "\n",
        "n = int(input())\n",
        "mat = multiMatrix(n)\n",
        "print(mat[0][1])"
      ],
      "metadata": {
        "id": "axfeF4zuwAKj"
      },
      "execution_count": null,
      "outputs": []
    }
  ]
}
{
  "nbformat": 4,
  "nbformat_minor": 0,
  "metadata": {
    "colab": {
      "provenance": [],
      "authorship_tag": "ABX9TyPjW9zRZvokf/snK2M/b6WB",
      "include_colab_link": true
    },
    "kernelspec": {
      "name": "python3",
      "display_name": "Python 3"
    },
    "language_info": {
      "name": "python"
    }
  },
  "cells": [
    {
      "cell_type": "markdown",
      "metadata": {
        "id": "view-in-github",
        "colab_type": "text"
      },
      "source": [
        "<a href=\"https://colab.research.google.com/github/apuhapu/algorithm_study/blob/main/BOJ/7579.ipynb\" target=\"_parent\"><img src=\"https://colab.research.google.com/assets/colab-badge.svg\" alt=\"Open In Colab\"/></a>"
      ]
    },
    {
      "cell_type": "markdown",
      "source": [
        "https://www.acmicpc.net/problem/7579"
      ],
      "metadata": {
        "id": "JbEEAxLI3i3d"
      }
    },
    {
      "cell_type": "markdown",
      "source": [
        "dp를 활용"
      ],
      "metadata": {
        "id": "oWnd0XfOFGyy"
      }
    },
    {
      "cell_type": "code",
      "execution_count": 1,
      "metadata": {
        "colab": {
          "base_uri": "https://localhost:8080/"
        },
        "id": "54MQtN2r3gSC",
        "outputId": "6968e946-2891-40b4-d711-d8e1406c662c"
      },
      "outputs": [
        {
          "name": "stdout",
          "output_type": "stream",
          "text": [
            "5 60\n",
            "30 10 20 35 40\n",
            "3 0 3 5 4\n"
          ]
        }
      ],
      "source": [
        "n, m = map(int, input().rstrip().split())\n",
        "app_memo = list(map(int, input().rstrip().split()))\n",
        "app_cost = list(map(int, input().rstrip().split()))"
      ]
    },
    {
      "cell_type": "code",
      "source": [
        "dp = [100*n]*(m)"
      ],
      "metadata": {
        "id": "SE4FLdoPCu00"
      },
      "execution_count": 21,
      "outputs": []
    },
    {
      "cell_type": "code",
      "source": [
        "for r in range(n):\n",
        "    for c in range(m-1,0,-1):\n",
        "        if app_memo[r] >= c:\n",
        "            dp[c] = min(dp[c], app_cost[r])\n",
        "        else:\n",
        "            dp[c] = min(dp[c], app_cost[r]+dp[c-app_memo[r]])"
      ],
      "metadata": {
        "id": "2UPHYZERDFgl"
      },
      "execution_count": 23,
      "outputs": []
    },
    {
      "cell_type": "code",
      "source": [
        "print(dp[-1])"
      ],
      "metadata": {
        "colab": {
          "base_uri": "https://localhost:8080/"
        },
        "id": "dV2ySx1VE4nL",
        "outputId": "ae573883-39fe-4a07-8016-67ffab77bf55"
      },
      "execution_count": 24,
      "outputs": [
        {
          "output_type": "stream",
          "name": "stdout",
          "text": [
            "6\n"
          ]
        }
      ]
    },
    {
      "cell_type": "code",
      "source": [
        "dp"
      ],
      "metadata": {
        "colab": {
          "base_uri": "https://localhost:8080/"
        },
        "id": "O_Y6jlSaGiZu",
        "outputId": "cffdff3d-3844-437a-8fcb-b51ee50f7ef9"
      },
      "execution_count": 25,
      "outputs": [
        {
          "output_type": "execute_result",
          "data": {
            "text/plain": [
              "[500,\n",
              " 0,\n",
              " 0,\n",
              " 0,\n",
              " 0,\n",
              " 0,\n",
              " 0,\n",
              " 0,\n",
              " 0,\n",
              " 0,\n",
              " 0,\n",
              " 3,\n",
              " 3,\n",
              " 3,\n",
              " 3,\n",
              " 3,\n",
              " 3,\n",
              " 3,\n",
              " 3,\n",
              " 3,\n",
              " 3,\n",
              " 3,\n",
              " 3,\n",
              " 3,\n",
              " 3,\n",
              " 3,\n",
              " 3,\n",
              " 3,\n",
              " 3,\n",
              " 3,\n",
              " 3,\n",
              " 3,\n",
              " 3,\n",
              " 3,\n",
              " 3,\n",
              " 3,\n",
              " 3,\n",
              " 3,\n",
              " 3,\n",
              " 3,\n",
              " 3,\n",
              " 4,\n",
              " 4,\n",
              " 4,\n",
              " 4,\n",
              " 4,\n",
              " 4,\n",
              " 4,\n",
              " 4,\n",
              " 4,\n",
              " 4,\n",
              " 6,\n",
              " 6,\n",
              " 6,\n",
              " 6,\n",
              " 6,\n",
              " 6,\n",
              " 6,\n",
              " 6,\n",
              " 6]"
            ]
          },
          "metadata": {},
          "execution_count": 25
        }
      ]
    },
    {
      "cell_type": "markdown",
      "source": [
        "> 메모리 초과"
      ],
      "metadata": {
        "id": "x5s6qPv7FWh5"
      }
    },
    {
      "cell_type": "markdown",
      "source": [
        "dp의 col을 메모리 크기에서 cost로 변경"
      ],
      "metadata": {
        "id": "m--ohI-lGsX3"
      }
    },
    {
      "cell_type": "code",
      "source": [
        "n, m = map(int, input().rstrip().split())\n",
        "app_memo = list(map(int, input().rstrip().split()))\n",
        "app_cost = list(map(int, input().rstrip().split()))\n",
        "max_cost = sum(app_cost)\n",
        "dp = [ [0]*(max_cost+1) for _ in range(n+1) ]"
      ],
      "metadata": {
        "colab": {
          "base_uri": "https://localhost:8080/"
        },
        "id": "Tom7QSB1HUh2",
        "outputId": "9bc2c06d-1a5e-48b1-ba4c-b644804f744e"
      },
      "execution_count": 6,
      "outputs": [
        {
          "name": "stdout",
          "output_type": "stream",
          "text": [
            "5 60\n",
            "30 10 20 35 40\n",
            "3 0 3 5 4\n"
          ]
        }
      ]
    },
    {
      "cell_type": "code",
      "source": [
        "dp = [ [0]*(max_cost+1) for _ in range(n+1) ]\n",
        "\n",
        "for r in range(n):\n",
        "    for c in range(max_cost+1):\n",
        "        if app_cost[r] > c:\n",
        "            dp[r+1][c] = dp[r][c]\n",
        "        else:\n",
        "            dp[r+1][c] = max(dp[r][c], app_memo[r]+dp[r][c-app_cost[r]])"
      ],
      "metadata": {
        "id": "_yI-xoFjsHMb"
      },
      "execution_count": 9,
      "outputs": []
    },
    {
      "cell_type": "code",
      "source": [
        "dp"
      ],
      "metadata": {
        "colab": {
          "base_uri": "https://localhost:8080/"
        },
        "id": "miuPlUQoroLU",
        "outputId": "d7fbbaf3-69ad-45a4-a1d2-20941b09d6aa"
      },
      "execution_count": 10,
      "outputs": [
        {
          "output_type": "execute_result",
          "data": {
            "text/plain": [
              "[[0, 0, 0, 0, 0, 0, 0, 0, 0, 0, 0, 0, 0, 0, 0, 0],\n",
              " [0, 0, 0, 30, 30, 30, 30, 30, 30, 30, 30, 30, 30, 30, 30, 30],\n",
              " [10, 10, 10, 40, 40, 40, 40, 40, 40, 40, 40, 40, 40, 40, 40, 40],\n",
              " [10, 10, 10, 40, 40, 40, 60, 60, 60, 60, 60, 60, 60, 60, 60, 60],\n",
              " [10, 10, 10, 40, 40, 45, 60, 60, 75, 75, 75, 95, 95, 95, 95, 95],\n",
              " [10, 10, 10, 40, 50, 50, 60, 80, 80, 85, 100, 100, 115, 115, 115, 135]]"
            ]
          },
          "metadata": {},
          "execution_count": 10
        }
      ]
    },
    {
      "cell_type": "code",
      "source": [
        "for i in range(max_cost+1):\n",
        "    if dp[-1][i] >= m:\n",
        "        print(i)\n",
        "        break"
      ],
      "metadata": {
        "colab": {
          "base_uri": "https://localhost:8080/"
        },
        "id": "55UINuRcsbPT",
        "outputId": "962e4019-7713-47a0-f6e9-9dc1b28ce088"
      },
      "execution_count": 11,
      "outputs": [
        {
          "output_type": "stream",
          "name": "stdout",
          "text": [
            "6\n"
          ]
        }
      ]
    },
    {
      "cell_type": "code",
      "source": [
        "n, m = map(int, input().rstrip().split())\n",
        "app_memo = list(map(int, input().rstrip().split()))\n",
        "app_cost = list(map(int, input().rstrip().split()))\n",
        "max_cost = sum(app_cost)\n",
        "dp = [ [0]*(max_cost+1) for _ in range(n+1) ]\n",
        "\n",
        "for r in range(n):\n",
        "    for c in range(max_cost+1):\n",
        "        if app_cost[r] > c:\n",
        "            dp[r+1][c] = dp[r][c]\n",
        "        else:\n",
        "            dp[r+1][c] = max(dp[r][c], app_memo[r]+dp[r][c-app_cost[r]])\n",
        "\n",
        "for i in range(max_cost+1):\n",
        "    if dp[-1][i] >= m:\n",
        "        print(i)\n",
        "        break"
      ],
      "metadata": {
        "id": "fkrDmBfZspgN"
      },
      "execution_count": null,
      "outputs": []
    }
  ]
}
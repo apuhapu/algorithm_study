{
  "nbformat": 4,
  "nbformat_minor": 0,
  "metadata": {
    "colab": {
      "provenance": [],
      "authorship_tag": "ABX9TyPuEqqjNOHFDIHXgV6CsCIb",
      "include_colab_link": true
    },
    "kernelspec": {
      "name": "python3",
      "display_name": "Python 3"
    },
    "language_info": {
      "name": "python"
    }
  },
  "cells": [
    {
      "cell_type": "markdown",
      "metadata": {
        "id": "view-in-github",
        "colab_type": "text"
      },
      "source": [
        "<a href=\"https://colab.research.google.com/github/apuhapu/algorithm_study/blob/main/BOJ1992.ipynb\" target=\"_parent\"><img src=\"https://colab.research.google.com/assets/colab-badge.svg\" alt=\"Open In Colab\"/></a>"
      ]
    },
    {
      "cell_type": "markdown",
      "source": [
        "https://www.acmicpc.net/problem/1992"
      ],
      "metadata": {
        "id": "FO1J8JCw11y3"
      }
    },
    {
      "cell_type": "code",
      "execution_count": 1,
      "metadata": {
        "id": "WG_dntrF1OFP"
      },
      "outputs": [],
      "source": [
        "import sys\n",
        "# input = sys.stdin.readline"
      ]
    },
    {
      "cell_type": "code",
      "source": [
        "n = int(input()) # 1~64까지 2의 제곱수\n",
        "board = [list( map( int, str( input().rstrip() ) ) ) for _ in range(n)]"
      ],
      "metadata": {
        "colab": {
          "base_uri": "https://localhost:8080/"
        },
        "id": "B15x98Yz29Yn",
        "outputId": "b9bf7afa-656e-409f-81a4-4cc51df35214"
      },
      "execution_count": 7,
      "outputs": [
        {
          "name": "stdout",
          "output_type": "stream",
          "text": [
            "8\n",
            "11110000\n",
            "11110000\n",
            "00011100\n",
            "00011100\n",
            "11110000\n",
            "11110000\n",
            "11110011\n",
            "11110011\n"
          ]
        }
      ]
    },
    {
      "cell_type": "code",
      "source": [
        "board"
      ],
      "metadata": {
        "colab": {
          "base_uri": "https://localhost:8080/"
        },
        "id": "Kw0_VlgT3wqb",
        "outputId": "f2cd3fc8-9094-4c9e-df99-2cf8d2e7d734"
      },
      "execution_count": 8,
      "outputs": [
        {
          "output_type": "execute_result",
          "data": {
            "text/plain": [
              "[[1, 1, 1, 1, 0, 0, 0, 0],\n",
              " [1, 1, 1, 1, 0, 0, 0, 0],\n",
              " [0, 0, 0, 1, 1, 1, 0, 0],\n",
              " [0, 0, 0, 1, 1, 1, 0, 0],\n",
              " [1, 1, 1, 1, 0, 0, 0, 0],\n",
              " [1, 1, 1, 1, 0, 0, 0, 0],\n",
              " [1, 1, 1, 1, 0, 0, 1, 1],\n",
              " [1, 1, 1, 1, 0, 0, 1, 1]]"
            ]
          },
          "metadata": {},
          "execution_count": 8
        }
      ]
    },
    {
      "cell_type": "code",
      "source": [
        "def quadTree(board):\n",
        "    n = len(board[0])\n",
        "\n",
        "    if n == 1:\n",
        "        return board[0][0]\n",
        "\n",
        "    else:\n",
        "        temp = [None]*4\n",
        "\n",
        "        # part 1 (왼쪽 위)\n",
        "        tic = True  # 현재 파트 숫자의 통일 여부 확인\n",
        "        tempNum1 = board[0][0]\n",
        "\n",
        "        for i in range( n//2 ):\n",
        "            if tic:\n",
        "                for j in range( n//2 ):\n",
        "                    if board[i][j] == tempNum1:\n",
        "                        pass\n",
        "                    else:\n",
        "                        tic = False\n",
        "                        break\n",
        "            else: # 다른 숫자가 나올 경우\n",
        "                break\n",
        "\n",
        "        else: # 모든 숫자가 같은 경우\n",
        "            temp[0] = tempNum1\n",
        "        \n",
        "        if not tic:\n",
        "            newBoard1 = [ lst[:n//2] for lst in board[:n//2] ]\n",
        "            temp[0] = quadTree(newBoard1)\n",
        "\n",
        "\n",
        "        # part 2 (오른쪽 위)\n",
        "        tic = True  # 현재 파트 숫자의 통일 여부 확인\n",
        "        tempNum2 = board[0][n//2]\n",
        "\n",
        "        for i in range( n//2 ):\n",
        "            if tic:\n",
        "                for j in range( n//2, n ):\n",
        "                    if board[i][j] == tempNum2:\n",
        "                        pass\n",
        "                    else:\n",
        "                        tic = False\n",
        "                        break\n",
        "            else: # 다른 숫자가 나올 경우\n",
        "                break\n",
        "\n",
        "        else: # 모든 숫자가 같은 경우\n",
        "            temp[1] = tempNum2\n",
        "        \n",
        "        if not tic:\n",
        "            newBoard2 = [ lst[n//2:] for lst in board[:n//2] ]\n",
        "            temp[1] = quadTree(newBoard2)\n",
        "\n",
        "\n",
        "        # part 3 (왼쪽 아래)\n",
        "        tic = True  # 현재 파트 숫자의 통일 여부 확인\n",
        "        tempNum3 = board[n//2][0]\n",
        "\n",
        "        for i in range( n//2, n ):\n",
        "            if tic:\n",
        "                for j in range( n//2 ):\n",
        "                    if board[i][j] == tempNum3:\n",
        "                        pass\n",
        "                    else:\n",
        "                        tic = False\n",
        "                        break\n",
        "            else: # 다른 숫자가 나올 경우\n",
        "                break\n",
        "\n",
        "        else: # 모든 숫자가 같은 경우\n",
        "            temp[2] = tempNum3\n",
        "        \n",
        "        if not tic:\n",
        "            newBoard3 = [ lst[:n//2] for lst in board[n//2:] ]\n",
        "            temp[2] = quadTree(newBoard3)\n",
        "\n",
        "\n",
        "        # part 4 (오른쪽 아래)\n",
        "        tic = True  # 현재 파트 숫자의 통일 여부 확인\n",
        "        tempNum4 = board[n//2][n//2]\n",
        "\n",
        "        for i in range( n//2, n ):\n",
        "            if tic:\n",
        "                for j in range( n//2, n ):\n",
        "                    if board[i][j] == tempNum4:\n",
        "                        pass\n",
        "                    else:\n",
        "                        tic = False\n",
        "                        break\n",
        "            else: # 다른 숫자가 나올 경우\n",
        "                break\n",
        "\n",
        "        else: # 모든 숫자가 같은 경우\n",
        "            temp[3] = tempNum4\n",
        "        \n",
        "        if not tic:\n",
        "            newBoard4 = [ lst[n//2:] for lst in board[n//2:] ]\n",
        "            temp[3] = quadTree(newBoard4)\n",
        "\n",
        "\n",
        "        # 출력 파트\n",
        "        if temp[0] == temp[1] == temp[2] == temp[3] and (temp[0]==0 or temp[0]==1):\n",
        "            return temp[0]\n",
        "        else:\n",
        "            return temp"
      ],
      "metadata": {
        "id": "r1U4t_cg5VAW"
      },
      "execution_count": 22,
      "outputs": []
    },
    {
      "cell_type": "code",
      "source": [
        "sol = quadTree(board)"
      ],
      "metadata": {
        "id": "yaaPamLcBQZq"
      },
      "execution_count": 24,
      "outputs": []
    },
    {
      "cell_type": "code",
      "source": [
        "sol = str(sol).replace('[','(')\n",
        "sol = str(sol).replace(']',')')\n",
        "sol = str(sol).replace(' ','')\n",
        "sol = str(sol).replace(',','')"
      ],
      "metadata": {
        "id": "_1yKMiLuBade"
      },
      "execution_count": 27,
      "outputs": []
    },
    {
      "cell_type": "code",
      "source": [
        "print(sol)"
      ],
      "metadata": {
        "colab": {
          "base_uri": "https://localhost:8080/"
        },
        "id": "jerFM9KTB13l",
        "outputId": "7917a608-f3fd-408f-fce0-b5fc78f2e595"
      },
      "execution_count": 29,
      "outputs": [
        {
          "output_type": "stream",
          "name": "stdout",
          "text": [
            "((110(0101))(0010)1(0001))\n"
          ]
        }
      ]
    },
    {
      "cell_type": "markdown",
      "source": [
        "1차 제출본"
      ],
      "metadata": {
        "id": "TBROFicvB-wD"
      }
    },
    {
      "cell_type": "code",
      "source": [
        "import sys\n",
        "input = sys.stdin.readline\n",
        "\n",
        "# 입력파트\n",
        "n = int(input()) # 1~64까지 2의 제곱수\n",
        "board = [list( map( int, str( input().rstrip() ) ) ) for _ in range(n)]\n",
        "\n",
        "\n",
        "# 재귀 함수\n",
        "def quadTree(board):\n",
        "    n = len(board[0])\n",
        "\n",
        "    if n == 1:\n",
        "        return board[0][0]\n",
        "\n",
        "    else:\n",
        "        temp = [None]*4\n",
        "\n",
        "        # part 1 (왼쪽 위)\n",
        "        tic = True  # 현재 파트 숫자의 통일 여부 확인\n",
        "        tempNum1 = board[0][0]\n",
        "\n",
        "        for i in range( n//2 ):\n",
        "            if tic:\n",
        "                for j in range( n//2 ):\n",
        "                    if board[i][j] == tempNum1:\n",
        "                        pass\n",
        "                    else:\n",
        "                        tic = False\n",
        "                        break\n",
        "            else: # 다른 숫자가 나올 경우\n",
        "                break\n",
        "\n",
        "        else: # 모든 숫자가 같은 경우\n",
        "            temp[0] = tempNum1\n",
        "        \n",
        "        if not tic:\n",
        "            newBoard1 = [ lst[:n//2] for lst in board[:n//2] ]\n",
        "            temp[0] = quadTree(newBoard1)\n",
        "\n",
        "\n",
        "        # part 2 (오른쪽 위)\n",
        "        tic = True  # 현재 파트 숫자의 통일 여부 확인\n",
        "        tempNum2 = board[0][n//2]\n",
        "\n",
        "        for i in range( n//2 ):\n",
        "            if tic:\n",
        "                for j in range( n//2, n ):\n",
        "                    if board[i][j] == tempNum2:\n",
        "                        pass\n",
        "                    else:\n",
        "                        tic = False\n",
        "                        break\n",
        "            else: # 다른 숫자가 나올 경우\n",
        "                break\n",
        "\n",
        "        else: # 모든 숫자가 같은 경우\n",
        "            temp[1] = tempNum2\n",
        "        \n",
        "        if not tic:\n",
        "            newBoard2 = [ lst[n//2:] for lst in board[:n//2] ]\n",
        "            temp[1] = quadTree(newBoard2)\n",
        "\n",
        "\n",
        "        # part 3 (왼쪽 아래)\n",
        "        tic = True  # 현재 파트 숫자의 통일 여부 확인\n",
        "        tempNum3 = board[n//2][0]\n",
        "\n",
        "        for i in range( n//2, n ):\n",
        "            if tic:\n",
        "                for j in range( n//2 ):\n",
        "                    if board[i][j] == tempNum3:\n",
        "                        pass\n",
        "                    else:\n",
        "                        tic = False\n",
        "                        break\n",
        "            else: # 다른 숫자가 나올 경우\n",
        "                break\n",
        "\n",
        "        else: # 모든 숫자가 같은 경우\n",
        "            temp[2] = tempNum3\n",
        "        \n",
        "        if not tic:\n",
        "            newBoard3 = [ lst[:n//2] for lst in board[n//2:] ]\n",
        "            temp[2] = quadTree(newBoard3)\n",
        "\n",
        "\n",
        "        # part 4 (오른쪽 아래)\n",
        "        tic = True  # 현재 파트 숫자의 통일 여부 확인\n",
        "        tempNum4 = board[n//2][n//2]\n",
        "\n",
        "        for i in range( n//2, n ):\n",
        "            if tic:\n",
        "                for j in range( n//2, n ):\n",
        "                    if board[i][j] == tempNum4:\n",
        "                        pass\n",
        "                    else:\n",
        "                        tic = False\n",
        "                        break\n",
        "            else: # 다른 숫자가 나올 경우\n",
        "                break\n",
        "\n",
        "        else: # 모든 숫자가 같은 경우\n",
        "            temp[3] = tempNum4\n",
        "        \n",
        "        if not tic:\n",
        "            newBoard4 = [ lst[n//2:] for lst in board[n//2:] ]\n",
        "            temp[3] = quadTree(newBoard4)\n",
        "\n",
        "\n",
        "        # 출력 파트\n",
        "        if temp[0] == temp[1] == temp[2] == temp[3] and (temp[0]==0 or temp[0]==1):\n",
        "            return temp[0]\n",
        "        else:\n",
        "            return temp\n",
        "\n",
        "\n",
        "sol = quadTree(board)\n",
        "sol = str(sol).replace('[','(')\n",
        "sol = str(sol).replace(']',')')\n",
        "sol = str(sol).replace(' ','')\n",
        "sol = str(sol).replace(',','')\n",
        "\n",
        "print(sol)"
      ],
      "metadata": {
        "id": "AfEViApiCADD"
      },
      "execution_count": null,
      "outputs": []
    },
    {
      "cell_type": "markdown",
      "source": [
        "통과"
      ],
      "metadata": {
        "id": "7isEuHTJDAnj"
      }
    }
  ]
}

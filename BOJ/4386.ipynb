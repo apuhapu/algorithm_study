{
  "nbformat": 4,
  "nbformat_minor": 0,
  "metadata": {
    "colab": {
      "provenance": [],
      "authorship_tag": "ABX9TyMQSHySeMBvHb9/KDQbE2Sy",
      "include_colab_link": true
    },
    "kernelspec": {
      "name": "python3",
      "display_name": "Python 3"
    },
    "language_info": {
      "name": "python"
    }
  },
  "cells": [
    {
      "cell_type": "markdown",
      "metadata": {
        "id": "view-in-github",
        "colab_type": "text"
      },
      "source": [
        "<a href=\"https://colab.research.google.com/github/apuhapu/algorithm_study/blob/main/BOJ/4386.ipynb\" target=\"_parent\"><img src=\"https://colab.research.google.com/assets/colab-badge.svg\" alt=\"Open In Colab\"/></a>"
      ]
    },
    {
      "cell_type": "markdown",
      "source": [
        "https://www.acmicpc.net/problem/4386"
      ],
      "metadata": {
        "id": "3blHJ2wdL5y9"
      }
    },
    {
      "cell_type": "markdown",
      "source": [
        "최소스패닝트리에서 kruskal 알고리즘을 사용"
      ],
      "metadata": {
        "id": "4uuP6peVUvZV"
      }
    },
    {
      "cell_type": "code",
      "source": [
        "import heapq as hq"
      ],
      "metadata": {
        "id": "EBRZnAnFPwqv"
      },
      "execution_count": null,
      "outputs": []
    },
    {
      "cell_type": "code",
      "execution_count": null,
      "metadata": {
        "id": "ob4rob6WL5S5"
      },
      "outputs": [],
      "source": [
        "def find_distance(a,b):\n",
        "    x1, y1 = a\n",
        "    x2, y2 = b\n",
        "    return ((x1-x2)**2+(y1-y2)**2)**0.5"
      ]
    },
    {
      "cell_type": "code",
      "source": [
        "n = int(input())"
      ],
      "metadata": {
        "colab": {
          "base_uri": "https://localhost:8080/"
        },
        "id": "gGwMimGHMXZa",
        "outputId": "43480f40-f953-4133-f16c-335461858d31"
      },
      "execution_count": null,
      "outputs": [
        {
          "name": "stdout",
          "output_type": "stream",
          "text": [
            "3\n"
          ]
        }
      ]
    },
    {
      "cell_type": "code",
      "source": [
        "dis_lst = [[0]*n for _ in range(n)]\n",
        "nodes = []"
      ],
      "metadata": {
        "id": "5XGyO5mrM19l"
      },
      "execution_count": null,
      "outputs": []
    },
    {
      "cell_type": "code",
      "source": [
        "for _ in range(n):\n",
        "    x, y = map(float, input().rstrip().split())\n",
        "    nodes.append((x,y))"
      ],
      "metadata": {
        "colab": {
          "base_uri": "https://localhost:8080/"
        },
        "id": "0arn9BpDM30x",
        "outputId": "dd73f221-4d32-44d5-e145-28d43e411210"
      },
      "execution_count": null,
      "outputs": [
        {
          "name": "stdout",
          "output_type": "stream",
          "text": [
            "1.0 1.0\n",
            "2.0 2.0\n",
            "2.0 4.0\n"
          ]
        }
      ]
    },
    {
      "cell_type": "code",
      "source": [
        "nodes"
      ],
      "metadata": {
        "colab": {
          "base_uri": "https://localhost:8080/"
        },
        "id": "jYpxt6uFNVJc",
        "outputId": "0b8226ed-f4eb-4dbe-ac06-221fa1cc3750"
      },
      "execution_count": null,
      "outputs": [
        {
          "output_type": "execute_result",
          "data": {
            "text/plain": [
              "[(1.0, 1.0), (2.0, 2.0), (2.0, 4.0)]"
            ]
          },
          "metadata": {},
          "execution_count": 25
        }
      ]
    },
    {
      "cell_type": "code",
      "source": [
        "dis_heap = []"
      ],
      "metadata": {
        "id": "6UNM85pjPveI"
      },
      "execution_count": null,
      "outputs": []
    },
    {
      "cell_type": "code",
      "source": [
        "for i in range(n):\n",
        "    for j in range(i+1,n):\n",
        "        dis_lst[i][j] = find_distance(nodes[i], nodes[j])\n",
        "        hq.heappush(dis_heap, (dis_lst[i][j], i, j))"
      ],
      "metadata": {
        "id": "723wc5ZNOL21"
      },
      "execution_count": null,
      "outputs": []
    },
    {
      "cell_type": "code",
      "source": [
        "dis_lst"
      ],
      "metadata": {
        "colab": {
          "base_uri": "https://localhost:8080/"
        },
        "id": "ZL5ZK20mOo-I",
        "outputId": "b209d982-21e0-42a6-903e-84025a75f984"
      },
      "execution_count": null,
      "outputs": [
        {
          "output_type": "execute_result",
          "data": {
            "text/plain": [
              "[[0, 1.4142135623730951, 3.1622776601683795], [0, 0, 2.0], [0, 0, 0]]"
            ]
          },
          "metadata": {},
          "execution_count": 39
        }
      ]
    },
    {
      "cell_type": "code",
      "source": [
        "dis_heap"
      ],
      "metadata": {
        "colab": {
          "base_uri": "https://localhost:8080/"
        },
        "id": "YPF67nEPQqyJ",
        "outputId": "b56ffcbb-8a3a-42f5-f438-71f4431869c2"
      },
      "execution_count": null,
      "outputs": [
        {
          "output_type": "execute_result",
          "data": {
            "text/plain": [
              "[(1.4142135623730951, 0, 1), (3.1622776601683795, 0, 2), (2.0, 1, 2)]"
            ]
          },
          "metadata": {},
          "execution_count": 40
        }
      ]
    },
    {
      "cell_type": "code",
      "source": [
        "check_root = [i for i in range(n)]"
      ],
      "metadata": {
        "id": "zbpHx-k7PgO3"
      },
      "execution_count": null,
      "outputs": []
    },
    {
      "cell_type": "code",
      "source": [
        "def find_root(node):\n",
        "    while node != check_root[node]:\n",
        "        node = check_root[node]\n",
        "    return node"
      ],
      "metadata": {
        "id": "INtijOYIRzmX"
      },
      "execution_count": null,
      "outputs": []
    },
    {
      "cell_type": "code",
      "source": [
        "v = 0\n",
        "total_dis = 0\n",
        "while dis_heap:\n",
        "    dis, a, b = hq.heappop(dis_heap)\n",
        "    a_r, b_r = find_root(a), find_root(b)\n",
        "    if a_r == b_r:  # 사이클인 경우\n",
        "        continue\n",
        "    else:\n",
        "        v += 1\n",
        "        total_dis += dis\n",
        "        if a_r < b_r:\n",
        "            check_root[b_r] = a_r\n",
        "        else:\n",
        "            check_root[a_r] = b_r\n",
        "            \n",
        "    if v == n-1:\n",
        "        print(total_dis)\n",
        "        break"
      ],
      "metadata": {
        "id": "YdGDmDAOQ5IL",
        "colab": {
          "base_uri": "https://localhost:8080/"
        },
        "outputId": "82ce3efa-192b-4850-d61b-003706ddd329"
      },
      "execution_count": 43,
      "outputs": [
        {
          "output_type": "stream",
          "name": "stdout",
          "text": [
            "3.414213562373095\n"
          ]
        }
      ]
    },
    {
      "cell_type": "markdown",
      "source": [
        "최소 힙을 사용하면 dis_lst가 필요 없으므로 제거"
      ],
      "metadata": {
        "id": "fa-LBgadUOVS"
      }
    },
    {
      "cell_type": "code",
      "source": [
        "import heapq as hq\n",
        "import sys\n",
        "input = sys.stdin.readline\n",
        "\n",
        "def find_distance(a,b): # 2차원 거리 측정 함수\n",
        "    x1, y1 = a\n",
        "    x2, y2 = b\n",
        "    return ((x1-x2)**2+(y1-y2)**2)**0.5\n",
        "\n",
        "def find_root(node):  # 유니온파인드에 사용되는 root찾는 함수\n",
        "    while node != check_root[node]:\n",
        "        node = check_root[node]\n",
        "    return node\n",
        "\n",
        "# input part\n",
        "n = int(input())\n",
        "\n",
        "nodes = []\n",
        "\n",
        "for _ in range(n):\n",
        "    x, y = map(float, input().rstrip().split())\n",
        "    nodes.append((x,y))\n",
        "\n",
        "dis_heap = [] # (거리, 별1, 별2) 가 들어오는 최소힙\n",
        "\n",
        "for i in range(n):\n",
        "    for j in range(i+1,n):\n",
        "        hq.heappush(dis_heap, (find_distance(nodes[i], nodes[j]), i, j))\n",
        "\n",
        "check_root = [i for i in range(n)]  # 유니온 파인드용\n",
        "\n",
        "v = 0   # 간선 수 >> n-1이 되면 모든 정점이 연결 (tree)\n",
        "total_dis = 0\n",
        "while dis_heap:\n",
        "    dis, a, b = hq.heappop(dis_heap)\n",
        "    a_r, b_r = find_root(a), find_root(b)\n",
        "    if a_r == b_r:  # 사이클인 경우\n",
        "        continue\n",
        "    else:\n",
        "        v += 1\n",
        "        total_dis += dis\n",
        "        if a_r < b_r:\n",
        "            check_root[b_r] = a_r\n",
        "        else:\n",
        "            check_root[a_r] = b_r\n",
        "            \n",
        "    if v == n-1:\n",
        "        print(total_dis)\n",
        "        break"
      ],
      "metadata": {
        "id": "KOYEYRJ2UUlH"
      },
      "execution_count": null,
      "outputs": []
    }
  ]
}
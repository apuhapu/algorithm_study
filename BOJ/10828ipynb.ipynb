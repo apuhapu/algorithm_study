{
  "nbformat": 4,
  "nbformat_minor": 0,
  "metadata": {
    "colab": {
      "provenance": [],
      "authorship_tag": "ABX9TyOkIzQl7IG3bgCBxn88geYj",
      "include_colab_link": true
    },
    "kernelspec": {
      "name": "python3",
      "display_name": "Python 3"
    },
    "language_info": {
      "name": "python"
    }
  },
  "cells": [
    {
      "cell_type": "markdown",
      "metadata": {
        "id": "view-in-github",
        "colab_type": "text"
      },
      "source": [
        "<a href=\"https://colab.research.google.com/github/apuhapu/algorithm_study/blob/main/BOJ/10828ipynb.ipynb\" target=\"_parent\"><img src=\"https://colab.research.google.com/assets/colab-badge.svg\" alt=\"Open In Colab\"/></a>"
      ]
    },
    {
      "cell_type": "markdown",
      "source": [
        "https://www.acmicpc.net/problem/10826"
      ],
      "metadata": {
        "id": "OFOvLAqmyzqy"
      }
    },
    {
      "cell_type": "code",
      "execution_count": 1,
      "metadata": {
        "id": "KoKL7l-ruRQB"
      },
      "outputs": [],
      "source": [
        "def fibo(n):\n",
        "    if n == 0:\n",
        "        return 0\n",
        "    elif n == 1:\n",
        "        return 1\n",
        "    else:\n",
        "        return fibo(n-1) + fibo(n-2)"
      ]
    },
    {
      "cell_type": "markdown",
      "source": [
        "> 연산이 중복되어 시간이 오래걸림"
      ],
      "metadata": {
        "id": "_Cmxn0s5zeRg"
      }
    },
    {
      "cell_type": "code",
      "source": [
        "fibo(10)"
      ],
      "metadata": {
        "colab": {
          "base_uri": "https://localhost:8080/"
        },
        "id": "CmJyzfBQuiFV",
        "outputId": "efe0c844-ced8-46d7-8d9e-45b7888a6199"
      },
      "execution_count": 2,
      "outputs": [
        {
          "output_type": "execute_result",
          "data": {
            "text/plain": [
              "55"
            ]
          },
          "metadata": {},
          "execution_count": 2
        }
      ]
    },
    {
      "cell_type": "code",
      "source": [
        "def fibo(n):\n",
        "    if n == 0:\n",
        "        return 0\n",
        "    elif n == 1:\n",
        "        return 1\n",
        "    else:\n",
        "        lst = [0] * (n+1)\n",
        "        lst[1] = 1\n",
        "        for i in range(2, n+1):\n",
        "            lst[i] = lst[i-1] + lst[i-2]\n",
        "        return lst[n]"
      ],
      "metadata": {
        "id": "5FVBSNIkusXs"
      },
      "execution_count": 5,
      "outputs": []
    },
    {
      "cell_type": "code",
      "source": [
        "fibo(1000)"
      ],
      "metadata": {
        "colab": {
          "base_uri": "https://localhost:8080/"
        },
        "id": "3ikueAvQvFS9",
        "outputId": "97007424-42c2-4e63-9c59-789c7d833c49"
      },
      "execution_count": 8,
      "outputs": [
        {
          "output_type": "execute_result",
          "data": {
            "text/plain": [
              "43466557686937456435688527675040625802564660517371780402481729089536555417949051890403879840079255169295922593080322634775209689623239873322471161642996440906533187938298969649928516003704476137795166849228875"
            ]
          },
          "metadata": {},
          "execution_count": 8
        }
      ]
    }
  ]
}
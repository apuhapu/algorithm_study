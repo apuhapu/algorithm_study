{
  "nbformat": 4,
  "nbformat_minor": 0,
  "metadata": {
    "colab": {
      "name": "2206.ipynb",
      "provenance": [],
      "authorship_tag": "ABX9TyNcSpY8bd4haWacTD5o8TfV",
      "include_colab_link": true
    },
    "kernelspec": {
      "name": "python3",
      "display_name": "Python 3"
    },
    "language_info": {
      "name": "python"
    }
  },
  "cells": [
    {
      "cell_type": "markdown",
      "metadata": {
        "id": "view-in-github",
        "colab_type": "text"
      },
      "source": [
        "<a href=\"https://colab.research.google.com/github/apuhapu/algorithm_study/blob/main/2206.ipynb\" target=\"_parent\"><img src=\"https://colab.research.google.com/assets/colab-badge.svg\" alt=\"Open In Colab\"/></a>"
      ]
    },
    {
      "cell_type": "markdown",
      "source": [
        "https://www.acmicpc.net/problem/2206"
      ],
      "metadata": {
        "id": "nGR7TBdBJB1x"
      }
    },
    {
      "cell_type": "code",
      "execution_count": 15,
      "metadata": {
        "colab": {
          "base_uri": "https://localhost:8080/"
        },
        "id": "21KOYbiWJAxx",
        "outputId": "acfd742c-2bac-4e6c-82bc-37a276fd177c"
      },
      "outputs": [
        {
          "output_type": "stream",
          "name": "stdout",
          "text": [
            "6 4\n",
            "0100\n",
            "1110\n",
            "1000\n",
            "0000\n",
            "0111\n",
            "0000\n",
            "9\n"
          ]
        }
      ],
      "source": [
        "from collections import deque\n",
        "#import sys\n",
        "#input = sys.stdin.readline\n",
        "\n",
        "dr = [1,-1,0,0]\n",
        "dc = [0,0,1,-1]\n",
        "\n",
        "def isinside(r,c):\n",
        "    if r >= 0 and r < n and c >= 0 and c < m:\n",
        "        return True\n",
        "    else:\n",
        "        return False\n",
        "\n",
        "def bfs(graph):\n",
        "    visited = [[False]*m for _ in range(n)]\n",
        "    deq = deque([(0,0,1)])\n",
        "    visited[0][0] = True\n",
        "\n",
        "    while deq:\n",
        "        r, c, cnt = deq.popleft()\n",
        "        for x, y in zip(dr,dc):\n",
        "            rr = r + x\n",
        "            cc = c + y\n",
        "            if rr == n - 1 and cc == m - 1:\n",
        "                return cnt + 1\n",
        "            if isinside(rr,cc):\n",
        "                if not visited[rr][cc]:\n",
        "                    visited[rr][cc] = True\n",
        "                    deq.append((rr, cc, cnt + 1))\n",
        "    else:\n",
        "        return -1\n",
        "\n",
        "\n",
        "min_diff = -1\n",
        "\n",
        "n, m = map(int, input().rstrip().split())\n",
        "lab = [list(map(int, str(input().rstrip()))) for _ in range(n)]\n",
        "\n",
        "for i in range(n):\n",
        "    for j in range(m):  \n",
        "        if lab[i][j] == 1:\n",
        "            lab[i][j] = 0\n",
        "            k = bfs(lab)\n",
        "            if k != -1:\n",
        "                if min_diff != -1:\n",
        "                    min_diff = min(min_diff, k)\n",
        "                else:\n",
        "                    min_diff = k\n",
        "            lab[i][j] = 1\n",
        "                        \n",
        "print(min_diff)"
      ]
    },
    {
      "cell_type": "code",
      "source": [
        "n, m = map(int, input().rstrip().split())\n",
        "lab = [list(map(int, str(input().rstrip()))) for _ in range(n)]"
      ],
      "metadata": {
        "colab": {
          "base_uri": "https://localhost:8080/"
        },
        "id": "YxpybepuTtye",
        "outputId": "210efc96-5fc2-485b-e6f5-09568191d92f"
      },
      "execution_count": 16,
      "outputs": [
        {
          "name": "stdout",
          "output_type": "stream",
          "text": [
            "6 4\n",
            "0100\n",
            "1110\n",
            "1000\n",
            "0000\n",
            "0111\n",
            "0000\n"
          ]
        }
      ]
    },
    {
      "cell_type": "code",
      "source": [
        "min_diff = 0"
      ],
      "metadata": {
        "id": "PbO1IA6tUDCm"
      },
      "execution_count": 21,
      "outputs": []
    },
    {
      "cell_type": "code",
      "source": [
        "for i in range(n):\n",
        "    for j in range(m):  \n",
        "        if lab[i][j] == 1:\n",
        "            lab[i][j] = 0\n",
        "            print(bfs(lab))\n",
        "            lab[i][j] = 1"
      ],
      "metadata": {
        "colab": {
          "base_uri": "https://localhost:8080/"
        },
        "id": "sZwAty6VT4su",
        "outputId": "4a579a8d-4762-45b9-c7b1-370ec1038690"
      },
      "execution_count": 24,
      "outputs": [
        {
          "output_type": "stream",
          "name": "stdout",
          "text": [
            "15\n",
            "-1\n",
            "-1\n",
            "-1\n",
            "-1\n",
            "-1\n",
            "-1\n",
            "-1\n"
          ]
        }
      ]
    },
    {
      "cell_type": "code",
      "source": [
        "def bfs(graph):\n",
        "    visited = [[False]*m for _ in range(n)]\n",
        "    deq = deque([(0,0,1)])\n",
        "    visited[0][0] = True\n",
        "\n",
        "    while deq:\n",
        "        r, c, cnt = deq.popleft()\n",
        "        for x, y in zip(dr,dc):\n",
        "            rr = r + x\n",
        "            cc = c + y\n",
        "            if rr == n - 1 and cc == m - 1:\n",
        "                return cnt + 1\n",
        "            if isinside(rr,cc):\n",
        "                if not visited[rr][cc] and graph[rr][cc] == 0:\n",
        "                    visited[rr][cc] = True\n",
        "                    deq.append((rr, cc, cnt + 1))\n",
        "    else:\n",
        "        return -1"
      ],
      "metadata": {
        "id": "p6i9P7_kUQUJ"
      },
      "execution_count": 22,
      "outputs": []
    },
    {
      "cell_type": "markdown",
      "source": [
        "시간초과 >> 1000* 1000 이여서 너무 오래걸림\n",
        "\n",
        "\n",
        "하나하나 벽을 뺀걸 대입하면 터무니없는 경우도 계산해서 연산이 많아짐"
      ],
      "metadata": {
        "id": "yMPiDM3CaCDc"
      }
    },
    {
      "cell_type": "code",
      "source": [
        "from collections import deque\n",
        "#import sys\n",
        "#input = sys.stdin.readline\n",
        "\n",
        "dr = [1,-1,0,0]\n",
        "dc = [0,0,1,-1]\n",
        "\n",
        "def isinside(r,c):\n",
        "    if r >= 0 and r < n and c >= 0 and c < m:\n",
        "        return True\n",
        "    else:\n",
        "        return False\n",
        "\n",
        "def bfs(graph):\n",
        "    visited = [[[0]*m for _ in range(n)] for _ in range(2)]\n",
        "    deq = deque([(0,0,0)])\n",
        "    visited[0][0][0] = 1\n",
        "\n",
        "    while deq:\n",
        "        r, c, t = deq.popleft()\n",
        "        if r == n - 1 and c == m - 1:\n",
        "            return visited[t][r][c]\n",
        "\n",
        "        for x, y in zip(dr,dc):\n",
        "            rr = r + x\n",
        "            cc = c + y\n",
        "            if isinside(rr,cc):\n",
        "                if visited[t][rr][cc] == 0 and graph[rr][cc] == 0:\n",
        "                    visited[t][rr][cc] = visited[t][r][c] + 1\n",
        "                    deq.append((rr, cc, t))\n",
        "                elif graph[rr][cc] == 1 and t == 0:\n",
        "                    visited[t+1][rr][cc] = visited[t][r][c] + 1\n",
        "                    deq.append((rr,cc,t+1))\n",
        "    else:\n",
        "        return -1\n",
        "\n",
        "n, m = map(int, input().rstrip().split())\n",
        "lab = [list(map(int, str(input().rstrip()))) for _ in range(n)]\n",
        "\n",
        "print(bfs(lab))"
      ],
      "metadata": {
        "colab": {
          "base_uri": "https://localhost:8080/"
        },
        "id": "9abiZK-lUe7l",
        "outputId": "d9e44903-661e-4fbd-8454-f258fcba8081"
      },
      "execution_count": 32,
      "outputs": [
        {
          "output_type": "stream",
          "name": "stdout",
          "text": [
            "6 4\n",
            "0100\n",
            "1110\n",
            "1000\n",
            "0000\n",
            "0111\n",
            "0000\n",
            "15\n"
          ]
        }
      ]
    },
    {
      "cell_type": "markdown",
      "source": [
        "visited를 1차원 늘려서 벽을 뚫었을 경우를 같이 계산"
      ],
      "metadata": {
        "id": "jnfK_TLSRqav"
      }
    }
  ]
}

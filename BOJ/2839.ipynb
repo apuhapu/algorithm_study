{
  "nbformat": 4,
  "nbformat_minor": 0,
  "metadata": {
    "colab": {
      "provenance": [],
      "authorship_tag": "ABX9TyPyWEye/hRjVhSm/vSXhafi",
      "include_colab_link": true
    },
    "kernelspec": {
      "name": "python3",
      "display_name": "Python 3"
    },
    "language_info": {
      "name": "python"
    }
  },
  "cells": [
    {
      "cell_type": "markdown",
      "metadata": {
        "id": "view-in-github",
        "colab_type": "text"
      },
      "source": [
        "<a href=\"https://colab.research.google.com/github/apuhapu/algorithm_study/blob/main/BOJ/2839.ipynb\" target=\"_parent\"><img src=\"https://colab.research.google.com/assets/colab-badge.svg\" alt=\"Open In Colab\"/></a>"
      ]
    },
    {
      "cell_type": "markdown",
      "source": [
        "https://www.acmicpc.net/problem/2839"
      ],
      "metadata": {
        "id": "1HvuioZs1_kh"
      }
    },
    {
      "cell_type": "code",
      "execution_count": 9,
      "metadata": {
        "colab": {
          "base_uri": "https://localhost:8080/"
        },
        "id": "6HbyOZGI1-am",
        "outputId": "3fe28ced-d9c0-426f-a3cb-3d04efe1ed24"
      },
      "outputs": [
        {
          "output_type": "stream",
          "name": "stdout",
          "text": [
            "4\n",
            "-1\n"
          ]
        }
      ],
      "source": [
        "n = int(input())\n",
        "\n",
        "dp = [-1] * (n+1)\n",
        "dp[0] = 0\n",
        "i = 0\n",
        "\n",
        "while i < n-1:  # 어쩌피 n-2까지 안되면 못 담는 수\n",
        "    if dp[i] != -1:   \n",
        "        if i+3 < n+1:\n",
        "            if dp[i+3] == -1: # 처음 입력되는 수\n",
        "                dp[i+3] = dp[i] + 1\n",
        "                if i+3 == n+1:\n",
        "                    break\n",
        "\n",
        "        if i+5 < n+1:\n",
        "            if dp[i+5] == -1: # 처음 입력되는 수\n",
        "                dp[i+5] = dp[i] + 1\n",
        "                if i+5 == n+1:\n",
        "                    break\n",
        "    \n",
        "    i += 1\n",
        "    \n",
        "print(dp[-1])"
      ]
    },
    {
      "cell_type": "code",
      "source": [
        "dp"
      ],
      "metadata": {
        "colab": {
          "base_uri": "https://localhost:8080/"
        },
        "id": "_I03u9Bm4fCr",
        "outputId": "712fb341-003b-4c91-cf12-65181d381c49"
      },
      "execution_count": 10,
      "outputs": [
        {
          "output_type": "execute_result",
          "data": {
            "text/plain": [
              "[0, -1, -1, 1, -1]"
            ]
          },
          "metadata": {},
          "execution_count": 10
        }
      ]
    }
  ]
}
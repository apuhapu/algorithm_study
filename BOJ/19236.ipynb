{
  "nbformat": 4,
  "nbformat_minor": 0,
  "metadata": {
    "colab": {
      "name": "19236.ipynb",
      "provenance": [],
      "authorship_tag": "ABX9TyNBUP5eouWZ09+QoPVXXY96",
      "include_colab_link": true
    },
    "kernelspec": {
      "name": "python3",
      "display_name": "Python 3"
    },
    "language_info": {
      "name": "python"
    }
  },
  "cells": [
    {
      "cell_type": "markdown",
      "metadata": {
        "id": "view-in-github",
        "colab_type": "text"
      },
      "source": [
        "<a href=\"https://colab.research.google.com/github/apuhapu/algorithm_study/blob/main/19236.ipynb\" target=\"_parent\"><img src=\"https://colab.research.google.com/assets/colab-badge.svg\" alt=\"Open In Colab\"/></a>"
      ]
    },
    {
      "cell_type": "markdown",
      "source": [
        "https://www.acmicpc.net/problem/19236"
      ],
      "metadata": {
        "id": "kq_ezJiiPOzy"
      }
    },
    {
      "cell_type": "code",
      "execution_count": 3,
      "metadata": {
        "id": "0l_s531uPGZ8"
      },
      "outputs": [],
      "source": [
        "directions = [(-1,1),(-1,0),(-1,-1),(0,-1),(1,-1),(1,0),(1,1),(0,1),(-1,1)]"
      ]
    },
    {
      "cell_type": "code",
      "source": [
        "graph = []"
      ],
      "metadata": {
        "id": "m5x_hpmMQKJs"
      },
      "execution_count": 4,
      "outputs": []
    },
    {
      "cell_type": "code",
      "source": [
        "for _ in range(4):\n",
        "    a1,b1,a2,b2,a3,b3,a4,b4 = map(int, input().rstrip().split())\n",
        "    graph.append([(a1,b1),(a2,b2),(a3,b3),(a4,b4)])"
      ],
      "metadata": {
        "colab": {
          "base_uri": "https://localhost:8080/"
        },
        "id": "TXx2sMNJQOjw",
        "outputId": "8c334f55-df01-4b3f-b895-ed4c55f8a085"
      },
      "execution_count": 5,
      "outputs": [
        {
          "name": "stdout",
          "output_type": "stream",
          "text": [
            "7 6 2 3 15 6 9 8\n",
            "3 1 1 8 14 7 10 1\n",
            "6 1 13 6 4 3 11 4\n",
            "16 1 8 7 5 2 12 2\n"
          ]
        }
      ]
    },
    {
      "cell_type": "code",
      "source": [
        "graph"
      ],
      "metadata": {
        "colab": {
          "base_uri": "https://localhost:8080/"
        },
        "id": "m5DyFRooQzjh",
        "outputId": "6374415a-095f-4706-c5c0-04eeddf5ffe0"
      },
      "execution_count": 6,
      "outputs": [
        {
          "output_type": "execute_result",
          "data": {
            "text/plain": [
              "[[(7, 6), (2, 3), (15, 6), (9, 8)],\n",
              " [(3, 1), (1, 8), (14, 7), (10, 1)],\n",
              " [(6, 1), (13, 6), (4, 3), (11, 4)],\n",
              " [(16, 1), (8, 7), (5, 2), (12, 2)]]"
            ]
          },
          "metadata": {},
          "execution_count": 6
        }
      ]
    },
    {
      "cell_type": "code",
      "source": [
        "copyGraph = [x[:] for x in graph]"
      ],
      "metadata": {
        "id": "Cc8JTrOoRFcU"
      },
      "execution_count": 7,
      "outputs": []
    },
    {
      "cell_type": "code",
      "source": [
        "copyGraph"
      ],
      "metadata": {
        "colab": {
          "base_uri": "https://localhost:8080/"
        },
        "id": "uD02tNdBRR0M",
        "outputId": "fc3aa33b-c5be-4485-8db7-3c217b32df93"
      },
      "execution_count": 8,
      "outputs": [
        {
          "output_type": "execute_result",
          "data": {
            "text/plain": [
              "[[(7, 6), (2, 3), (15, 6), (9, 8)],\n",
              " [(3, 1), (1, 8), (14, 7), (10, 1)],\n",
              " [(6, 1), (13, 6), (4, 3), (11, 4)],\n",
              " [(16, 1), (8, 7), (5, 2), (12, 2)]]"
            ]
          },
          "metadata": {},
          "execution_count": 8
        }
      ]
    },
    {
      "cell_type": "code",
      "source": [
        "graph = [x[:] for x in copyGraph]"
      ],
      "metadata": {
        "id": "vv3mi0tobZOs"
      },
      "execution_count": null,
      "outputs": []
    },
    {
      "cell_type": "code",
      "source": [
        "fish = [(-1,-1,-1)] + [0] * 16"
      ],
      "metadata": {
        "id": "vAHnkYy3R8jT"
      },
      "execution_count": 9,
      "outputs": []
    },
    {
      "cell_type": "code",
      "source": [
        "for i in range(4):\n",
        "    for j in range(4):\n",
        "        a, b  = graph[i][j]\n",
        "        fish[a] = (i, j, b)"
      ],
      "metadata": {
        "id": "qcycfandSHrn"
      },
      "execution_count": 10,
      "outputs": []
    },
    {
      "cell_type": "code",
      "source": [
        "fish"
      ],
      "metadata": {
        "colab": {
          "base_uri": "https://localhost:8080/"
        },
        "id": "bm6qvx4cSkVE",
        "outputId": "2da9348c-a646-409c-b055-28c5fe01f758"
      },
      "execution_count": 11,
      "outputs": [
        {
          "output_type": "execute_result",
          "data": {
            "text/plain": [
              "[(-1, -1, -1),\n",
              " (1, 1, 8),\n",
              " (0, 1, 3),\n",
              " (1, 0, 1),\n",
              " (2, 2, 3),\n",
              " (3, 2, 2),\n",
              " (2, 0, 1),\n",
              " (0, 0, 6),\n",
              " (3, 1, 7),\n",
              " (0, 3, 8),\n",
              " (1, 3, 1),\n",
              " (2, 3, 4),\n",
              " (3, 3, 2),\n",
              " (2, 1, 6),\n",
              " (1, 2, 7),\n",
              " (0, 2, 6),\n",
              " (3, 0, 1)]"
            ]
          },
          "metadata": {},
          "execution_count": 11
        }
      ]
    },
    {
      "cell_type": "code",
      "source": [
        "sharkRow = 0\n",
        "sharkCol = 0\n",
        "sharkDir = 1\n",
        "sharkCnt = 0"
      ],
      "metadata": {
        "id": "r-sKgmuZSsNb"
      },
      "execution_count": null,
      "outputs": []
    },
    {
      "cell_type": "code",
      "source": [
        "# 상어 수조 입장\n",
        "sharkCnt += graph[0][0][0]\n",
        "sharkDir = graph[0][0][1]\n",
        "fish[graph[0][0][0]] = (-1,-1,-1)\n",
        "graph[0][0] = (-1,sharkDir)\n",
        "fish[0] = (sharkRow, sharkCol, sharkDir)"
      ],
      "metadata": {
        "id": "YZxNTKn4TEAK"
      },
      "execution_count": null,
      "outputs": []
    },
    {
      "cell_type": "code",
      "source": [
        "def moveFish(bowl, fi):\n",
        "    tank = [x[:] for x in bowl]\n",
        "    fish = fi[:]\n",
        "    # i : 대상 물고기 번호\n",
        "    for i in range(1,17):\n",
        "        r,c,d = fish[i]\n",
        "        # 생사 여부\n",
        "        if r == -1:\n",
        "            pass\n",
        "        else:\n",
        "            for j in range(8):\n",
        "                dd = d + j\n",
        "                if dd > 8:\n",
        "                    dd = dd % 8\n",
        "                p, q = directions[dd]\n",
        "                rr = r + p\n",
        "                cc = c + q\n",
        "                # outofbdd와 상어 유무 확인\n",
        "                if 0 <= rr < 4 and 0 <= cc < 4 and tank[rr][cc][0] != -1:\n",
        "                    # 현재 대상 물고기 좌표 변경\n",
        "                    fish[i] = (rr,cc,dd)\n",
        "                    # 변경하는 물고기 좌표 변경\n",
        "                    chgFishNum = tank[rr][cc][0]\n",
        "                    # 빈 공간이 아닌 경우\n",
        "                    if chgFishNum != 0:\n",
        "                        fish[chgFishNum] = (r,c,fish[chgFishNum][2])\n",
        "                    # 수조에 변경사항 반영\n",
        "                    tank[r][c], tank[rr][cc] = tank[rr][cc], (i,dd)\n",
        "                    break\n",
        "    return tank, fish"
      ],
      "metadata": {
        "id": "dm7CjeA8UYY_"
      },
      "execution_count": null,
      "outputs": []
    },
    {
      "cell_type": "code",
      "source": [
        "new_graph, new_fish = moveFish(graph, fish)"
      ],
      "metadata": {
        "id": "ad_HPW2SfaLO"
      },
      "execution_count": null,
      "outputs": []
    },
    {
      "cell_type": "code",
      "source": [
        "for x in new_graph:\n",
        "    print(x)"
      ],
      "metadata": {
        "colab": {
          "base_uri": "https://localhost:8080/"
        },
        "id": "CEKIU910fhmA",
        "outputId": "bcb94978-53da-4aad-967e-f35dfabddf4c"
      },
      "execution_count": null,
      "outputs": [
        {
          "output_type": "stream",
          "name": "stdout",
          "text": [
            "[(-1, 6), (2, 4), (9, 3), (10, 1)]\n",
            "[(6, 1), (12, 2), (1, 8), (14, 7)]\n",
            "[(16, 1), (5, 2), (15, 6), (13, 1)]\n",
            "[(3, 4), (4, 3), (11, 4), (8, 7)]\n"
          ]
        }
      ]
    },
    {
      "cell_type": "code",
      "source": [
        "new_fish"
      ],
      "metadata": {
        "colab": {
          "base_uri": "https://localhost:8080/"
        },
        "id": "iWncVEsofpYP",
        "outputId": "0054d156-0f5f-41a6-e315-7e31381f6efd"
      },
      "execution_count": null,
      "outputs": [
        {
          "output_type": "execute_result",
          "data": {
            "text/plain": [
              "[(0, 0, 6),\n",
              " (1, 2, 8),\n",
              " (0, 1, 4),\n",
              " (3, 0, 4),\n",
              " (3, 1, 3),\n",
              " (2, 1, 2),\n",
              " (1, 0, 1),\n",
              " (-1, -1, -1),\n",
              " (3, 3, 7),\n",
              " (0, 2, 3),\n",
              " (0, 3, 1),\n",
              " (3, 2, 4),\n",
              " (1, 1, 2),\n",
              " (2, 3, 1),\n",
              " (1, 3, 7),\n",
              " (2, 2, 6),\n",
              " (2, 0, 1)]"
            ]
          },
          "metadata": {},
          "execution_count": 96
        }
      ]
    },
    {
      "cell_type": "code",
      "source": [
        "cnt = 0"
      ],
      "metadata": {
        "id": "KQtXLNZtgtFa"
      },
      "execution_count": null,
      "outputs": []
    },
    {
      "cell_type": "code",
      "source": [
        "def fun(bowl,fi,sharkCnt):\n",
        "    global cnt\n",
        "    tic = False\n",
        "    # 상어 행,열,방향\n",
        "    sr,sc,sd = fi[0]\n",
        "    dr, dc = directions[sd]\n",
        "\n",
        "    for i in range(1,4):\n",
        "        r = sr + dr * i\n",
        "        c = sc + dc * i\n",
        "        # 상어 이동 가능일 경우\n",
        "        if 0<=r<4 and 0<=c<4 and bowl[r][c][0] != 0:\n",
        "            tic = True\n",
        "            fis = fi[:]\n",
        "            nbowl = [x[:] for x in bowl]\n",
        "\n",
        "            # 상어 위치 최신화\n",
        "            fis[0] = (r, c, bowl[r][c][1])\n",
        "            nbowl[sr][sc] = (0,0)\n",
        "            nbowl[r][c] = (-1,bowl[r][c][1])\n",
        "\n",
        "            # 물고기 이동\n",
        "            new_bowl, new_fis = moveFish(nbowl, fis)\n",
        "            print(sharkCnt+bowl[r][c][0])\n",
        "            fun(new_bowl, new_fis, sharkCnt+bowl[r][c][0])\n",
        "\n",
        "\n",
        "    # 상어가 이동 불가한 경우        \n",
        "    if not tic:\n",
        "        cnt = max(cnt, sharkCnt)"
      ],
      "metadata": {
        "id": "8N0ATzhmft33"
      },
      "execution_count": null,
      "outputs": []
    },
    {
      "cell_type": "code",
      "source": [
        "fun(new_graph, new_fish, 7)"
      ],
      "metadata": {
        "colab": {
          "base_uri": "https://localhost:8080/"
        },
        "id": "55lX0SXmmpNJ",
        "outputId": "306f094d-fe66-4eba-c2f7-887280bcd5e6"
      },
      "execution_count": null,
      "outputs": [
        {
          "output_type": "stream",
          "name": "stdout",
          "text": [
            "19\n",
            "31\n",
            "22\n",
            "37\n",
            "15\n"
          ]
        }
      ]
    },
    {
      "cell_type": "code",
      "source": [
        "print(cnt)"
      ],
      "metadata": {
        "colab": {
          "base_uri": "https://localhost:8080/"
        },
        "id": "0VM0MoJsm9f4",
        "outputId": "7784614b-bfce-4b78-92cc-a459b8388ced"
      },
      "execution_count": null,
      "outputs": [
        {
          "output_type": "stream",
          "name": "stdout",
          "text": [
            "37\n"
          ]
        }
      ]
    },
    {
      "cell_type": "markdown",
      "source": [
        "답이 33인데 37로 더 측정되어서 나옴\n",
        "\n",
        "물고기 이동 파트에서 빈 공간을 고려안해줌 & 백트레킹과정에서 리스트 copy과정에서 너무 많이 공간이 사용되는 듯 상어가 먹는 과정도 추가"
      ],
      "metadata": {
        "id": "yx2SBxhs_mMl"
      }
    },
    {
      "cell_type": "markdown",
      "source": [
        "즉 1. 상어 이동 2. 물고기 이동을 한 사이클"
      ],
      "metadata": {
        "id": "yRxH4iJRAMF0"
      }
    },
    {
      "cell_type": "markdown",
      "source": [
        "그래프 인덱스\n",
        "\n",
        "1 ~ 16 물고기\n",
        "\n",
        "0 빈 칸\n",
        "\n",
        "-1 상어"
      ],
      "metadata": {
        "id": "84MXUnuhBNbE"
      }
    },
    {
      "cell_type": "code",
      "source": [
        "def move(sharkMoveRow, sharkMoveCol, bowl, fis):\n",
        "    # 초기 배열 복사\n",
        "    tank = [x[:] for x in bowl]\n",
        "    fish = fis[:]\n",
        "\n",
        "    # 1단계 상어 이동 및 물고기 섭취\n",
        "    eatenFishNum = tank[sharkMoveRow][sharkMoveCol][0]\n",
        "    eatenFishDir = tank[sharkMoveRow][sharkMoveCol][1]\n",
        "    beforeSharkRow = fish[0][0]\n",
        "    beforeSharkCol = fish[0][1]\n",
        "    \n",
        "    tank[sharkMoveRow][sharkMoveCol] = (-1, eatenFishDir) # 수조에 상어 위치 최신화\n",
        "    fish[0] = (sharkMoveRow, sharkMoveCol, eatenFishDir)  # fish 배열에 상어 위치 최신화\n",
        "    fish[eatenFishNum] = (-1,-1,-1) # fish 배열에 먹힌 물고기 정보 최신화\n",
        "\n",
        "    \"\"\"\n",
        "    상어가 수조에 입장하지 않은 경우\n",
        "    >> fish[0] = (-1,-1,-1) 인 경우\n",
        "    >> 기존 상어 위치를 최신화 할 필요 없음\n",
        "    >> -1 이 아닐 경우에만 이전 상어자리 빈공간 화\n",
        "    \"\"\"\n",
        "    if beforeSharkRow != -1:\n",
        "        tank[beforeSharkRow][beforeSharkCol] = (0,-1)\n",
        "\n",
        "    # 2단계 물고기 이동\n",
        "    for idx in range(1,17):   # idx는 물고기 번호\n",
        "        bfr, bfc, bfd = fish[idx]\n",
        "        \n",
        "        if bfr == -1:   # 물고기 생사 확인\n",
        "            pass\n",
        "        else:\n",
        "            for j in range(8):\n",
        "                d = bfd + j\n",
        "                if d > 8:\n",
        "                    d = d % 8\n",
        "                dr, dc = directions[d]\n",
        "                r = bfr + dr\n",
        "                c = bfc + dc\n",
        "                # outofbdd & 상어 유무 체크\n",
        "                if 0 <= r < 4 and 0 <= c < 4 and tank[r][c][0] != -1:\n",
        "                    # idx 물고기 fish 배열 최신화\n",
        "                    fish[idx] = (r,c,d)\n",
        "\n",
        "                    chgFishNum = tank[r][c][0]\n",
        "                    # 빈 공간이 아닌 경우 >> 추가적인 fish 배열 최신화 필요\n",
        "                    if chgFishNum != 0:\n",
        "                        fish[chgFishNum] = (bfr,bfc,fish[chgFishNum][2])\n",
        "\n",
        "                    # 수조에 변경사항 반영\n",
        "                    tank[bfr][bfc], tank[r][c] = tank[r][c], (idx,d)\n",
        "                    break  \n",
        "\n",
        "    return tank, fish                 "
      ],
      "metadata": {
        "id": "eg2707INAScs"
      },
      "execution_count": 16,
      "outputs": []
    },
    {
      "cell_type": "code",
      "source": [
        "aa, bb = move(0, 0, graph, fish)"
      ],
      "metadata": {
        "id": "qqvMs0a2KPDQ"
      },
      "execution_count": 17,
      "outputs": []
    },
    {
      "cell_type": "code",
      "source": [
        "for x in aa:\n",
        "    print(x)"
      ],
      "metadata": {
        "colab": {
          "base_uri": "https://localhost:8080/"
        },
        "id": "Wv1E6ZGgKhMX",
        "outputId": "aaa67c72-e814-4d37-9e3f-5328c5b35590"
      },
      "execution_count": 19,
      "outputs": [
        {
          "output_type": "stream",
          "name": "stdout",
          "text": [
            "[(-1, 6), (2, 4), (9, 3), (10, 1)]\n",
            "[(6, 1), (12, 2), (1, 8), (14, 7)]\n",
            "[(16, 1), (5, 2), (15, 6), (13, 1)]\n",
            "[(3, 4), (4, 3), (11, 4), (8, 7)]\n"
          ]
        }
      ]
    },
    {
      "cell_type": "code",
      "source": [
        "for y in bb:\n",
        "    print(y)"
      ],
      "metadata": {
        "colab": {
          "base_uri": "https://localhost:8080/"
        },
        "id": "sqUL5rFwKzQH",
        "outputId": "e196e5ed-b480-4868-f899-fda8173eaeb0"
      },
      "execution_count": 22,
      "outputs": [
        {
          "output_type": "stream",
          "name": "stdout",
          "text": [
            "(0, 0, 6)\n",
            "(1, 2, 8)\n",
            "(0, 1, 4)\n",
            "(3, 0, 4)\n",
            "(3, 1, 3)\n",
            "(2, 1, 2)\n",
            "(1, 0, 1)\n",
            "(-1, -1, -1)\n",
            "(3, 3, 7)\n",
            "(0, 2, 3)\n",
            "(0, 3, 1)\n",
            "(3, 2, 4)\n",
            "(1, 1, 2)\n",
            "(2, 3, 1)\n",
            "(1, 3, 7)\n",
            "(2, 2, 6)\n",
            "(2, 0, 1)\n"
          ]
        }
      ]
    },
    {
      "cell_type": "code",
      "source": [
        "cnt = 0"
      ],
      "metadata": {
        "id": "ruSc3WZrLMkr"
      },
      "execution_count": 23,
      "outputs": []
    },
    {
      "cell_type": "code",
      "source": [
        "def fun(bowl,fi,sharkCnt):\n",
        "    global cnt\n",
        "    tic = False\n",
        "\n",
        "    # 상어 행,열,방향\n",
        "    sr,sc,sd = fi[0]\n",
        "    dr, dc = directions[sd]\n",
        "\n",
        "    # 초기 상태인 경우\n",
        "    if sr == -1:\n",
        "        tt,ff = move(0, 0, bowl, fi)\n",
        "        fun(tt,ff,bowl[0][0][0])\n",
        "\n",
        "    else:\n",
        "        for i in range(1,4):    # 많이 가봤자 3칸 초과해서 못감\n",
        "            r = sr + dr * i\n",
        "            c = sc + dc * i\n",
        "            # 상어 이동 가능일 경우\n",
        "            if 0<=r<4 and 0<=c<4 and bowl[r][c][0] != 0:\n",
        "                tic = True\n",
        "                tt,ff = move(r, c, bowl, fi)\n",
        "                fun(tt,ff,sharkCnt+bowl[r][c][0])\n",
        "\n",
        "        # 상어가 이동 불가한 경우        \n",
        "        if not tic:\n",
        "            cnt = max(cnt, sharkCnt)"
      ],
      "metadata": {
        "id": "7Dcd6ShZLKUn"
      },
      "execution_count": 24,
      "outputs": []
    },
    {
      "cell_type": "code",
      "source": [
        "fun(graph,fish,0)"
      ],
      "metadata": {
        "id": "3Lmk_nasNkoL"
      },
      "execution_count": 25,
      "outputs": []
    },
    {
      "cell_type": "code",
      "source": [
        "print(cnt)"
      ],
      "metadata": {
        "colab": {
          "base_uri": "https://localhost:8080/"
        },
        "id": "vDlIctU0NoLL",
        "outputId": "eea25f03-d0a0-41a1-9511-e20b0b72ec7b"
      },
      "execution_count": 26,
      "outputs": [
        {
          "output_type": "stream",
          "name": "stdout",
          "text": [
            "33\n"
          ]
        }
      ]
    },
    {
      "cell_type": "markdown",
      "source": [
        "1차 제출본"
      ],
      "metadata": {
        "id": "uDXoGVkUNrcs"
      }
    },
    {
      "cell_type": "code",
      "source": [
        "import sys\n",
        "# input = sys.stdin.readline\n",
        "\n",
        "# 입력파트\n",
        "graph = []\n",
        "for _ in range(4):\n",
        "    a1,b1,a2,b2,a3,b3,a4,b4 = map(int, input().rstrip().split())\n",
        "    graph.append([(a1,b1),(a2,b2),(a3,b3),(a4,b4)])\n",
        "\n",
        "directions = [(-1,1),(-1,0),(-1,-1),(0,-1),(1,-1),(1,0),(1,1),(0,1),(-1,1)]\n",
        "\n",
        "# 물고기 위치 배열 생성 (row, col, dir)\n",
        "fish = [(-1,-1,-1)] + [0] * 16  # 0번 인덱스는 상어의 정보 나머지는 물고기\n",
        "for i in range(4):\n",
        "    for j in range(4):\n",
        "        a, b  = graph[i][j]\n",
        "        fish[a] = (i, j, b)\n",
        "\n",
        "\n",
        "def move(sharkMoveRow, sharkMoveCol, bowl, fis):\n",
        "    # 초기 배열 복사\n",
        "    tank = [x[:] for x in bowl]\n",
        "    fish = fis[:]\n",
        "\n",
        "    # 1단계 상어 이동 및 물고기 섭취\n",
        "    eatenFishNum = tank[sharkMoveRow][sharkMoveCol][0]\n",
        "    eatenFishDir = tank[sharkMoveRow][sharkMoveCol][1]\n",
        "    beforeSharkRow = fish[0][0]\n",
        "    beforeSharkCol = fish[0][1]\n",
        "    \n",
        "    tank[sharkMoveRow][sharkMoveCol] = (-1, eatenFishDir) # 수조에 상어 위치 최신화\n",
        "    fish[0] = (sharkMoveRow, sharkMoveCol, eatenFishDir)  # fish 배열에 상어 위치 최신화\n",
        "    fish[eatenFishNum] = (-1,-1,-1) # fish 배열에 먹힌 물고기 정보 최신화\n",
        "\n",
        "    \"\"\"\n",
        "    상어가 수조에 입장하지 않은 경우\n",
        "    >> fish[0] = (-1,-1,-1) 인 경우\n",
        "    >> 기존 상어 위치를 최신화 할 필요 없음\n",
        "    >> -1 이 아닐 경우에만 이전 상어자리 빈공간 화\n",
        "    \"\"\"\n",
        "    if beforeSharkRow != -1:\n",
        "        tank[beforeSharkRow][beforeSharkCol] = (0,-1)\n",
        "\n",
        "    # 2단계 물고기 이동\n",
        "    for idx in range(1,17):   # idx는 물고기 번호\n",
        "        bfr, bfc, bfd = fish[idx]\n",
        "        \n",
        "        if bfr == -1:   # 물고기 생사 확인\n",
        "            pass\n",
        "        else:\n",
        "            for j in range(8):\n",
        "                d = bfd + j\n",
        "                if d > 8:\n",
        "                    d = d % 8\n",
        "                dr, dc = directions[d]\n",
        "                r = bfr + dr\n",
        "                c = bfc + dc\n",
        "                # outofbdd & 상어 유무 체크\n",
        "                if 0 <= r < 4 and 0 <= c < 4 and tank[r][c][0] != -1:\n",
        "                    # idx 물고기 fish 배열 최신화\n",
        "                    fish[idx] = (r,c,d)\n",
        "\n",
        "                    chgFishNum = tank[r][c][0]\n",
        "                    # 빈 공간이 아닌 경우 >> 추가적인 fish 배열 최신화 필요\n",
        "                    if chgFishNum != 0:\n",
        "                        fish[chgFishNum] = (bfr,bfc,fish[chgFishNum][2])\n",
        "\n",
        "                    # 수조에 변경사항 반영\n",
        "                    tank[bfr][bfc], tank[r][c] = tank[r][c], (idx,d)\n",
        "                    break  \n",
        "\n",
        "    return tank, fish\n",
        "\n",
        "def fun(bowl,fi,sharkCnt):\n",
        "    global cnt\n",
        "    tic = False\n",
        "\n",
        "    # 상어 행,열,방향\n",
        "    sr,sc,sd = fi[0]\n",
        "    dr, dc = directions[sd]\n",
        "\n",
        "    # 초기 상태인 경우\n",
        "    if sr == -1:\n",
        "        tt,ff = move(0, 0, bowl, fi)\n",
        "        fun(tt,ff,bowl[0][0][0])\n",
        "\n",
        "    else:\n",
        "        for i in range(1,4):    # 많이 가봤자 3칸 초과해서 못감\n",
        "            r = sr + dr * i\n",
        "            c = sc + dc * i\n",
        "            # 상어 이동 가능일 경우\n",
        "            if 0<=r<4 and 0<=c<4 and bowl[r][c][0] != 0:\n",
        "                tic = True\n",
        "                tt,ff = move(r, c, bowl, fi)\n",
        "                fun(tt,ff,sharkCnt+bowl[r][c][0])\n",
        "\n",
        "        # 상어가 이동 불가한 경우        \n",
        "        if not tic:\n",
        "            cnt = max(cnt, sharkCnt)\n",
        "\n",
        "cnt = 0\n",
        "fun(graph,fish,0)\n",
        "print(cnt)"
      ],
      "metadata": {
        "colab": {
          "base_uri": "https://localhost:8080/"
        },
        "id": "WCRjmzbnNuSc",
        "outputId": "9e2d5ba6-2150-4675-b6c2-b4680b8b50b7"
      },
      "execution_count": 29,
      "outputs": [
        {
          "output_type": "stream",
          "name": "stdout",
          "text": [
            "2 6 10 8 6 7 9 4\n",
            "1 7 16 6 4 2 5 8\n",
            "3 7 8 6 7 6 14 8\n",
            "12 7 15 4 11 3 13 3\n",
            "39\n"
          ]
        }
      ]
    },
    {
      "cell_type": "markdown",
      "source": [
        "통과"
      ],
      "metadata": {
        "id": "5-ZMVX0GPBtJ"
      }
    }
  ]
}

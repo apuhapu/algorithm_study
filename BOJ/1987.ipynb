{
  "nbformat": 4,
  "nbformat_minor": 0,
  "metadata": {
    "colab": {
      "name": "1987.ipynb",
      "provenance": [],
      "authorship_tag": "ABX9TyOPvHQ+TuEP/i40q3gZ8gd7",
      "include_colab_link": true
    },
    "kernelspec": {
      "name": "python3",
      "display_name": "Python 3"
    },
    "language_info": {
      "name": "python"
    }
  },
  "cells": [
    {
      "cell_type": "markdown",
      "metadata": {
        "id": "view-in-github",
        "colab_type": "text"
      },
      "source": [
        "<a href=\"https://colab.research.google.com/github/apuhapu/algorithm_study/blob/main/1987.ipynb\" target=\"_parent\"><img src=\"https://colab.research.google.com/assets/colab-badge.svg\" alt=\"Open In Colab\"/></a>"
      ]
    },
    {
      "cell_type": "markdown",
      "source": [
        "https://www.acmicpc.net/problem/1987"
      ],
      "metadata": {
        "id": "WAr89VVoGPXL"
      }
    },
    {
      "cell_type": "code",
      "source": [
        "r,c = map(int, input().rstrip().split())\n",
        "board = []\n",
        "for _ in range(r):\n",
        "    st = input()\n",
        "    board.append([x for x in st])"
      ],
      "metadata": {
        "colab": {
          "base_uri": "https://localhost:8080/"
        },
        "id": "81Yw5ArZGPC1",
        "outputId": "75453f9f-d617-4fb1-89df-a27060ce2a73"
      },
      "execution_count": 3,
      "outputs": [
        {
          "name": "stdout",
          "output_type": "stream",
          "text": [
            "5 5\n",
            "IEFCJ\n",
            "FHFKC\n",
            "FFALF\n",
            "HFGCF\n",
            "HMCHH\n"
          ]
        }
      ]
    },
    {
      "cell_type": "code",
      "source": [
        "def isinside(a,b):\n",
        "    if a >= 0 and a < r and b >= 0 and b < c:\n",
        "        return True\n",
        "    else:\n",
        "        return False"
      ],
      "metadata": {
        "id": "tS4Lh1RyIGgC"
      },
      "execution_count": 4,
      "outputs": []
    },
    {
      "cell_type": "code",
      "source": [
        "dr = [1,-1,0,0]\n",
        "dc = [0,0,1,-1]"
      ],
      "metadata": {
        "id": "NK6rM2M4MHiZ"
      },
      "execution_count": 5,
      "outputs": []
    },
    {
      "cell_type": "code",
      "execution_count": 6,
      "metadata": {
        "colab": {
          "base_uri": "https://localhost:8080/"
        },
        "id": "BzLZJ2AgGJWh",
        "outputId": "af8e3f77-1513-4c6d-cf0b-261c17dd4036"
      },
      "outputs": [
        {
          "output_type": "execute_result",
          "data": {
            "text/plain": [
              "[['I', 'E', 'F', 'C', 'J'],\n",
              " ['F', 'H', 'F', 'K', 'C'],\n",
              " ['F', 'F', 'A', 'L', 'F'],\n",
              " ['H', 'F', 'G', 'C', 'F'],\n",
              " ['H', 'M', 'C', 'H', 'H']]"
            ]
          },
          "metadata": {},
          "execution_count": 6
        }
      ],
      "source": [
        "board"
      ]
    },
    {
      "cell_type": "code",
      "source": [
        "def fun():\n",
        "    k = 0\n",
        "    alpha = {}\n",
        "    a = board[0][0]\n",
        "    lst = [(0,0,{a:1},1)]\n",
        "    while lst:\n",
        "        p, q, dic, cnt = lst.pop()\n",
        "        for i, j in zip(dr,dc):\n",
        "            pp = p + i\n",
        "            qq = q + j\n",
        "            if isinside(pp,qq):\n",
        "                aa = board[pp][qq]\n",
        "                if dic.get(aa) == None:\n",
        "                    di = dic.copy()\n",
        "                    di[aa] = 1\n",
        "                    lst.append((pp,qq,di, cnt+1))\n",
        "                    k = max(k, len(di))\n",
        "\n",
        "    return k"
      ],
      "metadata": {
        "id": "pwWkYG8wPl5r"
      },
      "execution_count": 45,
      "outputs": []
    },
    {
      "cell_type": "code",
      "source": [
        "print(fun())"
      ],
      "metadata": {
        "colab": {
          "base_uri": "https://localhost:8080/"
        },
        "id": "REQWGDSNq4le",
        "outputId": "f23d279a-f394-4428-e0e7-79b4764566bb"
      },
      "execution_count": 46,
      "outputs": [
        {
          "output_type": "stream",
          "name": "stdout",
          "text": [
            "{'I': 1}\n",
            "{'I': 1, 'E': 1}\n",
            "{'I': 1, 'E': 1, 'F': 1}\n",
            "{'I': 1, 'E': 1, 'F': 1, 'C': 1}\n",
            "{'I': 1, 'E': 1, 'F': 1, 'C': 1, 'J': 1}\n",
            "{'I': 1, 'E': 1, 'F': 1, 'C': 1, 'K': 1}\n",
            "{'I': 1, 'E': 1, 'F': 1, 'C': 1, 'K': 1, 'L': 1}\n",
            "{'I': 1, 'E': 1, 'F': 1, 'C': 1, 'K': 1, 'L': 1, 'A': 1}\n",
            "{'I': 1, 'E': 1, 'F': 1, 'C': 1, 'K': 1, 'L': 1, 'A': 1, 'G': 1}\n",
            "{'I': 1, 'E': 1, 'H': 1}\n",
            "{'I': 1, 'E': 1, 'H': 1, 'F': 1}\n",
            "{'I': 1, 'E': 1, 'H': 1, 'F': 1}\n",
            "{'I': 1, 'E': 1, 'H': 1, 'F': 1, 'K': 1}\n",
            "{'I': 1, 'E': 1, 'H': 1, 'F': 1, 'K': 1, 'C': 1}\n",
            "{'I': 1, 'E': 1, 'H': 1, 'F': 1, 'K': 1, 'C': 1, 'J': 1}\n",
            "{'I': 1, 'E': 1, 'H': 1, 'F': 1, 'K': 1, 'C': 1}\n",
            "{'I': 1, 'E': 1, 'H': 1, 'F': 1, 'K': 1, 'C': 1, 'J': 1}\n",
            "{'I': 1, 'E': 1, 'H': 1, 'F': 1, 'K': 1, 'L': 1}\n",
            "{'I': 1, 'E': 1, 'H': 1, 'F': 1, 'K': 1, 'L': 1, 'A': 1}\n",
            "{'I': 1, 'E': 1, 'H': 1, 'F': 1, 'K': 1, 'L': 1, 'A': 1, 'G': 1}\n",
            "{'I': 1, 'E': 1, 'H': 1, 'F': 1, 'K': 1, 'L': 1, 'A': 1, 'G': 1, 'C': 1}\n",
            "{'I': 1, 'E': 1, 'H': 1, 'F': 1, 'K': 1, 'L': 1, 'A': 1, 'G': 1, 'C': 1}\n",
            "{'I': 1, 'E': 1, 'H': 1, 'F': 1, 'K': 1, 'L': 1, 'A': 1, 'G': 1, 'C': 1, 'M': 1}\n",
            "{'I': 1, 'E': 1, 'H': 1, 'F': 1, 'K': 1, 'L': 1, 'C': 1}\n",
            "{'I': 1, 'E': 1, 'H': 1, 'F': 1, 'K': 1, 'L': 1, 'C': 1, 'G': 1}\n",
            "{'I': 1, 'E': 1, 'H': 1, 'F': 1, 'K': 1, 'L': 1, 'C': 1, 'G': 1, 'A': 1}\n",
            "{'I': 1, 'E': 1, 'H': 1, 'F': 1, 'A': 1}\n",
            "{'I': 1, 'E': 1, 'H': 1, 'F': 1, 'A': 1, 'L': 1}\n",
            "{'I': 1, 'E': 1, 'H': 1, 'F': 1, 'A': 1, 'L': 1, 'K': 1}\n",
            "{'I': 1, 'E': 1, 'H': 1, 'F': 1, 'A': 1, 'L': 1, 'K': 1, 'C': 1}\n",
            "{'I': 1, 'E': 1, 'H': 1, 'F': 1, 'A': 1, 'L': 1, 'K': 1, 'C': 1, 'J': 1}\n",
            "{'I': 1, 'E': 1, 'H': 1, 'F': 1, 'A': 1, 'L': 1, 'K': 1, 'C': 1}\n",
            "{'I': 1, 'E': 1, 'H': 1, 'F': 1, 'A': 1, 'L': 1, 'K': 1, 'C': 1, 'J': 1}\n",
            "{'I': 1, 'E': 1, 'H': 1, 'F': 1, 'A': 1, 'L': 1, 'C': 1}\n",
            "{'I': 1, 'E': 1, 'H': 1, 'F': 1, 'A': 1, 'L': 1, 'C': 1, 'G': 1}\n",
            "{'I': 1, 'E': 1, 'H': 1, 'F': 1, 'A': 1, 'G': 1}\n",
            "{'I': 1, 'E': 1, 'H': 1, 'F': 1, 'A': 1, 'G': 1, 'C': 1}\n",
            "{'I': 1, 'E': 1, 'H': 1, 'F': 1, 'A': 1, 'G': 1, 'C': 1, 'L': 1}\n",
            "{'I': 1, 'E': 1, 'H': 1, 'F': 1, 'A': 1, 'G': 1, 'C': 1, 'L': 1, 'K': 1}\n",
            "{'I': 1, 'E': 1, 'H': 1, 'F': 1, 'A': 1, 'G': 1, 'C': 1}\n",
            "{'I': 1, 'E': 1, 'H': 1, 'F': 1, 'A': 1, 'G': 1, 'C': 1, 'M': 1}\n",
            "{'I': 1, 'E': 1, 'H': 1, 'F': 1}\n",
            "{'I': 1, 'E': 1, 'H': 1, 'F': 1, 'A': 1}\n",
            "{'I': 1, 'E': 1, 'H': 1, 'F': 1, 'A': 1, 'L': 1}\n",
            "{'I': 1, 'E': 1, 'H': 1, 'F': 1, 'A': 1, 'L': 1, 'K': 1}\n",
            "{'I': 1, 'E': 1, 'H': 1, 'F': 1, 'A': 1, 'L': 1, 'K': 1, 'C': 1}\n",
            "{'I': 1, 'E': 1, 'H': 1, 'F': 1, 'A': 1, 'L': 1, 'K': 1, 'C': 1, 'J': 1}\n",
            "{'I': 1, 'E': 1, 'H': 1, 'F': 1, 'A': 1, 'L': 1, 'K': 1, 'C': 1}\n",
            "{'I': 1, 'E': 1, 'H': 1, 'F': 1, 'A': 1, 'L': 1, 'K': 1, 'C': 1, 'J': 1}\n",
            "{'I': 1, 'E': 1, 'H': 1, 'F': 1, 'A': 1, 'L': 1, 'C': 1}\n",
            "{'I': 1, 'E': 1, 'H': 1, 'F': 1, 'A': 1, 'L': 1, 'C': 1, 'G': 1}\n",
            "{'I': 1, 'E': 1, 'H': 1, 'F': 1, 'A': 1, 'G': 1}\n",
            "{'I': 1, 'E': 1, 'H': 1, 'F': 1, 'A': 1, 'G': 1, 'C': 1}\n",
            "{'I': 1, 'E': 1, 'H': 1, 'F': 1, 'A': 1, 'G': 1, 'C': 1, 'L': 1}\n",
            "{'I': 1, 'E': 1, 'H': 1, 'F': 1, 'A': 1, 'G': 1, 'C': 1, 'L': 1, 'K': 1}\n",
            "{'I': 1, 'E': 1, 'H': 1, 'F': 1, 'A': 1, 'G': 1, 'C': 1}\n",
            "{'I': 1, 'E': 1, 'H': 1, 'F': 1, 'A': 1, 'G': 1, 'C': 1, 'M': 1}\n",
            "{'I': 1, 'F': 1}\n",
            "{'I': 1, 'F': 1, 'H': 1}\n",
            "{'I': 1, 'F': 1, 'H': 1, 'E': 1}\n",
            "10\n"
          ]
        }
      ]
    },
    {
      "cell_type": "code",
      "source": [
        "import sys\n",
        "input = sys.stdin.readline\n",
        "\n",
        "r,c = map(int, input().rstrip().split())\n",
        "board = []\n",
        "for _ in range(r):\n",
        "    st = input()\n",
        "    board.append([x for x in st])\n",
        "\n",
        "def isinside(a,b):\n",
        "    if a >= 0 and a < r and b >= 0 and b < c:\n",
        "        return True\n",
        "    else:\n",
        "        return False\n",
        "\n",
        "dr = [1,-1,0,0]\n",
        "dc = [0,0,1,-1]\n",
        "\n",
        "def fun():\n",
        "    k = 0\n",
        "    alpha = {}\n",
        "    a = board[0][0]\n",
        "    lst = [(0,0,{a:1},1)]\n",
        "    while lst:\n",
        "        p, q, dic, cnt = lst.pop()\n",
        "        for i, j in zip(dr,dc):\n",
        "            pp = p + i\n",
        "            qq = q + j\n",
        "            if isinside(pp,qq):\n",
        "                aa = board[pp][qq]\n",
        "                if dic.get(aa) == None:\n",
        "                    di = dic.copy()\n",
        "                    di[aa] = 1\n",
        "                    lst.append((pp,qq,di, cnt+1))\n",
        "                    k = max(k, len(di))\n",
        "\n",
        "    return k\n",
        "\n",
        "print(fun())"
      ],
      "metadata": {
        "id": "unDaN__3-C_7"
      },
      "execution_count": null,
      "outputs": []
    },
    {
      "cell_type": "markdown",
      "source": [
        "시간초과\n",
        "\n",
        "dfs 재귀로 줄여봐야겠다"
      ],
      "metadata": {
        "id": "04Apx8CXoIBF"
      }
    },
    {
      "cell_type": "code",
      "source": [
        "ma = 0\n",
        "se = set(board[0][0])"
      ],
      "metadata": {
        "id": "ZvD6XzjTpuPg"
      },
      "execution_count": 29,
      "outputs": []
    },
    {
      "cell_type": "code",
      "source": [
        "def dfs(x,y,cnt):\n",
        "    global ma\n",
        "    ma = max(cnt,ma)\n",
        "    print(se)\n",
        "    for i in range(4):\n",
        "        p = x + dr[i]\n",
        "        q = y + dc[i]\n",
        "        if isinside(p,q):\n",
        "            a = board[p][q]\n",
        "            if a not in se:\n",
        "                se.add(a)\n",
        "                dfs(p,q,cnt+1)\n",
        "                se.remove(a)\n",
        "\n",
        "    return ma"
      ],
      "metadata": {
        "id": "qK8FSsr5oMoX"
      },
      "execution_count": 30,
      "outputs": []
    },
    {
      "cell_type": "code",
      "source": [
        "print(dfs(0,0,1))"
      ],
      "metadata": {
        "colab": {
          "base_uri": "https://localhost:8080/"
        },
        "id": "YrMOUNVPp7V-",
        "outputId": "644c7310-e887-401e-9f57-cc8c8ff2b3a8"
      },
      "execution_count": 31,
      "outputs": [
        {
          "output_type": "stream",
          "name": "stdout",
          "text": [
            "{'I'}\n",
            "{'I', 'F'}\n",
            "{'H', 'I', 'F'}\n",
            "{'H', 'E', 'I', 'F'}\n",
            "{'E', 'I'}\n",
            "{'H', 'E', 'I'}\n",
            "{'H', 'E', 'I', 'F'}\n",
            "{'E', 'A', 'I', 'H', 'F'}\n",
            "{'E', 'A', 'I', 'G', 'H', 'F'}\n",
            "{'E', 'A', 'I', 'G', 'C', 'H', 'F'}\n",
            "{'E', 'A', 'M', 'I', 'G', 'C', 'H', 'F'}\n",
            "{'E', 'A', 'I', 'G', 'C', 'H', 'F'}\n",
            "{'E', 'A', 'L', 'I', 'G', 'C', 'H', 'F'}\n",
            "{'E', 'A', 'L', 'I', 'K', 'G', 'C', 'H', 'F'}\n",
            "{'E', 'A', 'L', 'I', 'H', 'F'}\n",
            "{'E', 'A', 'L', 'I', 'C', 'H', 'F'}\n",
            "{'E', 'A', 'L', 'I', 'G', 'C', 'H', 'F'}\n",
            "{'E', 'A', 'L', 'I', 'K', 'H', 'F'}\n",
            "{'E', 'A', 'L', 'I', 'K', 'C', 'H', 'F'}\n",
            "{'E', 'J', 'A', 'L', 'I', 'K', 'C', 'H', 'F'}\n",
            "{'E', 'A', 'L', 'I', 'K', 'C', 'H', 'F'}\n",
            "{'E', 'J', 'A', 'L', 'I', 'K', 'C', 'H', 'F'}\n",
            "{'E', 'F', 'I', 'H'}\n",
            "{'E', 'A', 'F', 'I', 'H'}\n",
            "{'E', 'A', 'F', 'I', 'G', 'H'}\n",
            "{'E', 'A', 'F', 'I', 'G', 'C', 'H'}\n",
            "{'E', 'A', 'F', 'M', 'I', 'G', 'C', 'H'}\n",
            "{'E', 'A', 'F', 'I', 'G', 'C', 'H'}\n",
            "{'E', 'A', 'F', 'L', 'I', 'G', 'C', 'H'}\n",
            "{'E', 'A', 'F', 'L', 'I', 'K', 'G', 'C', 'H'}\n",
            "{'E', 'A', 'F', 'L', 'I', 'H'}\n",
            "{'E', 'A', 'F', 'L', 'I', 'C', 'H'}\n",
            "{'E', 'A', 'F', 'L', 'I', 'G', 'C', 'H'}\n",
            "{'E', 'A', 'F', 'L', 'I', 'K', 'H'}\n",
            "{'E', 'A', 'F', 'L', 'I', 'K', 'C', 'H'}\n",
            "{'E', 'J', 'A', 'F', 'L', 'I', 'K', 'C', 'H'}\n",
            "{'E', 'A', 'F', 'L', 'I', 'K', 'C', 'H'}\n",
            "{'E', 'J', 'A', 'F', 'L', 'I', 'K', 'C', 'H'}\n",
            "{'E', 'F', 'I', 'K', 'H'}\n",
            "{'E', 'F', 'L', 'I', 'K', 'H'}\n",
            "{'E', 'F', 'L', 'I', 'K', 'C', 'H'}\n",
            "{'E', 'F', 'L', 'I', 'K', 'G', 'C', 'H'}\n",
            "{'E', 'A', 'F', 'L', 'I', 'K', 'G', 'C', 'H'}\n",
            "{'E', 'A', 'F', 'L', 'I', 'K', 'H'}\n",
            "{'E', 'A', 'F', 'L', 'I', 'K', 'G', 'H'}\n",
            "{'E', 'A', 'F', 'L', 'I', 'K', 'G', 'C', 'H'}\n",
            "{'E', 'A', 'F', 'L', 'M', 'I', 'K', 'G', 'C', 'H'}\n",
            "{'E', 'A', 'F', 'L', 'I', 'K', 'G', 'C', 'H'}\n",
            "{'E', 'F', 'I', 'K', 'C', 'H'}\n",
            "{'E', 'J', 'F', 'I', 'K', 'C', 'H'}\n",
            "{'E', 'F', 'I', 'K', 'C', 'H'}\n",
            "{'E', 'J', 'F', 'I', 'K', 'C', 'H'}\n",
            "{'E', 'F', 'I', 'H'}\n",
            "{'E', 'F', 'I'}\n",
            "{'E', 'F', 'I', 'C'}\n",
            "{'E', 'F', 'I', 'K', 'C'}\n",
            "{'E', 'L', 'F', 'I', 'K', 'C'}\n",
            "{'E', 'A', 'L', 'F', 'I', 'K', 'C'}\n",
            "{'E', 'A', 'L', 'F', 'I', 'G', 'K', 'C'}\n",
            "{'E', 'J', 'F', 'I', 'C'}\n",
            "10\n"
          ]
        }
      ]
    },
    {
      "cell_type": "code",
      "source": [
        "board"
      ],
      "metadata": {
        "colab": {
          "base_uri": "https://localhost:8080/"
        },
        "id": "s9qaTf3dqZQn",
        "outputId": "df1490e4-501b-4cc4-ed3f-1d3fe9296baa"
      },
      "execution_count": 22,
      "outputs": [
        {
          "output_type": "execute_result",
          "data": {
            "text/plain": [
              "[['I', 'E', 'F', 'C', 'J'],\n",
              " ['F', 'H', 'F', 'K', 'C'],\n",
              " ['F', 'F', 'A', 'L', 'F'],\n",
              " ['H', 'F', 'G', 'C', 'F'],\n",
              " ['H', 'M', 'C', 'H', 'H']]"
            ]
          },
          "metadata": {},
          "execution_count": 22
        }
      ]
    },
    {
      "cell_type": "markdown",
      "source": [
        "시간초과로 인해서 알파벳을 아스키코드 번호로 변환후 리스트에서 방문 여부 확인"
      ],
      "metadata": {
        "id": "mTxqJYuTDrc9"
      }
    },
    {
      "cell_type": "code",
      "source": [
        "import sys\n",
        "input = sys.stdin.readline\n",
        "\n",
        "r,c = map(int, input().rstrip().split())\n",
        "board = []\n",
        "for _ in range(r):\n",
        "    st = input()\n",
        "    board.append([x for x in st])\n",
        "\n",
        "def isinside(a,b):\n",
        "    if a >= 0 and a < r and b >= 0 and b < c:\n",
        "        return True\n",
        "    else:\n",
        "        return False\n",
        "\n",
        "dr = [1,-1,0,0]\n",
        "dc = [0,0,1,-1]\n",
        "ma = 0\n",
        "se = [0] * 26\n",
        "se[ord(board[0][0])-65] = 1\n",
        "\n",
        "def dfs(x,y,cnt):\n",
        "    global ma\n",
        "    ma = max(cnt,ma)\n",
        "    for i, j in zip(dr,dc):\n",
        "        p = x + i\n",
        "        q = y + j\n",
        "        if isinside(p,q):\n",
        "            a = ord(board[p][q])-65\n",
        "            if se[a] == 0:\n",
        "                se[a] = 1\n",
        "                dfs(p,q,cnt+1)\n",
        "                se[a] = 0\n",
        "\n",
        "    return ma\n",
        "\n",
        "print(dfs(0,0,1))"
      ],
      "metadata": {
        "id": "iub1VFHhD2BN"
      },
      "execution_count": null,
      "outputs": []
    }
  ]
}

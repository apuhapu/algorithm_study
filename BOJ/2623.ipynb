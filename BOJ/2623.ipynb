{
  "nbformat": 4,
  "nbformat_minor": 0,
  "metadata": {
    "colab": {
      "provenance": [],
      "authorship_tag": "ABX9TyNvRcbQ32lTcQ+p89jJCu+8",
      "include_colab_link": true
    },
    "kernelspec": {
      "name": "python3",
      "display_name": "Python 3"
    },
    "language_info": {
      "name": "python"
    }
  },
  "cells": [
    {
      "cell_type": "markdown",
      "metadata": {
        "id": "view-in-github",
        "colab_type": "text"
      },
      "source": [
        "<a href=\"https://colab.research.google.com/github/apuhapu/algorithm_study/blob/main/BOJ/2623.ipynb\" target=\"_parent\"><img src=\"https://colab.research.google.com/assets/colab-badge.svg\" alt=\"Open In Colab\"/></a>"
      ]
    },
    {
      "cell_type": "markdown",
      "source": [
        "https://www.acmicpc.net/problem/2623"
      ],
      "metadata": {
        "id": "u5Nqf_FlBD3o"
      }
    },
    {
      "cell_type": "markdown",
      "source": [
        "위상정렬을 이용"
      ],
      "metadata": {
        "id": "6pZ84WfDDPFj"
      }
    },
    {
      "cell_type": "code",
      "source": [
        "from collections import deque"
      ],
      "metadata": {
        "id": "VkkODysTA-5b"
      },
      "execution_count": 1,
      "outputs": []
    },
    {
      "cell_type": "code",
      "execution_count": null,
      "metadata": {
        "colab": {
          "base_uri": "https://localhost:8080/"
        },
        "id": "3vh4h8Yp_Sfy",
        "outputId": "0a109a1d-658a-4d64-e2e1-eaf670014176"
      },
      "outputs": [
        {
          "name": "stdout",
          "output_type": "stream",
          "text": [
            "6 3\n"
          ]
        }
      ],
      "source": [
        "n, m = map(int, input().rstrip().split())"
      ]
    },
    {
      "cell_type": "code",
      "source": [
        "n_degs = [0]*(n+1)\n",
        "graph = [[] for _ in range(n+1)]"
      ],
      "metadata": {
        "id": "6QsVmiqEBJvO"
      },
      "execution_count": null,
      "outputs": []
    },
    {
      "cell_type": "code",
      "source": [
        "for _ in range(m):\n",
        "    lst = list(map(int, input().rstrip().split()))\n",
        "    if lst[0] != 0 and lst[0] != 1:\n",
        "        for i in range(1,len(lst)-1):\n",
        "            graph[lst[i]].append(lst[i+1])\n",
        "            n_degs[lst[i+1]] += 1"
      ],
      "metadata": {
        "colab": {
          "base_uri": "https://localhost:8080/"
        },
        "id": "LibQEKN-BHJM",
        "outputId": "1cbaadbd-ba9c-4067-a1e5-87863d63cec4"
      },
      "execution_count": null,
      "outputs": [
        {
          "name": "stdout",
          "output_type": "stream",
          "text": [
            "3 1 4 3\n",
            "4 6 2 5 4\n",
            "2 2 3\n"
          ]
        }
      ]
    },
    {
      "cell_type": "code",
      "source": [
        "graph"
      ],
      "metadata": {
        "colab": {
          "base_uri": "https://localhost:8080/"
        },
        "id": "Uq7F8s0sDBW1",
        "outputId": "4c7eb906-0958-43f6-b492-27a66298abcb"
      },
      "execution_count": null,
      "outputs": [
        {
          "output_type": "execute_result",
          "data": {
            "text/plain": [
              "[[], [4], [5, 3], [], [3], [4], [2]]"
            ]
          },
          "metadata": {},
          "execution_count": 55
        }
      ]
    },
    {
      "cell_type": "code",
      "source": [
        "n_degs"
      ],
      "metadata": {
        "colab": {
          "base_uri": "https://localhost:8080/"
        },
        "id": "PREJIVM-DMOq",
        "outputId": "448a16e6-c2e8-4f86-e48c-bafc83a079c8"
      },
      "execution_count": null,
      "outputs": [
        {
          "output_type": "execute_result",
          "data": {
            "text/plain": [
              "[0, 0, 1, 2, 2, 1, 0]"
            ]
          },
          "metadata": {},
          "execution_count": 56
        }
      ]
    },
    {
      "cell_type": "code",
      "source": [
        "deq = deque([])\n",
        "order = []"
      ],
      "metadata": {
        "id": "gqrx8kxkDy0H"
      },
      "execution_count": null,
      "outputs": []
    },
    {
      "cell_type": "code",
      "source": [
        "def fn_check_degs():\n",
        "    for i in range(1,n+1):\n",
        "        if n_degs[i] == 0:\n",
        "            deq.append(i)\n",
        "            n_degs[i] = -1"
      ],
      "metadata": {
        "id": "NLQTS57cDWED"
      },
      "execution_count": null,
      "outputs": []
    },
    {
      "cell_type": "code",
      "source": [
        "fn_check_degs()\n",
        "if not deq:\n",
        "    print(0)\n",
        "else:\n",
        "    while deq:\n",
        "        idx = deq.popleft()\n",
        "        for node in graph[idx]:\n",
        "            n_degs[node] -= 1\n",
        "        order.append(idx)\n",
        "        fn_check_degs()\n",
        "    else:\n",
        "        if len(order) == n:\n",
        "            for i in order:\n",
        "                print(i)\n",
        "        else:\n",
        "            print(0)"
      ],
      "metadata": {
        "colab": {
          "base_uri": "https://localhost:8080/"
        },
        "id": "IqEkqILgD6yM",
        "outputId": "d90f6a7c-04a5-474c-da3e-bceec7b50f8a"
      },
      "execution_count": null,
      "outputs": [
        {
          "output_type": "stream",
          "name": "stdout",
          "text": [
            "deque([1, 6])\n",
            "1\n",
            "deque([6])\n",
            "0\n",
            "deque([2])\n",
            "0\n",
            "1\n",
            "deque([5])\n",
            "0\n",
            "deque([4])\n",
            "0\n",
            "deque([3])\n",
            "deque([])\n",
            "1\n",
            "6\n",
            "2\n",
            "5\n",
            "4\n",
            "3\n"
          ]
        }
      ]
    },
    {
      "cell_type": "code",
      "source": [
        "order"
      ],
      "metadata": {
        "colab": {
          "base_uri": "https://localhost:8080/"
        },
        "id": "L-NRaATtFUi3",
        "outputId": "e14aa6f8-f706-4edc-ce57-9b88c8e95478"
      },
      "execution_count": null,
      "outputs": [
        {
          "output_type": "execute_result",
          "data": {
            "text/plain": [
              "[1]"
            ]
          },
          "metadata": {},
          "execution_count": 28
        }
      ]
    },
    {
      "cell_type": "code",
      "source": [
        "n_degs"
      ],
      "metadata": {
        "colab": {
          "base_uri": "https://localhost:8080/"
        },
        "id": "EFGmMYhzFgY-",
        "outputId": "352a9b14-51dc-4fd2-85d6-26cfd84501d3"
      },
      "execution_count": null,
      "outputs": [
        {
          "output_type": "execute_result",
          "data": {
            "text/plain": [
              "[0, -1, 1, 2, 1, 1, 0]"
            ]
          },
          "metadata": {},
          "execution_count": 39
        }
      ]
    },
    {
      "cell_type": "markdown",
      "source": [
        "1차 제출"
      ],
      "metadata": {
        "id": "rB0Rl8nl8snN"
      }
    },
    {
      "cell_type": "code",
      "source": [
        "from collections import deque\n",
        "import sys\n",
        "input = sys.stdin.readline\n",
        "\n",
        "def fn_check_degs():  # 진입차수가 0인 노드를 deq에 넣고 차수를 -1로 변경\n",
        "    for i in range(1,n+1):\n",
        "        if n_degs[i] == 0:\n",
        "            deq.append(i)\n",
        "            n_degs[i] = -1\n",
        "\n",
        "n, m = map(int, input().rstrip().split())\n",
        "\n",
        "n_degs = [0]*(n+1)\n",
        "graph = [[] for _ in range(n+1)]\n",
        "\n",
        "for _ in range(m):\n",
        "    lst = list(map(int, input().rstrip().split()))\n",
        "    if lst[0] != 0 and lst[0] != 1: # 담당 가수가 없거나 1팀인 경우 제외\n",
        "        for i in range(1,len(lst)-1):\n",
        "            graph[lst[i]].append(lst[i+1])\n",
        "            n_degs[lst[i+1]] += 1\n",
        "\n",
        "deq = deque([])\n",
        "order = []  # 출력 순서\n",
        "\n",
        "fn_check_degs() # 초기 진입차수 0인 노드 que 추가\n",
        "if not deq: # 모두 사이클인 경우\n",
        "    print(0)\n",
        "else:\n",
        "    while deq:\n",
        "        idx = deq.popleft()\n",
        "        for node in graph[idx]: # idx와 연결된 노드의 차수 -1\n",
        "            n_degs[node] -= 1\n",
        "        order.append(idx)\n",
        "        fn_check_degs() # 차수가 0인 노드 추가\n",
        "    else:\n",
        "        if len(order) == n: # 모두 순회한 경우\n",
        "            for i in order:\n",
        "                print(i)\n",
        "        else: # 모두 순회하지 못하고 사이클이 존재하는 경우\n",
        "            print(0)"
      ],
      "metadata": {
        "id": "GLnAV5Bg1erK"
      },
      "execution_count": null,
      "outputs": []
    }
  ]
}
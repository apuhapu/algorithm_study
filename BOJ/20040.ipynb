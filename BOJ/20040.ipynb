{
  "nbformat": 4,
  "nbformat_minor": 0,
  "metadata": {
    "colab": {
      "provenance": [],
      "authorship_tag": "ABX9TyPBnmYwH0+bM0Ew0ndfTHji",
      "include_colab_link": true
    },
    "kernelspec": {
      "name": "python3",
      "display_name": "Python 3"
    },
    "language_info": {
      "name": "python"
    }
  },
  "cells": [
    {
      "cell_type": "markdown",
      "metadata": {
        "id": "view-in-github",
        "colab_type": "text"
      },
      "source": [
        "<a href=\"https://colab.research.google.com/github/apuhapu/algorithm_study/blob/main/BOJ/20040.ipynb\" target=\"_parent\"><img src=\"https://colab.research.google.com/assets/colab-badge.svg\" alt=\"Open In Colab\"/></a>"
      ]
    },
    {
      "cell_type": "markdown",
      "source": [
        "https://www.acmicpc.net/problem/20040"
      ],
      "metadata": {
        "id": "UqEicTViHx7v"
      }
    },
    {
      "cell_type": "markdown",
      "source": [
        "우선 유니온 파인드를 사용"
      ],
      "metadata": {
        "id": "qcQuVd-7HzSq"
      }
    },
    {
      "cell_type": "code",
      "execution_count": 1,
      "metadata": {
        "colab": {
          "base_uri": "https://localhost:8080/"
        },
        "id": "MzwpxaXPHm13",
        "outputId": "ee4378e8-ddce-4ef8-e76a-fceead2aeda4"
      },
      "outputs": [
        {
          "name": "stdout",
          "output_type": "stream",
          "text": [
            "6 5\n"
          ]
        }
      ],
      "source": [
        "n, m = map(int, input().rstrip().split())"
      ]
    },
    {
      "cell_type": "code",
      "source": [
        "root_set = [i for i in range(n)]\n",
        "cnt = 1"
      ],
      "metadata": {
        "id": "eZj7bjFfH9dc"
      },
      "execution_count": 29,
      "outputs": []
    },
    {
      "cell_type": "code",
      "source": [
        "def find_root(idx):\n",
        "    if root_set[idx] == idx:\n",
        "        return idx\n",
        "    else:\n",
        "        return find_root(root_set[idx])"
      ],
      "metadata": {
        "id": "zomcufPaJVgY"
      },
      "execution_count": 26,
      "outputs": []
    },
    {
      "cell_type": "code",
      "source": [
        "for _ in range(m):\n",
        "    a, b = map(int, input().rstrip().split())\n",
        "    if tic:\n",
        "        r_a, r_b = find_root(a), find_root(b)\n",
        "        if r_a == r_b:\n",
        "            tic = False\n",
        "        else:\n",
        "            cnt += 1\n",
        "            if r_a > r_b:\n",
        "                root_set[r_a] = r_b\n",
        "            else:\n",
        "                root_set[r_b] = r_a"
      ],
      "metadata": {
        "colab": {
          "base_uri": "https://localhost:8080/"
        },
        "id": "tZE1Zb78IJwf",
        "outputId": "c2bd44c9-f3e6-4256-d148-deacc21eb46d"
      },
      "execution_count": 30,
      "outputs": [
        {
          "output_type": "stream",
          "name": "stdout",
          "text": [
            "0 1\n",
            "1 2\n",
            "1 3\n",
            "0 3\n",
            "4\n"
          ]
        }
      ]
    },
    {
      "cell_type": "markdown",
      "source": [
        "제출본"
      ],
      "metadata": {
        "id": "aTIx4YmHMaiV"
      }
    },
    {
      "cell_type": "code",
      "source": [
        "import sys\n",
        "# input = sys.stdin.readline\n",
        "\n",
        "def find_root(idx):\n",
        "    if root_set[idx] == idx:\n",
        "        return idx\n",
        "    else:\n",
        "        return find_root(root_set[idx])\n",
        "\n",
        "n, m = map(int, input().rstrip().split())\n",
        "tic = True\n",
        "root_set = [i for i in range(n)]\n",
        "cnt = 1\n",
        "\n",
        "for _ in range(m):\n",
        "    a, b = map(int, input().rstrip().split())\n",
        "    if tic:\n",
        "        r_a, r_b = find_root(a), find_root(b)\n",
        "        if r_a == r_b:\n",
        "            tic = False\n",
        "        else:\n",
        "            cnt += 1\n",
        "            if r_a > r_b:\n",
        "                root_set[r_a] = r_b\n",
        "            else:\n",
        "                root_set[r_b] = r_a\n",
        "\n",
        "if tic:\n",
        "    print(0)\n",
        "else:\n",
        "    print(cnt)"
      ],
      "metadata": {
        "colab": {
          "base_uri": "https://localhost:8080/"
        },
        "id": "CN2UujiIMbss",
        "outputId": "ea774e16-4216-453c-f196-afa71f7724af"
      },
      "execution_count": 35,
      "outputs": [
        {
          "output_type": "stream",
          "name": "stdout",
          "text": [
            "6 5\n",
            "0 1\n",
            "2 1\n",
            "3 1\n",
            "4 1\n",
            "4 0\n",
            "5\n"
          ]
        }
      ]
    },
    {
      "cell_type": "markdown",
      "source": [
        "root_find 함수에서 재귀가 아닌 반복문 사용시 더 빠르게 실행되었다 (파이썬 재귀이슈)"
      ],
      "metadata": {
        "id": "9SLPUlnPPy0F"
      }
    },
    {
      "cell_type": "code",
      "source": [
        "def find_root(idx):\n",
        "    while idx != root_set[idx]:\n",
        "        idx = root_set[idx]\n",
        "    return idx"
      ],
      "metadata": {
        "id": "O4WThlq8P-Cx"
      },
      "execution_count": null,
      "outputs": []
    }
  ]
}
{
  "nbformat": 4,
  "nbformat_minor": 0,
  "metadata": {
    "colab": {
      "provenance": [],
      "authorship_tag": "ABX9TyN5fpkv+u1dUW86hEc+NpyS",
      "include_colab_link": true
    },
    "kernelspec": {
      "name": "python3",
      "display_name": "Python 3"
    },
    "language_info": {
      "name": "python"
    }
  },
  "cells": [
    {
      "cell_type": "markdown",
      "metadata": {
        "id": "view-in-github",
        "colab_type": "text"
      },
      "source": [
        "<a href=\"https://colab.research.google.com/github/apuhapu/algorithm_study/blob/main/BOJ/2473.ipynb\" target=\"_parent\"><img src=\"https://colab.research.google.com/assets/colab-badge.svg\" alt=\"Open In Colab\"/></a>"
      ]
    },
    {
      "cell_type": "markdown",
      "source": [
        "https://www.acmicpc.net/problem/2473"
      ],
      "metadata": {
        "id": "B55nexZH6fX9"
      }
    },
    {
      "cell_type": "markdown",
      "source": [
        "용액 2개일 때 코드"
      ],
      "metadata": {
        "id": "tjNt98qg6s54"
      }
    },
    {
      "cell_type": "code",
      "execution_count": null,
      "metadata": {
        "id": "Y2wQ9Huk6dB7"
      },
      "outputs": [],
      "source": [
        "import sys\n",
        "# input = sys.stdin.readline\n",
        "\n",
        "def findTwoSolution(n, lst):\n",
        "    output1 = None\n",
        "    output2 = None\n",
        "    diff = 2e9\n",
        "\n",
        "    for idx in range(n-1):\n",
        "        start = idx + 1\n",
        "        end = n - 1\n",
        "        while start < end:\n",
        "            mid = (start+end)//2\n",
        "            # 갱신\n",
        "            if abs(lst[idx]+lst[mid]) < diff:\n",
        "                diff = abs(lst[idx]+lst[mid])\n",
        "                output1 = lst[idx]\n",
        "                output2 = lst[mid]\n",
        "                if diff == 0: # 더 이상 작아질 수 없음\n",
        "                    return output1, output2\n",
        "            # 다음 범위 정하기\n",
        "            if lst[idx]+lst[mid] > 0: # 양수 >> 작아져야함 >> 왼쪽 범위\n",
        "                end = mid - 1\n",
        "            else: # 음수 >> 커져야함 >> 오른쪽 범위\n",
        "                start = mid + 1\n",
        "        if start == end:\n",
        "            if abs(lst[idx]+lst[end]) < diff:\n",
        "                diff = abs(lst[idx]+lst[end])\n",
        "                output1 = lst[idx]\n",
        "                output2 = lst[end]\n",
        "                if diff == 0: # 더 이상 작아질 수 없음\n",
        "                    return output1, output2                \n",
        "    else:\n",
        "        return output1, output2\n",
        "\n",
        "n = int(input())\n",
        "lst = list(map(int, input().rstrip().split()))\n",
        "\n",
        "a, b = findTwoSolution(n, lst)\n",
        "print(a, b)"
      ]
    },
    {
      "cell_type": "code",
      "source": [
        "import sys\n",
        "# input = sys.stdin.readline"
      ],
      "metadata": {
        "id": "Y5jrR_xD6xCU"
      },
      "execution_count": 1,
      "outputs": []
    },
    {
      "cell_type": "code",
      "source": [
        "n = int(input())\n",
        "lst = list(map(int, input().rstrip().split()))\n",
        "lst.sort()"
      ],
      "metadata": {
        "colab": {
          "base_uri": "https://localhost:8080/"
        },
        "id": "zfyKmvVx8Dqg",
        "outputId": "239f7d30-326a-438b-d904-3bc6a98d3013"
      },
      "execution_count": 3,
      "outputs": [
        {
          "name": "stdout",
          "output_type": "stream",
          "text": [
            "7\n",
            "-2 -3 -24 -6 98 100 61\n"
          ]
        }
      ]
    },
    {
      "cell_type": "code",
      "source": [
        "def findThreeSolution(n, lst):\n",
        "    output1 = None\n",
        "    output2 = None\n",
        "    output3 = None\n",
        "    diff = 3e9\n",
        "\n",
        "    for idx1 in range(n-2):\n",
        "        for idx2 in range(idx1+1, n-1):\n",
        "            start = idx2 + 1\n",
        "            end = n-1\n",
        "            while start <= end:\n",
        "                mid = (start+end)//2\n",
        "                # 갱신\n",
        "                if abs(lst[idx1]+lst[idx2]+lst[mid]) < diff:\n",
        "                    output1 = lst[idx1]\n",
        "                    output2 = lst[idx2]\n",
        "                    output3 = lst[mid]\n",
        "                    diff = abs(output1+output2+output3)\n",
        "                    if diff == 0: # 더 이상 작아질 수 없음\n",
        "                        return output1, output2, output3\n",
        "                # 다음 범위 정하기\n",
        "                if lst[idx1]+lst[idx2]+lst[mid] > 0: # 양수 >> 작아져야함 >> 왼쪽 범위\n",
        "                    end = mid - 1\n",
        "                else: # 음수 >> 커져야함 >> 오른쪽 범위\n",
        "                    start = mid + 1\n",
        "    else:\n",
        "        return output1, output2, output3"
      ],
      "metadata": {
        "id": "Ezfte9z28V3B"
      },
      "execution_count": 35,
      "outputs": []
    },
    {
      "cell_type": "code",
      "source": [
        "lst"
      ],
      "metadata": {
        "colab": {
          "base_uri": "https://localhost:8080/"
        },
        "id": "1Tw5wjBl_Ehd",
        "outputId": "e58b3ac4-3e79-4910-a193-6b93d693d8a5"
      },
      "execution_count": 6,
      "outputs": [
        {
          "output_type": "execute_result",
          "data": {
            "text/plain": [
              "[-24, -6, -3, -2, 61, 98, 100]"
            ]
          },
          "metadata": {},
          "execution_count": 6
        }
      ]
    },
    {
      "cell_type": "code",
      "source": [
        "a, b, c = findThreeSolution(n, lst)\n",
        "print(a, b, c)"
      ],
      "metadata": {
        "colab": {
          "base_uri": "https://localhost:8080/"
        },
        "id": "UebvZd_J8TEg",
        "outputId": "df12f1f4-48d9-4bc1-d55b-ee53782be249"
      },
      "execution_count": 36,
      "outputs": [
        {
          "output_type": "stream",
          "name": "stdout",
          "text": [
            "-6 -3 -2\n"
          ]
        }
      ]
    },
    {
      "cell_type": "code",
      "source": [
        "import sys\n",
        "# input = sys.stdin.readline\n",
        "\n",
        "def findThreeSolution(n, lst):\n",
        "    output1 = None\n",
        "    output2 = None\n",
        "    output3 = None\n",
        "    diff = 3e9\n",
        "\n",
        "    for idx1 in range(n-2):\n",
        "        for idx2 in range(idx1+1, n-1):\n",
        "            start = idx2 + 1\n",
        "            end = n-1\n",
        "            while start <= end:\n",
        "                mid = (start+end)//2\n",
        "                # 갱신\n",
        "                if abs(lst[idx1]+lst[idx2]+lst[mid]) < diff:\n",
        "                    output1 = lst[idx1]\n",
        "                    output2 = lst[idx2]\n",
        "                    output3 = lst[mid]\n",
        "                    diff = abs(output1+output2+output3)\n",
        "                    if diff == 0: # 더 이상 작아질 수 없음\n",
        "                        return output1, output2, output3\n",
        "                # 다음 범위 정하기\n",
        "                if lst[idx1]+lst[idx2]+lst[mid] > 0: # 양수 >> 작아져야함 >> 왼쪽 범위\n",
        "                    end = mid - 1\n",
        "                else: # 음수 >> 커져야함 >> 오른쪽 범위\n",
        "                    start = mid + 1\n",
        "    else:\n",
        "        return output1, output2, output3\n",
        "\n",
        "n = int(input())\n",
        "lst = list(map(int, input().rstrip().split()))\n",
        "lst.sort()\n",
        "\n",
        "a, b, c = findThreeSolution(n, lst)\n",
        "print(a, b, c)"
      ],
      "metadata": {
        "colab": {
          "base_uri": "https://localhost:8080/"
        },
        "id": "PVR1B0KvDxrS",
        "outputId": "7d8088c5-e1ea-4af3-e5b1-59087930f8d6"
      },
      "execution_count": 37,
      "outputs": [
        {
          "output_type": "stream",
          "name": "stdout",
          "text": [
            "5\n",
            "-2 6 -97 -6 98\n",
            "-97 -2 98\n"
          ]
        }
      ]
    }
  ]
}
{
  "nbformat": 4,
  "nbformat_minor": 0,
  "metadata": {
    "colab": {
      "name": "1799.ipynb",
      "provenance": [],
      "authorship_tag": "ABX9TyOSAVuRf6jswsCujpc+bh0o",
      "include_colab_link": true
    },
    "kernelspec": {
      "name": "python3",
      "display_name": "Python 3"
    },
    "language_info": {
      "name": "python"
    }
  },
  "cells": [
    {
      "cell_type": "markdown",
      "metadata": {
        "id": "view-in-github",
        "colab_type": "text"
      },
      "source": [
        "<a href=\"https://colab.research.google.com/github/apuhapu/algorithm_study/blob/main/1799.ipynb\" target=\"_parent\"><img src=\"https://colab.research.google.com/assets/colab-badge.svg\" alt=\"Open In Colab\"/></a>"
      ]
    },
    {
      "cell_type": "markdown",
      "source": [
        "https://www.acmicpc.net/problem/1799"
      ],
      "metadata": {
        "id": "RdF0N7lmjRb2"
      }
    },
    {
      "cell_type": "code",
      "execution_count": null,
      "metadata": {
        "colab": {
          "base_uri": "https://localhost:8080/"
        },
        "id": "hmDva4hgjNza",
        "outputId": "c886b5cb-c4b2-4775-9b91-8dfdbe6d2dd7"
      },
      "outputs": [
        {
          "output_type": "stream",
          "name": "stdout",
          "text": [
            "5\n",
            "1 1 0 1 1\n",
            "0 1 0 0 0\n",
            "1 0 1 0 1\n",
            "1 0 0 0 0\n",
            "1 0 1 1 1\n",
            "0\n"
          ]
        }
      ],
      "source": [
        "import sys\n",
        "sys.setrecursionlimit(10**7)\n",
        "\n",
        "n = int(input())\n",
        "board = [list(map(int,input().rstrip().split())) for _ in range(n)]\n",
        "\n",
        "output = []\n",
        "\n",
        "def put_bishop(r,c,brd):\n",
        "    output = [x[:] for x in brd]\n",
        "    for i in range(n):\n",
        "        if c - (r - i) >= 0 and c - (r - i) < n:\n",
        "            output[i][c - (r - i)] = 0\n",
        "        if c + (r - i) >= 0 and c + (r - i) < n:\n",
        "            output[i][c + (r - i)] = 0\n",
        "    return output\n",
        "\n",
        "def isinside(r,c):\n",
        "    if r > -1 and r < n and c > -1 and c < n:\n",
        "        return True\n",
        "    else:\n",
        "        return False\n",
        "\n",
        "def bishop(brd, cnt, na):\n",
        "    global ma\n",
        "    if min(min(brd)) == 1:\n",
        "        ma = max(ma, cnt)\n",
        "    else:\n",
        "        for i in range(na, 2*n-1):\n",
        "            for c in range(i+1):\n",
        "                r = i - c\n",
        "                if isinside(r,c):\n",
        "                    if brd[r][c] == 1:\n",
        "                        add_board = put_bishop(r,c,brd)\n",
        "                        cnt += 1\n",
        "                        na += 1\n",
        "                        print(cnt, na)\n",
        "                        bishop(add_board, cnt, na)\n",
        "                        cnt -= 1\n",
        "                        na -= 1\n",
        "                \n",
        "ma = 0\n",
        "bishop(board, 0, 0)\n",
        "\n",
        "print(ma)"
      ]
    },
    {
      "cell_type": "code",
      "source": [
        "def bishop(brd, cnt, na):\n",
        "    global ma\n",
        "    if na == 2*n -1:\n",
        "        ma = max(ma, cnt)\n",
        "    else:\n",
        "        for i in range(na, 2*n-1):\n",
        "            for c in range(i+1):\n",
        "                r = i - c\n",
        "                if isinside(r,c):\n",
        "                    if brd[r][c] == 1:\n",
        "                        add_board = put_bishop(r,c,brd)\n",
        "                        cnt += 1\n",
        "                        na += 1\n",
        "                        bishop(add_board, cnt, na)\n",
        "                        cnt -= 1\n",
        "                        na -= 1\n",
        "            else:\n",
        "                na += 1"
      ],
      "metadata": {
        "id": "2Yk_v3-hfWg8"
      },
      "execution_count": null,
      "outputs": []
    },
    {
      "cell_type": "code",
      "source": [
        "ma = 0\n",
        "bishop(board, 0, 0)\n",
        "\n",
        "print(ma)"
      ],
      "metadata": {
        "colab": {
          "base_uri": "https://localhost:8080/"
        },
        "id": "GZhnYZtyfNwn",
        "outputId": "965f32db-0a1b-4e7a-d3b4-62e4db4fc3e8"
      },
      "execution_count": null,
      "outputs": [
        {
          "output_type": "stream",
          "name": "stdout",
          "text": [
            "7\n"
          ]
        }
      ]
    },
    {
      "cell_type": "code",
      "source": [
        "import sys\n",
        "sys.setrecursionlimit(10**7)\n",
        "\n",
        "n = int(input())\n",
        "board = [list(map(int,input().rstrip().split())) for _ in range(n)]\n",
        "\n",
        "def put_bishop(r,c,brd):\n",
        "    # 슬라이싱\n",
        "    output = [x[:] for x in brd]\n",
        "    # 비숍을 놓은 곳 대각선 성분 0으로 만들기\n",
        "    for i in range(n):\n",
        "        if c - (r - i) >= 0 and c - (r - i) < n:\n",
        "            output[i][c - (r - i)] = 0\n",
        "        if c + (r - i) >= 0 and c + (r - i) < n:\n",
        "            output[i][c + (r - i)] = 0\n",
        "    return output\n",
        "\n",
        "def isinside(r,c):\n",
        "    if r > -1 and r < n and c > -1 and c < n:\n",
        "        return True\n",
        "    else:\n",
        "        return False\n",
        "\n",
        "def bishop(brd, cnt, na):\n",
        "    global ma\n",
        "    # / 방항으로 대각선으로 세면 첫줄 0에서 마지막줄 2n-2 >> 즉 마지막줄에 놓으면 더해지면서 na는 2n-1이 됨\n",
        "    if na == 2*n -1:\n",
        "        ma = max(ma, cnt)\n",
        "    else:\n",
        "        # i는 대각선의 index\n",
        "        for i in range(na, 2*n-1):\n",
        "            # c는 col\n",
        "            for c in range(i+1):\n",
        "                # 대각선이므로 row + col = i\n",
        "                r = i - c\n",
        "                if isinside(r,c):   # 위에서 구한 r, c 가 체스판 안에 있는지 확인\n",
        "                    if brd[r][c] == 1:    # 안에 있다면 그 자리가 비숍을 둘 수 있는지 확인\n",
        "                        add_board = put_bishop(r,c,brd)   # 비숍을 그 자리에 두고 난뒤 board 최신화\n",
        "                        bishop(add_board, cnt+1, na+1)    # 비숍의 수인 cnt와 대각선 idx에 +1을 하고 진행\n",
        "            else:\n",
        "                na += 1\n",
        "                \n",
        "ma = 0\n",
        "bishop(board, 0, 0)\n",
        "\n",
        "print(ma)"
      ],
      "metadata": {
        "colab": {
          "base_uri": "https://localhost:8080/",
          "height": 248
        },
        "id": "HlOdbZJagZP7",
        "outputId": "b70f9a4c-0be1-4957-c960-44fc6f078e6e"
      },
      "execution_count": null,
      "outputs": [
        {
          "output_type": "error",
          "ename": "TypeError",
          "evalue": "ignored",
          "traceback": [
            "\u001b[0;31m---------------------------------------------------------------------------\u001b[0m",
            "\u001b[0;31mTypeError\u001b[0m                                 Traceback (most recent call last)",
            "\u001b[0;32m<ipython-input-39-e7ebf5f7cc2a>\u001b[0m in \u001b[0;36m<module>\u001b[0;34m()\u001b[0m\n\u001b[1;32m      1\u001b[0m \u001b[0;32mimport\u001b[0m \u001b[0msys\u001b[0m\u001b[0;34m\u001b[0m\u001b[0;34m\u001b[0m\u001b[0m\n\u001b[0;32m----> 2\u001b[0;31m \u001b[0msys\u001b[0m\u001b[0;34m.\u001b[0m\u001b[0msetrecursionlimit\u001b[0m\u001b[0;34m(\u001b[0m\u001b[0;36m1e7\u001b[0m\u001b[0;34m)\u001b[0m\u001b[0;34m\u001b[0m\u001b[0;34m\u001b[0m\u001b[0m\n\u001b[0m\u001b[1;32m      3\u001b[0m \u001b[0;34m\u001b[0m\u001b[0m\n\u001b[1;32m      4\u001b[0m \u001b[0mn\u001b[0m \u001b[0;34m=\u001b[0m \u001b[0mint\u001b[0m\u001b[0;34m(\u001b[0m\u001b[0minput\u001b[0m\u001b[0;34m(\u001b[0m\u001b[0;34m)\u001b[0m\u001b[0;34m)\u001b[0m\u001b[0;34m\u001b[0m\u001b[0;34m\u001b[0m\u001b[0m\n\u001b[1;32m      5\u001b[0m \u001b[0mboard\u001b[0m \u001b[0;34m=\u001b[0m \u001b[0;34m[\u001b[0m\u001b[0mlist\u001b[0m\u001b[0;34m(\u001b[0m\u001b[0mmap\u001b[0m\u001b[0;34m(\u001b[0m\u001b[0mint\u001b[0m\u001b[0;34m,\u001b[0m\u001b[0minput\u001b[0m\u001b[0;34m(\u001b[0m\u001b[0;34m)\u001b[0m\u001b[0;34m.\u001b[0m\u001b[0mrstrip\u001b[0m\u001b[0;34m(\u001b[0m\u001b[0;34m)\u001b[0m\u001b[0;34m.\u001b[0m\u001b[0msplit\u001b[0m\u001b[0;34m(\u001b[0m\u001b[0;34m)\u001b[0m\u001b[0;34m)\u001b[0m\u001b[0;34m)\u001b[0m \u001b[0;32mfor\u001b[0m \u001b[0m_\u001b[0m \u001b[0;32min\u001b[0m \u001b[0mrange\u001b[0m\u001b[0;34m(\u001b[0m\u001b[0mn\u001b[0m\u001b[0;34m)\u001b[0m\u001b[0;34m]\u001b[0m\u001b[0;34m\u001b[0m\u001b[0;34m\u001b[0m\u001b[0m\n",
            "\u001b[0;31mTypeError\u001b[0m: integer argument expected, got float"
          ]
        }
      ]
    },
    {
      "cell_type": "code",
      "source": [
        "aa = [1,2,3,4]\n",
        "bb = [7]"
      ],
      "metadata": {
        "id": "tC-jmuwehsXD"
      },
      "execution_count": null,
      "outputs": []
    },
    {
      "cell_type": "code",
      "source": [
        "bb = aa[:]"
      ],
      "metadata": {
        "id": "YPWq94urhwdq"
      },
      "execution_count": null,
      "outputs": []
    },
    {
      "cell_type": "code",
      "source": [
        "bb.append(7)\n",
        "print(aa)"
      ],
      "metadata": {
        "colab": {
          "base_uri": "https://localhost:8080/"
        },
        "id": "C0X6HYKthxiq",
        "outputId": "b647865b-c67a-42d8-d0c3-85cd1bcf4c23"
      },
      "execution_count": null,
      "outputs": [
        {
          "output_type": "stream",
          "name": "stdout",
          "text": [
            "[1, 2, 3, 4]\n"
          ]
        }
      ]
    },
    {
      "cell_type": "markdown",
      "source": [
        "메모리 초과로 인해 전체 보드 자리를 계속 갱신해서 재귀하는 것이 아니라 반대 대각선을 중심으로 그 대각선에 비숍이 놓인 여부 배열을 만들어 재귀"
      ],
      "metadata": {
        "id": "DiXilLO2yCqY"
      }
    },
    {
      "cell_type": "code",
      "source": [
        "import sys\n",
        "sys.setrecursionlimit(10**7)\n",
        "\n",
        "# 입력파트\n",
        "n = int(input())\n",
        "board = [list(map(int,input().rstrip().split())) for _ in range(n)]"
      ],
      "metadata": {
        "colab": {
          "base_uri": "https://localhost:8080/"
        },
        "id": "6y4PR4qFyB0q",
        "outputId": "78f1e45e-44b0-47e8-9ff1-a8a29a7a4246"
      },
      "execution_count": 1,
      "outputs": [
        {
          "name": "stdout",
          "output_type": "stream",
          "text": [
            "5\n",
            "1 1 0 1 1\n",
            "0 1 0 0 0\n",
            "1 0 1 0 1\n",
            "1 0 0 0 0\n",
            "1 0 1 1 1\n"
          ]
        }
      ]
    },
    {
      "cell_type": "code",
      "source": [
        "def isinside(r,c):\n",
        "    if r > -1 and r < n and c > -1 and c < n:\n",
        "        return True\n",
        "    else:\n",
        "        return False"
      ],
      "metadata": {
        "id": "jwoLvoNQzLWw"
      },
      "execution_count": 2,
      "outputs": []
    },
    {
      "cell_type": "code",
      "source": [
        "check = [False] * (2*n-1)"
      ],
      "metadata": {
        "id": "GvCwduUhzv7G"
      },
      "execution_count": 3,
      "outputs": []
    },
    {
      "cell_type": "code",
      "source": [
        "def bishop(cnt, na):\n",
        "    global ma\n",
        "    # / 방항으로 대각선으로 세면 첫줄 0에서 마지막줄 2n-2 >> 즉 마지막줄에 놓으면 더해지면서 na는 2n-1이 됨\n",
        "    if na == 2*n -1:\n",
        "        ma = max(ma, cnt)\n",
        "    else:\n",
        "        # i는 대각선의 index\n",
        "        for i in range(na, 2*n-1):\n",
        "            # c는 col\n",
        "            for c in range(i+1):\n",
        "                # 대각선이므로 row + col = i\n",
        "                r = i - c\n",
        "                if isinside(r,c):   # 위에서 구한 r, c 가 체스판 안에 있는지 확인\n",
        "                    if not check[n-1-r+c] and board[r][c] == 1:  # 역 슬래시 방향으로 왼쪽부터 세면 (n-1)-(r-c)를 인덱스로 가진다\n",
        "                        check[n-1-r+c] = True\n",
        "                        bishop(cnt+1,na+1)\n",
        "                        check[n-1-r+c] = False\n",
        "            else:\n",
        "                na += 1"
      ],
      "metadata": {
        "id": "0CAitrUVzMt5"
      },
      "execution_count": 4,
      "outputs": []
    },
    {
      "cell_type": "code",
      "source": [
        "ma = 0\n",
        "bishop(0, 0)\n",
        "\n",
        "print(ma)"
      ],
      "metadata": {
        "colab": {
          "base_uri": "https://localhost:8080/"
        },
        "id": "g-LVgcC21Jhe",
        "outputId": "24805f7c-8ab4-42b1-b1bc-fe89076ea3c5"
      },
      "execution_count": 5,
      "outputs": [
        {
          "output_type": "stream",
          "name": "stdout",
          "text": [
            "7\n"
          ]
        }
      ]
    },
    {
      "cell_type": "markdown",
      "source": [
        "메모리 초과\n",
        "\n",
        "> 체스판의 흑백을 구분하여 분할하여 구하는 방법 채택"
      ],
      "metadata": {
        "id": "MmFjN9AH4Jar"
      }
    },
    {
      "cell_type": "code",
      "source": [
        "chess_board = [[False] * n for _ in range(n)] # True : 흑, False : 백\n",
        "for i in range(0,n,2):\n",
        "    chess_board[0][i] = True\n",
        "for i in range(1,n):\n",
        "    for j in range(n):\n",
        "        chess_board[i][j] = not chess_board[i-1][j]"
      ],
      "metadata": {
        "id": "Wwmi4P2S4wjK"
      },
      "execution_count": 6,
      "outputs": []
    },
    {
      "cell_type": "code",
      "source": [
        "chess_board"
      ],
      "metadata": {
        "colab": {
          "base_uri": "https://localhost:8080/"
        },
        "id": "7avxJjlc5dOH",
        "outputId": "ca269da2-3164-447c-8b73-851ee4035822"
      },
      "execution_count": 7,
      "outputs": [
        {
          "output_type": "execute_result",
          "data": {
            "text/plain": [
              "[[True, False, True, False, True],\n",
              " [False, True, False, True, False],\n",
              " [True, False, True, False, True],\n",
              " [False, True, False, True, False],\n",
              " [True, False, True, False, True]]"
            ]
          },
          "metadata": {},
          "execution_count": 7
        }
      ]
    },
    {
      "cell_type": "code",
      "source": [
        "black = []\n",
        "white = []"
      ],
      "metadata": {
        "id": "lDeJHpb5-vdg"
      },
      "execution_count": 8,
      "outputs": []
    },
    {
      "cell_type": "code",
      "source": [
        "for i in range(n):\n",
        "    for j in range(n):\n",
        "        if board[i][j] == 1:\n",
        "            if chess_board[i][j]:\n",
        "                black.append((i,j))\n",
        "            else:\n",
        "                white.append((i,j))"
      ],
      "metadata": {
        "id": "MFdT6IMz-aWv"
      },
      "execution_count": 9,
      "outputs": []
    },
    {
      "cell_type": "code",
      "source": [
        "print(black)\n",
        "print(white)"
      ],
      "metadata": {
        "colab": {
          "base_uri": "https://localhost:8080/"
        },
        "id": "TE3nEzYV_Ghf",
        "outputId": "ed7f7a05-3299-4aa8-9753-4b8d03818749"
      },
      "execution_count": 10,
      "outputs": [
        {
          "output_type": "stream",
          "name": "stdout",
          "text": [
            "[(0, 0), (0, 4), (1, 1), (2, 0), (2, 2), (2, 4), (4, 0), (4, 2), (4, 4)]\n",
            "[(0, 1), (0, 3), (3, 0), (4, 3)]\n"
          ]
        }
      ]
    },
    {
      "cell_type": "code",
      "source": [
        "bma, wma = 0, 0"
      ],
      "metadata": {
        "id": "_RsoDYWT_OEh"
      },
      "execution_count": 11,
      "outputs": []
    },
    {
      "cell_type": "code",
      "source": [
        "check1 = [False] * (2*n-1) # / 방향\n",
        "check2 = [False] * (2*n-1) # 역슬래쉬 방향"
      ],
      "metadata": {
        "id": "m7E6QQ3j_WzG"
      },
      "execution_count": 12,
      "outputs": []
    },
    {
      "cell_type": "code",
      "source": [
        "def bishop(cnt, na, cbrd):\n",
        "    global bma, wma\n",
        "    if na == len(cbrd):\n",
        "        ii, jj = cbrd[-1]\n",
        "        if chess_board[ii][jj]:\n",
        "            bma = max(bma, cnt)\n",
        "        else:\n",
        "            wma = max(wma, cnt)\n",
        "    else:\n",
        "        r, c = cbrd[na]\n",
        "        # 비숍을 둘 수 없을때\n",
        "        if check1[r+c] or check2[n-1-r+c]:\n",
        "            bishop(cnt, na+1, cbrd)\n",
        "        else:\n",
        "            check1[r+c] = True\n",
        "            check2[n-1-r+c] = True\n",
        "            bishop(cnt+1, na+1, cbrd)\n",
        "            check1[r+c] = False\n",
        "            check2[n-1-r+c] = False\n",
        "            bishop(cnt, na+1, cbrd)"
      ],
      "metadata": {
        "id": "0GZ3fub_8ZQb"
      },
      "execution_count": 14,
      "outputs": []
    },
    {
      "cell_type": "code",
      "source": [
        "if black:\n",
        "    bishop(0,0,black)\n",
        "if white:\n",
        "    bishop(0,0,white)\n",
        "print(bma+wma)"
      ],
      "metadata": {
        "colab": {
          "base_uri": "https://localhost:8080/"
        },
        "id": "gMRPVxqsBuDW",
        "outputId": "f066ba10-be65-4271-da0f-d16293790893"
      },
      "execution_count": 15,
      "outputs": [
        {
          "output_type": "stream",
          "name": "stdout",
          "text": [
            "7\n"
          ]
        }
      ]
    },
    {
      "cell_type": "markdown",
      "source": [
        "전체를 다 백트래킹하는 것보다 반 분할하여 백트래킹을 하는 것이 시간 복잡도 측면에서 본래 제곱이므로 더욱 효과적인 방안임을 알았다."
      ],
      "metadata": {
        "id": "FJGKfBKcDP1F"
      }
    }
  ]
}

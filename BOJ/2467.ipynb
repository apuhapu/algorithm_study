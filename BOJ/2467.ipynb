{
  "nbformat": 4,
  "nbformat_minor": 0,
  "metadata": {
    "colab": {
      "provenance": [],
      "authorship_tag": "ABX9TyMEqBO6PUDvCDkvI6w1ggab",
      "include_colab_link": true
    },
    "kernelspec": {
      "name": "python3",
      "display_name": "Python 3"
    },
    "language_info": {
      "name": "python"
    }
  },
  "cells": [
    {
      "cell_type": "markdown",
      "metadata": {
        "id": "view-in-github",
        "colab_type": "text"
      },
      "source": [
        "<a href=\"https://colab.research.google.com/github/apuhapu/algorithm_study/blob/main/BOJ/2467.ipynb\" target=\"_parent\"><img src=\"https://colab.research.google.com/assets/colab-badge.svg\" alt=\"Open In Colab\"/></a>"
      ]
    },
    {
      "cell_type": "markdown",
      "source": [
        "https://www.acmicpc.net/problem/2467"
      ],
      "metadata": {
        "id": "SzMkljS23Uwi"
      }
    },
    {
      "cell_type": "code",
      "execution_count": 1,
      "metadata": {
        "id": "9asqWobZ3S5Y"
      },
      "outputs": [],
      "source": [
        "import sys\n",
        "# input = sys.stdin.readline"
      ]
    },
    {
      "cell_type": "code",
      "source": [
        "n = int(input())\n",
        "lst = list(map(int, input().rstrip().split()))"
      ],
      "metadata": {
        "colab": {
          "base_uri": "https://localhost:8080/"
        },
        "id": "X91JfmrN3ejp",
        "outputId": "ed166de1-ae08-40b8-827d-1eefd19d4757"
      },
      "execution_count": 15,
      "outputs": [
        {
          "name": "stdout",
          "output_type": "stream",
          "text": [
            "4\n",
            "-100 -2 -1 103\n"
          ]
        }
      ]
    },
    {
      "cell_type": "markdown",
      "source": [
        "투포인터 & 이진탐색 활용"
      ],
      "metadata": {
        "id": "hQox8cEpA_CL"
      }
    },
    {
      "cell_type": "code",
      "source": [
        "def findTwoSolution(n, lst):\n",
        "    output1 = None\n",
        "    output2 = None\n",
        "    diff = 2e9\n",
        "\n",
        "    for idx in range(n-1):\n",
        "        start = idx + 1\n",
        "        end = n - 1\n",
        "        while start < end:\n",
        "            mid = (start+end)//2\n",
        "            # 갱신\n",
        "            print(lst[idx], lst[mid])\n",
        "            if abs(lst[idx]+lst[mid]) < diff:\n",
        "                diff = abs(lst[idx]+lst[mid])\n",
        "                output1 = lst[idx]\n",
        "                output2 = lst[mid]\n",
        "                if diff == 0: # 더 이상 작아질 수 없음\n",
        "                    return output1, output2\n",
        "            # 다음 범위 정하기\n",
        "            if lst[idx]+lst[mid] > 0: # 양수 >> 작아져야함 >> 왼쪽 범위\n",
        "                end = mid - 1\n",
        "            else: # 음수 >> 커져야함 >> 오른쪽 범위\n",
        "                start = mid + 1\n",
        "        if start == end:\n",
        "            if abs(lst[idx]+lst[end]) < diff:\n",
        "                diff = abs(lst[idx]+lst[end])\n",
        "                output1 = lst[idx]\n",
        "                output2 = lst[end]\n",
        "                if diff == 0: # 더 이상 작아질 수 없음\n",
        "                    return output1, output2                \n",
        "    else:\n",
        "        return output1, output2"
      ],
      "metadata": {
        "id": "YDBbkShv3te5"
      },
      "execution_count": 14,
      "outputs": []
    },
    {
      "cell_type": "code",
      "source": [
        "print(findTwoSolution(n, lst))"
      ],
      "metadata": {
        "colab": {
          "base_uri": "https://localhost:8080/"
        },
        "id": "XvrJyT9j_Etk",
        "outputId": "9e03fb8c-f43c-4c5f-9f64-15669c4715dd"
      },
      "execution_count": 16,
      "outputs": [
        {
          "output_type": "stream",
          "name": "stdout",
          "text": [
            "-100 -1\n",
            "-2 -1\n",
            "(-100, 103)\n"
          ]
        }
      ]
    }
  ]
}
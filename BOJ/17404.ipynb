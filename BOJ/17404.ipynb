{
  "nbformat": 4,
  "nbformat_minor": 0,
  "metadata": {
    "colab": {
      "provenance": [],
      "authorship_tag": "ABX9TyPtbUEZb+ysC4vXJs0Aesi1",
      "include_colab_link": true
    },
    "kernelspec": {
      "name": "python3",
      "display_name": "Python 3"
    },
    "language_info": {
      "name": "python"
    }
  },
  "cells": [
    {
      "cell_type": "markdown",
      "metadata": {
        "id": "view-in-github",
        "colab_type": "text"
      },
      "source": [
        "<a href=\"https://colab.research.google.com/github/apuhapu/algorithm_study/blob/main/BOJ/17404.ipynb\" target=\"_parent\"><img src=\"https://colab.research.google.com/assets/colab-badge.svg\" alt=\"Open In Colab\"/></a>"
      ]
    },
    {
      "cell_type": "markdown",
      "source": [
        "https://www.acmicpc.net/problem/17404"
      ],
      "metadata": {
        "id": "pp8V7SnW7xt5"
      }
    },
    {
      "cell_type": "code",
      "execution_count": 3,
      "metadata": {
        "colab": {
          "base_uri": "https://localhost:8080/"
        },
        "id": "M7_8V8ek7taF",
        "outputId": "94d2519e-1eb5-4a3b-80e7-560d44f4c6f5"
      },
      "outputs": [
        {
          "name": "stdout",
          "output_type": "stream",
          "text": [
            "3\n"
          ]
        }
      ],
      "source": [
        "n = int(input())\n",
        "dp = [[[0,0,0],[0,0,0],[0,0,0]] for _ in range(n)]"
      ]
    },
    {
      "cell_type": "code",
      "source": [
        "dp"
      ],
      "metadata": {
        "colab": {
          "base_uri": "https://localhost:8080/"
        },
        "id": "ZcKrjqCL8DOj",
        "outputId": "d60abfcf-cdef-41e3-f262-a467b937a612"
      },
      "execution_count": 4,
      "outputs": [
        {
          "output_type": "execute_result",
          "data": {
            "text/plain": [
              "[[[0, 0, 0], [0, 0, 0], [0, 0, 0]],\n",
              " [[0, 0, 0], [0, 0, 0], [0, 0, 0]],\n",
              " [[0, 0, 0], [0, 0, 0], [0, 0, 0]]]"
            ]
          },
          "metadata": {},
          "execution_count": 4
        }
      ]
    },
    {
      "cell_type": "code",
      "source": [
        "def fn_compare_positive(a,b):\n",
        "    if a == 0 and b == 0:\n",
        "        return 0\n",
        "    elif a == 0:\n",
        "        return b\n",
        "    elif  b == 0:\n",
        "        return a\n",
        "    else:\n",
        "        return min(a,b)"
      ],
      "metadata": {
        "id": "RGP5HTG393R2"
      },
      "execution_count": 6,
      "outputs": []
    },
    {
      "cell_type": "code",
      "source": [
        "for i in range(n):\n",
        "    a, b, c = map(int, input().rstrip().split())\n",
        "    if i == 0:\n",
        "        dp[i][0][0] = a\n",
        "        dp[i][1][1] = b\n",
        "        dp[i][2][2] = c\n",
        "    elif i == 1:\n",
        "        dp[i][0][1] = dp[0][1][1] + a\n",
        "        dp[i][0][2] = dp[0][2][2] + a\n",
        "        dp[i][1][0] = dp[0][0][0] + b\n",
        "        dp[i][1][2] = dp[0][2][2] + b\n",
        "        dp[i][2][0] = dp[0][0][0] + c\n",
        "        dp[i][2][1] = dp[0][1][1] + c\n",
        "    else:\n",
        "        for j in range(3):\n",
        "            temp1, temp2 = (j+1)%3, (j+2)%3\n",
        "            if j == 0:\n",
        "                ad = a\n",
        "            elif j == 1:\n",
        "                ad = b\n",
        "            else:\n",
        "                ad = c\n",
        "\n",
        "            dp[i][j][0] = fn_compare_positive(dp[i-1][temp1][0], dp[i-1][temp2][0]) + ad\n",
        "            dp[i][j][1] = fn_compare_positive(dp[i-1][temp1][1], dp[i-1][temp2][1]) + ad\n",
        "            dp[i][j][2] = fn_compare_positive(dp[i-1][temp1][2], dp[i-1][temp2][2]) + ad"
      ],
      "metadata": {
        "colab": {
          "base_uri": "https://localhost:8080/"
        },
        "id": "Iw6gTR3x8FRq",
        "outputId": "001b963a-3a43-4c10-8a6c-812a6ea581d1"
      },
      "execution_count": 7,
      "outputs": [
        {
          "name": "stdout",
          "output_type": "stream",
          "text": [
            "26 40 83\n",
            "49 60 57\n",
            "13 89 99\n"
          ]
        }
      ]
    },
    {
      "cell_type": "code",
      "source": [
        "dp"
      ],
      "metadata": {
        "colab": {
          "base_uri": "https://localhost:8080/"
        },
        "id": "ynopDX_1_9Q1",
        "outputId": "968c05bc-e49e-47d0-b2cc-802118d9ef10"
      },
      "execution_count": 8,
      "outputs": [
        {
          "output_type": "execute_result",
          "data": {
            "text/plain": [
              "[[[26, 0, 0], [0, 40, 0], [0, 0, 83]],\n",
              " [[0, 89, 132], [86, 0, 143], [83, 97, 0]],\n",
              " [[96, 110, 156], [172, 178, 221], [185, 188, 231]]]"
            ]
          },
          "metadata": {},
          "execution_count": 8
        }
      ]
    },
    {
      "cell_type": "code",
      "source": [
        "output = 0\n",
        "for i in range(3):\n",
        "    for j in range(3):\n",
        "        if j == i:\n",
        "            continue\n",
        "        else:\n",
        "            output = fn_compare_positive(output, dp[-1][i][j])"
      ],
      "metadata": {
        "id": "zOyij5HMAAlt"
      },
      "execution_count": 9,
      "outputs": []
    },
    {
      "cell_type": "code",
      "source": [
        "print(output)"
      ],
      "metadata": {
        "colab": {
          "base_uri": "https://localhost:8080/"
        },
        "id": "xqP-W4O_Ae-Z",
        "outputId": "ead8f436-b1b0-4248-d72a-4cafccf33e9c"
      },
      "execution_count": 10,
      "outputs": [
        {
          "output_type": "stream",
          "name": "stdout",
          "text": [
            "110\n"
          ]
        }
      ]
    },
    {
      "cell_type": "code",
      "source": [
        "import sys\n",
        "# input = sys.stdin.readline\n",
        "\n",
        "def fn_compare_positive(a,b):\n",
        "    if a == 0 and b == 0:\n",
        "        return 0\n",
        "    elif a == 0:\n",
        "        return b\n",
        "    elif  b == 0:\n",
        "        return a\n",
        "    else:\n",
        "        return min(a,b)\n",
        "\n",
        "n = int(input())\n",
        "dp = [[[0,0,0],[0,0,0],[0,0,0]] for _ in range(n)]\n",
        "\n",
        "for i in range(n):\n",
        "    a, b, c = map(int, input().rstrip().split())\n",
        "    if i == 0:\n",
        "        dp[i][0][0] = a\n",
        "        dp[i][1][1] = b\n",
        "        dp[i][2][2] = c\n",
        "    elif i == 1:\n",
        "        dp[i][0][1] = dp[0][1][1] + a\n",
        "        dp[i][0][2] = dp[0][2][2] + a\n",
        "        dp[i][1][0] = dp[0][0][0] + b\n",
        "        dp[i][1][2] = dp[0][2][2] + b\n",
        "        dp[i][2][0] = dp[0][0][0] + c\n",
        "        dp[i][2][1] = dp[0][1][1] + c\n",
        "    else:\n",
        "        for j in range(3):\n",
        "            temp1, temp2 = (j+1)%3, (j+2)%3\n",
        "            if j == 0:\n",
        "                ad = a\n",
        "            elif j == 1:\n",
        "                ad = b\n",
        "            else:\n",
        "                ad = c\n",
        "\n",
        "            dp[i][j][0] = fn_compare_positive(dp[i-1][temp1][0], dp[i-1][temp2][0]) + ad\n",
        "            dp[i][j][1] = fn_compare_positive(dp[i-1][temp1][1], dp[i-1][temp2][1]) + ad\n",
        "            dp[i][j][2] = fn_compare_positive(dp[i-1][temp1][2], dp[i-1][temp2][2]) + ad\n",
        "\n",
        "output = 0\n",
        "for i in range(3):\n",
        "    for j in range(3):\n",
        "        if j == i:\n",
        "            continue\n",
        "        else:\n",
        "            output = fn_compare_positive(output, dp[-1][i][j])\n",
        "\n",
        "print(output)"
      ],
      "metadata": {
        "colab": {
          "base_uri": "https://localhost:8080/"
        },
        "id": "UvUaFdN9Aike",
        "outputId": "9385ff1e-fd45-4171-ea8a-95edee4bdee7"
      },
      "execution_count": 12,
      "outputs": [
        {
          "output_type": "stream",
          "name": "stdout",
          "text": [
            "8\n",
            "71 39 44\n",
            "32 83 55\n",
            "51 37 63\n",
            "89 29 100\n",
            "83 58 11\n",
            "65 13 15\n",
            "47 25 29\n",
            "60 66 19\n",
            "253\n"
          ]
        }
      ]
    }
  ]
}
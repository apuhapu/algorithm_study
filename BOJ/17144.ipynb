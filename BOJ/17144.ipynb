{
  "nbformat": 4,
  "nbformat_minor": 0,
  "metadata": {
    "colab": {
      "name": "17144.ipynb",
      "provenance": [],
      "authorship_tag": "ABX9TyNFFeqlD9CHDiqcOQ8qRQQC",
      "include_colab_link": true
    },
    "kernelspec": {
      "name": "python3",
      "display_name": "Python 3"
    },
    "language_info": {
      "name": "python"
    }
  },
  "cells": [
    {
      "cell_type": "markdown",
      "metadata": {
        "id": "view-in-github",
        "colab_type": "text"
      },
      "source": [
        "<a href=\"https://colab.research.google.com/github/apuhapu/algorithm_study/blob/main/17144.ipynb\" target=\"_parent\"><img src=\"https://colab.research.google.com/assets/colab-badge.svg\" alt=\"Open In Colab\"/></a>"
      ]
    },
    {
      "cell_type": "markdown",
      "source": [
        "https://www.acmicpc.net/problem/17144"
      ],
      "metadata": {
        "id": "noOZ9qV_Ns85"
      }
    },
    {
      "cell_type": "code",
      "execution_count": 71,
      "metadata": {
        "colab": {
          "base_uri": "https://localhost:8080/"
        },
        "id": "D2HRkwGANqvL",
        "outputId": "5b06006d-7eaa-4d21-d442-1edffef9730c"
      },
      "outputs": [
        {
          "name": "stdout",
          "output_type": "stream",
          "text": [
            "7 8 1\n",
            "0 0 0 0 0 0 0 9\n",
            "0 0 0 0 3 0 0 8\n",
            "-1 0 5 0 0 0 22 0\n",
            "-1 8 0 0 0 0 0 0\n",
            "0 0 0 0 0 10 43 0\n",
            "0 0 5 0 15 0 0 0\n",
            "0 0 40 0 0 0 20 0\n"
          ]
        }
      ],
      "source": [
        "r, c, t = map(int, input().rstrip().split())\n",
        "board = [list(map(int, input().rstrip().split())) for _ in range(r)]"
      ]
    },
    {
      "cell_type": "code",
      "source": [
        "dr = [1,-1,0,0]\n",
        "dc = [0,0,1,-1]"
      ],
      "metadata": {
        "id": "Ad2NS20jOSXd"
      },
      "execution_count": 73,
      "outputs": []
    },
    {
      "cell_type": "code",
      "source": [
        "def isinside(x,y):\n",
        "    if 0<=x<r and 0<=y<c and board[x][y] != -1:\n",
        "        return True\n",
        "    else:\n",
        "        return False"
      ],
      "metadata": {
        "id": "wRmpfJ_PPDSY"
      },
      "execution_count": 74,
      "outputs": []
    },
    {
      "cell_type": "code",
      "source": [
        "new_board = [[0]*c for _ in range(r)]"
      ],
      "metadata": {
        "id": "SsNj2nfPPcNl"
      },
      "execution_count": 75,
      "outputs": []
    },
    {
      "cell_type": "code",
      "source": [
        "air_cleaner = []\n",
        "dust = 0"
      ],
      "metadata": {
        "id": "Xq758xd2QVmn"
      },
      "execution_count": 76,
      "outputs": []
    },
    {
      "cell_type": "code",
      "source": [
        "for i in range(r):\n",
        "    for j in range(c):\n",
        "        if board[i][j] == -1:\n",
        "            air_cleaner.append(i)\n",
        "            new_board[i][j] = -1\n",
        "        else:\n",
        "            init_dust += board[i][j]\n",
        "            if board[i][j] < 5:\n",
        "                new_board[i][j] += board[i][j]\n",
        "            else:\n",
        "                cnt = 0\n",
        "                for k in range(4):\n",
        "                    rr = i + dr[k]\n",
        "                    cc = j + dc[k]\n",
        "                    if isinside(rr,cc):\n",
        "                        cnt += 1\n",
        "                        new_board[rr][cc] += board[i][j]//5\n",
        "                else:\n",
        "                    new_board[i][j] += board[i][j] - cnt * (board[i][j]//5)"
      ],
      "metadata": {
        "id": "P68uEmQ1QNPj"
      },
      "execution_count": 77,
      "outputs": []
    },
    {
      "cell_type": "code",
      "source": [
        "new_board"
      ],
      "metadata": {
        "colab": {
          "base_uri": "https://localhost:8080/"
        },
        "id": "NsC9k8C8SX_a",
        "outputId": "cdc04524-0714-4bff-bba7-b82fe95fcf99"
      },
      "execution_count": 78,
      "outputs": [
        {
          "output_type": "execute_result",
          "data": {
            "text/plain": [
              "[[0, 0, 0, 0, 0, 0, 1, 8],\n",
              " [0, 0, 1, 0, 3, 0, 5, 6],\n",
              " [-1, 2, 1, 1, 0, 4, 6, 5],\n",
              " [-1, 5, 2, 0, 0, 2, 12, 0],\n",
              " [0, 1, 1, 0, 5, 10, 13, 8],\n",
              " [0, 1, 9, 4, 3, 5, 12, 0],\n",
              " [0, 8, 17, 8, 3, 4, 8, 4]]"
            ]
          },
          "metadata": {},
          "execution_count": 78
        }
      ]
    },
    {
      "cell_type": "code",
      "source": [
        "air_cleaner"
      ],
      "metadata": {
        "colab": {
          "base_uri": "https://localhost:8080/"
        },
        "id": "kRfmqesCSmpk",
        "outputId": "d48eac2a-73e7-41d0-84f9-52ddb1e41c80"
      },
      "execution_count": 79,
      "outputs": [
        {
          "output_type": "execute_result",
          "data": {
            "text/plain": [
              "[2, 3]"
            ]
          },
          "metadata": {},
          "execution_count": 79
        }
      ]
    },
    {
      "cell_type": "code",
      "source": [
        "init_dust"
      ],
      "metadata": {
        "colab": {
          "base_uri": "https://localhost:8080/"
        },
        "id": "-jB4LMJUUWoc",
        "outputId": "ff49b903-8d26-40dc-da69-dd51686fd349"
      },
      "execution_count": 80,
      "outputs": [
        {
          "output_type": "execute_result",
          "data": {
            "text/plain": [
              "188"
            ]
          },
          "metadata": {},
          "execution_count": 80
        }
      ]
    },
    {
      "cell_type": "code",
      "source": [
        "def oncleaner():\n",
        "    global init_dust\n",
        "    for i in range(2):\n",
        "        a = air_cleaner[i]\n",
        "        if i == 0:  # counterclockwise\n",
        "            init_dust -= new_board[a-1][0]  # 정화된 공기\n",
        "            for p in range(a-1,0,-1):  # 아래로\n",
        "                new_board[p][0] = new_board[p-1][0]\n",
        "            for q in range(c-1):  # 왼쪽으로\n",
        "                new_board[0][q] = new_board[0][q+1]\n",
        "            for s in range(a):  # 위로\n",
        "                new_board[s][c-1] = new_board[s+1][c-1]\n",
        "            for t in range(c-1, 1, -1): # 오른쪽으로\n",
        "                new_board[a][t] = new_board[a][t-1]\n",
        "            new_board[a][1] = 0 # 공기청정기에서 나온 공기\n",
        "        else: # clockwise\n",
        "            init_dust -= new_board[a+1][0]\n",
        "            for s in range(a+1,r-1):  # 위로\n",
        "                new_board[s][0] = new_board[s+1][0]\n",
        "            for q in range(c-1):  # 왼쪽으로\n",
        "                new_board[r-1][q] = new_board[r-1][q+1]\n",
        "            for p in range(r-1,a,-1):  # 아래로\n",
        "                new_board[p][c-1] = new_board[p-1][c-1]\n",
        "            for t in range(c-1, 1, -1): # 오른쪽으로\n",
        "                new_board[a][t] = new_board[a][t-1]\n",
        "            new_board[a][1] = 0 # 공기청정기에서 나온 공기"
      ],
      "metadata": {
        "id": "Kg0zwdHLUkHw"
      },
      "execution_count": 89,
      "outputs": []
    },
    {
      "cell_type": "markdown",
      "source": [
        "1초 뒤"
      ],
      "metadata": {
        "id": "1rmTuO4cdObg"
      }
    },
    {
      "cell_type": "code",
      "source": [
        "new_board"
      ],
      "metadata": {
        "colab": {
          "base_uri": "https://localhost:8080/"
        },
        "id": "kbZ2NCT8aNkD",
        "outputId": "62257a9c-82af-449c-a385-d2324b3b86c4"
      },
      "execution_count": 82,
      "outputs": [
        {
          "output_type": "execute_result",
          "data": {
            "text/plain": [
              "[[0, 0, 0, 0, 0, 1, 8, 6],\n",
              " [0, 0, 1, 0, 3, 0, 5, 5],\n",
              " [-1, 0, 2, 1, 1, 0, 4, 6],\n",
              " [-1, 0, 5, 2, 0, 0, 2, 12],\n",
              " [0, 1, 1, 0, 5, 10, 13, 0],\n",
              " [0, 1, 9, 4, 3, 5, 12, 8],\n",
              " [8, 17, 8, 3, 4, 8, 4, 0]]"
            ]
          },
          "metadata": {},
          "execution_count": 82
        }
      ]
    },
    {
      "cell_type": "code",
      "source": [
        "init_dust"
      ],
      "metadata": {
        "colab": {
          "base_uri": "https://localhost:8080/"
        },
        "id": "8v0FK9GJa0QQ",
        "outputId": "a46c92bc-fa28-4dc4-b6bc-3c2a56ed3a5b"
      },
      "execution_count": 83,
      "outputs": [
        {
          "output_type": "execute_result",
          "data": {
            "text/plain": [
              "188"
            ]
          },
          "metadata": {},
          "execution_count": 83
        }
      ]
    },
    {
      "cell_type": "code",
      "source": [
        "board = [l[:] for l in new_board]"
      ],
      "metadata": {
        "id": "yHItGzyJbMXF"
      },
      "execution_count": 84,
      "outputs": []
    },
    {
      "cell_type": "code",
      "source": [
        "for i in range(r):\n",
        "    for j in range(c):\n",
        "        if board[i][j] == -1:\n",
        "            pass\n",
        "        else:\n",
        "            if board[i][j] < 5:\n",
        "                pass\n",
        "            else:\n",
        "                cnt = 0\n",
        "                for k in range(4):\n",
        "                    rr = i + dr[k]\n",
        "                    cc = j + dc[k]\n",
        "                    if isinside(rr,cc):\n",
        "                        cnt += 1\n",
        "                        new_board[rr][cc] += board[i][j]//5\n",
        "                else:\n",
        "                    new_board[i][j] -= cnt * (board[i][j]//5)"
      ],
      "metadata": {
        "id": "9uDXwtpAa5-T"
      },
      "execution_count": 85,
      "outputs": []
    },
    {
      "cell_type": "code",
      "source": [
        "new_board"
      ],
      "metadata": {
        "colab": {
          "base_uri": "https://localhost:8080/"
        },
        "id": "VhQWto1AcFwi",
        "outputId": "4814f2af-99ba-44cb-9d06-a5d94b4aa093"
      },
      "execution_count": 86,
      "outputs": [
        {
          "output_type": "execute_result",
          "data": {
            "text/plain": [
              "[[0, 0, 0, 0, 0, 2, 7, 6],\n",
              " [0, 0, 1, 0, 3, 1, 3, 5],\n",
              " [-1, 0, 3, 1, 1, 0, 6, 6],\n",
              " [-1, 1, 1, 3, 1, 2, 6, 7],\n",
              " [0, 1, 3, 1, 3, 6, 9, 5],\n",
              " [1, 5, 6, 5, 5, 6, 8, 7],\n",
              " [9, 10, 9, 4, 5, 6, 7, 1]]"
            ]
          },
          "metadata": {},
          "execution_count": 86
        }
      ]
    },
    {
      "cell_type": "code",
      "source": [
        "oncleaner()"
      ],
      "metadata": {
        "id": "DGKHVDuAcT-C"
      },
      "execution_count": 90,
      "outputs": []
    },
    {
      "cell_type": "markdown",
      "source": [
        "2초 뒤"
      ],
      "metadata": {
        "id": "SwDNVMURdWTJ"
      }
    },
    {
      "cell_type": "code",
      "source": [
        "new_board"
      ],
      "metadata": {
        "colab": {
          "base_uri": "https://localhost:8080/"
        },
        "id": "HeW08Wg2ciJA",
        "outputId": "5b2c9091-5d4a-4ab4-f73f-07974f63bc8e"
      },
      "execution_count": 91,
      "outputs": [
        {
          "output_type": "execute_result",
          "data": {
            "text/plain": [
              "[[0, 0, 0, 0, 2, 7, 6, 5],\n",
              " [0, 0, 1, 0, 3, 1, 3, 6],\n",
              " [-1, 0, 0, 3, 1, 1, 0, 6],\n",
              " [-1, 0, 1, 1, 3, 1, 2, 6],\n",
              " [1, 1, 3, 1, 3, 6, 9, 7],\n",
              " [9, 5, 6, 5, 5, 6, 8, 5],\n",
              " [10, 9, 4, 5, 6, 7, 1, 7]]"
            ]
          },
          "metadata": {},
          "execution_count": 91
        }
      ]
    },
    {
      "cell_type": "code",
      "source": [
        "init_dust"
      ],
      "metadata": {
        "colab": {
          "base_uri": "https://localhost:8080/"
        },
        "id": "do45SUAYcka-",
        "outputId": "167e85c7-9ca2-4914-f5a3-023475e2ab21"
      },
      "execution_count": 92,
      "outputs": [
        {
          "output_type": "execute_result",
          "data": {
            "text/plain": [
              "188"
            ]
          },
          "metadata": {},
          "execution_count": 92
        }
      ]
    },
    {
      "cell_type": "code",
      "source": [
        "def diffusion(new_board):\n",
        "    board = [l[:] for l in new_board]\n",
        "    for i in range(r):\n",
        "        for j in range(c):\n",
        "            if board[i][j] == -1:\n",
        "                pass\n",
        "            else:\n",
        "                if board[i][j] < 5:\n",
        "                    pass\n",
        "                else:\n",
        "                    cnt = 0\n",
        "                    for k in range(4):\n",
        "                        rr = i + dr[k]\n",
        "                        cc = j + dc[k]\n",
        "                        if isinside(rr,cc):\n",
        "                            cnt += 1\n",
        "                            new_board[rr][cc] += board[i][j]//5\n",
        "                    else:\n",
        "                        new_board[i][j] -= cnt * (board[i][j]//5)"
      ],
      "metadata": {
        "id": "v_jFMPv8css8"
      },
      "execution_count": 93,
      "outputs": []
    },
    {
      "cell_type": "code",
      "source": [
        "diffusion(new_board)"
      ],
      "metadata": {
        "id": "dBKG8yRYdHiP"
      },
      "execution_count": 94,
      "outputs": []
    },
    {
      "cell_type": "code",
      "source": [
        "new_board"
      ],
      "metadata": {
        "colab": {
          "base_uri": "https://localhost:8080/"
        },
        "id": "1bSkmQYCdJPj",
        "outputId": "9e6f0950-4dc8-46fd-97c0-791e77bb17c1"
      },
      "execution_count": 95,
      "outputs": [
        {
          "output_type": "execute_result",
          "data": {
            "text/plain": [
              "[[0, 0, 0, 0, 3, 5, 5, 5],\n",
              " [0, 0, 1, 0, 3, 2, 5, 5],\n",
              " [-1, 0, 0, 3, 1, 1, 1, 5],\n",
              " [-1, 0, 1, 1, 3, 2, 4, 5],\n",
              " [2, 2, 4, 2, 5, 4, 8, 7],\n",
              " [9, 4, 4, 4, 4, 6, 7, 5],\n",
              " [8, 9, 7, 4, 6, 6, 4, 6]]"
            ]
          },
          "metadata": {},
          "execution_count": 95
        }
      ]
    },
    {
      "cell_type": "code",
      "source": [
        "oncleaner()"
      ],
      "metadata": {
        "id": "-yd5sCwKdaE4"
      },
      "execution_count": 96,
      "outputs": []
    },
    {
      "cell_type": "markdown",
      "source": [
        "3초 뒤"
      ],
      "metadata": {
        "id": "N8UEhu6vdiG7"
      }
    },
    {
      "cell_type": "code",
      "source": [
        "new_board"
      ],
      "metadata": {
        "colab": {
          "base_uri": "https://localhost:8080/"
        },
        "id": "FdXoTzZ3db4b",
        "outputId": "9fd14e30-3ffd-4d5b-e236-a3dfd55250cd"
      },
      "execution_count": 97,
      "outputs": [
        {
          "output_type": "execute_result",
          "data": {
            "text/plain": [
              "[[0, 0, 0, 3, 5, 5, 5, 5],\n",
              " [0, 0, 1, 0, 3, 2, 5, 5],\n",
              " [-1, 0, 0, 0, 3, 1, 1, 1],\n",
              " [-1, 0, 0, 1, 1, 3, 2, 4],\n",
              " [9, 2, 4, 2, 5, 4, 8, 5],\n",
              " [8, 4, 4, 4, 4, 6, 7, 7],\n",
              " [9, 7, 4, 6, 6, 4, 6, 5]]"
            ]
          },
          "metadata": {},
          "execution_count": 97
        }
      ]
    },
    {
      "cell_type": "code",
      "source": [
        "init_dust"
      ],
      "metadata": {
        "colab": {
          "base_uri": "https://localhost:8080/"
        },
        "id": "SqkUVIdKdeY5",
        "outputId": "bdebaf77-e35c-48d6-f9a2-a1a8b5b28b30"
      },
      "execution_count": 98,
      "outputs": [
        {
          "output_type": "execute_result",
          "data": {
            "text/plain": [
              "186"
            ]
          },
          "metadata": {},
          "execution_count": 98
        }
      ]
    },
    {
      "cell_type": "markdown",
      "source": [
        "종합"
      ],
      "metadata": {
        "id": "MnFYx_lmdj1m"
      }
    },
    {
      "cell_type": "code",
      "source": [
        "import sys\n",
        "# input = sys.stdin.readline\n",
        "\n",
        "# 입력파트\n",
        "r, c, t = map(int, input().rstrip().split())\n",
        "board = [list(map(int, input().rstrip().split())) for _ in range(r)]\n",
        "\n",
        "dr = [1,-1,0,0]\n",
        "dc = [0,0,1,-1]\n",
        "\n",
        "def isinside(x,y):\n",
        "    if 0<=x<r and 0<=y<c and board[x][y] != -1:\n",
        "        return True\n",
        "    else:\n",
        "        return False\n",
        "\n",
        "def diffusion(new_board):\n",
        "    board = [l[:] for l in new_board]\n",
        "    for i in range(r):\n",
        "        for j in range(c):\n",
        "            if board[i][j] == -1:\n",
        "                pass\n",
        "            else:\n",
        "                if board[i][j] < 5:\n",
        "                    pass\n",
        "                else:\n",
        "                    cnt = 0\n",
        "                    for k in range(4):\n",
        "                        rr = i + dr[k]\n",
        "                        cc = j + dc[k]\n",
        "                        if isinside(rr,cc):\n",
        "                            cnt += 1\n",
        "                            new_board[rr][cc] += board[i][j]//5\n",
        "                    else:\n",
        "                        new_board[i][j] -= cnt * (board[i][j]//5)\n",
        "\n",
        "def oncleaner():\n",
        "    global dust\n",
        "    for i in range(2):\n",
        "        a = air_cleaner[i]\n",
        "        if i == 0:  # counterclockwise\n",
        "            dust -= new_board[a-1][0]  # 정화된 공기\n",
        "            for p in range(a-1,0,-1):  # 아래로\n",
        "                new_board[p][0] = new_board[p-1][0]\n",
        "            for q in range(c-1):  # 왼쪽으로\n",
        "                new_board[0][q] = new_board[0][q+1]\n",
        "            for s in range(a):  # 위로\n",
        "                new_board[s][c-1] = new_board[s+1][c-1]\n",
        "            for t in range(c-1, 1, -1): # 오른쪽으로\n",
        "                new_board[a][t] = new_board[a][t-1]\n",
        "            new_board[a][1] = 0 # 공기청정기에서 나온 공기\n",
        "        else: # clockwise\n",
        "            dust -= new_board[a+1][0]\n",
        "            for s in range(a+1,r-1):  # 위로\n",
        "                new_board[s][0] = new_board[s+1][0]\n",
        "            for q in range(c-1):  # 왼쪽으로\n",
        "                new_board[r-1][q] = new_board[r-1][q+1]\n",
        "            for p in range(r-1,a,-1):  # 아래로\n",
        "                new_board[p][c-1] = new_board[p-1][c-1]\n",
        "            for t in range(c-1, 1, -1): # 오른쪽으로\n",
        "                new_board[a][t] = new_board[a][t-1]\n",
        "            new_board[a][1] = 0 # 공기청정기에서 나온 공기\n",
        "\n",
        "new_board = [[0]*c for _ in range(r)]\n",
        "air_cleaner = []  # 공기청정기 c 좌표\n",
        "dust = 0  # 남은 먼지\n",
        "\n",
        "# 1차 발산\n",
        "for i in range(r):\n",
        "    for j in range(c):\n",
        "        if board[i][j] == -1: # 공기청정기 있대\n",
        "            air_cleaner.append(i)\n",
        "            new_board[i][j] = -1\n",
        "        else:\n",
        "            dust += board[i][j]\n",
        "            if board[i][j] < 5:\n",
        "                new_board[i][j] += board[i][j]\n",
        "            else:\n",
        "                cnt = 0\n",
        "                for k in range(4):\n",
        "                    rr = i + dr[k]\n",
        "                    cc = j + dc[k]\n",
        "                    if isinside(rr,cc):\n",
        "                        cnt += 1\n",
        "                        new_board[rr][cc] += board[i][j]//5\n",
        "                else:\n",
        "                    new_board[i][j] += board[i][j] - cnt * (board[i][j]//5)\n",
        "\n",
        "oncleaner()\n",
        "\n",
        "# 출력파트\n",
        "if t == 1:\n",
        "    print(dust)\n",
        "else:\n",
        "    for _ in range(t-1):\n",
        "        board = [l[:] for l in new_board]\n",
        "        diffusion(new_board)\n",
        "        oncleaner()\n",
        "    else:\n",
        "        print(dust)"
      ],
      "metadata": {
        "colab": {
          "base_uri": "https://localhost:8080/"
        },
        "id": "GvI5w6WgdkrC",
        "outputId": "6ecd0ac5-356e-4a49-9191-cf1931edb9b4"
      },
      "execution_count": 99,
      "outputs": [
        {
          "output_type": "stream",
          "name": "stdout",
          "text": [
            "7 8 50\n",
            "0 0 0 0 0 0 0 9\n",
            "0 0 0 0 3 0 0 8\n",
            "-1 0 5 0 0 0 22 0\n",
            "-1 8 0 0 0 0 0 0\n",
            "0 0 0 0 0 10 43 0\n",
            "0 0 5 0 15 0 0 0\n",
            "0 0 40 0 0 0 20 0\n",
            "46\n"
          ]
        }
      ]
    },
    {
      "cell_type": "markdown",
      "source": [
        "통과"
      ],
      "metadata": {
        "id": "jlMdjquxi_lV"
      }
    }
  ]
}

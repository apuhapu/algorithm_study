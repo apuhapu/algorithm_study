{
  "nbformat": 4,
  "nbformat_minor": 0,
  "metadata": {
    "colab": {
      "name": "1972.ipynb",
      "provenance": [],
      "authorship_tag": "ABX9TyO9RnDrBkHqnLVGXAwMSncE",
      "include_colab_link": true
    },
    "kernelspec": {
      "name": "python3",
      "display_name": "Python 3"
    },
    "language_info": {
      "name": "python"
    }
  },
  "cells": [
    {
      "cell_type": "markdown",
      "metadata": {
        "id": "view-in-github",
        "colab_type": "text"
      },
      "source": [
        "<a href=\"https://colab.research.google.com/github/apuhapu/algorithm_study/blob/main/1972.ipynb\" target=\"_parent\"><img src=\"https://colab.research.google.com/assets/colab-badge.svg\" alt=\"Open In Colab\"/></a>"
      ]
    },
    {
      "cell_type": "markdown",
      "source": [
        "https://www.acmicpc.net/problem/1927"
      ],
      "metadata": {
        "id": "A5UkE-x_qCXc"
      }
    },
    {
      "cell_type": "code",
      "source": [
        "heap = [None]"
      ],
      "metadata": {
        "id": "f4Laf6_usT3y"
      },
      "execution_count": 24,
      "outputs": []
    },
    {
      "cell_type": "code",
      "source": [
        "def heap_insert(new):\n",
        "    heap.append(new)\n",
        "    l = len(heap) - 1\n",
        "    while l > 1:\n",
        "        if heap[heap_parent(l)] > heap[l]:\n",
        "            heap_swap(l, heap_parent(l))\n",
        "            l = heap_parent(l)\n",
        "        else:\n",
        "            break"
      ],
      "metadata": {
        "id": "5XTLuIJYrm73"
      },
      "execution_count": 22,
      "outputs": []
    },
    {
      "cell_type": "code",
      "source": [
        "def heap_remove():\n",
        "    if len(heap) == 1:\n",
        "        return print(0)\n",
        "    else:\n",
        "        heap_swap(1,-1)\n",
        "        min_val = heap.pop()\n",
        "        minHeapify(1)\n",
        "        return print(min_val)"
      ],
      "metadata": {
        "id": "Kb1hWpLMvERB"
      },
      "execution_count": 14,
      "outputs": []
    },
    {
      "cell_type": "code",
      "source": [
        "def minHeapify(idx):\n",
        "    l = len(heap) - 1\n",
        "    left = heap_lchild(idx)\n",
        "    right = heap_rchild(idx)\n",
        "    k = idx\n",
        "    if left <= l and heap[k] > heap[left]:\n",
        "        k = left\n",
        "    if right <= l and heap[k] > heap[right]:\n",
        "        k = right\n",
        "    if k != idx:\n",
        "        heap_swap(k, idx)\n",
        "        minHeapify(k)"
      ],
      "metadata": {
        "id": "FIec2bv7we_i"
      },
      "execution_count": 17,
      "outputs": []
    },
    {
      "cell_type": "code",
      "source": [
        "def heap_parent(idx):\n",
        "    return idx // 2\n",
        "\n",
        "def heap_lchild(idx):\n",
        "    return idx * 2\n",
        "\n",
        "def heap_rchild(idx):\n",
        "    return idx * 2 + 1\n",
        "\n",
        "def heap_swap(idx1, idx2):\n",
        "    heap[idx1], heap[idx2] = heap[idx2], heap[idx1]"
      ],
      "metadata": {
        "id": "o5Fipciisp-W"
      },
      "execution_count": 12,
      "outputs": []
    },
    {
      "cell_type": "code",
      "execution_count": 18,
      "metadata": {
        "colab": {
          "base_uri": "https://localhost:8080/"
        },
        "id": "o-zdRvlvp5Qf",
        "outputId": "2555850d-5403-4512-f0f7-5c73c3939d78"
      },
      "outputs": [
        {
          "name": "stdout",
          "output_type": "stream",
          "text": [
            "9\n"
          ]
        }
      ],
      "source": [
        "# import sys\n",
        "# input = sys.stdin.readline\n",
        "n = int(input().rstrip())"
      ]
    },
    {
      "cell_type": "code",
      "source": [
        "for _ in range(n):\n",
        "    m = int(input().rstrip())\n",
        "    if m == 0:\n",
        "        heap_remove()\n",
        "    elif m > 0:\n",
        "        heap_insert(m)"
      ],
      "metadata": {
        "colab": {
          "base_uri": "https://localhost:8080/"
        },
        "id": "8VC-u4GuyeZt",
        "outputId": "166bd573-2999-48a6-a001-1827db71a447"
      },
      "execution_count": 25,
      "outputs": [
        {
          "output_type": "stream",
          "name": "stdout",
          "text": [
            "0\n",
            "0\n",
            "[None]\n",
            "12345678\n",
            "[None, 12345678]\n",
            "1\n",
            "[None, 1, 12345678]\n",
            "2\n",
            "[None, 1, 12345678, 2]\n",
            "0\n",
            "1\n",
            "[None, 2, 12345678]\n",
            "0\n",
            "2\n",
            "[None, 12345678]\n",
            "0\n",
            "12345678\n",
            "[None]\n",
            "0\n",
            "0\n",
            "[None]\n",
            "32\n",
            "[None, 32]\n"
          ]
        }
      ]
    },
    {
      "cell_type": "code",
      "source": [
        "import sys\n",
        "input = sys.stdin.readline\n",
        "\n",
        "heap = [None]\n",
        "\n",
        "def heap_parent(idx):\n",
        "    return idx // 2\n",
        "\n",
        "def heap_lchild(idx):\n",
        "    return idx * 2\n",
        "\n",
        "def heap_rchild(idx):\n",
        "    return idx * 2 + 1\n",
        "\n",
        "def heap_swap(idx1, idx2):\n",
        "    heap[idx1], heap[idx2] = heap[idx2], heap[idx1]\n",
        "    \n",
        "def heap_insert(new):\n",
        "    heap.append(new)\n",
        "    l = len(heap) - 1\n",
        "    while l > 1:\n",
        "        if heap[heap_parent(l)] > heap[l]:\n",
        "            heap_swap(l, heap_parent(l))\n",
        "            l = heap_parent(l)\n",
        "        else:\n",
        "            break\n",
        "            \n",
        "def heap_remove():\n",
        "    if len(heap) == 1:\n",
        "        return print(0)\n",
        "    else:\n",
        "        heap_swap(1,-1)\n",
        "        min_val = heap.pop()\n",
        "        minHeapify(1)\n",
        "        return print(min_val)\n",
        "\n",
        "def minHeapify(idx):\n",
        "    l = len(heap) - 1\n",
        "    left = heap_lchild(idx)\n",
        "    right = heap_rchild(idx)\n",
        "    k = idx\n",
        "    if left <= l and heap[k] > heap[left]:\n",
        "        k = left\n",
        "    if right <= l and heap[k] > heap[right]:\n",
        "        k = right\n",
        "    if k != idx:\n",
        "        heap_swap(k, idx)\n",
        "        minHeapify(k)\n",
        "        \n",
        "n = int(input().rstrip())\n",
        "\n",
        "for _ in range(n):\n",
        "    m = int(input().rstrip())\n",
        "    if m == 0:\n",
        "        heap_remove()\n",
        "    elif m > 0:\n",
        "        heap_insert(m)"
      ],
      "metadata": {
        "id": "whcald-C0l5j"
      },
      "execution_count": null,
      "outputs": []
    },
    {
      "cell_type": "markdown",
      "source": [
        "문제없이 성공"
      ],
      "metadata": {
        "id": "Zm_e_3Ur0nIZ"
      }
    }
  ]
}

{
  "nbformat": 4,
  "nbformat_minor": 0,
  "metadata": {
    "colab": {
      "name": "greedy_study.ipynb",
      "provenance": [],
      "authorship_tag": "ABX9TyMhxTG4ir4vZoe0bj2lc6hJ",
      "include_colab_link": true
    },
    "kernelspec": {
      "name": "python3",
      "display_name": "Python 3"
    },
    "language_info": {
      "name": "python"
    }
  },
  "cells": [
    {
      "cell_type": "markdown",
      "metadata": {
        "id": "view-in-github",
        "colab_type": "text"
      },
      "source": [
        "<a href=\"https://colab.research.google.com/github/apuhapu/algorithm_study/blob/main/greedy_study(22/7/19).ipynb\" target=\"_parent\"><img src=\"https://colab.research.google.com/assets/colab-badge.svg\" alt=\"Open In Colab\"/></a>"
      ]
    },
    {
      "cell_type": "markdown",
      "source": [
        "https://www.acmicpc.net/problem/1449"
      ],
      "metadata": {
        "id": "9ZRajEbiMc_Y"
      }
    },
    {
      "cell_type": "code",
      "execution_count": 8,
      "metadata": {
        "colab": {
          "base_uri": "https://localhost:8080/"
        },
        "id": "VKtcNZyaIDiY",
        "outputId": "e984fee3-8ecd-4952-e979-79d0642ae024"
      },
      "outputs": [
        {
          "name": "stdout",
          "output_type": "stream",
          "text": [
            "4 3\n",
            "1 2 3 4\n"
          ]
        }
      ],
      "source": [
        "n, l = map(int, input().rstrip().split())\n",
        "hole = list(map(int, input().rstrip().split()))"
      ]
    },
    {
      "cell_type": "code",
      "source": [
        "from collections import deque\n",
        "deq = deque(hole)"
      ],
      "metadata": {
        "id": "ClXDkksHLGNb"
      },
      "execution_count": 9,
      "outputs": []
    },
    {
      "cell_type": "code",
      "source": [
        "cnt = 0\n",
        "high = -1\n",
        "while deq:\n",
        "    x = deq.popleft()\n",
        "    if x > high:\n",
        "        cnt += 1\n",
        "        high = x + l - 1\n",
        "print(cnt)"
      ],
      "metadata": {
        "colab": {
          "base_uri": "https://localhost:8080/"
        },
        "id": "xU3_C739Lqxm",
        "outputId": "79da14a4-e60d-4e4e-ea71-1ba1a2797421"
      },
      "execution_count": 10,
      "outputs": [
        {
          "output_type": "stream",
          "name": "stdout",
          "text": [
            "2\n"
          ]
        }
      ]
    },
    {
      "cell_type": "code",
      "source": [
        "n, l = map(int, input().rstrip().split())\n",
        "hole = list(map(int, input().rstrip().split()))\n",
        "hole.sort()\n",
        "from collections import deque\n",
        "deq = deque(hole)\n",
        "cnt = 0\n",
        "high = -1\n",
        "while deq:\n",
        "    x = deq.popleft()\n",
        "    if x > high:\n",
        "        cnt += 1\n",
        "        high = x + l - 1\n",
        "print(cnt)"
      ],
      "metadata": {
        "colab": {
          "base_uri": "https://localhost:8080/"
        },
        "id": "OSr-bdXRM29z",
        "outputId": "42adbfbe-4853-44b5-c5bd-4ba237098cf3"
      },
      "execution_count": 12,
      "outputs": [
        {
          "output_type": "stream",
          "name": "stdout",
          "text": [
            "3 1\n",
            "3 2 1\n",
            "3\n"
          ]
        }
      ]
    },
    {
      "cell_type": "code",
      "source": [
        "from collections import deque\n",
        "n = int(input().rstrip())\n",
        "cnt = 0\n",
        "lst = []\n",
        "for _ in range(n):\n",
        "    a, b = map(int, input().rstrip().split())\n",
        "    lst.append((b,a))\n",
        "lst.sort()\n",
        "deq = deque(lst)\n",
        "k = 0\n",
        "while deq:\n",
        "    b, a = deq.popleft()\n",
        "    if a >= k:\n",
        "        k = b\n",
        "        cnt += 1\n",
        "print(cnt)"
      ],
      "metadata": {
        "id": "xQpUEJ4MPgjF"
      },
      "execution_count": null,
      "outputs": []
    },
    {
      "cell_type": "code",
      "source": [
        "import heapq\n",
        "n = int(input().rstrip())\n",
        "cnt = 0\n",
        "heap = []\n",
        "for _ in range(n):\n",
        "    a, b = map(int, input().rstrip().split())\n",
        "    heapq.heappush(heap,(b,a))\n",
        "k = 0\n",
        "while heap:\n",
        "    b, a = heapq.heappop(heap)\n",
        "    if a >= k:\n",
        "        k = b\n",
        "        cnt += 1\n",
        "print(cnt)"
      ],
      "metadata": {
        "colab": {
          "base_uri": "https://localhost:8080/"
        },
        "id": "H8kSVmehUsSn",
        "outputId": "3a0c1ace-9226-456c-dc6d-48c5270d998d"
      },
      "execution_count": 13,
      "outputs": [
        {
          "output_type": "stream",
          "name": "stdout",
          "text": [
            "11\n",
            "1 4\n",
            "3 5\n",
            "0 6\n",
            "5 7\n",
            "3 8\n",
            "5 9\n",
            "6 10\n",
            "8 11\n",
            "8 12\n",
            "2 13\n",
            "12 14\n",
            "4\n"
          ]
        }
      ]
    },
    {
      "cell_type": "markdown",
      "source": [
        "https://www.acmicpc.net/problem/1082"
      ],
      "metadata": {
        "id": "ayWc56zTfN2W"
      }
    },
    {
      "cell_type": "code",
      "source": [
        "n = 3\n",
        "price = [5, 23, 24]\n",
        "m = 30"
      ],
      "metadata": {
        "id": "FE0iuktyfNZg"
      },
      "execution_count": 15,
      "outputs": []
    },
    {
      "cell_type": "code",
      "source": [
        "coin = [0 for _ in range(n)]\n",
        "coin"
      ],
      "metadata": {
        "colab": {
          "base_uri": "https://localhost:8080/"
        },
        "id": "5UBreLaAgZwC",
        "outputId": "2b2b5447-87bd-49e0-e578-53f13dc26424"
      },
      "execution_count": 36,
      "outputs": [
        {
          "output_type": "execute_result",
          "data": {
            "text/plain": [
              "[0, 0, 0]"
            ]
          },
          "metadata": {},
          "execution_count": 36
        }
      ]
    },
    {
      "cell_type": "code",
      "source": [
        "left = m"
      ],
      "metadata": {
        "id": "cLFl_uhWgrAF"
      },
      "execution_count": 37,
      "outputs": []
    },
    {
      "cell_type": "code",
      "source": [
        "first_price = min(price[1:])"
      ],
      "metadata": {
        "id": "poIrlCAEgxXv"
      },
      "execution_count": 38,
      "outputs": []
    },
    {
      "cell_type": "code",
      "source": [
        "x = price[::-1].index(first_price)"
      ],
      "metadata": {
        "id": "DteDyCk0g9b8"
      },
      "execution_count": 39,
      "outputs": []
    },
    {
      "cell_type": "code",
      "source": [
        "x"
      ],
      "metadata": {
        "colab": {
          "base_uri": "https://localhost:8080/"
        },
        "id": "3UI7KvDohVZ7",
        "outputId": "fa51812b-4468-41de-8c11-d398a0fb4863"
      },
      "execution_count": 40,
      "outputs": [
        {
          "output_type": "execute_result",
          "data": {
            "text/plain": [
              "1"
            ]
          },
          "metadata": {},
          "execution_count": 40
        }
      ]
    },
    {
      "cell_type": "code",
      "source": [
        "first_coin = n -1  - x\n",
        "first_coin"
      ],
      "metadata": {
        "colab": {
          "base_uri": "https://localhost:8080/"
        },
        "id": "R8P47vZlhdh-",
        "outputId": "df4f8611-e64c-4015-e519-cd11b50fdf57"
      },
      "execution_count": 41,
      "outputs": [
        {
          "output_type": "execute_result",
          "data": {
            "text/plain": [
              "1"
            ]
          },
          "metadata": {},
          "execution_count": 41
        }
      ]
    },
    {
      "cell_type": "code",
      "source": [
        "left -= first_price\n",
        "coin[first_coin] += 1"
      ],
      "metadata": {
        "id": "A62gWhWYiBc8"
      },
      "execution_count": 42,
      "outputs": []
    },
    {
      "cell_type": "code",
      "source": [
        "min_coin_pri = min(price)\n",
        "y = price[::-1].index(min_coin_pri)\n",
        "min_coin = n - 1 - y"
      ],
      "metadata": {
        "id": "b1NCJ--_iMg5"
      },
      "execution_count": 43,
      "outputs": []
    },
    {
      "cell_type": "code",
      "source": [
        "print(min_coin_pri, min_coin)"
      ],
      "metadata": {
        "colab": {
          "base_uri": "https://localhost:8080/"
        },
        "id": "GsexrYwnjfjh",
        "outputId": "ce1b7489-ca78-4e8a-a70d-6f739caa8307"
      },
      "execution_count": 44,
      "outputs": [
        {
          "output_type": "stream",
          "name": "stdout",
          "text": [
            "5 0\n"
          ]
        }
      ]
    },
    {
      "cell_type": "code",
      "source": [
        "coin[min_coin] += left // min_coin_pri\n",
        "left = left % min_coin_pri"
      ],
      "metadata": {
        "id": "6PoRyYNkjoSW"
      },
      "execution_count": 45,
      "outputs": []
    },
    {
      "cell_type": "code",
      "source": [
        "print(left)\n",
        "coin"
      ],
      "metadata": {
        "colab": {
          "base_uri": "https://localhost:8080/"
        },
        "id": "igtBSE71j1GU",
        "outputId": "a8486c86-ec58-4b60-aeac-9d9ecad3dd19"
      },
      "execution_count": 46,
      "outputs": [
        {
          "output_type": "stream",
          "name": "stdout",
          "text": [
            "2\n"
          ]
        },
        {
          "output_type": "execute_result",
          "data": {
            "text/plain": [
              "[1, 1, 0]"
            ]
          },
          "metadata": {},
          "execution_count": 46
        }
      ]
    },
    {
      "cell_type": "code",
      "source": [
        "price"
      ],
      "metadata": {
        "colab": {
          "base_uri": "https://localhost:8080/"
        },
        "id": "EqLVeivgkKFq",
        "outputId": "0b4106c9-a2e9-4adf-ef37-b84b446a4361"
      },
      "execution_count": 47,
      "outputs": [
        {
          "output_type": "execute_result",
          "data": {
            "text/plain": [
              "[5, 23, 24]"
            ]
          },
          "metadata": {},
          "execution_count": 47
        }
      ]
    },
    {
      "cell_type": "code",
      "source": [
        "idx = 1\n",
        "for p in price[1:]:\n",
        "    com = p + left\n",
        "    k = n - 1\n",
        "    for i in price[1:][::-1]:\n",
        "        if i <= com:\n",
        "            left = com - i\n",
        "            coin[idx] -= 1\n",
        "            coin[k] += 1\n",
        "            break\n",
        "        else:\n",
        "            k -= 1\n",
        "    idx += 1"
      ],
      "metadata": {
        "id": "5UyGhBMIkwHO"
      },
      "execution_count": 49,
      "outputs": []
    },
    {
      "cell_type": "code",
      "source": [
        "coin"
      ],
      "metadata": {
        "colab": {
          "base_uri": "https://localhost:8080/"
        },
        "id": "4pV_8qLLma_i",
        "outputId": "654bc2dc-d93b-4c43-97f2-2d4facf0c306"
      },
      "execution_count": 50,
      "outputs": [
        {
          "output_type": "execute_result",
          "data": {
            "text/plain": [
              "[1, 0, 1]"
            ]
          },
          "metadata": {},
          "execution_count": 50
        }
      ]
    },
    {
      "cell_type": "code",
      "source": [
        "import sys\n",
        "input = sys.stdin.readline\n",
        "n = int(input().rstrip())\n",
        "price = list(map(int, input().rstrip().split()))\n",
        "m = int(input().rstrip())\n",
        "coin = [0 for _ in range(n)]\n",
        "if n == 1:\n",
        "    print(0)\n",
        "else:\n",
        "    left = m\n",
        "    first_price = min(price[1:])\n",
        "    x = price[::-1].index(first_price)\n",
        "    first_coin = n -1 - x\n",
        "    if left >= first_price:\n",
        "        left -= first_price\n",
        "        coin[first_coin] += 1\n",
        "\n",
        "        min_coin_pri = min(price)\n",
        "        y = price[::-1].index(min_coin_pri)\n",
        "        min_coin = n - 1 - y\n",
        "\n",
        "        coin[min_coin] += left // min_coin_pri\n",
        "        left = left % min_coin_pri\n",
        "        \n",
        "        # 바꾸기 전 숫자 : idx\n",
        "        idx = n - 2\n",
        "        for p in price[n-2::-1]:\n",
        "            if coin[idx] > 0:\n",
        "                k = n - 1   # 바꾸고 난 뒤 숫자\n",
        "                for i in price[idx+1:][::-1]:   # idx 보다 큰놈 들 중에 큰것부터\n",
        "                    while i <= left + p and coin[idx] > 0:\n",
        "                        left = left + p - i\n",
        "                        coin[idx] -= 1\n",
        "                        coin[k] += 1\n",
        "                    else:\n",
        "                        k -= 1\n",
        "            idx -= 1\n",
        "\n",
        "\n",
        "\n",
        "    if coin == [0] * n:\n",
        "        print(0)\n",
        "    else:\n",
        "        output = ''\n",
        "        for a in range(n - 1,-1,-1):\n",
        "            if coin[a] != 0:\n",
        "                output = output + str(a) * coin[a]\n",
        "        print(int(output))"
      ],
      "metadata": {
        "colab": {
          "base_uri": "https://localhost:8080/"
        },
        "id": "2m2peSX6mgT3",
        "outputId": "db0237a5-7e42-40c1-a46b-f3ea583cc6f9"
      },
      "execution_count": 126,
      "outputs": [
        {
          "output_type": "stream",
          "name": "stdout",
          "text": [
            "[0, 0, 0, 0, 0, 0, 0, 0, 8, 0] 2\n",
            "99888888\n"
          ]
        }
      ]
    },
    {
      "cell_type": "code",
      "source": [
        "lst = [n for n in range(10)]\n",
        "print(lst)\n",
        "for p in lst[10-2::-1]:\n",
        "    print(p)"
      ],
      "metadata": {
        "colab": {
          "base_uri": "https://localhost:8080/"
        },
        "id": "fU2g6BrdziKq",
        "outputId": "75cf2392-95db-45cf-fab0-96d5b0c6bb27"
      },
      "execution_count": 100,
      "outputs": [
        {
          "output_type": "stream",
          "name": "stdout",
          "text": [
            "[0, 1, 2, 3, 4, 5, 6, 7, 8, 9]\n",
            "8\n",
            "7\n",
            "6\n",
            "5\n",
            "4\n",
            "3\n",
            "2\n",
            "1\n",
            "0\n"
          ]
        }
      ]
    }
  ]
}

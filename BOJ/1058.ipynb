{
  "nbformat": 4,
  "nbformat_minor": 0,
  "metadata": {
    "colab": {
      "provenance": [],
      "authorship_tag": "ABX9TyPo+gy2EdUIGnp+99Wpr/Jv",
      "include_colab_link": true
    },
    "kernelspec": {
      "name": "python3",
      "display_name": "Python 3"
    },
    "language_info": {
      "name": "python"
    }
  },
  "cells": [
    {
      "cell_type": "markdown",
      "metadata": {
        "id": "view-in-github",
        "colab_type": "text"
      },
      "source": [
        "<a href=\"https://colab.research.google.com/github/apuhapu/algorithm_study/blob/main/BOJ/1058.ipynb\" target=\"_parent\"><img src=\"https://colab.research.google.com/assets/colab-badge.svg\" alt=\"Open In Colab\"/></a>"
      ]
    },
    {
      "cell_type": "markdown",
      "source": [
        "https://www.acmicpc.net/problem/1058"
      ],
      "metadata": {
        "id": "suo9C2Sga68e"
      }
    },
    {
      "cell_type": "code",
      "execution_count": 3,
      "metadata": {
        "id": "tEElCC5v_L6o",
        "colab": {
          "base_uri": "https://localhost:8080/"
        },
        "outputId": "66b26cfa-883d-4b4d-d1c7-bf1e1f9bb841"
      },
      "outputs": [
        {
          "name": "stdout",
          "output_type": "stream",
          "text": [
            "5\n",
            "NYNNN\n",
            "YNYNN\n",
            "NYNYN\n",
            "NNYNY\n",
            "NNNYN\n"
          ]
        }
      ],
      "source": [
        "n = int(input())\n",
        "graph = [[] for _ in range(n+1)]\n",
        "for i in range(1,n+1):\n",
        "    temp = list(str(input().rstrip()))\n",
        "    for a, b in enumerate(temp):\n",
        "        if b == \"Y\":\n",
        "            graph[i].append(a+1)"
      ]
    },
    {
      "cell_type": "code",
      "source": [
        "graph"
      ],
      "metadata": {
        "colab": {
          "base_uri": "https://localhost:8080/"
        },
        "id": "4khpsgFedKig",
        "outputId": "b8fcb8d8-0844-49e9-95cd-8993ae67cb2d"
      },
      "execution_count": 4,
      "outputs": [
        {
          "output_type": "execute_result",
          "data": {
            "text/plain": [
              "[[], [2], [1, 3], [2, 4], [3, 5], [4]]"
            ]
          },
          "metadata": {},
          "execution_count": 4
        }
      ]
    },
    {
      "cell_type": "code",
      "source": [
        "from collections import deque"
      ],
      "metadata": {
        "id": "iBC2SDGqoPZx"
      },
      "execution_count": 5,
      "outputs": []
    },
    {
      "cell_type": "code",
      "source": [
        "i = 1"
      ],
      "metadata": {
        "id": "gTxx-D1Evx9z"
      },
      "execution_count": 16,
      "outputs": []
    },
    {
      "cell_type": "code",
      "source": [
        "deq = deque([(i,0)])\n",
        "visited = [False]*(n+1)\n",
        "cnt = 0"
      ],
      "metadata": {
        "id": "V8odn0RQoV5q"
      },
      "execution_count": 17,
      "outputs": []
    },
    {
      "cell_type": "code",
      "source": [
        "def bfs(q):\n",
        "    global cnt\n",
        "    if not q:\n",
        "        return\n",
        "\n",
        "    curr, d = q.popleft()\n",
        "    visited[curr] = True\n",
        "    for next in graph[curr]:\n",
        "        if not visited[next] and d < 2:\n",
        "            cnt += 1\n",
        "            if d == 1:\n",
        "                pass\n",
        "            else:\n",
        "                deq.append((next,1))\n",
        "    bfs(q)"
      ],
      "metadata": {
        "id": "CoKaOxp7oyRA"
      },
      "execution_count": 12,
      "outputs": []
    },
    {
      "cell_type": "code",
      "source": [
        "bfs(deq)"
      ],
      "metadata": {
        "id": "7hUWJ2jYvcLw"
      },
      "execution_count": 18,
      "outputs": []
    },
    {
      "cell_type": "code",
      "source": [
        "cnt"
      ],
      "metadata": {
        "colab": {
          "base_uri": "https://localhost:8080/"
        },
        "id": "RBltdjTOvo60",
        "outputId": "dd369b1f-84ba-429a-c78c-2aea1b748d47"
      },
      "execution_count": 19,
      "outputs": [
        {
          "output_type": "execute_result",
          "data": {
            "text/plain": [
              "2"
            ]
          },
          "metadata": {},
          "execution_count": 19
        }
      ]
    },
    {
      "cell_type": "code",
      "source": [
        "visited"
      ],
      "metadata": {
        "colab": {
          "base_uri": "https://localhost:8080/"
        },
        "id": "e0MhjdJIvtnO",
        "outputId": "b8bcb3e1-5fab-47c1-cdfb-b32aea284415"
      },
      "execution_count": 20,
      "outputs": [
        {
          "output_type": "execute_result",
          "data": {
            "text/plain": [
              "[False, True, True, False, False, False]"
            ]
          },
          "metadata": {},
          "execution_count": 20
        }
      ]
    },
    {
      "cell_type": "code",
      "source": [
        "temp = 0"
      ],
      "metadata": {
        "id": "Tzjj9_2zwJYE"
      },
      "execution_count": 21,
      "outputs": []
    },
    {
      "cell_type": "code",
      "source": [
        "for i in range(1,n+1):\n",
        "    deq = deque([(i,0)])\n",
        "    visited = [False]*(n+1)\n",
        "    cnt = 0\n",
        "    bfs(deq)\n",
        "    temp = max(temp, cnt)"
      ],
      "metadata": {
        "id": "H2azT749v3SU"
      },
      "execution_count": 22,
      "outputs": []
    },
    {
      "cell_type": "code",
      "source": [
        "temp"
      ],
      "metadata": {
        "colab": {
          "base_uri": "https://localhost:8080/"
        },
        "id": "lF0nnQSBwMaY",
        "outputId": "0d69a5de-37a9-4eef-b318-1ee8676dbc14"
      },
      "execution_count": 23,
      "outputs": [
        {
          "output_type": "execute_result",
          "data": {
            "text/plain": [
              "4"
            ]
          },
          "metadata": {},
          "execution_count": 23
        }
      ]
    },
    {
      "cell_type": "markdown",
      "source": [
        "cnt가 확실히 방문할 때 추가가 안되어 아래와 같이 수정하였다."
      ],
      "metadata": {
        "id": "GhsTO2KK2aVi"
      }
    },
    {
      "cell_type": "code",
      "source": [
        "from collections import deque\n",
        "\n",
        "def bfs(q):\n",
        "    global cnt\n",
        "    \n",
        "    if not q:\n",
        "        return\n",
        "\n",
        "    curr, d = q.popleft()\n",
        "    if not visited[curr]:\n",
        "        cnt += 1\n",
        "        visited[curr] = True\n",
        "        for next in graph[curr]:\n",
        "            if not visited[next] and d < 2:\n",
        "                deq.append((next,d+1))\n",
        "    bfs(q)\n",
        "\n",
        "if __name__ == '__main__':\n",
        "    n = int(input())\n",
        "    graph = [[] for _ in range(n+1)]\n",
        "    for i in range(1,n+1):\n",
        "        temp = list(str(input().rstrip()))\n",
        "        for a, b in enumerate(temp):\n",
        "            if b == \"Y\":\n",
        "                graph[i].append(a+1)\n",
        "\n",
        "    output = 0\n",
        "    for i in range(1,n+1):\n",
        "        deq = deque([(i,0)])\n",
        "        visited = [False]*(n+1)\n",
        "        cnt = -1\n",
        "        bfs(deq)\n",
        "        output = max(output, cnt)\n",
        "\n",
        "    print(output)"
      ],
      "metadata": {
        "colab": {
          "base_uri": "https://localhost:8080/"
        },
        "id": "N4xQfwtmwOy9",
        "outputId": "3117b2ff-c033-40a7-803f-3e97b0dec48e"
      },
      "execution_count": 36,
      "outputs": [
        {
          "output_type": "stream",
          "name": "stdout",
          "text": [
            "3\n",
            "NYY\n",
            "YNY\n",
            "YYN\n",
            "2\n"
          ]
        }
      ]
    },
    {
      "cell_type": "markdown",
      "source": [
        "평소에는 반복문으로 bfs를 구현하곤 했지만 이번에는 재귀를 사용하여 구현해 보았다."
      ],
      "metadata": {
        "id": "Xsw4caNJ2FaW"
      }
    }
  ]
}
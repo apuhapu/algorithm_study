{
  "nbformat": 4,
  "nbformat_minor": 0,
  "metadata": {
    "colab": {
      "provenance": [],
      "authorship_tag": "ABX9TyOUjpSADaX+0x/pkdpxTE59",
      "include_colab_link": true
    },
    "kernelspec": {
      "name": "python3",
      "display_name": "Python 3"
    },
    "language_info": {
      "name": "python"
    }
  },
  "cells": [
    {
      "cell_type": "markdown",
      "metadata": {
        "id": "view-in-github",
        "colab_type": "text"
      },
      "source": [
        "<a href=\"https://colab.research.google.com/github/apuhapu/algorithm_study/blob/main/BOJ13172.ipynb\" target=\"_parent\"><img src=\"https://colab.research.google.com/assets/colab-badge.svg\" alt=\"Open In Colab\"/></a>"
      ]
    },
    {
      "cell_type": "markdown",
      "source": [
        "https://www.acmicpc.net/problem/13172"
      ],
      "metadata": {
        "id": "cyQ2hRT1xMDx"
      }
    },
    {
      "cell_type": "code",
      "execution_count": 45,
      "metadata": {
        "colab": {
          "base_uri": "https://localhost:8080/"
        },
        "id": "GBVSsNILxIF-",
        "outputId": "dea28698-6a3d-4643-d2fe-ee814c97df3d"
      },
      "outputs": [
        {
          "name": "stdout",
          "output_type": "stream",
          "text": [
            "1\n",
            "3 7\n"
          ]
        }
      ],
      "source": [
        "m = int(input())\n",
        "sol = 0\n",
        "for _ in range(m):\n",
        "    n, s = map(int, input().rstrip().split())\n",
        "    n, s = divGcd(n, s)\n",
        "    n_inv = fact(n, 1000000007-2)\n",
        "    sol += s * n_inv"
      ]
    },
    {
      "cell_type": "code",
      "source": [
        "print(sol%1000000007)"
      ],
      "metadata": {
        "colab": {
          "base_uri": "https://localhost:8080/"
        },
        "id": "ZjYL2AUU6PJE",
        "outputId": "020ce999-7cf7-4f19-fbef-62cee15c806d"
      },
      "execution_count": 46,
      "outputs": [
        {
          "output_type": "stream",
          "name": "stdout",
          "text": [
            "333333338\n"
          ]
        }
      ]
    },
    {
      "cell_type": "code",
      "source": [
        "def divGcd(a, b):\n",
        "    # n > m\n",
        "    if a < b:\n",
        "        n, m = b, a\n",
        "    else:\n",
        "        n, m = a, b\n",
        "\n",
        "    # 유클리드 알고리즘\n",
        "    while True:\n",
        "        mod = n % m\n",
        "        if mod == 0:\n",
        "            gcd = m\n",
        "            break\n",
        "        else:\n",
        "            n, m = m, mod\n",
        "    \n",
        "    return a//gcd, b//gcd"
      ],
      "metadata": {
        "id": "zbCj09ABzHDQ"
      },
      "execution_count": 1,
      "outputs": []
    },
    {
      "cell_type": "code",
      "source": [
        "def fact(a, b):\n",
        "    if b == 0:\n",
        "        return 1\n",
        "    elif b == 1:\n",
        "        return a\n",
        "    elif b % 2 == 1:\n",
        "        return (a * (fact(a, (b-1)/2)**2)) %1000000007\n",
        "    else:\n",
        "        return (fact(a, b/2) ** 2) % 1000000007"
      ],
      "metadata": {
        "id": "D8wvrHtD25U_"
      },
      "execution_count": 43,
      "outputs": []
    },
    {
      "cell_type": "markdown",
      "source": [
        "1차 제출본"
      ],
      "metadata": {
        "id": "VU8Zrwnw-x1B"
      }
    },
    {
      "cell_type": "code",
      "source": [
        "import sys\n",
        "input = sys.stdin.readline\n",
        "\n",
        "def divGcd(a, b):\n",
        "    # n > m\n",
        "    if a < b:\n",
        "        n, m = b, a\n",
        "    else:\n",
        "        n, m = a, b\n",
        "\n",
        "    # 유클리드 알고리즘\n",
        "    while True:\n",
        "        mod = n % m\n",
        "        if mod == 0:\n",
        "            gcd = m\n",
        "            break\n",
        "        else:\n",
        "            n, m = m, mod\n",
        "    \n",
        "    return a//gcd, b//gcd\n",
        "\n",
        "def fact(a, b):\n",
        "    if b == 0:\n",
        "        return 1\n",
        "    elif b == 1:\n",
        "        return a\n",
        "    elif b % 2 == 1:\n",
        "        return (a * (fact(a, (b-1)/2)**2)) %1000000007\n",
        "    else:\n",
        "        return (fact(a, b/2) ** 2) % 1000000007\n",
        "\n",
        "m = int(input())\n",
        "sol = 0\n",
        "for _ in range(m):\n",
        "    n, s = map(int, input().rstrip().split())\n",
        "    n, s = divGcd(n, s)\n",
        "    n_inv = fact(n, 1000000007-2)\n",
        "    sol += (s * n_inv) % 1000000007\n",
        "\n",
        "print(sol%1000000007)"
      ],
      "metadata": {
        "colab": {
          "base_uri": "https://localhost:8080/",
          "height": 248
        },
        "id": "eGe1O1R6-y-Y",
        "outputId": "ec370663-45f2-43c8-c208-989c47d9e988"
      },
      "execution_count": 47,
      "outputs": [
        {
          "output_type": "error",
          "ename": "ValueError",
          "evalue": "ignored",
          "traceback": [
            "\u001b[0;31m---------------------------------------------------------------------------\u001b[0m",
            "\u001b[0;31mValueError\u001b[0m                                Traceback (most recent call last)",
            "\u001b[0;32m<ipython-input-47-d179f611e91f>\u001b[0m in \u001b[0;36m<module>\u001b[0;34m\u001b[0m\n\u001b[1;32m     30\u001b[0m         \u001b[0;32mreturn\u001b[0m \u001b[0;34m(\u001b[0m\u001b[0mfact\u001b[0m\u001b[0;34m(\u001b[0m\u001b[0ma\u001b[0m\u001b[0;34m,\u001b[0m \u001b[0mb\u001b[0m\u001b[0;34m/\u001b[0m\u001b[0;36m2\u001b[0m\u001b[0;34m)\u001b[0m \u001b[0;34m**\u001b[0m \u001b[0;36m2\u001b[0m\u001b[0;34m)\u001b[0m \u001b[0;34m%\u001b[0m \u001b[0;36m1000000007\u001b[0m\u001b[0;34m\u001b[0m\u001b[0;34m\u001b[0m\u001b[0m\n\u001b[1;32m     31\u001b[0m \u001b[0;34m\u001b[0m\u001b[0m\n\u001b[0;32m---> 32\u001b[0;31m \u001b[0mm\u001b[0m \u001b[0;34m=\u001b[0m \u001b[0mint\u001b[0m\u001b[0;34m(\u001b[0m\u001b[0minput\u001b[0m\u001b[0;34m(\u001b[0m\u001b[0;34m)\u001b[0m\u001b[0;34m)\u001b[0m\u001b[0;34m\u001b[0m\u001b[0;34m\u001b[0m\u001b[0m\n\u001b[0m\u001b[1;32m     33\u001b[0m \u001b[0msol\u001b[0m \u001b[0;34m=\u001b[0m \u001b[0;36m0\u001b[0m\u001b[0;34m\u001b[0m\u001b[0;34m\u001b[0m\u001b[0m\n\u001b[1;32m     34\u001b[0m \u001b[0;32mfor\u001b[0m \u001b[0m_\u001b[0m \u001b[0;32min\u001b[0m \u001b[0mrange\u001b[0m\u001b[0;34m(\u001b[0m\u001b[0mm\u001b[0m\u001b[0;34m)\u001b[0m\u001b[0;34m:\u001b[0m\u001b[0;34m\u001b[0m\u001b[0;34m\u001b[0m\u001b[0m\n",
            "\u001b[0;31mValueError\u001b[0m: invalid literal for int() with base 10: ''"
          ]
        }
      ]
    },
    {
      "cell_type": "markdown",
      "source": [
        "통과"
      ],
      "metadata": {
        "id": "wB9lVNWf_Twl"
      }
    }
  ]
}

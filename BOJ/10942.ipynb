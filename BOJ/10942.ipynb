{
  "cells": [
    {
      "cell_type": "markdown",
      "metadata": {
        "id": "view-in-github",
        "colab_type": "text"
      },
      "source": [
        "<a href=\"https://colab.research.google.com/github/apuhapu/algorithm_study/blob/main/BOJ/10942.ipynb\" target=\"_parent\"><img src=\"https://colab.research.google.com/assets/colab-badge.svg\" alt=\"Open In Colab\"/></a>"
      ]
    },
    {
      "cell_type": "markdown",
      "metadata": {
        "id": "Ugwq8gIgJ_7F"
      },
      "source": [
        "https://www.acmicpc.net/problem/10942"
      ]
    },
    {
      "cell_type": "code",
      "execution_count": null,
      "metadata": {
        "id": "ugIzCwllJ_I-"
      },
      "outputs": [],
      "source": [
        "import sys\n",
        "# input = sys.stdin.readline"
      ]
    },
    {
      "cell_type": "code",
      "execution_count": 2,
      "metadata": {
        "colab": {
          "base_uri": "https://localhost:8080/"
        },
        "id": "-zz5T8NKKIiA",
        "outputId": "6b482cc6-1725-4762-e4a2-0607d04f7eab"
      },
      "outputs": [
        {
          "name": "stdout",
          "output_type": "stream",
          "text": [
            "7\n",
            "1 2 1 3 1 2 1\n"
          ]
        }
      ],
      "source": [
        "n = int(input())\n",
        "lst = list(map(int, input().rstrip().split()))"
      ]
    },
    {
      "cell_type": "code",
      "execution_count": 3,
      "metadata": {
        "id": "ZC1_bxR6vB6x"
      },
      "outputs": [],
      "source": [
        "dp = genDp(lst)"
      ]
    },
    {
      "cell_type": "code",
      "execution_count": 4,
      "metadata": {
        "colab": {
          "base_uri": "https://localhost:8080/"
        },
        "id": "Z6ne1OJmvaRU",
        "outputId": "3e817ccc-04bd-4939-c0a1-3ebbfac6cfdc"
      },
      "outputs": [
        {
          "output_type": "execute_result",
          "data": {
            "text/plain": [
              "[[1, 0, 1, 0, 0, 0, 1],\n",
              " [-1, 1, 0, 0, 0, 1, 0],\n",
              " [-1, -1, 1, 0, 1, 0, 0],\n",
              " [-1, -1, -1, 1, 0, 0, 0],\n",
              " [-1, -1, -1, -1, 1, 0, 1],\n",
              " [-1, -1, -1, -1, -1, 1, 0],\n",
              " [-1, -1, -1, -1, -1, -1, 1]]"
            ]
          },
          "metadata": {},
          "execution_count": 4
        }
      ],
      "source": [
        "dp"
      ]
    },
    {
      "cell_type": "code",
      "execution_count": 6,
      "metadata": {
        "colab": {
          "base_uri": "https://localhost:8080/"
        },
        "id": "9ObWm9uSKWeC",
        "outputId": "65e89367-e9c7-4cf8-feaf-e4230a039f0e"
      },
      "outputs": [
        {
          "output_type": "stream",
          "name": "stdout",
          "text": [
            "4\n",
            "1 3\n",
            "1\n",
            "2 5\n",
            "0\n",
            "3 3\n",
            "1\n",
            "5 7\n",
            "1\n"
          ]
        }
      ],
      "source": [
        "m = int(input())\n",
        "for _ in range(m):\n",
        "    s, e = map(int, input().rstrip().split())\n",
        "    print(dp[s-1][e-1])"
      ]
    },
    {
      "cell_type": "code",
      "execution_count": null,
      "metadata": {
        "id": "Cl1QQh0aV5Ap"
      },
      "outputs": [],
      "source": [
        "def genDp(lst):\n",
        "    dp = [[-1]*n for i in range(n)]\n",
        "    diagonalVisted = [False] * (2*n)    # 오른쪽 위에서 왼쪽 아래로 가는 한 대각선에서 일정 부분에서 pal이면 그 아래도 모두 pal\n",
        "    for i in range(n):\n",
        "        dp[i][i] = 1  # len = 1\n",
        "        if i <= 2:\n",
        "            if lst[0] == lst[i]:\n",
        "                dp[0][i] = 1\n",
        "                diagonalVisted[i] = True\n",
        "            else:\n",
        "                dp[0][i] = 04\n",
        "        else:\n",
        "            if isPal(lst[:i+1]):\n",
        "                dp[0][i] = 1\n",
        "                diagonalVisted[i] = True\n",
        "            else:\n",
        "                dp[0][i] = 0\n",
        "\n",
        "    for i in range(1,n):\n",
        "        for j in range(i+1,n):\n",
        "            if dp[i][j] == -1:\n",
        "                if diagonalVisted[i+j]:\n",
        "                    dp[i][j] = 1\n",
        "                else:\n",
        "                    if isPal(lst[i:j+1]):\n",
        "                        dp[i][j] = 1\n",
        "                        diagonalVisted[i+j] = True\n",
        "                    else:\n",
        "                        dp[i][j] = 0\n",
        "    return dp"
      ]
    },
    {
      "cell_type": "code",
      "execution_count": null,
      "metadata": {
        "id": "Bbj5jJ_WaD1u"
      },
      "outputs": [],
      "source": [
        "def isPal(lst):\n",
        "    start = 0\n",
        "    end = len(lst) - 1\n",
        "    while start < end:\n",
        "        if lst[start] == lst[end]:\n",
        "            start += 1\n",
        "            end -= 1\n",
        "        else:\n",
        "            return False\n",
        "    return True"
      ]
    },
    {
      "cell_type": "markdown",
      "metadata": {
        "id": "2WHPV-1O0gYF"
      },
      "source": [
        "최악의 경우 모두 대칭이 아닌경우 위 방법은 시간복잡도가 O(n**3)"
      ]
    },
    {
      "cell_type": "markdown",
      "metadata": {
        "id": "7qgkg6xG0v1c"
      },
      "source": [
        "맞는 경우를 저장할 뿐만 아니라 아닌경우도 이용하게 변경"
      ]
    },
    {
      "cell_type": "code",
      "execution_count": 1,
      "metadata": {
        "id": "Uf7E6u5A1p0Y"
      },
      "outputs": [],
      "source": [
        "def genDp(lst):\n",
        "    dp = [[-1]*n for i in range(n)]\n",
        "\n",
        "    for i in range(n):\n",
        "        dp[i][i] = 1  # len = 1\n",
        "\n",
        "    for st in range(1, n):\n",
        "        for s in range(n-st):\n",
        "            e = s + st\n",
        "            if lst[s] != lst[e]:\n",
        "                dp[s][e] = 0\n",
        "            else:\n",
        "                if dp[s+1][e-1] == 0:\n",
        "                    dp[s][e] = 0\n",
        "                else:\n",
        "                    dp[s][e] = 1\n",
        "\n",
        "    return dp"
      ]
    }
  ],
  "metadata": {
    "colab": {
      "provenance": [],
      "authorship_tag": "ABX9TyPaIYUCWD9fchYWhs1GACKa",
      "include_colab_link": true
    },
    "kernelspec": {
      "display_name": "Python 3",
      "name": "python3"
    },
    "language_info": {
      "name": "python"
    }
  },
  "nbformat": 4,
  "nbformat_minor": 0
}
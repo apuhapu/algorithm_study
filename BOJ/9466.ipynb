{
  "nbformat": 4,
  "nbformat_minor": 0,
  "metadata": {
    "colab": {
      "provenance": [],
      "authorship_tag": "ABX9TyPaprRz5pJUB770303sB5ZK",
      "include_colab_link": true
    },
    "kernelspec": {
      "name": "python3",
      "display_name": "Python 3"
    },
    "language_info": {
      "name": "python"
    }
  },
  "cells": [
    {
      "cell_type": "markdown",
      "metadata": {
        "id": "view-in-github",
        "colab_type": "text"
      },
      "source": [
        "<a href=\"https://colab.research.google.com/github/apuhapu/algorithm_study/blob/main/BOJ/9466.ipynb\" target=\"_parent\"><img src=\"https://colab.research.google.com/assets/colab-badge.svg\" alt=\"Open In Colab\"/></a>"
      ]
    },
    {
      "cell_type": "markdown",
      "source": [
        "https://www.acmicpc.net/problem/9466"
      ],
      "metadata": {
        "id": "Sc6fusHYhGK3"
      }
    },
    {
      "cell_type": "markdown",
      "source": [
        "위상정렬을 변형해 활용"
      ],
      "metadata": {
        "id": "QgrQsJD1haZd"
      }
    },
    {
      "cell_type": "code",
      "source": [
        "from collections import deque"
      ],
      "metadata": {
        "id": "jEYt2B_0kN_j"
      },
      "execution_count": 1,
      "outputs": []
    },
    {
      "cell_type": "code",
      "source": [
        "def fn_cnt_sep(choice):\n",
        "    l = len(choice)\n",
        "    cnt = 0\n",
        "    que = deque([])\n",
        "\n",
        "    node_orders = [0]*l\n",
        "    for i in range(1,l):\n",
        "        if choice[i] != i:  # 자기자신을 고르는 경우는 제외\n",
        "            node_orders[choice[i]] += 1\n",
        "\n",
        "    for i in range(1,l):\n",
        "        if node_orders[i] == 0:\n",
        "            que.append(i)\n",
        "    \n",
        "    while que:\n",
        "        x = que.popleft()\n",
        "        if choice[x] == x:  # 자기 자신으로 가는 cycle\n",
        "            continue\n",
        "        else: # 아무도 나를 고르지 않은 경우\n",
        "            cnt += 1\n",
        "            node_orders[choice[x]] -= 1\n",
        "            if node_orders[choice[x]] == 0:\n",
        "                que.append(choice[x])\n",
        "    return print(cnt)"
      ],
      "metadata": {
        "id": "OsuGr4KBhj7l"
      },
      "execution_count": 19,
      "outputs": []
    },
    {
      "cell_type": "code",
      "source": [
        "picks = list(map(int, input().rstrip().split()))\n",
        "picks = [0] + picks\n",
        "fn_cnt_sep(picks)"
      ],
      "metadata": {
        "colab": {
          "base_uri": "https://localhost:8080/"
        },
        "id": "5VZm7VOLBBBM",
        "outputId": "cca5c9e0-1ebd-47a1-8259-400ed01e1875"
      },
      "execution_count": 18,
      "outputs": [
        {
          "output_type": "stream",
          "name": "stdout",
          "text": [
            "3 1 3 7 3 4 6\n",
            "[0, 1, 0, 2, 1, 0, 1, 1]\n",
            "[0, 0, 0, 2, 1, 0, 1, 1]\n",
            "[0, 0, 0, 1, 1, 0, 1, 1]\n",
            "[0, -1, 0, 1, 1, 0, 1, 1]\n",
            "3\n"
          ]
        }
      ]
    },
    {
      "cell_type": "code",
      "source": [
        "fn_cnt_sep(picks)"
      ],
      "metadata": {
        "colab": {
          "base_uri": "https://localhost:8080/"
        },
        "id": "njHMN37PBOZW",
        "outputId": "0562a597-9b7e-4e40-cb39-85ff091b0c15"
      },
      "execution_count": 20,
      "outputs": [
        {
          "output_type": "stream",
          "name": "stdout",
          "text": [
            "[0, 1, 0, 2, 1, 0, 1, 1]\n",
            "[0, 0, 0, 2, 1, 0, 1, 1]\n",
            "[0, 0, 0, 1, 1, 0, 1, 1]\n",
            "[0, 0, 0, 0, 1, 0, 1, 1]\n",
            "3\n"
          ]
        }
      ]
    },
    {
      "cell_type": "code",
      "execution_count": 7,
      "metadata": {
        "colab": {
          "base_uri": "https://localhost:8080/",
          "height": 340
        },
        "id": "-eD9j4_WgDnr",
        "outputId": "2922e544-ab18-4e2c-9e61-fb593718b5f5"
      },
      "outputs": [
        {
          "name": "stdout",
          "output_type": "stream",
          "text": [
            "2\n",
            "7\n",
            "3 1 3 7 3 4 6\n",
            "1\n",
            "1 2 3 4 5 6 7 8\n"
          ]
        },
        {
          "output_type": "error",
          "ename": "ValueError",
          "evalue": "ignored",
          "traceback": [
            "\u001b[0;31m---------------------------------------------------------------------------\u001b[0m",
            "\u001b[0;31mValueError\u001b[0m                                Traceback (most recent call last)",
            "\u001b[0;32m<ipython-input-7-2674960dae2a>\u001b[0m in \u001b[0;36m<module>\u001b[0;34m\u001b[0m\n\u001b[1;32m      1\u001b[0m \u001b[0mt\u001b[0m \u001b[0;34m=\u001b[0m \u001b[0mint\u001b[0m\u001b[0;34m(\u001b[0m\u001b[0minput\u001b[0m\u001b[0;34m(\u001b[0m\u001b[0;34m)\u001b[0m\u001b[0;34m)\u001b[0m\u001b[0;34m\u001b[0m\u001b[0;34m\u001b[0m\u001b[0m\n\u001b[1;32m      2\u001b[0m \u001b[0;32mfor\u001b[0m \u001b[0m_\u001b[0m \u001b[0;32min\u001b[0m \u001b[0mrange\u001b[0m\u001b[0;34m(\u001b[0m\u001b[0mt\u001b[0m\u001b[0;34m)\u001b[0m\u001b[0;34m:\u001b[0m\u001b[0;34m\u001b[0m\u001b[0;34m\u001b[0m\u001b[0m\n\u001b[0;32m----> 3\u001b[0;31m     \u001b[0mn\u001b[0m \u001b[0;34m=\u001b[0m \u001b[0mint\u001b[0m\u001b[0;34m(\u001b[0m\u001b[0minput\u001b[0m\u001b[0;34m(\u001b[0m\u001b[0;34m)\u001b[0m\u001b[0;34m)\u001b[0m\u001b[0;34m\u001b[0m\u001b[0;34m\u001b[0m\u001b[0m\n\u001b[0m\u001b[1;32m      4\u001b[0m     \u001b[0mpicks\u001b[0m \u001b[0;34m=\u001b[0m \u001b[0mlist\u001b[0m\u001b[0;34m(\u001b[0m\u001b[0mmap\u001b[0m\u001b[0;34m(\u001b[0m\u001b[0mint\u001b[0m\u001b[0;34m,\u001b[0m \u001b[0minput\u001b[0m\u001b[0;34m(\u001b[0m\u001b[0;34m)\u001b[0m\u001b[0;34m.\u001b[0m\u001b[0mrstrip\u001b[0m\u001b[0;34m(\u001b[0m\u001b[0;34m)\u001b[0m\u001b[0;34m.\u001b[0m\u001b[0msplit\u001b[0m\u001b[0;34m(\u001b[0m\u001b[0;34m)\u001b[0m\u001b[0;34m)\u001b[0m\u001b[0;34m)\u001b[0m\u001b[0;34m\u001b[0m\u001b[0;34m\u001b[0m\u001b[0m\n\u001b[1;32m      5\u001b[0m     \u001b[0mfn_cnt_sep\u001b[0m\u001b[0;34m(\u001b[0m\u001b[0mpicks\u001b[0m\u001b[0;34m)\u001b[0m\u001b[0;34m\u001b[0m\u001b[0;34m\u001b[0m\u001b[0m\n",
            "\u001b[0;31mValueError\u001b[0m: invalid literal for int() with base 10: '1 2 3 4 5 6 7 8'"
          ]
        }
      ],
      "source": [
        "t = int(input())\n",
        "for _ in range(t):\n",
        "    n = int(input())\n",
        "    picks = list(map(int, input().rstrip().split()))\n",
        "    fn_cnt_sep(picks)"
      ]
    },
    {
      "cell_type": "markdown",
      "source": [
        "제출본"
      ],
      "metadata": {
        "id": "7rmOVn9KHFK9"
      }
    },
    {
      "cell_type": "code",
      "source": [
        "from collections import deque\n",
        "import sys\n",
        "input = sys.stdin.readline\n",
        "\n",
        "def fn_cnt_sep(choice):\n",
        "    l = len(choice)\n",
        "    cnt = 0\n",
        "    que = deque([])\n",
        "\n",
        "    node_orders = [0]*l\n",
        "    for i in range(1,l):\n",
        "        if choice[i] != i:  # 자기자신을 고르는 경우는 제외\n",
        "            node_orders[choice[i]] += 1\n",
        "\n",
        "    for i in range(1,l):\n",
        "        if node_orders[i] == 0:\n",
        "            que.append(i)\n",
        "    \n",
        "    while que:\n",
        "        x = que.popleft()\n",
        "        if choice[x] == x:  # 자기 자신으로 가는 cycle\n",
        "            continue\n",
        "        else: # 아무도 나를 고르지 않은 경우\n",
        "            cnt += 1\n",
        "            node_orders[choice[x]] -= 1\n",
        "            if node_orders[choice[x]] == 0:\n",
        "                que.append(choice[x])\n",
        "    return print(cnt)\n",
        "\n",
        "t = int(input())\n",
        "for _ in range(t):\n",
        "    n = int(input())\n",
        "    picks = list(map(int, input().rstrip().split()))\n",
        "    picks = [0] + picks\n",
        "    fn_cnt_sep(picks)"
      ],
      "metadata": {
        "id": "CNB6MFZOHGaM"
      },
      "execution_count": null,
      "outputs": []
    }
  ]
}
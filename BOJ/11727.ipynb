{
  "nbformat": 4,
  "nbformat_minor": 0,
  "metadata": {
    "colab": {
      "provenance": [],
      "authorship_tag": "ABX9TyO/P+1k4poOwiY0v5x8gIai",
      "include_colab_link": true
    },
    "kernelspec": {
      "name": "python3",
      "display_name": "Python 3"
    },
    "language_info": {
      "name": "python"
    }
  },
  "cells": [
    {
      "cell_type": "markdown",
      "metadata": {
        "id": "view-in-github",
        "colab_type": "text"
      },
      "source": [
        "<a href=\"https://colab.research.google.com/github/apuhapu/algorithm_study/blob/main/BOJ_11727.ipynb\" target=\"_parent\"><img src=\"https://colab.research.google.com/assets/colab-badge.svg\" alt=\"Open In Colab\"/></a>"
      ]
    },
    {
      "cell_type": "markdown",
      "source": [
        "https://www.acmicpc.net/problem/11727"
      ],
      "metadata": {
        "id": "jBS-x1OQkBd3"
      }
    },
    {
      "cell_type": "code",
      "execution_count": 2,
      "metadata": {
        "id": "5IP_AZZHjz1f"
      },
      "outputs": [],
      "source": [
        "import sys\n",
        "#input = sys.stdin.readline"
      ]
    },
    {
      "cell_type": "code",
      "source": [
        "n = int(input())"
      ],
      "metadata": {
        "colab": {
          "base_uri": "https://localhost:8080/"
        },
        "id": "xT4CvOIdkMQ5",
        "outputId": "2feb91b9-9004-40e1-aba8-548882e3bc88"
      },
      "execution_count": 3,
      "outputs": [
        {
          "name": "stdout",
          "output_type": "stream",
          "text": [
            "8\n"
          ]
        }
      ]
    },
    {
      "cell_type": "code",
      "source": [
        "dp = [0] * (n+1)"
      ],
      "metadata": {
        "id": "TBWJkau1kaep"
      },
      "execution_count": 4,
      "outputs": []
    },
    {
      "cell_type": "code",
      "source": [
        "dp[1] = 1\n",
        "dp[2] = 3"
      ],
      "metadata": {
        "id": "5hzG4b0Xk7lu"
      },
      "execution_count": 5,
      "outputs": []
    },
    {
      "cell_type": "code",
      "source": [
        "if n >= 3:\n",
        "    for i in range(3,n+1):\n",
        "        dp[i] = (dp[i-1] + 2 * dp[i-2]) % 10007"
      ],
      "metadata": {
        "id": "AhhP3xpNlBWa"
      },
      "execution_count": 8,
      "outputs": []
    },
    {
      "cell_type": "code",
      "source": [
        "print(dp[-1])"
      ],
      "metadata": {
        "colab": {
          "base_uri": "https://localhost:8080/"
        },
        "id": "mrVuuzR6li3I",
        "outputId": "dec90314-fbc4-4655-d354-1edd01af12bd"
      },
      "execution_count": 10,
      "outputs": [
        {
          "output_type": "stream",
          "name": "stdout",
          "text": [
            "171\n"
          ]
        }
      ]
    },
    {
      "cell_type": "markdown",
      "source": [
        "1차 제출본"
      ],
      "metadata": {
        "id": "Qkm5PUErlszw"
      }
    },
    {
      "cell_type": "code",
      "source": [
        "import sys\n",
        "#input = sys.stdin.readline\n",
        "\n",
        "n = int(input())\n",
        "\n",
        "if n == 1:\n",
        "    print(1)\n",
        "else:\n",
        "    dp = [0] * (n+1)\n",
        "    dp[1] = 1\n",
        "    dp[2] = 3\n",
        "\n",
        "    if n >= 3:\n",
        "        for i in range(3,n+1):\n",
        "            dp[i] = (dp[i-1] + 2 * dp[i-2]) % 10007\n",
        "\n",
        "    print(dp[-1])"
      ],
      "metadata": {
        "colab": {
          "base_uri": "https://localhost:8080/"
        },
        "id": "PaDI_AT2lsXw",
        "outputId": "c371b047-1f51-475f-eb9e-c9585624b01b"
      },
      "execution_count": 18,
      "outputs": [
        {
          "output_type": "stream",
          "name": "stdout",
          "text": [
            "12\n",
            "2731\n"
          ]
        }
      ]
    }
  ]
}

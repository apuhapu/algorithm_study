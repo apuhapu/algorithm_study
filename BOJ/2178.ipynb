{
  "nbformat": 4,
  "nbformat_minor": 0,
  "metadata": {
    "colab": {
      "name": "2178.ipynb",
      "provenance": [],
      "authorship_tag": "ABX9TyO27bUDOhsNvw5zf0C5IXcD",
      "include_colab_link": true
    },
    "kernelspec": {
      "name": "python3",
      "display_name": "Python 3"
    },
    "language_info": {
      "name": "python"
    }
  },
  "cells": [
    {
      "cell_type": "markdown",
      "metadata": {
        "id": "view-in-github",
        "colab_type": "text"
      },
      "source": [
        "<a href=\"https://colab.research.google.com/github/apuhapu/algorithm_study/blob/main/2178.ipynb\" target=\"_parent\"><img src=\"https://colab.research.google.com/assets/colab-badge.svg\" alt=\"Open In Colab\"/></a>"
      ]
    },
    {
      "cell_type": "markdown",
      "source": [
        "https://www.acmicpc.net/problem/2178"
      ],
      "metadata": {
        "id": "JvgDwRVVUBSG"
      }
    },
    {
      "cell_type": "code",
      "execution_count": 8,
      "metadata": {
        "colab": {
          "base_uri": "https://localhost:8080/"
        },
        "id": "-JmZrklsTsPg",
        "outputId": "45b46a4a-6816-4681-a7c6-0c028442bd4d"
      },
      "outputs": [
        {
          "name": "stdout",
          "output_type": "stream",
          "text": [
            "4 6\n",
            "101111\n",
            "101010\n",
            "101011\n",
            "111011\n"
          ]
        }
      ],
      "source": [
        "# import sys\n",
        "# input =  sys.stdin.readline\n",
        "n, m = map(int, input().rstrip().split())\n",
        "maze = []\n",
        "for i in range(n):\n",
        "    x = str(input().rstrip())\n",
        "    maze.append(list(map(int, x)))"
      ]
    },
    {
      "cell_type": "code",
      "source": [
        "for i in maze:\n",
        "    print(i)"
      ],
      "metadata": {
        "colab": {
          "base_uri": "https://localhost:8080/"
        },
        "id": "_nchTwv3XtQF",
        "outputId": "04ef0844-2439-4892-c02c-e6567c65a534"
      },
      "execution_count": 9,
      "outputs": [
        {
          "output_type": "stream",
          "name": "stdout",
          "text": [
            "[1, 0, 1, 1, 1, 1]\n",
            "[1, 0, 1, 0, 1, 0]\n",
            "[1, 0, 1, 0, 1, 1]\n",
            "[1, 1, 1, 0, 1, 1]\n"
          ]
        }
      ]
    },
    {
      "cell_type": "code",
      "source": [
        "def isinside(r,c):\n",
        "    if r >= 0 and r < n and c >= 0 and c < m:\n",
        "        return True\n",
        "    else:\n",
        "        return False"
      ],
      "metadata": {
        "id": "yytVpV8ZaQ_T"
      },
      "execution_count": 13,
      "outputs": []
    },
    {
      "cell_type": "code",
      "source": [
        "dr = [1,-1,0,0]\n",
        "dc = [0,0,1,-1]"
      ],
      "metadata": {
        "id": "OocdPUUlX-2M"
      },
      "execution_count": 10,
      "outputs": []
    },
    {
      "cell_type": "code",
      "source": [
        "from collections import deque\n",
        "deq = deque([(0,0)])"
      ],
      "metadata": {
        "id": "VjrqjS4BZAGi"
      },
      "execution_count": 32,
      "outputs": []
    },
    {
      "cell_type": "code",
      "source": [
        "visited = [[0]*m for _ in range(n)]\n",
        "visited[0][0] = 1"
      ],
      "metadata": {
        "id": "5p3e2URCdJ1z"
      },
      "execution_count": 33,
      "outputs": []
    },
    {
      "cell_type": "code",
      "source": [
        "def bfs():\n",
        "    while deq:\n",
        "        r, c = deq.popleft()\n",
        "        for i, j in zip(dr,dc):\n",
        "            ri = r + i\n",
        "            cj = c + j\n",
        "            if isinside(ri, cj):\n",
        "                if maze[ri][cj] and visited[ri][cj] == 0:\n",
        "                    visited[ri][cj] = visited[r][c] + 1\n",
        "                    if ri == n - 1 and cj == m - 1:\n",
        "                        break\n",
        "                    deq.append((ri,cj))"
      ],
      "metadata": {
        "id": "O6YBJWT-YzHH"
      },
      "execution_count": 34,
      "outputs": []
    },
    {
      "cell_type": "code",
      "source": [
        "bfs()\n",
        "print(visited[n - 1][m - 1])"
      ],
      "metadata": {
        "colab": {
          "base_uri": "https://localhost:8080/"
        },
        "id": "ALREcjsTbS8C",
        "outputId": "8a7989ec-2621-4c69-9a0e-888e5ba0aaa0"
      },
      "execution_count": 35,
      "outputs": [
        {
          "output_type": "stream",
          "name": "stdout",
          "text": [
            "15\n"
          ]
        }
      ]
    },
    {
      "cell_type": "code",
      "source": [
        "for i in visited:\n",
        "    print(i)"
      ],
      "metadata": {
        "colab": {
          "base_uri": "https://localhost:8080/"
        },
        "id": "NrTe-b7QdCbl",
        "outputId": "a5f4f80b-45f6-476a-cbc8-8be2a264887d"
      },
      "execution_count": 37,
      "outputs": [
        {
          "output_type": "stream",
          "name": "stdout",
          "text": [
            "[1, 0, 9, 10, 11, 12]\n",
            "[2, 0, 8, 0, 12, 0]\n",
            "[3, 0, 7, 0, 13, 14]\n",
            "[4, 5, 6, 0, 14, 15]\n"
          ]
        }
      ]
    },
    {
      "cell_type": "code",
      "source": [
        "import sys\n",
        "input =  sys.stdin.readline\n",
        "\n",
        "# 입력\n",
        "n, m = map(int, input().rstrip().split())\n",
        "maze = []\n",
        "for i in range(n):\n",
        "    x = str(input().rstrip())\n",
        "    maze.append(list(map(int, x)))\n",
        "\n",
        "# 내부 판단 함수\n",
        "def isinside(r,c):\n",
        "    if r >= 0 and r < n and c >= 0 and c < m:\n",
        "        return True\n",
        "    else:\n",
        "        return False\n",
        "\n",
        "dr = [1,-1,0,0]\n",
        "dc = [0,0,1,-1]\n",
        "\n",
        "# 덱 선언\n",
        "from collections import deque\n",
        "deq = deque([(0,0)])\n",
        "\n",
        "visited = [[0]*m for _ in range(n)]\n",
        "visited[0][0] = 1\n",
        "\n",
        "def bfs():\n",
        "    while deq:\n",
        "        r, c = deq.popleft()\n",
        "        for i, j in zip(dr,dc):\n",
        "            ri = r + i\n",
        "            cj = c + j\n",
        "            if isinside(ri, cj):\n",
        "                if maze[ri][cj] and visited[ri][cj] == 0:\n",
        "                    visited[ri][cj] = visited[r][c] + 1\n",
        "                    if ri == n - 1 and cj == m - 1:\n",
        "                        break\n",
        "                    deq.append((ri,cj))\n",
        "\n",
        "bfs()\n",
        "print(visited[n - 1][m - 1])"
      ],
      "metadata": {
        "id": "l8edU7nydg7i"
      },
      "execution_count": null,
      "outputs": []
    }
  ]
}

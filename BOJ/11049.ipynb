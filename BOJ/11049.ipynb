{
  "nbformat": 4,
  "nbformat_minor": 0,
  "metadata": {
    "colab": {
      "provenance": [],
      "authorship_tag": "ABX9TyNpP1RBkNRUwbOTVLH6mxh1",
      "include_colab_link": true
    },
    "kernelspec": {
      "name": "python3",
      "display_name": "Python 3"
    },
    "language_info": {
      "name": "python"
    }
  },
  "cells": [
    {
      "cell_type": "markdown",
      "metadata": {
        "id": "view-in-github",
        "colab_type": "text"
      },
      "source": [
        "<a href=\"https://colab.research.google.com/github/apuhapu/algorithm_study/blob/main/BOJ/11049.ipynb\" target=\"_parent\"><img src=\"https://colab.research.google.com/assets/colab-badge.svg\" alt=\"Open In Colab\"/></a>"
      ]
    },
    {
      "cell_type": "markdown",
      "source": [
        "https://www.acmicpc.net/problem/11049"
      ],
      "metadata": {
        "id": "xlheKMmYsxBM"
      }
    },
    {
      "cell_type": "code",
      "execution_count": 1,
      "metadata": {
        "id": "0DldzbwinUjf"
      },
      "outputs": [],
      "source": [
        "def num_oper(t1,t2):\n",
        "    r1, c1 = t1\n",
        "    r2, c2 = t2\n",
        "    return r1*r2*c2"
      ]
    },
    {
      "cell_type": "code",
      "source": [
        "def fn_compare(a,b):\n",
        "    if a == 0:\n",
        "        return b\n",
        "    elif b == 0:\n",
        "        return a\n",
        "    else:\n",
        "        return min(a,b)"
      ],
      "metadata": {
        "id": "R7jE2I4BvEpp"
      },
      "execution_count": 9,
      "outputs": []
    },
    {
      "cell_type": "code",
      "source": [
        "n = int(input())\n",
        "mat_sizes = []\n",
        "for _ in range(n):\n",
        "    a, b = map(int, input().rstrip().split())\n",
        "    mat_sizes.append((a,b))"
      ],
      "metadata": {
        "colab": {
          "base_uri": "https://localhost:8080/"
        },
        "id": "AN3e8siDtYwv",
        "outputId": "1e82b074-086e-4d82-8182-7a94d4a190fc"
      },
      "execution_count": 2,
      "outputs": [
        {
          "name": "stdout",
          "output_type": "stream",
          "text": [
            "3\n",
            "5 3\n",
            "3 2\n",
            "2 6\n"
          ]
        }
      ]
    },
    {
      "cell_type": "code",
      "source": [
        "dp = [[0]*(n-i) for i in range(n)]"
      ],
      "metadata": {
        "id": "h8BExas6tvQ7"
      },
      "execution_count": 6,
      "outputs": []
    },
    {
      "cell_type": "code",
      "source": [
        "for i in range(n-1):\n",
        "    dp[1][i] = num_oper(mat_sizes[i], mat_sizes[i+1])"
      ],
      "metadata": {
        "id": "QmOlL6K9tzcN"
      },
      "execution_count": 7,
      "outputs": []
    },
    {
      "cell_type": "code",
      "source": [
        "dp"
      ],
      "metadata": {
        "colab": {
          "base_uri": "https://localhost:8080/"
        },
        "id": "kvqVzhR8uC6j",
        "outputId": "9ca77b5f-deba-499c-dacb-106f05a94deb"
      },
      "execution_count": 8,
      "outputs": [
        {
          "output_type": "execute_result",
          "data": {
            "text/plain": [
              "[[0, 0, 0], [30, 36], [0]]"
            ]
          },
          "metadata": {},
          "execution_count": 8
        }
      ]
    },
    {
      "cell_type": "code",
      "source": [
        "for d in range(2,n):  # dp's row >> diff\n",
        "    for i in range(n-d):  # dp's col >> start mat idx\n",
        "        for k in range(d):  # sub mat split idx\n",
        "            l_mat = (mat_sizes[i][0], mat_sizes[i+k][1])\n",
        "            r_mat = (mat_sizes[i+k+1][0], mat_sizes[i+d][1])\n",
        "            temp = dp[k][i] + dp[d-1-k][i+1+k] + num_oper(l_mat, r_mat)\n",
        "            dp[d][i] = fn_compare(dp[d][i], temp)"
      ],
      "metadata": {
        "id": "hkvnMHrNuLLa"
      },
      "execution_count": 10,
      "outputs": []
    },
    {
      "cell_type": "code",
      "source": [
        "print(dp[-1][0])"
      ],
      "metadata": {
        "colab": {
          "base_uri": "https://localhost:8080/"
        },
        "id": "SjkjhdFgxg1s",
        "outputId": "548693bb-df8c-4383-b451-0bd8166e86cb"
      },
      "execution_count": 11,
      "outputs": [
        {
          "output_type": "stream",
          "name": "stdout",
          "text": [
            "90\n"
          ]
        }
      ]
    },
    {
      "cell_type": "markdown",
      "source": [
        "1차 제출"
      ],
      "metadata": {
        "id": "jvedkHJ6yQgR"
      }
    },
    {
      "cell_type": "code",
      "source": [
        "import sys\n",
        "input = sys.stdin.readline\n",
        "\n",
        "def num_oper(t1,t2):  # cal num of mat mult oper\n",
        "    r1, c1 = t1\n",
        "    r2, c2 = t2\n",
        "    return r1*r2*c2\n",
        "\n",
        "def fn_compare(a,b):\n",
        "    if a == 0:\n",
        "        return b\n",
        "    elif b == 0:\n",
        "        return a\n",
        "    else:\n",
        "        return min(a,b)\n",
        "\n",
        "n = int(input())\n",
        "mat_sizes = []\n",
        "for _ in range(n):\n",
        "    a, b = map(int, input().rstrip().split())\n",
        "    mat_sizes.append((a,b))\n",
        "\n",
        "dp = [[0]*(n-i) for i in range(n)]  # row : diff // col = start idx\n",
        "\n",
        "for i in range(n-1):\n",
        "    dp[1][i] = num_oper(mat_sizes[i], mat_sizes[i+1])\n",
        "\n",
        "for d in range(2,n):  # dp's row >> diff\n",
        "    for i in range(n-d):  # dp's col >> start mat idx\n",
        "        for k in range(d):  # sub mat split idx\n",
        "            l_mat = (mat_sizes[i][0], mat_sizes[i+k][1])\n",
        "            r_mat = (mat_sizes[i+k+1][0], mat_sizes[i+d][1])\n",
        "            temp = dp[k][i] + dp[d-1-k][i+1+k] + num_oper(l_mat, r_mat)\n",
        "            dp[d][i] = fn_compare(dp[d][i], temp)\n",
        "\n",
        "print(dp[-1][0])"
      ],
      "metadata": {
        "colab": {
          "base_uri": "https://localhost:8080/"
        },
        "id": "OlxZFHkFySIu",
        "outputId": "d2d13f2f-3610-4861-9c9f-7412633c1069"
      },
      "execution_count": 12,
      "outputs": [
        {
          "output_type": "stream",
          "name": "stdout",
          "text": [
            "5\n",
            "1 10\n",
            "10 1\n",
            "1 10\n",
            "10 1\n",
            "1 10\n",
            "31\n"
          ]
        }
      ]
    }
  ]
}
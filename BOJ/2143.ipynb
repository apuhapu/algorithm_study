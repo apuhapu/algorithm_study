{
  "nbformat": 4,
  "nbformat_minor": 0,
  "metadata": {
    "colab": {
      "provenance": [],
      "authorship_tag": "ABX9TyPpIFt9OGyFQ6CgIs9GZZCG",
      "include_colab_link": true
    },
    "kernelspec": {
      "name": "python3",
      "display_name": "Python 3"
    },
    "language_info": {
      "name": "python"
    }
  },
  "cells": [
    {
      "cell_type": "markdown",
      "metadata": {
        "id": "view-in-github",
        "colab_type": "text"
      },
      "source": [
        "<a href=\"https://colab.research.google.com/github/apuhapu/algorithm_study/blob/main/BOJ/2143.ipynb\" target=\"_parent\"><img src=\"https://colab.research.google.com/assets/colab-badge.svg\" alt=\"Open In Colab\"/></a>"
      ]
    },
    {
      "cell_type": "markdown",
      "source": [
        "https://www.acmicpc.net/problem/2143"
      ],
      "metadata": {
        "id": "25kCWYQv8tb6"
      }
    },
    {
      "cell_type": "markdown",
      "source": [
        "A 배열의 모든 부분합을 고려하여 T와의 차를 sum으로 갖는 B의 subset을 two pointer를 사용하여 찾기\n",
        "\n",
        "각 배열의 크기가 1000미만으로 최대 10억번 비교가 일어날 것으로 예상 (A의 모든 부분합 고려 n**2 * B의 subset 찾기 n)"
      ],
      "metadata": {
        "id": "xIor9Tvu8yD5"
      }
    },
    {
      "cell_type": "code",
      "execution_count": 1,
      "metadata": {
        "colab": {
          "base_uri": "https://localhost:8080/"
        },
        "id": "2ps6LsVf5Txa",
        "outputId": "1fa1ae78-17b9-4f9d-c0d5-b594c116baef"
      },
      "outputs": [
        {
          "name": "stdout",
          "output_type": "stream",
          "text": [
            "5\n",
            "4\n",
            "1 3 1 2\n",
            "3\n",
            "1 3 2\n"
          ]
        }
      ],
      "source": [
        "t = int(input())\n",
        "n = int(input())\n",
        "A = list(map(int, input().rstrip().split()))\n",
        "m = int(input())\n",
        "B = list(map(int, input().rstrip().split()))"
      ]
    },
    {
      "cell_type": "code",
      "source": [
        "cnt = 0"
      ],
      "metadata": {
        "id": "S8J6VrSm-wDq"
      },
      "execution_count": 30,
      "outputs": []
    },
    {
      "cell_type": "code",
      "source": [
        "def add_1m(a):\n",
        "    return a+1000000"
      ],
      "metadata": {
        "id": "n2nhn97FEFcT"
      },
      "execution_count": 17,
      "outputs": []
    },
    {
      "cell_type": "code",
      "source": [
        "print(list(map(add_1m,B)))"
      ],
      "metadata": {
        "colab": {
          "base_uri": "https://localhost:8080/"
        },
        "id": "rtWWxMLdEU8g",
        "outputId": "55d7768c-fe2c-41d7-9ba2-e0d44504dfed"
      },
      "execution_count": 19,
      "outputs": [
        {
          "output_type": "stream",
          "name": "stdout",
          "text": [
            "[1000001, 1000003, 1000002]\n"
          ]
        }
      ]
    },
    {
      "cell_type": "code",
      "source": [
        "def find_subset(s):\n",
        "    global cnt\n",
        "    B_prime = list(map(add_1m,B))     # 음수가 있으면 투 포인터 활용 불가능\n",
        "    start = 0\n",
        "    end = 0\n",
        "    b_sum = B_prime[end]\n",
        "    while end < len(B_prime):\n",
        "        if b_sum == s + (1000000 * (1+end-start)):\n",
        "            cnt += 1\n",
        "            start += 1\n",
        "            end += 1\n",
        "            if end >= len(B_prime):\n",
        "                break\n",
        "            b_sum += B_prime[end] - B_prime[start-1]\n",
        "\n",
        "        elif b_sum < s + (1000000 * (1+end-start)):\n",
        "            end += 1\n",
        "            if end >= len(B_prime):\n",
        "                break\n",
        "            b_sum += B_prime[end]\n",
        "\n",
        "        else:\n",
        "            if start<end:\n",
        "                start += 1\n",
        "                b_sum -= B_prime[start-1]\n",
        "            else:\n",
        "                start += 1\n",
        "                end += 1\n",
        "                if end >= len(B_prime):\n",
        "                    break\n",
        "                b_sum += B_prime[end] - B_prime[start-1]"
      ],
      "metadata": {
        "id": "WjoZQCTs-9nO"
      },
      "execution_count": 27,
      "outputs": []
    },
    {
      "cell_type": "code",
      "source": [
        "for a_start in range(n):\n",
        "    a_sum = 0\n",
        "    for a_end in range(a_start,n):\n",
        "        a_sum += A[a_end]\n",
        "        temp = t - a_sum\n",
        "        find_subset(temp)"
      ],
      "metadata": {
        "id": "JWeX6zvM91_A"
      },
      "execution_count": 33,
      "outputs": []
    },
    {
      "cell_type": "code",
      "source": [
        "cnt"
      ],
      "metadata": {
        "colab": {
          "base_uri": "https://localhost:8080/"
        },
        "id": "5IFDOltuCtF3",
        "outputId": "7e4b4a65-6527-468d-c7ec-8938de30f5ce"
      },
      "execution_count": 32,
      "outputs": [
        {
          "output_type": "execute_result",
          "data": {
            "text/plain": [
              "7"
            ]
          },
          "metadata": {},
          "execution_count": 32
        }
      ]
    },
    {
      "cell_type": "markdown",
      "source": [
        "1차"
      ],
      "metadata": {
        "id": "A5FSWajKICab"
      }
    },
    {
      "cell_type": "code",
      "source": [
        "import sys\n",
        "# input = sys.stdin.readline\n",
        "\n",
        "def add_1m(a):\n",
        "    return a+1000000\n",
        "\n",
        "def find_subset(s):\n",
        "    global cnt\n",
        "    B_prime = list(map(add_1m,B))     # 음수가 있으면 투 포인터 활용 불가능\n",
        "    start = 0\n",
        "    end = 0\n",
        "    b_sum = B_prime[end]\n",
        "    while end < len(B_prime):\n",
        "        if b_sum == s + (1000000 * (1+end-start)):\n",
        "            cnt += 1\n",
        "            start += 1\n",
        "            end += 1\n",
        "            if end >= len(B_prime):\n",
        "                break\n",
        "            b_sum += B_prime[end] - B_prime[start-1]\n",
        "\n",
        "        elif b_sum < s + (1000000 * (1+end-start)):\n",
        "            end += 1\n",
        "            if end >= len(B_prime):\n",
        "                break\n",
        "            b_sum += B_prime[end]\n",
        "\n",
        "        else:\n",
        "            if start<end:\n",
        "                start += 1\n",
        "                b_sum -= B_prime[start-1]\n",
        "            else:\n",
        "                start += 1\n",
        "                end += 1\n",
        "                if end >= len(B_prime):\n",
        "                    break\n",
        "                b_sum += B_prime[end] - B_prime[start-1]\n",
        "\n",
        "t = int(input())\n",
        "n = int(input())\n",
        "A = list(map(int, input().rstrip().split()))\n",
        "m = int(input())\n",
        "B = list(map(int, input().rstrip().split()))\n",
        "\n",
        "cnt = 0\n",
        "\n",
        "for a_start in range(n):\n",
        "    a_sum = 0\n",
        "    for a_end in range(a_start,n):\n",
        "        a_sum += A[a_end]\n",
        "        temp = t - a_sum\n",
        "        find_subset(temp)\n",
        "\n",
        "print(cnt)"
      ],
      "metadata": {
        "colab": {
          "base_uri": "https://localhost:8080/"
        },
        "id": "V2ht0ImyIF1F",
        "outputId": "c5c390bf-60dc-45c8-a0eb-383561613187"
      },
      "execution_count": 35,
      "outputs": [
        {
          "output_type": "stream",
          "name": "stdout",
          "text": [
            "10\n",
            "2\n",
            "-15 5\n",
            "3\n",
            "-5 5 10\n",
            "0\n"
          ]
        }
      ]
    },
    {
      "cell_type": "markdown",
      "source": [
        "단순히 음수를 cordinate 변환으로 구할려 했으나 위와 같은 오류 발생 >> 투포인터를 양수+음수에 활용 불가능"
      ],
      "metadata": {
        "id": "3OTTLZQoOd1K"
      }
    },
    {
      "cell_type": "markdown",
      "source": [
        "A와 B의 부분합의 경우를 모두 저장한 다음 B의 부분합을 정렬 후 bound를 확인하는 방법으로 cnt"
      ],
      "metadata": {
        "id": "WkTALHAAQhui"
      }
    },
    {
      "cell_type": "code",
      "source": [
        "B_prime = []\n",
        "for b_start in range(m):\n",
        "    b_sum = 0\n",
        "    for b_end in range(b_start,m):\n",
        "        b_sum += B[b_end]\n",
        "        B_prime.append(b_sum)"
      ],
      "metadata": {
        "id": "vOXsEzR8SKeW"
      },
      "execution_count": 38,
      "outputs": []
    },
    {
      "cell_type": "code",
      "source": [
        "B_prime.sort()"
      ],
      "metadata": {
        "id": "A_xSOSEVSdFu"
      },
      "execution_count": 40,
      "outputs": []
    },
    {
      "cell_type": "code",
      "source": [
        "B_prime"
      ],
      "metadata": {
        "colab": {
          "base_uri": "https://localhost:8080/"
        },
        "id": "Bzcv4pidSrWd",
        "outputId": "d84aee85-1ea5-4156-ed42-2f333bcca217"
      },
      "execution_count": 49,
      "outputs": [
        {
          "output_type": "execute_result",
          "data": {
            "text/plain": [
              "[-5, 0, 5, 10, 10, 15]"
            ]
          },
          "metadata": {},
          "execution_count": 49
        }
      ]
    },
    {
      "cell_type": "code",
      "source": [
        "print([n for n in range(20)])"
      ],
      "metadata": {
        "colab": {
          "base_uri": "https://localhost:8080/"
        },
        "id": "rKXWJuQtUy-8",
        "outputId": "37a75690-7026-4e9a-ed9f-0239122a4903"
      },
      "execution_count": 42,
      "outputs": [
        {
          "output_type": "stream",
          "name": "stdout",
          "text": [
            "[0, 1, 2, 3, 4, 5, 6, 7, 8, 9, 10, 11, 12, 13, 14, 15, 16, 17, 18, 19]\n"
          ]
        }
      ]
    },
    {
      "cell_type": "code",
      "source": [
        "find_num(7)"
      ],
      "metadata": {
        "colab": {
          "base_uri": "https://localhost:8080/"
        },
        "id": "hQnFUgKOVIkc",
        "outputId": "f9cb9a66-846c-41a7-879d-95b01e906bd6"
      },
      "execution_count": 75,
      "outputs": [
        {
          "output_type": "execute_result",
          "data": {
            "text/plain": [
              "0"
            ]
          },
          "metadata": {},
          "execution_count": 75
        }
      ]
    },
    {
      "cell_type": "code",
      "source": [
        "def find_num(num):\n",
        "    global cnt\n",
        "    l = len(B_prime)\n",
        "\n",
        "    s = 0\n",
        "    e = l\n",
        "    # find loweridx\n",
        "    while s < e:\n",
        "        mid = (s+e)//2\n",
        "        if B_prime[mid] < num:\n",
        "            s = mid + 1\n",
        "        else:\n",
        "            e = mid\n",
        "    else:\n",
        "        lower_idx = e\n",
        "\n",
        "    s = 0\n",
        "    e = l\n",
        "    # find upperidx\n",
        "    while s < e:\n",
        "        mid = (s+e)//2\n",
        "        if B_prime[mid] <= num:\n",
        "            s = mid + 1\n",
        "        else:\n",
        "            e = mid\n",
        "    else:\n",
        "        upper_idx = s\n",
        "    \n",
        "    return upper_idx - lower_idx"
      ],
      "metadata": {
        "id": "xwtwWsi6Svii"
      },
      "execution_count": 73,
      "outputs": []
    },
    {
      "cell_type": "code",
      "source": [
        "cnt = 0\n",
        "for a_start in range(n):\n",
        "    a_sum = 0\n",
        "    for a_end in range(a_start,n):\n",
        "        a_sum += A[a_end]\n",
        "        temp = t - a_sum\n",
        "        cnt += find_num(temp)"
      ],
      "metadata": {
        "id": "iNIK2Q2DR8Pf"
      },
      "execution_count": 76,
      "outputs": []
    },
    {
      "cell_type": "code",
      "source": [
        "cnt"
      ],
      "metadata": {
        "colab": {
          "base_uri": "https://localhost:8080/"
        },
        "id": "_3EWsjQoyEA9",
        "outputId": "26c03fd4-bdd4-44c1-9013-0e8deda8cdbc"
      },
      "execution_count": 77,
      "outputs": [
        {
          "output_type": "execute_result",
          "data": {
            "text/plain": [
              "1"
            ]
          },
          "metadata": {},
          "execution_count": 77
        }
      ]
    },
    {
      "cell_type": "markdown",
      "source": [
        "2차"
      ],
      "metadata": {
        "id": "4gTAoN9uyeNd"
      }
    },
    {
      "cell_type": "code",
      "source": [
        "import sys\n",
        "# input = sys.stdin.readline\n",
        "\n",
        "def find_num(num):\n",
        "    global cnt\n",
        "    l = len(B_prime)\n",
        "\n",
        "    s = 0\n",
        "    e = l\n",
        "    # find loweridx\n",
        "    while s < e:\n",
        "        mid = (s+e)//2\n",
        "        if B_prime[mid] < num:\n",
        "            s = mid + 1\n",
        "        else:\n",
        "            e = mid\n",
        "    else:\n",
        "        lower_idx = e\n",
        "\n",
        "    s = 0\n",
        "    e = l\n",
        "    # find upperidx\n",
        "    while s < e:\n",
        "        mid = (s+e)//2\n",
        "        if B_prime[mid] <= num:\n",
        "            s = mid + 1\n",
        "        else:\n",
        "            e = mid\n",
        "    else:\n",
        "        upper_idx = s\n",
        "    \n",
        "    return upper_idx - lower_idx\n",
        "\n",
        "t = int(input())\n",
        "n = int(input())\n",
        "A = list(map(int, input().rstrip().split()))\n",
        "m = int(input())\n",
        "B = list(map(int, input().rstrip().split()))\n",
        "\n",
        "B_prime = []\n",
        "for b_start in range(m):\n",
        "    b_sum = 0\n",
        "    for b_end in range(b_start,m):\n",
        "        b_sum += B[b_end]\n",
        "        B_prime.append(b_sum)\n",
        "\n",
        "B_prime.sort()\n",
        "\n",
        "cnt = 0\n",
        "for a_start in range(n):\n",
        "    a_sum = 0\n",
        "    for a_end in range(a_start,n):\n",
        "        a_sum += A[a_end]\n",
        "        temp = t - a_sum\n",
        "        cnt += find_num(temp)\n",
        "\n",
        "print(cnt)"
      ],
      "metadata": {
        "colab": {
          "base_uri": "https://localhost:8080/"
        },
        "id": "d0QQF4lvyeDM",
        "outputId": "48feb578-ef6e-484b-eb3b-6ffeaf3524f5"
      },
      "execution_count": 79,
      "outputs": [
        {
          "output_type": "stream",
          "name": "stdout",
          "text": [
            "5\n",
            "4\n",
            "1 3 1 2\n",
            "3\n",
            "1 3 2\n",
            "7\n"
          ]
        }
      ]
    },
    {
      "cell_type": "markdown",
      "source": [
        "통과"
      ],
      "metadata": {
        "id": "GjA5dNCwzIsx"
      }
    }
  ]
}
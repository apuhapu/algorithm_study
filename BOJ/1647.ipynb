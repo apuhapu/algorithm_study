{
  "nbformat": 4,
  "nbformat_minor": 0,
  "metadata": {
    "colab": {
      "provenance": [],
      "authorship_tag": "ABX9TyNPJn7aBqA9DT/+q+1YbmPe",
      "include_colab_link": true
    },
    "kernelspec": {
      "name": "python3",
      "display_name": "Python 3"
    },
    "language_info": {
      "name": "python"
    }
  },
  "cells": [
    {
      "cell_type": "markdown",
      "metadata": {
        "id": "view-in-github",
        "colab_type": "text"
      },
      "source": [
        "<a href=\"https://colab.research.google.com/github/apuhapu/algorithm_study/blob/main/BOJ/1647.ipynb\" target=\"_parent\"><img src=\"https://colab.research.google.com/assets/colab-badge.svg\" alt=\"Open In Colab\"/></a>"
      ]
    },
    {
      "cell_type": "markdown",
      "source": [
        "https://www.acmicpc.net/problem/1647"
      ],
      "metadata": {
        "id": "RqAxm9xCcDCv"
      }
    },
    {
      "cell_type": "markdown",
      "source": [
        "기존 kruskal 알고리즘에서 edge 수를 1개 감소시키면 두 개의 마을을 만들 수 있다."
      ],
      "metadata": {
        "id": "hqSUrpUNcYvV"
      }
    },
    {
      "cell_type": "code",
      "execution_count": null,
      "metadata": {
        "id": "TX_fkMhRb6hK"
      },
      "outputs": [],
      "source": [
        "import sys\n",
        "import heapq as hq\n",
        "# input = sys.stdin.readline\n",
        "\n",
        "def kruskal():\n",
        "    nodes = [None]*(v+1)\n",
        "    cntNode = 0\n",
        "    cntWeight = 0\n",
        "    while cntNode < v-2:\n",
        "        w, a, b = hq.heappop(edges)\n",
        "        # 사이클 생성 여부 확인\n",
        "        if nodes[a] == None:\n",
        "            cntNode += 1\n",
        "            cntWeight += w\n",
        "            # nodes 갱신\n",
        "            if nodes[b] == None:\n",
        "                nodes[a], nodes[b] = a, a\n",
        "            else:\n",
        "                nodes[a] = nodes[b]\n",
        "        else:\n",
        "            if nodes[b] == None:\n",
        "                cntNode += 1\n",
        "                cntWeight += w\n",
        "                nodes[b] = nodes[a]\n",
        "            else:\n",
        "                if nodes[a] == nodes[b]:  # 사이클 발생\n",
        "                    pass\n",
        "                else: # 사이클 발생 X\n",
        "                    cntNode += 1\n",
        "                    cntWeight += w\n",
        "                    temp = nodes[b]\n",
        "                    for i in range(1,len(nodes)):\n",
        "                        if nodes[i] == temp:\n",
        "                            nodes[i] = nodes[a]\n",
        "    return cntWeight\n",
        "\n",
        "v, e = map(int, input().rstrip().split())\n",
        "edges = []  # (w,a,b)\n",
        "for _ in range(e):\n",
        "    a, b, c = map(int, input().rstrip().split())\n",
        "    hq.heappush(edges, (c,a,b))\n",
        "    \n",
        "print(kruskal())"
      ]
    },
    {
      "cell_type": "markdown",
      "source": [
        "기존 방법을 사용하면 시간초과가 발생한다\n",
        "\n",
        "v >> 2~100,000\n",
        "\n",
        "e >> 1~1,000,000"
      ],
      "metadata": {
        "id": "yMT7smZ0dv3a"
      }
    },
    {
      "cell_type": "code",
      "source": [
        "def findRoot(n):\n",
        "    if nodes[n] == n:\n",
        "        return n\n",
        "    else:\n",
        "        return findRoot(nodes[n])"
      ],
      "metadata": {
        "id": "d-grgNcjoDU_"
      },
      "execution_count": 1,
      "outputs": []
    },
    {
      "cell_type": "code",
      "source": [
        "def kruskal():\n",
        "    global nodes\n",
        "    nodes = [i for i in range(v+1)]\n",
        "    hights = [1] * (v+1)\n",
        "    cntNode = 0\n",
        "    cntWeight = 0\n",
        "    while cntNode < v-2:  # 마을을 두 부분으로 나눠야 하기 때문\n",
        "        w, a, b = hq.heappop(edges)\n",
        "        aa = findRoot(a)\n",
        "        bb = findRoot(b)\n",
        "        if aa == bb:  # arise cycle\n",
        "            pass\n",
        "        else:\n",
        "            cntNode += 1\n",
        "            cntWeight += w\n",
        "            if hights[aa] >= hights[bb]:\n",
        "                nodes[bb] = aa\n",
        "                hights[aa] += 1\n",
        "            else:\n",
        "                nodes[aa] = bb\n",
        "                hights[bb] += 1\n",
        "\n",
        "    return cntWeight"
      ],
      "metadata": {
        "id": "2VmHBw9YhYk9"
      },
      "execution_count": 7,
      "outputs": []
    },
    {
      "cell_type": "code",
      "source": [
        "import sys\n",
        "import heapq as hq"
      ],
      "metadata": {
        "id": "PZycS7HQrW3O"
      },
      "execution_count": 3,
      "outputs": []
    },
    {
      "cell_type": "code",
      "source": [
        "v, e = map(int, input().rstrip().split())\n",
        "edges = []  # (w,a,b)\n",
        "for _ in range(e):\n",
        "    a, b, c = map(int, input().rstrip().split())\n",
        "    hq.heappush(edges, (c,a,b))\n",
        "    \n",
        "print(kruskal())"
      ],
      "metadata": {
        "colab": {
          "base_uri": "https://localhost:8080/"
        },
        "id": "NyB6vUqirao0",
        "outputId": "baabac53-5a57-4a6e-c802-e469e63879ab"
      },
      "execution_count": 9,
      "outputs": [
        {
          "output_type": "stream",
          "name": "stdout",
          "text": [
            "7 12\n",
            "1 2 3\n",
            "1 3 2\n",
            "3 2 1\n",
            "2 5 2\n",
            "3 4 4\n",
            "7 3 6\n",
            "5 1 5\n",
            "1 6 2\n",
            "6 4 1\n",
            "6 5 3\n",
            "4 5 3\n",
            "6 7 4\n",
            "8\n"
          ]
        }
      ]
    },
    {
      "cell_type": "markdown",
      "source": [
        "집합의 깊이를 나타내는 hights 배열을 추가하여 높이를 비교하여 낮은 높이 트리를 하위 트리로 넣는 방법을 택하였고, 모든 배열을 root가 갱신될 때 마다 바꾸는 게 아닌 root만 변경하는 방식으로 시간복잡도를 줄였다."
      ],
      "metadata": {
        "id": "rv64ECZjtju8"
      }
    }
  ]
}
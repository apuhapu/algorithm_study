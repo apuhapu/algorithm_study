{
  "nbformat": 4,
  "nbformat_minor": 0,
  "metadata": {
    "colab": {
      "provenance": [],
      "authorship_tag": "ABX9TyNIjiLdZiR9Yr8gacQiGlOC",
      "include_colab_link": true
    },
    "kernelspec": {
      "name": "python3",
      "display_name": "Python 3"
    },
    "language_info": {
      "name": "python"
    }
  },
  "cells": [
    {
      "cell_type": "markdown",
      "metadata": {
        "id": "view-in-github",
        "colab_type": "text"
      },
      "source": [
        "<a href=\"https://colab.research.google.com/github/apuhapu/algorithm_study/blob/main/BOJ/1197.ipynb\" target=\"_parent\"><img src=\"https://colab.research.google.com/assets/colab-badge.svg\" alt=\"Open In Colab\"/></a>"
      ]
    },
    {
      "cell_type": "markdown",
      "source": [
        "https://www.acmicpc.net/problem/1197"
      ],
      "metadata": {
        "id": "JNujhlSIXbgv"
      }
    },
    {
      "cell_type": "markdown",
      "source": [
        "Kruskal Algorithm"
      ],
      "metadata": {
        "id": "1Qj5uCRmfrq3"
      }
    },
    {
      "cell_type": "code",
      "source": [
        "import sys\n",
        "import heapq as hq\n",
        "# input = sys.stdin.readline"
      ],
      "metadata": {
        "id": "DruHZ4jUX124"
      },
      "execution_count": 16,
      "outputs": []
    },
    {
      "cell_type": "code",
      "execution_count": 45,
      "metadata": {
        "colab": {
          "base_uri": "https://localhost:8080/"
        },
        "id": "gFssVuLtXXMV",
        "outputId": "ef629dc7-5705-4799-ee2c-605624793bd7"
      },
      "outputs": [
        {
          "name": "stdout",
          "output_type": "stream",
          "text": [
            "7 12\n",
            "1 2 3\n",
            "1 3 2\n",
            "3 2 1\n",
            "2 5 2\n",
            "3 4 4\n",
            "7 3 6\n",
            "5 1 5\n",
            "1 6 2\n",
            "6 4 1\n",
            "6 5 3\n",
            "4 5 3\n",
            "6 7 4\n"
          ]
        }
      ],
      "source": [
        "v, e = map(int, input().rstrip().split())\n",
        "edges = []  # (w,a,b)\n",
        "for _ in range(e):\n",
        "    a, b, c = map(int, input().rstrip().split())\n",
        "    hq.heappush(edges, (c,a,b))"
      ]
    },
    {
      "cell_type": "code",
      "source": [
        "edges"
      ],
      "metadata": {
        "colab": {
          "base_uri": "https://localhost:8080/"
        },
        "id": "-eE3jzNtZYfS",
        "outputId": "18660d73-cd60-462b-f4d9-c4efd3c3b9ba"
      },
      "execution_count": 43,
      "outputs": [
        {
          "output_type": "execute_result",
          "data": {
            "text/plain": [
              "[(2, 2, 3),\n",
              " (5, 1, 2),\n",
              " (3, 4, 5),\n",
              " (7, 2, 4),\n",
              " (6, 3, 4),\n",
              " (11, 3, 5),\n",
              " (4, 1, 3),\n",
              " (8, 4, 6),\n",
              " (8, 5, 6)]"
            ]
          },
          "metadata": {},
          "execution_count": 43
        }
      ]
    },
    {
      "cell_type": "code",
      "source": [
        "nodes = [i for i in range(v+1)]"
      ],
      "metadata": {
        "id": "WHgQBPIptLlV"
      },
      "execution_count": 49,
      "outputs": []
    },
    {
      "cell_type": "code",
      "source": [
        "nodes"
      ],
      "metadata": {
        "colab": {
          "base_uri": "https://localhost:8080/"
        },
        "id": "pfhPL7fntMik",
        "outputId": "174cbaf5-6a92-4e53-fea1-b67dee87e2bf"
      },
      "execution_count": 50,
      "outputs": [
        {
          "output_type": "execute_result",
          "data": {
            "text/plain": [
              "[0, 1, 2, 3, 4, 5, 6, 7]"
            ]
          },
          "metadata": {},
          "execution_count": 50
        }
      ]
    },
    {
      "cell_type": "code",
      "source": [
        "def kruskal():\n",
        "    nodes = [None]*(v+1)\n",
        "    cntNode = 0\n",
        "    cntWeight = 0\n",
        "    while cntNode < v-1:\n",
        "        w, a, b = hq.heappop(edges)\n",
        "        # 사이클 생성 여부 확인\n",
        "        if nodes[a] == None:\n",
        "            cntNode += 1\n",
        "            cntWeight += w\n",
        "            # nodes 갱신\n",
        "            if nodes[b] == None:\n",
        "                nodes[a], nodes[b] = a, a\n",
        "            else:\n",
        "                nodes[a] = nodes[b]\n",
        "        else:\n",
        "            if nodes[b] == None:\n",
        "                cntNode += 1\n",
        "                cntWeight += w\n",
        "                nodes[b] = nodes[a]\n",
        "            else:\n",
        "                if nodes[a] == nodes[b]:  # 사이클 발생\n",
        "                    pass\n",
        "                else: # 사이클 발생 X\n",
        "                    cntNode += 1\n",
        "                    cntWeight += w\n",
        "                    temp = nodes[b]\n",
        "                    for i in range(1,len(nodes)):\n",
        "                        if nodes[i] == temp:\n",
        "                            nodes[i] = nodes[a]\n",
        "    return cntWeight"
      ],
      "metadata": {
        "id": "MRSybHHcfeJe"
      },
      "execution_count": 51,
      "outputs": []
    },
    {
      "cell_type": "code",
      "source": [
        "print(kruskal())"
      ],
      "metadata": {
        "colab": {
          "base_uri": "https://localhost:8080/"
        },
        "id": "TYSLTK0MmC4s",
        "outputId": "762d640d-026f-4aee-9bb1-50812b94f2fc"
      },
      "execution_count": 46,
      "outputs": [
        {
          "output_type": "stream",
          "name": "stdout",
          "text": [
            "12\n"
          ]
        }
      ]
    }
  ]
}
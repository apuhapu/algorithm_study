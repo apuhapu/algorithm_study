{
  "nbformat": 4,
  "nbformat_minor": 0,
  "metadata": {
    "colab": {
      "provenance": [],
      "authorship_tag": "ABX9TyNKgtTIG4u8wYG9QQpAW+qq",
      "include_colab_link": true
    },
    "kernelspec": {
      "name": "python3",
      "display_name": "Python 3"
    },
    "language_info": {
      "name": "python"
    }
  },
  "cells": [
    {
      "cell_type": "markdown",
      "metadata": {
        "id": "view-in-github",
        "colab_type": "text"
      },
      "source": [
        "<a href=\"https://colab.research.google.com/github/apuhapu/algorithm_study/blob/main/BOJ/2342.ipynb\" target=\"_parent\"><img src=\"https://colab.research.google.com/assets/colab-badge.svg\" alt=\"Open In Colab\"/></a>"
      ]
    },
    {
      "cell_type": "markdown",
      "source": [
        "https://www.acmicpc.net/problem/2342"
      ],
      "metadata": {
        "id": "XGmgOOBbvUrl"
      }
    },
    {
      "cell_type": "code",
      "execution_count": 21,
      "metadata": {
        "colab": {
          "base_uri": "https://localhost:8080/"
        },
        "id": "DqV3wMLVvSRx",
        "outputId": "b5c0bb4d-4788-4285-bbea-b17e983b01c0"
      },
      "outputs": [
        {
          "name": "stdout",
          "output_type": "stream",
          "text": [
            "2 1 3 2 3 0\n"
          ]
        }
      ],
      "source": [
        "lst = list(map(int, input().rstrip().split()))"
      ]
    },
    {
      "cell_type": "code",
      "source": [
        "lst = lst[:-1]\n",
        "l = len(lst)\n",
        "print(lst)"
      ],
      "metadata": {
        "colab": {
          "base_uri": "https://localhost:8080/"
        },
        "id": "quBVS86YvhM5",
        "outputId": "ba480588-7af8-4013-c60a-d280d65d032f"
      },
      "execution_count": 22,
      "outputs": [
        {
          "output_type": "stream",
          "name": "stdout",
          "text": [
            "[2, 1, 3, 2, 3]\n"
          ]
        }
      ]
    },
    {
      "cell_type": "code",
      "source": [
        "dp = [[[0]*5 for _ in range(5)] for _ in range(l)]"
      ],
      "metadata": {
        "id": "y2xzzM_yvo_M"
      },
      "execution_count": 23,
      "outputs": []
    },
    {
      "cell_type": "code",
      "source": [
        "dp"
      ],
      "metadata": {
        "colab": {
          "base_uri": "https://localhost:8080/"
        },
        "id": "_c0lrKSiv9kx",
        "outputId": "1bdb7152-e979-4429-efaf-e82c4e69b730"
      },
      "execution_count": 24,
      "outputs": [
        {
          "output_type": "execute_result",
          "data": {
            "text/plain": [
              "[[[0, 0, 0, 0, 0],\n",
              "  [0, 0, 0, 0, 0],\n",
              "  [0, 0, 0, 0, 0],\n",
              "  [0, 0, 0, 0, 0],\n",
              "  [0, 0, 0, 0, 0]],\n",
              " [[0, 0, 0, 0, 0],\n",
              "  [0, 0, 0, 0, 0],\n",
              "  [0, 0, 0, 0, 0],\n",
              "  [0, 0, 0, 0, 0],\n",
              "  [0, 0, 0, 0, 0]],\n",
              " [[0, 0, 0, 0, 0],\n",
              "  [0, 0, 0, 0, 0],\n",
              "  [0, 0, 0, 0, 0],\n",
              "  [0, 0, 0, 0, 0],\n",
              "  [0, 0, 0, 0, 0]],\n",
              " [[0, 0, 0, 0, 0],\n",
              "  [0, 0, 0, 0, 0],\n",
              "  [0, 0, 0, 0, 0],\n",
              "  [0, 0, 0, 0, 0],\n",
              "  [0, 0, 0, 0, 0]],\n",
              " [[0, 0, 0, 0, 0],\n",
              "  [0, 0, 0, 0, 0],\n",
              "  [0, 0, 0, 0, 0],\n",
              "  [0, 0, 0, 0, 0],\n",
              "  [0, 0, 0, 0, 0]]]"
            ]
          },
          "metadata": {},
          "execution_count": 24
        }
      ]
    },
    {
      "cell_type": "code",
      "source": [
        "force = 0\n",
        "idx = 0"
      ],
      "metadata": {
        "id": "n9aldiJUwRsX"
      },
      "execution_count": 25,
      "outputs": []
    },
    {
      "cell_type": "code",
      "source": [
        "def fn_compare(a,b):\n",
        "    if b == 0:\n",
        "        return a\n",
        "    elif a == 0:\n",
        "        return b\n",
        "    else:\n",
        "        return min(a,b)"
      ],
      "metadata": {
        "id": "CfMEXwydxQrP"
      },
      "execution_count": 30,
      "outputs": []
    },
    {
      "cell_type": "code",
      "source": [
        "def fn_find_min(lst):\n",
        "    output = 0\n",
        "    for i in lst:\n",
        "        if i == 0:\n",
        "            continue\n",
        "        else:\n",
        "            output = fn_compare(i, output)\n",
        "    return output"
      ],
      "metadata": {
        "id": "IriybV0O1jI2"
      },
      "execution_count": 18,
      "outputs": []
    },
    {
      "cell_type": "code",
      "source": [
        "for elt in lst:\n",
        "    if idx == 0:\n",
        "        dp[idx][0][elt] = 2\n",
        "        dp[idx][elt][0] = 2\n",
        "    else:\n",
        "        for i in range(5):\n",
        "            for j in range(5):\n",
        "                if dp[idx-1][i][j] != 0:\n",
        "                    if i == elt or j == elt:  # 이동 X\n",
        "                        dp[idx][i][j] = fn_compare(dp[idx-1][i][j] + 1, dp[idx][i][j])\n",
        "                    elif i == 0: # 왼발이 원점\n",
        "                        dp[idx][i][elt] = fn_compare(dp[idx-1][i][j] + abs(j-elt) + 2, dp[idx][i][elt]) # 오른발\n",
        "                        dp[idx][elt][j] = fn_compare(dp[idx-1][i][j] + 2, dp[idx][elt][j])  # 왼발\n",
        "                    elif j == 0:  # 오른발이 원점\n",
        "                        dp[idx][elt][j] = fn_compare(dp[idx-1][i][j] + abs(i-elt) + 2, dp[idx][elt][j]) # 왼발\n",
        "                        dp[idx][i][elt] = fn_compare(dp[idx-1][i][j] + 2, dp[idx][i][elt])  # 오른발\n",
        "                    else: # 둘다 원점이 아니고 무조건 움직여야 할 떄\n",
        "                        dp[idx][i][elt] = fn_compare(dp[idx-1][i][j] + abs(j-elt) + 2, dp[idx][i][elt]) # 오른발\n",
        "                        dp[idx][elt][j] = fn_compare(dp[idx-1][i][j] + abs(i-elt) + 2, dp[idx][elt][j]) # 왼발\n",
        "    idx += 1"
      ],
      "metadata": {
        "id": "skHJf5T6wCkL"
      },
      "execution_count": 26,
      "outputs": []
    },
    {
      "cell_type": "code",
      "source": [
        "for ls in dp[-1]:\n",
        "    force = fn_compare(fn_find_min(ls), force)"
      ],
      "metadata": {
        "id": "gnEZ3M8P1X6f"
      },
      "execution_count": 31,
      "outputs": []
    },
    {
      "cell_type": "code",
      "source": [
        "dp"
      ],
      "metadata": {
        "colab": {
          "base_uri": "https://localhost:8080/"
        },
        "id": "c2h1TEZT2-8C",
        "outputId": "4cf9948b-8de1-47cd-f8b9-50f7349dc484"
      },
      "execution_count": 32,
      "outputs": [
        {
          "output_type": "execute_result",
          "data": {
            "text/plain": [
              "[[[0, 0, 2, 0, 0],\n",
              "  [0, 0, 0, 0, 0],\n",
              "  [2, 0, 0, 0, 0],\n",
              "  [0, 0, 0, 0, 0],\n",
              "  [0, 0, 0, 0, 0]],\n",
              " [[0, 5, 0, 0, 0],\n",
              "  [5, 0, 4, 0, 0],\n",
              "  [0, 4, 0, 0, 0],\n",
              "  [0, 0, 0, 0, 0],\n",
              "  [0, 0, 0, 0, 0]],\n",
              " [[0, 0, 0, 9, 0],\n",
              "  [0, 0, 0, 7, 0],\n",
              "  [0, 0, 0, 8, 0],\n",
              "  [9, 7, 8, 0, 0],\n",
              "  [0, 0, 0, 0, 0]],\n",
              " [[0, 0, 12, 0, 0],\n",
              "  [0, 0, 10, 0, 0],\n",
              "  [12, 10, 0, 9, 0],\n",
              "  [0, 0, 9, 0, 0],\n",
              "  [0, 0, 0, 0, 0]],\n",
              " [[0, 0, 0, 15, 0],\n",
              "  [0, 0, 0, 13, 0],\n",
              "  [0, 0, 0, 10, 0],\n",
              "  [15, 13, 10, 0, 0],\n",
              "  [0, 0, 0, 0, 0]]]"
            ]
          },
          "metadata": {},
          "execution_count": 32
        }
      ]
    },
    {
      "cell_type": "code",
      "source": [
        "force"
      ],
      "metadata": {
        "colab": {
          "base_uri": "https://localhost:8080/"
        },
        "id": "pfYXaVDW21BD",
        "outputId": "f1514d91-7332-42f8-c112-514526de727b"
      },
      "execution_count": 33,
      "outputs": [
        {
          "output_type": "execute_result",
          "data": {
            "text/plain": [
              "10"
            ]
          },
          "metadata": {},
          "execution_count": 33
        }
      ]
    },
    {
      "cell_type": "markdown",
      "source": [
        "1차 제출"
      ],
      "metadata": {
        "id": "4dhOm14_3Jhw"
      }
    },
    {
      "cell_type": "code",
      "source": [
        "import sys\n",
        "# input = sys.stdin.readline\n",
        "\n",
        "def fn_compare(a,b):\n",
        "    if b == 0:\n",
        "        return a\n",
        "    elif a == 0:\n",
        "        return b\n",
        "    else:\n",
        "        return min(a,b)\n",
        "\n",
        "def fn_diff(a,b):\n",
        "    if abs(a-b) == 3:\n",
        "        return 1\n",
        "    else:\n",
        "        return abs(a-b)\n",
        "\n",
        "def fn_find_min(lst):\n",
        "    output = 0\n",
        "    for i in lst:\n",
        "        if i == 0:\n",
        "            continue\n",
        "        else:\n",
        "            output = fn_compare(i, output)\n",
        "    return output\n",
        "\n",
        "lst = list(map(int, input().rstrip().split()))\n",
        "\n",
        "lst = lst[:-1]\n",
        "l = len(lst)\n",
        "\n",
        "if l == 0:\n",
        "    print(0)\n",
        "else:\n",
        "    dp = [[[0]*5 for _ in range(5)] for _ in range(l)]\n",
        "\n",
        "    force = 0\n",
        "    idx = 0\n",
        "\n",
        "    for elt in lst:\n",
        "        if idx == 0:\n",
        "            dp[idx][0][elt] = 2\n",
        "            dp[idx][elt][0] = 2\n",
        "        else:\n",
        "            for i in range(5):\n",
        "                for j in range(5):\n",
        "                    if dp[idx-1][i][j] != 0:\n",
        "                        if i == elt or j == elt:  # 이동 X\n",
        "                            dp[idx][i][j] = fn_compare(dp[idx-1][i][j] + 1, dp[idx][i][j])\n",
        "                        elif i == 0: # 왼발이 원점\n",
        "                            dp[idx][i][elt] = fn_compare(dp[idx-1][i][j] + fn_diff(j,elt) + 2, dp[idx][i][elt]) # 오른발\n",
        "                            dp[idx][elt][j] = fn_compare(dp[idx-1][i][j] + 2, dp[idx][elt][j])  # 왼발\n",
        "                        elif j == 0:  # 오른발이 원점\n",
        "                            dp[idx][elt][j] = fn_compare(dp[idx-1][i][j] + fn_diff(i,elt) + 2, dp[idx][elt][j]) # 왼발\n",
        "                            dp[idx][i][elt] = fn_compare(dp[idx-1][i][j] + 2, dp[idx][i][elt])  # 오른발\n",
        "                        else: # 둘다 원점이 아니고 무조건 움직여야 할 떄\n",
        "                            dp[idx][i][elt] = fn_compare(dp[idx-1][i][j] + fn_diff(j,elt) + 2, dp[idx][i][elt]) # 오른발\n",
        "                            dp[idx][elt][j] = fn_compare(dp[idx-1][i][j] + fn_diff(i,elt) + 2, dp[idx][elt][j]) # 왼발\n",
        "        idx += 1\n",
        "\n",
        "    for ls in dp[-1]:\n",
        "        force = fn_compare(fn_find_min(ls), force)\n",
        "\n",
        "    print(force)"
      ],
      "metadata": {
        "colab": {
          "base_uri": "https://localhost:8080/"
        },
        "id": "V4hl-LmL3Ksr",
        "outputId": "f2c4dd59-ada3-4641-943a-c04be387492a"
      },
      "execution_count": 62,
      "outputs": [
        {
          "output_type": "stream",
          "name": "stdout",
          "text": [
            "1 3 2 4 1 2 0\n",
            "14\n"
          ]
        }
      ]
    },
    {
      "cell_type": "code",
      "source": [
        "dp"
      ],
      "metadata": {
        "colab": {
          "base_uri": "https://localhost:8080/"
        },
        "id": "pSzniGZB40y9",
        "outputId": "8fee274c-3623-4c10-9c20-913dea842fe0"
      },
      "execution_count": 63,
      "outputs": [
        {
          "output_type": "execute_result",
          "data": {
            "text/plain": [
              "[[[0, 2, 0, 0, 0],\n",
              "  [2, 0, 0, 0, 0],\n",
              "  [0, 0, 0, 0, 0],\n",
              "  [0, 0, 0, 0, 0],\n",
              "  [0, 0, 0, 0, 0]],\n",
              " [[0, 0, 0, 6, 0],\n",
              "  [0, 0, 0, 4, 0],\n",
              "  [0, 0, 0, 0, 0],\n",
              "  [6, 4, 0, 0, 0],\n",
              "  [0, 0, 0, 0, 0]],\n",
              " [[0, 0, 9, 0, 0],\n",
              "  [0, 0, 7, 0, 0],\n",
              "  [9, 7, 0, 7, 0],\n",
              "  [0, 0, 7, 0, 0],\n",
              "  [0, 0, 0, 0, 0]],\n",
              " [[0, 0, 0, 0, 13],\n",
              "  [0, 0, 0, 0, 11],\n",
              "  [0, 0, 0, 0, 10],\n",
              "  [0, 0, 0, 0, 11],\n",
              "  [13, 11, 10, 11, 0]],\n",
              " [[0, 16, 0, 0, 0],\n",
              "  [16, 0, 13, 14, 12],\n",
              "  [0, 13, 0, 0, 0],\n",
              "  [0, 14, 0, 0, 0],\n",
              "  [0, 12, 0, 0, 0]],\n",
              " [[0, 0, 19, 0, 0],\n",
              "  [0, 0, 14, 0, 0],\n",
              "  [19, 14, 0, 17, 15],\n",
              "  [0, 0, 17, 0, 0],\n",
              "  [0, 0, 15, 0, 0]]]"
            ]
          },
          "metadata": {},
          "execution_count": 63
        }
      ]
    }
  ]
}
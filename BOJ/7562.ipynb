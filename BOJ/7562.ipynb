{
  "nbformat": 4,
  "nbformat_minor": 0,
  "metadata": {
    "colab": {
      "name": "7562.ipynb",
      "provenance": [],
      "authorship_tag": "ABX9TyOono/daL9RCklYIX9tbkJp",
      "include_colab_link": true
    },
    "kernelspec": {
      "name": "python3",
      "display_name": "Python 3"
    },
    "language_info": {
      "name": "python"
    }
  },
  "cells": [
    {
      "cell_type": "markdown",
      "metadata": {
        "id": "view-in-github",
        "colab_type": "text"
      },
      "source": [
        "<a href=\"https://colab.research.google.com/github/apuhapu/algorithm_study/blob/main/7562.ipynb\" target=\"_parent\"><img src=\"https://colab.research.google.com/assets/colab-badge.svg\" alt=\"Open In Colab\"/></a>"
      ]
    },
    {
      "cell_type": "code",
      "execution_count": 9,
      "metadata": {
        "colab": {
          "base_uri": "https://localhost:8080/"
        },
        "id": "FRq4UsGHDT1C",
        "outputId": "499a3ff9-6050-4dce-936c-bb0ac6e6b8af"
      },
      "outputs": [
        {
          "name": "stdout",
          "output_type": "stream",
          "text": [
            "10\n",
            "1 1\n",
            "1 1\n"
          ]
        }
      ],
      "source": [
        "from collections import deque\n",
        "# import sys\n",
        "# input = sys.stdin,readline\n",
        "deq = deque()\n",
        "\n",
        "# test_case = int(input().rstrip())\n",
        "# for _ in range(test_case):\n",
        "l = int(input().rstrip())\n",
        "a1, a2 = map(int, input().rstrip().split())\n",
        "b1, b2 = map(int, input().rstrip().split())"
      ]
    },
    {
      "cell_type": "code",
      "source": [
        "dr = [-1,-2,-2,-1,1,2,2,1]\n",
        "dc = [-2,-1,1,2,-2,-1,1,2]"
      ],
      "metadata": {
        "id": "l7uybeisFeTa"
      },
      "execution_count": 3,
      "outputs": []
    },
    {
      "cell_type": "code",
      "source": [
        "def isinside(r,c):\n",
        "    if r >= 0 and r < l and c >= 0 and c < l:\n",
        "        return True\n",
        "    else:\n",
        "        return False"
      ],
      "metadata": {
        "id": "VC2Y7o7vFzWh"
      },
      "execution_count": 4,
      "outputs": []
    },
    {
      "cell_type": "code",
      "source": [
        "def bfs(a1, a2, b1, b2, l):\n",
        "    visited = [[-1] * l for _ in range(l)]\n",
        "    visited[a1][a2] = 0\n",
        "    deq.append((a1,a2))\n",
        "\n",
        "    while deq:\n",
        "        r, c = deq.popleft()\n",
        "        for i, j in zip(dr,dc):\n",
        "            ii = r + i\n",
        "            jj = c + j\n",
        "            if isinside(ii, jj):\n",
        "                if visited[ii][jj] == -1:\n",
        "                    visited[ii][jj] = visited[r][c] + 1\n",
        "                    if ii == b1 and jj == b2:\n",
        "                        return visited[ii][jj]\n",
        "                    deq.append((ii,jj))"
      ],
      "metadata": {
        "id": "yPn8-NS2GF3y"
      },
      "execution_count": 5,
      "outputs": []
    },
    {
      "cell_type": "code",
      "source": [
        "print(bfs(a1, a2, b1, b2, l))"
      ],
      "metadata": {
        "colab": {
          "base_uri": "https://localhost:8080/"
        },
        "id": "k0ylj2JmI-cT",
        "outputId": "8b962ee5-6a36-4f0b-9efa-ba73ba02e45f"
      },
      "execution_count": 10,
      "outputs": [
        {
          "output_type": "stream",
          "name": "stdout",
          "text": [
            "None\n"
          ]
        }
      ]
    },
    {
      "cell_type": "code",
      "source": [
        "from collections import deque\n",
        "import sys\n",
        "input = sys.stdin.readline\n",
        "deq = deque()\n",
        "dr = [-1,-2,-2,-1,1,2,2,1]\n",
        "dc = [-2,-1,1,2,-2,-1,1,2]\n",
        "\n",
        "def isinside(r,c):\n",
        "    if r >= 0 and r < l and c >= 0 and c < l:\n",
        "        return True\n",
        "    else:\n",
        "        return False\n",
        "\n",
        "def bfs(a1, a2, b1, b2, l):\n",
        "    visited = [[-1] * l for _ in range(l)]\n",
        "    visited[a1][a2] = 0\n",
        "    deq.append((a1,a2))\n",
        "\n",
        "    while deq:\n",
        "        r, c = deq.popleft()\n",
        "        for i, j in zip(dr,dc):\n",
        "            ii = r + i\n",
        "            jj = c + j\n",
        "            if isinside(ii, jj):\n",
        "                if visited[ii][jj] == -1:\n",
        "                    visited[ii][jj] = visited[r][c] + 1\n",
        "                    if ii == b1 and jj == b2:\n",
        "                        return visited[ii][jj]\n",
        "                    deq.append((ii,jj))    \n",
        "    \n",
        "test_case = int(input().rstrip())\n",
        "for _ in range(test_case):\n",
        "    deq = deque()\n",
        "    l = int(input().rstrip())\n",
        "    a1, a2 = map(int, input().rstrip().split())\n",
        "    b1, b2 = map(int, input().rstrip().split())\n",
        "    if a1 == b1 and a2 == b2:\n",
        "        print(0)\n",
        "    else:\n",
        "        print(bfs(a1, a2, b1, b2, l))"
      ],
      "metadata": {
        "colab": {
          "base_uri": "https://localhost:8080/"
        },
        "id": "Yxahjvv8KIgU",
        "outputId": "3495a31e-bf5e-4bc0-fbcb-17e485977732"
      },
      "execution_count": 12,
      "outputs": [
        {
          "output_type": "stream",
          "name": "stdout",
          "text": [
            "3\n",
            "8\n",
            "0 0\n",
            "7 0\n",
            "5\n",
            "100\n",
            "0 0\n",
            "30 50\n",
            "23\n",
            "10\n",
            "1 1\n",
            "1 1\n",
            "0\n"
          ]
        }
      ]
    }
  ]
}

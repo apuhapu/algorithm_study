{
  "nbformat": 4,
  "nbformat_minor": 0,
  "metadata": {
    "colab": {
      "provenance": [],
      "authorship_tag": "ABX9TyPEbS/GgxmQYcD3UhCC2Nxm",
      "include_colab_link": true
    },
    "kernelspec": {
      "name": "python3",
      "display_name": "Python 3"
    },
    "language_info": {
      "name": "python"
    }
  },
  "cells": [
    {
      "cell_type": "markdown",
      "metadata": {
        "id": "view-in-github",
        "colab_type": "text"
      },
      "source": [
        "<a href=\"https://colab.research.google.com/github/apuhapu/algorithm_study/blob/main/BOJ/2166.ipynb\" target=\"_parent\"><img src=\"https://colab.research.google.com/assets/colab-badge.svg\" alt=\"Open In Colab\"/></a>"
      ]
    },
    {
      "cell_type": "markdown",
      "source": [
        "https://www.acmicpc.net/problem/2166"
      ],
      "metadata": {
        "id": "L4hjrhSNk8RL"
      }
    },
    {
      "cell_type": "code",
      "source": [
        "import sys\n",
        "# input = sys.stdin.readline"
      ],
      "metadata": {
        "id": "kFZ6BXy0uWQP"
      },
      "execution_count": 11,
      "outputs": []
    },
    {
      "cell_type": "code",
      "execution_count": 12,
      "metadata": {
        "colab": {
          "base_uri": "https://localhost:8080/"
        },
        "id": "qkbJnTmak3tw",
        "outputId": "b3b4d4a3-248f-4205-9bc7-2ba70d641706"
      },
      "outputs": [
        {
          "name": "stdout",
          "output_type": "stream",
          "text": [
            "3\n",
            "0 0\n",
            "0 10\n",
            "5 10\n"
          ]
        }
      ],
      "source": [
        "n = int(input())\n",
        "nodes = []\n",
        "for _ in range(n):\n",
        "    a, b = map(int, input().rstrip().split())\n",
        "    nodes.append((a,b))"
      ]
    },
    {
      "cell_type": "code",
      "source": [
        "nodes.append((nodes[0][0],nodes[0][1])) # 첫째 노드 마지막에 추가\n",
        "temp = 0\n",
        "for i in range(n):\n",
        "    temp += nodes[i][0]*nodes[i+1][1] - nodes[i+1][0]*nodes[i][1]\n",
        "\n",
        "print(0.5*abs(temp))"
      ],
      "metadata": {
        "colab": {
          "base_uri": "https://localhost:8080/"
        },
        "id": "6pJmpH6fnqxN",
        "outputId": "80c90d5b-789b-48f2-c6ad-0e174d0cca3a"
      },
      "execution_count": 13,
      "outputs": [
        {
          "output_type": "stream",
          "name": "stdout",
          "text": [
            "25.0\n"
          ]
        }
      ]
    },
    {
      "cell_type": "markdown",
      "source": [
        "> 원래라면 소수점 둘째 자리에서 반올림을 할 때 첫째 자리의 홀짝 유무를 판단해야 하지만 좌표값이 정수로만 주어지기 때문에 정수에 1/2를 곱해도 소수점 둘째자리가 나올 수가 없다. 그러므로 소수점 자리는 고려할 필요가 없다."
      ],
      "metadata": {
        "id": "tOG_BfodwMZG"
      }
    }
  ]
}
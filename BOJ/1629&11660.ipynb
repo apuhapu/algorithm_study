{
  "nbformat": 4,
  "nbformat_minor": 0,
  "metadata": {
    "colab": {
      "name": "1629&11660.ipynb",
      "provenance": [],
      "authorship_tag": "ABX9TyNrpBF2pWzJuIjkRzHSVx+7",
      "include_colab_link": true
    },
    "kernelspec": {
      "name": "python3",
      "display_name": "Python 3"
    },
    "language_info": {
      "name": "python"
    }
  },
  "cells": [
    {
      "cell_type": "markdown",
      "metadata": {
        "id": "view-in-github",
        "colab_type": "text"
      },
      "source": [
        "<a href=\"https://colab.research.google.com/github/apuhapu/algorithm_study/blob/main/1629%2611660.ipynb\" target=\"_parent\"><img src=\"https://colab.research.google.com/assets/colab-badge.svg\" alt=\"Open In Colab\"/></a>"
      ]
    },
    {
      "cell_type": "code",
      "execution_count": null,
      "metadata": {
        "colab": {
          "base_uri": "https://localhost:8080/"
        },
        "id": "Uc9fTSJ9HyzQ",
        "outputId": "859f4c32-e5b9-4c49-b2a5-7e42f09b173a"
      },
      "outputs": [
        {
          "output_type": "execute_result",
          "data": {
            "text/plain": [
              "4"
            ]
          },
          "metadata": {},
          "execution_count": 1
        }
      ],
      "source": [
        "(10 ** 11) % 12"
      ]
    },
    {
      "cell_type": "code",
      "source": [
        "a = 10 % 12"
      ],
      "metadata": {
        "id": "MHz5HBK2IMka"
      },
      "execution_count": null,
      "outputs": []
    },
    {
      "cell_type": "code",
      "source": [
        "for _ in range(11-1):\n",
        "    a = (a * 10) % 12\n",
        "print(a)"
      ],
      "metadata": {
        "colab": {
          "base_uri": "https://localhost:8080/"
        },
        "id": "VKYb2JCsIV05",
        "outputId": "447e93dd-5bae-45f4-a8b0-d5f43cec09ee"
      },
      "execution_count": null,
      "outputs": [
        {
          "output_type": "stream",
          "name": "stdout",
          "text": [
            "4\n"
          ]
        }
      ]
    },
    {
      "cell_type": "markdown",
      "source": [
        "1차"
      ],
      "metadata": {
        "id": "wdTo0u5ZI_HV"
      }
    },
    {
      "cell_type": "code",
      "source": [
        "a, b, c = map(int, input().split())\n",
        "k = a % c\n",
        "for _ in range(b-1):\n",
        "    k = (k * a) % c\n",
        "print(k)"
      ],
      "metadata": {
        "colab": {
          "base_uri": "https://localhost:8080/"
        },
        "id": "Wt9lDOlyIqMq",
        "outputId": "23299e15-2d00-4c72-c68b-8f5b68b9f5e9"
      },
      "execution_count": null,
      "outputs": [
        {
          "output_type": "stream",
          "name": "stdout",
          "text": [
            "10 11 12\n",
            "4\n"
          ]
        }
      ]
    },
    {
      "cell_type": "markdown",
      "source": [
        "시간초과 >> 다른 방법을 강구"
      ],
      "metadata": {
        "id": "LMsBYMtnJGxW"
      }
    },
    {
      "cell_type": "markdown",
      "source": [
        "일단 정수 시스템을 모듈러 C라고 생각\n",
        "\n",
        "제곱 연산 자체를 줄일 필요가 있어보임"
      ],
      "metadata": {
        "id": "PrWxaDbPKDLe"
      }
    },
    {
      "cell_type": "code",
      "source": [
        "def f(a,b,c):\n",
        "    if b == 1:\n",
        "        return a % c\n",
        "    elif b == 2:\n",
        "        return (a*a) % c\n",
        "    elif b % 2 == 1:\n",
        "        return (a * (f(a,b//2,c)**2)) % c\n",
        "    else:\n",
        "        return (f(a,b//2,c) ** 2) % c"
      ],
      "metadata": {
        "id": "L36F8Ou2KNH2"
      },
      "execution_count": null,
      "outputs": []
    },
    {
      "cell_type": "code",
      "source": [
        "print(f(a,b,c))"
      ],
      "metadata": {
        "colab": {
          "base_uri": "https://localhost:8080/"
        },
        "id": "ujpY-atRLLhF",
        "outputId": "5aa67f42-0b3f-4c5d-dfac-ab41b2c637bf"
      },
      "execution_count": null,
      "outputs": [
        {
          "output_type": "execute_result",
          "data": {
            "text/plain": [
              "4"
            ]
          },
          "metadata": {},
          "execution_count": 12
        }
      ]
    },
    {
      "cell_type": "markdown",
      "source": [
        "https://www.acmicpc.net/problem/11660"
      ],
      "metadata": {
        "id": "Bs4WnmBnN4o5"
      }
    },
    {
      "cell_type": "code",
      "source": [
        "n, m = map(int, input().rstrip().split())\n",
        "mat = [list(map(int, input().rstrip().split())) for _ in range(n)]\n",
        "for _ in range(m):\n",
        "    x1, y1, x2, y2 = map(int, input().rstrip().split())\n",
        "    sum_mat = 0\n",
        "    for row in range(x1-1, x2):\n",
        "        for col in range(y1-1, y2):\n",
        "            sum_mat += mat[row][col]\n",
        "    print(sum_mat)"
      ],
      "metadata": {
        "colab": {
          "base_uri": "https://localhost:8080/"
        },
        "id": "A80LfFXrN5hP",
        "outputId": "285d59b6-874e-4aeb-84dc-118bfeda2e3e"
      },
      "execution_count": null,
      "outputs": [
        {
          "output_type": "stream",
          "name": "stdout",
          "text": [
            "4 3\n",
            "1 2 3 4\n",
            "2 3 4 5\n",
            "3 4 5 6\n",
            "4 5 6 7\n",
            "2 2 3 4\n",
            "27\n",
            "3 4 3 4\n",
            "6\n",
            "1 1 4 4\n",
            "64\n"
          ]
        }
      ]
    },
    {
      "cell_type": "markdown",
      "source": [
        "시간초과 ㅇㅇ\n",
        "\n",
        "> dp를 활용하여 구하려는 구간을 원점까지 구하고 왼쪽 대각선 위 왼쪽 윗쪽 사각형의 부분합을 이용"
      ],
      "metadata": {
        "id": "1rGjleSMQIIB"
      }
    },
    {
      "cell_type": "code",
      "source": [
        "n, m = map(int, input().rstrip().split())\n",
        "mat = [list(map(int, input().rstrip().split())) for _ in range(n)]"
      ],
      "metadata": {
        "colab": {
          "base_uri": "https://localhost:8080/"
        },
        "id": "75GyzPjP4ACV",
        "outputId": "b0797977-5d38-428d-f7e4-c01643f30a47"
      },
      "execution_count": 3,
      "outputs": [
        {
          "name": "stdout",
          "output_type": "stream",
          "text": [
            "4 3\n",
            "1 2 3 4\n",
            "2 3 4 5\n",
            "3 4 5 6\n",
            "4 5 6 7\n"
          ]
        }
      ]
    },
    {
      "cell_type": "code",
      "source": [
        "dp = [[0]* n for _ in range(n)]\n",
        "dp"
      ],
      "metadata": {
        "colab": {
          "base_uri": "https://localhost:8080/"
        },
        "id": "2Pczjk5Q3lLq",
        "outputId": "f5836fee-ed43-4f36-d7ed-3c675d01b1b9"
      },
      "execution_count": 4,
      "outputs": [
        {
          "output_type": "execute_result",
          "data": {
            "text/plain": [
              "[[0, 0, 0, 0], [0, 0, 0, 0], [0, 0, 0, 0], [0, 0, 0, 0]]"
            ]
          },
          "metadata": {},
          "execution_count": 4
        }
      ]
    },
    {
      "cell_type": "code",
      "source": [
        "dp[0][0] = mat[0][0]\n",
        "for i in range(1,n):\n",
        "    dp[0][i] = dp[0][i-1] + mat[0][i]"
      ],
      "metadata": {
        "id": "7wgofAdg4mmN"
      },
      "execution_count": 6,
      "outputs": []
    },
    {
      "cell_type": "code",
      "source": [
        "dp"
      ],
      "metadata": {
        "colab": {
          "base_uri": "https://localhost:8080/"
        },
        "id": "1aAFIPgo5_v0",
        "outputId": "1c3ed3b9-ba1a-4aca-9940-42e5b62233bd"
      },
      "execution_count": 7,
      "outputs": [
        {
          "output_type": "execute_result",
          "data": {
            "text/plain": [
              "[[1, 3, 6, 10], [0, 0, 0, 0], [0, 0, 0, 0], [0, 0, 0, 0]]"
            ]
          },
          "metadata": {},
          "execution_count": 7
        }
      ]
    },
    {
      "cell_type": "code",
      "source": [
        "for j in range(1,n):\n",
        "    a = 0\n",
        "    for i in range(n):\n",
        "        a += mat[j][i]\n",
        "        dp[j][i] = dp[j-1][i] + a"
      ],
      "metadata": {
        "id": "_0kBnCnO6RRi"
      },
      "execution_count": 8,
      "outputs": []
    },
    {
      "cell_type": "code",
      "source": [
        "dp"
      ],
      "metadata": {
        "colab": {
          "base_uri": "https://localhost:8080/"
        },
        "id": "wD0pYFfy8lh9",
        "outputId": "7dfe40e7-2547-4388-84e5-7a9262406f66"
      },
      "execution_count": 9,
      "outputs": [
        {
          "output_type": "execute_result",
          "data": {
            "text/plain": [
              "[[1, 3, 6, 10], [3, 8, 15, 24], [6, 15, 27, 42], [10, 24, 42, 64]]"
            ]
          },
          "metadata": {},
          "execution_count": 9
        }
      ]
    },
    {
      "cell_type": "code",
      "source": [
        "def mat_sum(x1,y1,x2,y2):\n",
        "    if x1 == 1 and y1 == 1:\n",
        "        return dp[x2-1][y2-1]\n",
        "    elif x1 == 1:\n",
        "        return dp[x2-1][y2-1] - dp[x2-1][y1-2]\n",
        "    elif y1 == 1:\n",
        "        return dp[x2-1][y2-1] - dp[x1-2][y2-1]\n",
        "    else:\n",
        "        return dp[x2-1][y2-1] - dp[x2-1][y1-2] - dp[x1-2][y2-1] + dp[x1-2][y1-2]"
      ],
      "metadata": {
        "id": "zgZeosCD9ZQ9"
      },
      "execution_count": 12,
      "outputs": []
    },
    {
      "cell_type": "code",
      "source": [
        "print(mat_sum(3,4,3,4))"
      ],
      "metadata": {
        "colab": {
          "base_uri": "https://localhost:8080/"
        },
        "id": "7rLjb2RT_SXN",
        "outputId": "692c3c9d-31f9-4e39-f0b6-82f8fb7ab60e"
      },
      "execution_count": 14,
      "outputs": [
        {
          "output_type": "stream",
          "name": "stdout",
          "text": [
            "6\n"
          ]
        }
      ]
    },
    {
      "cell_type": "markdown",
      "source": [
        "2차 제출"
      ],
      "metadata": {
        "id": "oO9LCADaBNAb"
      }
    },
    {
      "cell_type": "code",
      "source": [
        "import sys\n",
        "input = sys.stdin.readline\n",
        "\n",
        "# 입력파트\n",
        "n, m = map(int, input().rstrip().split())\n",
        "mat = [list(map(int, input().rstrip().split())) for _ in range(n)]\n",
        "\n",
        "# dp 파트\n",
        "dp = [[0]* n for _ in range(n)]\n",
        "dp[0][0] = mat[0][0]\n",
        "\n",
        "for i in range(1,n):\n",
        "    dp[0][i] = dp[0][i-1] + mat[0][i]\n",
        "\n",
        "for j in range(1,n):\n",
        "    a = 0\n",
        "    for i in range(n):\n",
        "        a += mat[j][i]\n",
        "        dp[j][i] = dp[j-1][i] + a\n",
        "\n",
        "# dp 활용 함수        \n",
        "def mat_sum(x1,y1,x2,y2):\n",
        "    # 첫 지점이 원점이면 그냥 두 번째 지점의 dp값 출력\n",
        "    if x1 == 1 and y1 == 1:\n",
        "        return dp[x2-1][y2-1]\n",
        "    # 첫지점의 row만 1이면 추가로 왼쪽부분 삭제\n",
        "    elif x1 == 1:\n",
        "        return dp[x2-1][y2-1] - dp[x2-1][y1-2]\n",
        "    # 첫지점의 col만 1이면 추가로 윗부분 삭제\n",
        "    elif y1 == 1:\n",
        "        return dp[x2-1][y2-1] - dp[x1-2][y2-1]\n",
        "    # 둘다 1이 아니면 윗 과정을 반복하고 두번빼준 값 더해주기\n",
        "    else:\n",
        "        return dp[x2-1][y2-1] - dp[x2-1][y1-2] - dp[x1-2][y2-1] + dp[x1-2][y1-2]        \n",
        "\n",
        "# 지점 입력 및 출력파트\n",
        "for _ in range(m):\n",
        "    x1, y1, x2, y2 = map(int, input().rstrip().split())\n",
        "    print(mat_sum(x1,y1,x2,y2))"
      ],
      "metadata": {
        "id": "1h-CLzW2BLf1"
      },
      "execution_count": null,
      "outputs": []
    }
  ]
}

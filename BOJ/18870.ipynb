{
  "nbformat": 4,
  "nbformat_minor": 0,
  "metadata": {
    "colab": {
      "name": "18870.ipynb",
      "provenance": [],
      "authorship_tag": "ABX9TyNBTW104TC13p7c1QyhgMsA",
      "include_colab_link": true
    },
    "kernelspec": {
      "name": "python3",
      "display_name": "Python 3"
    },
    "language_info": {
      "name": "python"
    }
  },
  "cells": [
    {
      "cell_type": "markdown",
      "metadata": {
        "id": "view-in-github",
        "colab_type": "text"
      },
      "source": [
        "<a href=\"https://colab.research.google.com/github/apuhapu/algorithm_study/blob/main/18870.ipynb\" target=\"_parent\"><img src=\"https://colab.research.google.com/assets/colab-badge.svg\" alt=\"Open In Colab\"/></a>"
      ]
    },
    {
      "cell_type": "markdown",
      "source": [
        "https://www.acmicpc.net/problem/18870"
      ],
      "metadata": {
        "id": "P7x1_bRaQoDR"
      }
    },
    {
      "cell_type": "markdown",
      "source": [
        "좌표를 set에 넣어서 sort하고 index를 출력하면 될 듯?"
      ],
      "metadata": {
        "id": "ML4LKW9eQp25"
      }
    },
    {
      "cell_type": "code",
      "execution_count": 1,
      "metadata": {
        "colab": {
          "base_uri": "https://localhost:8080/"
        },
        "id": "VCD5YyMBQUrw",
        "outputId": "0b1732fa-d672-4370-e5fc-01de4b580590"
      },
      "outputs": [
        {
          "name": "stdout",
          "output_type": "stream",
          "text": [
            "6\n",
            "1000 999 1000 999 1000 999\n"
          ]
        }
      ],
      "source": [
        "# import sys\n",
        "# input = sys.stdin.readline\n",
        "n = int(input().rstrip())\n",
        "lst = list(map(int, input().rstrip().split()))"
      ]
    },
    {
      "cell_type": "code",
      "source": [
        "se = set(lst)\n",
        "se = list(se)\n",
        "se.sort()\n",
        "se"
      ],
      "metadata": {
        "colab": {
          "base_uri": "https://localhost:8080/"
        },
        "id": "-Gl_A1P0RG2Q",
        "outputId": "a5a0c229-5680-42c4-b272-33097a6345fe"
      },
      "execution_count": 3,
      "outputs": [
        {
          "output_type": "execute_result",
          "data": {
            "text/plain": [
              "[999, 1000]"
            ]
          },
          "metadata": {},
          "execution_count": 3
        }
      ]
    },
    {
      "cell_type": "code",
      "source": [
        "output = []"
      ],
      "metadata": {
        "id": "NMpVHIC4SsUi"
      },
      "execution_count": 24,
      "outputs": []
    },
    {
      "cell_type": "code",
      "source": [
        "for x in lst:\n",
        "    output.append(se.index(x))"
      ],
      "metadata": {
        "id": "EOVpju1RRk3R"
      },
      "execution_count": 9,
      "outputs": []
    },
    {
      "cell_type": "code",
      "source": [
        "print(*output)"
      ],
      "metadata": {
        "colab": {
          "base_uri": "https://localhost:8080/"
        },
        "id": "pNb4U3LYT7cX",
        "outputId": "4c8455c7-6ba0-44d2-cea1-355306645622"
      },
      "execution_count": 17,
      "outputs": [
        {
          "output_type": "stream",
          "name": "stdout",
          "text": [
            "1 0 1 0 1 0\n"
          ]
        }
      ]
    },
    {
      "cell_type": "markdown",
      "source": [
        "시간초과\n",
        "\n",
        "> index에서 찾는거에서 se가 sort되어 있으므로 이분탐색 적용\n"
      ],
      "metadata": {
        "id": "5D8FFVy0UhjP"
      }
    },
    {
      "cell_type": "code",
      "source": [
        "for x in lst:\n",
        "    start = 0\n",
        "    end = len(se) - 1\n",
        "    while start <= end:\n",
        "        mid = (start + end) // 2\n",
        "        if se[mid] == x:\n",
        "            output.append(mid)\n",
        "            break\n",
        "        elif se[mid] < x:\n",
        "            start = mid + 1\n",
        "        else:\n",
        "            end = mid - 1"
      ],
      "metadata": {
        "id": "p5D92pA2VPcM"
      },
      "execution_count": 25,
      "outputs": []
    },
    {
      "cell_type": "code",
      "source": [
        "print(*output)"
      ],
      "metadata": {
        "colab": {
          "base_uri": "https://localhost:8080/"
        },
        "id": "gnc9RoxFY_P8",
        "outputId": "bb7996db-dd3a-4ea4-ebc8-67b86beb5e2a"
      },
      "execution_count": 26,
      "outputs": [
        {
          "output_type": "stream",
          "name": "stdout",
          "text": [
            "1 0 1 0 1 0\n"
          ]
        }
      ]
    }
  ]
}

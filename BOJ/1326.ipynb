{
  "nbformat": 4,
  "nbformat_minor": 0,
  "metadata": {
    "colab": {
      "name": "1326.ipynb",
      "provenance": [],
      "authorship_tag": "ABX9TyMLlN/j0ZxzwhqRwW6gOeA5",
      "include_colab_link": true
    },
    "kernelspec": {
      "name": "python3",
      "display_name": "Python 3"
    },
    "language_info": {
      "name": "python"
    }
  },
  "cells": [
    {
      "cell_type": "markdown",
      "metadata": {
        "id": "view-in-github",
        "colab_type": "text"
      },
      "source": [
        "<a href=\"https://colab.research.google.com/github/apuhapu/algorithm_study/blob/main/1326.ipynb\" target=\"_parent\"><img src=\"https://colab.research.google.com/assets/colab-badge.svg\" alt=\"Open In Colab\"/></a>"
      ]
    },
    {
      "cell_type": "markdown",
      "source": [
        "https://www.acmicpc.net/problem/1326"
      ],
      "metadata": {
        "id": "EJQ9tJPg7wPe"
      }
    },
    {
      "cell_type": "code",
      "source": [
        "#import sys\n",
        "from collections import deque\n",
        "\n",
        "#input = sys.stdin.readline\n",
        "deq = deque()\n",
        "\n",
        "n = int(input().rstrip())\n",
        "bri = list(map(int, input().rstrip().split()))\n",
        "a, b = map(int, input().rstrip().split())"
      ],
      "metadata": {
        "colab": {
          "base_uri": "https://localhost:8080/"
        },
        "id": "_L442KMI9-RA",
        "outputId": "20518c9d-cbc3-4e90-e96f-b25f32c5f692"
      },
      "execution_count": 3,
      "outputs": [
        {
          "name": "stdout",
          "output_type": "stream",
          "text": [
            "5\n",
            "1 2 2 1 2\n",
            "1 5\n"
          ]
        }
      ]
    },
    {
      "cell_type": "code",
      "source": [
        "deq.append(a-1)"
      ],
      "metadata": {
        "id": "kkQe-VmhAFUY"
      },
      "execution_count": 4,
      "outputs": []
    },
    {
      "cell_type": "code",
      "source": [
        "def bfs():\n",
        "    visited = [-1] * n\n",
        "    visited[a-1] = 0\n",
        "    while deq:\n",
        "        x = deq.popleft()\n",
        "        for i in range(x, n, bri[x]):\n",
        "            if visited[i] == -1:\n",
        "                deq.append(i)\n",
        "                visited[i] = visited[x] + 1\n",
        "                if i == b - 1:\n",
        "                    return visited[i]\n",
        "        for j in range(x, -1, -bri[x]):\n",
        "            if visited[j] == -1:\n",
        "                deq.append(j)\n",
        "                visited[j] = visited[x] + 1\n",
        "                if j == b - 1:\n",
        "                    return visited[j]\n",
        "    return -1"
      ],
      "metadata": {
        "id": "DBqUJMoC-qwy"
      },
      "execution_count": 5,
      "outputs": []
    },
    {
      "cell_type": "code",
      "source": [
        "print(bfs())"
      ],
      "metadata": {
        "colab": {
          "base_uri": "https://localhost:8080/"
        },
        "id": "XN6a--r6BG7v",
        "outputId": "5781ba58-ae45-4c70-d832-132d221c37af"
      },
      "execution_count": 6,
      "outputs": [
        {
          "output_type": "stream",
          "name": "stdout",
          "text": [
            "1\n"
          ]
        }
      ]
    },
    {
      "cell_type": "code",
      "source": [
        "#import sys\n",
        "from collections import deque\n",
        "\n",
        "#input = sys.stdin.readline\n",
        "deq = deque()\n",
        "\n",
        "n = int(input().rstrip())\n",
        "bri = list(map(int, input().rstrip().split()))\n",
        "a, b = map(int, input().rstrip().split())\n",
        "\n",
        "deq.append(a-1)\n",
        "\n",
        "def bfs():\n",
        "    visited = [-1] * n\n",
        "    visited[a-1] = 0\n",
        "    while deq:\n",
        "        x = deq.popleft()\n",
        "        for i in range(x, n, bri[x]):\n",
        "            if visited[i] == -1:\n",
        "                deq.append(i)\n",
        "                visited[i] = visited[x] + 1\n",
        "                if i == b - 1:\n",
        "                    return visited[i]\n",
        "        for j in range(x, -1, -bri[x]):\n",
        "            if visited[j] == -1:\n",
        "                deq.append(j)\n",
        "                visited[j] = visited[x] + 1\n",
        "                if j == b - 1:\n",
        "                    return visited[j]\n",
        "    return -1\n",
        "\n",
        "print(bfs())"
      ],
      "metadata": {
        "id": "BvBiz3unBd1a"
      },
      "execution_count": null,
      "outputs": []
    }
  ]
}

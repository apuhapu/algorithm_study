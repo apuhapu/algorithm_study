{
  "nbformat": 4,
  "nbformat_minor": 0,
  "metadata": {
    "colab": {
      "name": "9292.ipynb",
      "provenance": [],
      "authorship_tag": "ABX9TyMUOITDPJXkw4sE7Ix6Zwcs",
      "include_colab_link": true
    },
    "kernelspec": {
      "name": "python3",
      "display_name": "Python 3"
    },
    "language_info": {
      "name": "python"
    }
  },
  "cells": [
    {
      "cell_type": "markdown",
      "metadata": {
        "id": "view-in-github",
        "colab_type": "text"
      },
      "source": [
        "<a href=\"https://colab.research.google.com/github/apuhapu/algorithm_study/blob/main/9292.ipynb\" target=\"_parent\"><img src=\"https://colab.research.google.com/assets/colab-badge.svg\" alt=\"Open In Colab\"/></a>"
      ]
    },
    {
      "cell_type": "markdown",
      "source": [
        "https://www.acmicpc.net/problem/9252"
      ],
      "metadata": {
        "id": "LW828Y24fw23"
      }
    },
    {
      "cell_type": "code",
      "execution_count": 15,
      "metadata": {
        "colab": {
          "base_uri": "https://localhost:8080/"
        },
        "id": "UDf4uXrffv0A",
        "outputId": "1f381867-a784-4278-bc6e-53c667789585"
      },
      "outputs": [
        {
          "output_type": "stream",
          "name": "stdout",
          "text": [
            "ACAYKP\n",
            "CAPCAK\n",
            "4\n"
          ]
        }
      ],
      "source": [
        "#import sys\n",
        "#input = sys.stdin.readline\n",
        "\n",
        "# 입력 파트\n",
        "a = input().rstrip()\n",
        "b = input().rstrip()\n",
        "\n",
        "# dp배열을 만들기 위한 길이 측정, 1을 추가한 이유는 초기 아무것도 없이 0을 추가하기 위함\n",
        "a_l = len(a) + 1\n",
        "b_l = len(b) + 1\n",
        "\n",
        "dp = [[-1] * (b_l) for _ in range(a_l)]\n",
        "\n",
        "# dp 배열 채우기\n",
        "for i in range(a_l):\n",
        "    for j in range(b_l):\n",
        "        if i == 0 or j == 0:    # 위에서 추가한 1에 0 값 넣기\n",
        "            dp[i][j] = 0\n",
        "        elif a[i-1] == b[j-1]:    # 위에서 +1을 했기 때문에 문자열 비교에서는 인덱스에 -1\n",
        "            dp[i][j] = dp[i-1][j-1] + 1\n",
        "        else:\n",
        "            dp[i][j] = max(dp[i-1][j], dp[i][j-1])\n",
        "\n",
        "print(dp[-1][-1])\n",
        "output = []\n",
        "p = a_l-1\n",
        "q = b_l-1\n",
        "while True:\n",
        "    if dp[p][q] == 0:\n",
        "        break\n",
        "    if dp[p][q] == dp[p-1][q]:\n",
        "        p = p-1\n",
        "    elif dp[p][q] == dp[p][q-1]:\n",
        "        q = q-1\n",
        "    else:\n",
        "        output.append(a[p-1])\n",
        "        p -= 1\n",
        "        q -= 1"
      ]
    },
    {
      "cell_type": "code",
      "source": [
        "output"
      ],
      "metadata": {
        "colab": {
          "base_uri": "https://localhost:8080/"
        },
        "id": "0cK5L8ndkrAI",
        "outputId": "9143104e-f5b7-4594-85e4-6569fc2dc170"
      },
      "execution_count": 16,
      "outputs": [
        {
          "output_type": "execute_result",
          "data": {
            "text/plain": [
              "['K', 'A', 'C', 'A']"
            ]
          },
          "metadata": {},
          "execution_count": 16
        }
      ]
    },
    {
      "cell_type": "code",
      "source": [
        "dp"
      ],
      "metadata": {
        "colab": {
          "base_uri": "https://localhost:8080/"
        },
        "id": "a6qVIgAVk1Rd",
        "outputId": "27c7e0a8-d8ea-4530-a1c9-c1713ac7cd79"
      },
      "execution_count": 14,
      "outputs": [
        {
          "output_type": "execute_result",
          "data": {
            "text/plain": [
              "[[0, 0, 0, 0, 0, 0, 0],\n",
              " [0, 0, 1, 1, 1, 1, 1],\n",
              " [0, 1, 1, 1, 2, 2, 2],\n",
              " [0, 1, 2, 2, 2, 3, 3],\n",
              " [0, 1, 2, 2, 2, 3, 3],\n",
              " [0, 1, 2, 2, 2, 3, 4],\n",
              " [0, 1, 2, 3, 3, 3, 4]]"
            ]
          },
          "metadata": {},
          "execution_count": 14
        }
      ]
    },
    {
      "cell_type": "code",
      "source": [
        "output = output[::-1]\n",
        "print(''.join(map(str, output)))"
      ],
      "metadata": {
        "colab": {
          "base_uri": "https://localhost:8080/"
        },
        "id": "RBnkTBo7j8pf",
        "outputId": "1e8ea61f-5119-419c-b842-1056a5f730c6"
      },
      "execution_count": 17,
      "outputs": [
        {
          "output_type": "stream",
          "name": "stdout",
          "text": [
            "ACAK\n"
          ]
        }
      ]
    },
    {
      "cell_type": "markdown",
      "source": [
        "만약 왼쪽과 위쪽이 중간과 같다면 해당되는 스트링의 인덱스 요소가 구성요소에 없다는 뜻이므로 둘다 -1 "
      ],
      "metadata": {
        "id": "KfvavUW9wQ1G"
      }
    }
  ]
}

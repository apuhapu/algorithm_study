{
  "nbformat": 4,
  "nbformat_minor": 0,
  "metadata": {
    "colab": {
      "name": "1916&5972.ipynb",
      "provenance": [],
      "authorship_tag": "ABX9TyM5mFiJlgAwsFohaOb4jbjQ",
      "include_colab_link": true
    },
    "kernelspec": {
      "name": "python3",
      "display_name": "Python 3"
    },
    "language_info": {
      "name": "python"
    }
  },
  "cells": [
    {
      "cell_type": "markdown",
      "metadata": {
        "id": "view-in-github",
        "colab_type": "text"
      },
      "source": [
        "<a href=\"https://colab.research.google.com/github/apuhapu/algorithm_study/blob/main/1916%265972.ipynb\" target=\"_parent\"><img src=\"https://colab.research.google.com/assets/colab-badge.svg\" alt=\"Open In Colab\"/></a>"
      ]
    },
    {
      "cell_type": "markdown",
      "source": [
        "https://www.acmicpc.net/problem/1916"
      ],
      "metadata": {
        "id": "3CnGYtp7zPlI"
      }
    },
    {
      "cell_type": "code",
      "execution_count": null,
      "metadata": {
        "id": "om_X-paEzEhz"
      },
      "outputs": [],
      "source": [
        "import heapq\n",
        "\n",
        "v = int(input())\n",
        "e = int(input())\n",
        "graph = [[] for _ in range(v+1)]\n",
        "\n",
        "for _ in range(e):\n",
        "    a, b, w = map(int, input().rstrip().split())\n",
        "    graph[a].append((w,b))\n",
        "\n",
        "start, end = map(int, input().split())\n",
        "\n",
        "def dijkstra(graph, start):\n",
        "    dis = [float('inf')] * (v+1)\n",
        "    dis[start] = 0\n",
        "    heap = []\n",
        "    heapq.heappush(heap,(0, start))\n",
        "\n",
        "    while heap:\n",
        "        # x : 꺼낸 w, y : 꺼낸 노드\n",
        "        x, y = heapq.heappop(heap)\n",
        "\n",
        "        # 꺼낸 w가 기존 dis값보다 크면 무시\n",
        "        if dis[y] < x:\n",
        "            continue\n",
        "        \n",
        "        # 꺼낸 노드와 연결된 간선\n",
        "        for w, b in graph[y]:\n",
        "            distance = x + w\n",
        "            if distance < dis[b]:\n",
        "                dis[b] = distance\n",
        "                heapq.heappush(heap, (distance, b))\n",
        "\n",
        "    return dis\n",
        "\n",
        "output = dijkstra(graph, start)\n",
        "print(output[end])"
      ]
    },
    {
      "cell_type": "markdown",
      "source": [
        "https://www.acmicpc.net/problem/5972"
      ],
      "metadata": {
        "id": "vmE-DxSC0ldJ"
      }
    },
    {
      "cell_type": "code",
      "source": [
        "import heapq\n",
        "\n",
        "v, e = map(int, input().split())\n",
        "graph = [[] for _ in range(v+1)]\n",
        "\n",
        "for _ in range(e):\n",
        "    a, b, w = map(int, input().rstrip().split())\n",
        "    graph[a].append((w,b))\n",
        "    graph[b].append((w,a))\n",
        "\n",
        "start, end = 1, v\n",
        "\n",
        "def dijkstra(graph, start):\n",
        "    dis = [float('inf')] * (v+1)\n",
        "    dis[start] = 0\n",
        "    heap = []\n",
        "    heapq.heappush(heap,(0, start))\n",
        "\n",
        "    while heap:\n",
        "        # x : 꺼낸 w, y : 꺼낸 노드\n",
        "        x, y = heapq.heappop(heap)\n",
        "\n",
        "        # 꺼낸 w가 기존 dis값보다 크면 무시\n",
        "        if dis[y] < x:\n",
        "            continue\n",
        "        \n",
        "        # 꺼낸 노드와 연결된 간선\n",
        "        for w, b in graph[y]:\n",
        "            distance = x + w\n",
        "            if distance < dis[b]:\n",
        "                dis[b] = distance\n",
        "                heapq.heappush(heap, (distance, b))\n",
        "\n",
        "    return dis\n",
        "\n",
        "output = dijkstra(graph, start)\n",
        "print(output[end])"
      ],
      "metadata": {
        "id": "5ZB1Dq-j0kiU"
      },
      "execution_count": null,
      "outputs": []
    }
  ]
}

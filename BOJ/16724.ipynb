{
  "nbformat": 4,
  "nbformat_minor": 0,
  "metadata": {
    "colab": {
      "provenance": [],
      "authorship_tag": "ABX9TyPE6i2erYprbR4OmrhYcfHK",
      "include_colab_link": true
    },
    "kernelspec": {
      "name": "python3",
      "display_name": "Python 3"
    },
    "language_info": {
      "name": "python"
    }
  },
  "cells": [
    {
      "cell_type": "markdown",
      "metadata": {
        "id": "view-in-github",
        "colab_type": "text"
      },
      "source": [
        "<a href=\"https://colab.research.google.com/github/apuhapu/algorithm_study/blob/main/BOJ/16724.ipynb\" target=\"_parent\"><img src=\"https://colab.research.google.com/assets/colab-badge.svg\" alt=\"Open In Colab\"/></a>"
      ]
    },
    {
      "cell_type": "markdown",
      "source": [
        "https://www.acmicpc.net/problem/16724"
      ],
      "metadata": {
        "id": "7EBloRG20Vgx"
      }
    },
    {
      "cell_type": "code",
      "execution_count": 2,
      "metadata": {
        "colab": {
          "base_uri": "https://localhost:8080/"
        },
        "id": "hW-19IR70NI9",
        "outputId": "d1a4e9a2-5e6d-433a-e9ec-2ee395ea7240"
      },
      "outputs": [
        {
          "name": "stdout",
          "output_type": "stream",
          "text": [
            "3 4\n",
            "DLLL\n",
            "DRLU\n",
            "RRRU\n"
          ]
        }
      ],
      "source": [
        "n, m = map(int, input().rstrip().split())\n",
        "graph = [[]*m for _ in range(n)]\n",
        "for i in range(n):\n",
        "    graph[i] = list(str(input().rstrip()))"
      ]
    },
    {
      "cell_type": "code",
      "source": [
        "graph"
      ],
      "metadata": {
        "colab": {
          "base_uri": "https://localhost:8080/"
        },
        "id": "BjsHA0Ol09Hi",
        "outputId": "51394936-5474-44d9-bd5e-12d6a51c508c"
      },
      "execution_count": 3,
      "outputs": [
        {
          "output_type": "execute_result",
          "data": {
            "text/plain": [
              "[['D', 'L', 'L', 'L'], ['D', 'R', 'L', 'U'], ['R', 'R', 'R', 'U']]"
            ]
          },
          "metadata": {},
          "execution_count": 3
        }
      ]
    },
    {
      "cell_type": "code",
      "source": [
        "new_graph = [[] for _ in range(n*m)]"
      ],
      "metadata": {
        "id": "chE6RG6E1hB1"
      },
      "execution_count": 8,
      "outputs": []
    },
    {
      "cell_type": "code",
      "source": [
        "idx = 0\n",
        "for i in range(n):\n",
        "    for j in range(m):\n",
        "        if graph[i][j] == 'U':\n",
        "            new_graph[idx].append(idx-m)\n",
        "            new_graph[idx-m].append(idx)\n",
        "        elif graph[i][j] == 'D':\n",
        "            new_graph[idx].append(idx+m)\n",
        "            new_graph[idx+m].append(idx)\n",
        "        elif graph[i][j] == 'L':\n",
        "            new_graph[idx].append(idx-1)\n",
        "            new_graph[idx-1].append(idx)\n",
        "        elif graph[i][j] == 'R':\n",
        "            new_graph[idx].append(idx+1)\n",
        "            new_graph[idx+1].append(idx)\n",
        "        idx += 1"
      ],
      "metadata": {
        "id": "wMSWXNPg1mkY"
      },
      "execution_count": 9,
      "outputs": []
    },
    {
      "cell_type": "code",
      "source": [
        "new_graph"
      ],
      "metadata": {
        "colab": {
          "base_uri": "https://localhost:8080/"
        },
        "id": "WQP72X4V2g8x",
        "outputId": "b8e74d11-4fac-4cd7-b018-9710aa9dbc23"
      },
      "execution_count": 11,
      "outputs": [
        {
          "output_type": "execute_result",
          "data": {
            "text/plain": [
              "[[4, 1],\n",
              " [0, 2],\n",
              " [1, 3],\n",
              " [2, 7],\n",
              " [0, 8],\n",
              " [6, 6],\n",
              " [5, 5],\n",
              " [3, 11],\n",
              " [4, 9],\n",
              " [8, 10],\n",
              " [9, 11],\n",
              " [10, 7]]"
            ]
          },
          "metadata": {},
          "execution_count": 11
        }
      ]
    },
    {
      "cell_type": "code",
      "source": [
        "from collections import deque"
      ],
      "metadata": {
        "id": "1V8MzLqa3rIJ"
      },
      "execution_count": 12,
      "outputs": []
    },
    {
      "cell_type": "code",
      "source": [
        "def bfs(k):\n",
        "    global cnt\n",
        "    que = deque([k])\n",
        "    visited[k] = True\n",
        "    while que:\n",
        "        x = que.popleft()\n",
        "        for y in new_graph[x]:\n",
        "            if not visited[y]:\n",
        "                visited[y] = True\n",
        "                que.append(y)\n",
        "    cnt += 1"
      ],
      "metadata": {
        "id": "R-1znSVx3nXf"
      },
      "execution_count": 13,
      "outputs": []
    },
    {
      "cell_type": "code",
      "source": [
        "cnt = 0\n",
        "visited = [False]*(n*m)\n",
        "for i in range(n*m):\n",
        "    if not visited[i]:\n",
        "        bfs(i)"
      ],
      "metadata": {
        "id": "BUE1tp_o2x0v"
      },
      "execution_count": 14,
      "outputs": []
    },
    {
      "cell_type": "code",
      "source": [
        "print(cnt)"
      ],
      "metadata": {
        "colab": {
          "base_uri": "https://localhost:8080/"
        },
        "id": "RmciqALB5tiQ",
        "outputId": "f23decfb-157a-40d8-ca23-75d90ac40875"
      },
      "execution_count": 15,
      "outputs": [
        {
          "output_type": "stream",
          "name": "stdout",
          "text": [
            "2\n"
          ]
        }
      ]
    },
    {
      "cell_type": "markdown",
      "source": [
        "1차 제출"
      ],
      "metadata": {
        "id": "LXaeaoYu5yKe"
      }
    },
    {
      "cell_type": "code",
      "source": [
        "from collections import deque\n",
        "import sys\n",
        "\n",
        "input = sys.stdin.readline\n",
        "\n",
        "def bfs(k):\n",
        "    global cnt\n",
        "    que = deque([k])\n",
        "    visited[k] = True\n",
        "    while que:\n",
        "        x = que.popleft()\n",
        "        for y in new_graph[x]:\n",
        "            if not visited[y]:\n",
        "                visited[y] = True\n",
        "                que.append(y)\n",
        "    cnt += 1\n",
        "\n",
        "n, m = map(int, input().rstrip().split())\n",
        "graph = [[]*m for _ in range(n)]\n",
        "for i in range(n):\n",
        "    graph[i] = list(str(input().rstrip()))\n",
        "\n",
        "new_graph = [[] for _ in range(n*m)]  # 2차원 idx >> 1차원 idx\n",
        "\n",
        "idx = 0\n",
        "for i in range(n):\n",
        "    for j in range(m):\n",
        "        if graph[i][j] == 'U':\n",
        "            new_graph[idx].append(idx-m)\n",
        "            new_graph[idx-m].append(idx)\n",
        "        elif graph[i][j] == 'D':\n",
        "            new_graph[idx].append(idx+m)\n",
        "            new_graph[idx+m].append(idx)\n",
        "        elif graph[i][j] == 'L':\n",
        "            new_graph[idx].append(idx-1)\n",
        "            new_graph[idx-1].append(idx)\n",
        "        elif graph[i][j] == 'R':\n",
        "            new_graph[idx].append(idx+1)\n",
        "            new_graph[idx+1].append(idx)\n",
        "        idx += 1\n",
        "\n",
        "cnt = 0\n",
        "visited = [False]*(n*m)\n",
        "for i in range(n*m):\n",
        "    if not visited[i]:\n",
        "        bfs(i)\n",
        "\n",
        "print(cnt)"
      ],
      "metadata": {
        "id": "62c4UybD51oJ"
      },
      "execution_count": null,
      "outputs": []
    }
  ]
}
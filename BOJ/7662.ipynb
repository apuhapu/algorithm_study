{
  "nbformat": 4,
  "nbformat_minor": 0,
  "metadata": {
    "colab": {
      "provenance": [],
      "authorship_tag": "ABX9TyMN+DO+ZzLLBdrIjd5pCmX5",
      "include_colab_link": true
    },
    "kernelspec": {
      "name": "python3",
      "display_name": "Python 3"
    },
    "language_info": {
      "name": "python"
    }
  },
  "cells": [
    {
      "cell_type": "markdown",
      "metadata": {
        "id": "view-in-github",
        "colab_type": "text"
      },
      "source": [
        "<a href=\"https://colab.research.google.com/github/apuhapu/algorithm_study/blob/main/BOJ7662.ipynb\" target=\"_parent\"><img src=\"https://colab.research.google.com/assets/colab-badge.svg\" alt=\"Open In Colab\"/></a>"
      ]
    },
    {
      "cell_type": "markdown",
      "source": [
        "https://www.acmicpc.net/problem/7662"
      ],
      "metadata": {
        "id": "nfDVXCSllvSu"
      }
    },
    {
      "cell_type": "code",
      "execution_count": 1,
      "metadata": {
        "id": "b_2Xcromk1fW"
      },
      "outputs": [],
      "source": [
        "import heapq as hq\n",
        "# import sys\n",
        "# input = sys.stdin.readline"
      ]
    },
    {
      "cell_type": "code",
      "source": [
        "def insert(n,k):\n",
        "    hq.heappush(heap_min, (n, k))\n",
        "    hq.heappush(heap_max, (-n, n, k))\n",
        "\n",
        "def delete(n, k):\n",
        "    if n == 1:  # 최대값 제거\n",
        "        while heap_max:\n",
        "            _, _, b = hq.heappop(heap_max)\n",
        "            if visited[b]:  # 이미 버린 숫자\n",
        "                pass\n",
        "            else:   # 처음 버리는 숫자\n",
        "                visited[b] = True\n",
        "                break\n",
        "\n",
        "    else:   # 최소값 제거\n",
        "        while heap_min:\n",
        "            _, b = hq.heappop(heap_min)\n",
        "            if visited[b]:  # 이미 버린 숫자\n",
        "                pass\n",
        "            else:   # 처음 버리는 숫자\n",
        "                visited[b] = True\n",
        "                break"
      ],
      "metadata": {
        "id": "PfW-gaRarN1p"
      },
      "execution_count": 12,
      "outputs": []
    },
    {
      "cell_type": "code",
      "source": [
        "t = int(input())\n",
        "for _ in range(t):\n",
        "    k = int(input())\n",
        "    heap_min = []\n",
        "    heap_max = []\n",
        "    visited = [False]*(k)\n",
        "\n",
        "    for i in range(k):\n",
        "        op, n = input().rstrip().split()\n",
        "        n = int(n)\n",
        "\n",
        "        if op == \"I\":   # 입력\n",
        "            insert(n, i)\n",
        "        else:   # 삭제\n",
        "            delete(n, i)\n",
        "\n",
        "    if heap_min and heap_max:\n",
        "        minValue = heap_min[0][0]\n",
        "        maxValue = heap_max[0][1]\n",
        "        print(maxValue, minValue)\n",
        "    else:\n",
        "        print('EMPTY')"
      ],
      "metadata": {
        "colab": {
          "base_uri": "https://localhost:8080/"
        },
        "id": "nR1hZdRSl48O",
        "outputId": "f8a120c4-9d3b-4086-b40d-44c9d7e80b3f"
      },
      "execution_count": 19,
      "outputs": [
        {
          "output_type": "stream",
          "name": "stdout",
          "text": [
            "1\n",
            "4\n",
            "I 40\n",
            "I 40\n",
            "D 1\n",
            "D 1\n",
            "EMPTY\n"
          ]
        }
      ]
    },
    {
      "cell_type": "markdown",
      "source": [
        "1차 수정\n",
        "\n",
        " 처음엔 출력부분에서 heap_min의 공백 여부만 확인 했는데 큰 값만 여러번 뽑았을 경우 min에 남아있을 수 있기 때문에 둘 다 확인"
      ],
      "metadata": {
        "id": "V2_vW01r4CeT"
      }
    },
    {
      "cell_type": "code",
      "source": [
        "t = int(input())\n",
        "for _ in range(t):\n",
        "    k = int(input())\n",
        "    heap_min = []\n",
        "    heap_max = []\n",
        "    visited = [False]*(k)\n",
        "\n",
        "    for i in range(k):\n",
        "        op, n = input().rstrip().split()\n",
        "        n = int(n)\n",
        "\n",
        "        if op == \"I\":   # 입력\n",
        "            insert(n, i)\n",
        "        else:   # 삭제\n",
        "            delete(n, i)\n",
        "\n",
        "    # 최대 최소 값 찾기\n",
        "    tic = True  # que의 empty여부 (F면 empty)\n",
        "\n",
        "    while heap_min:\n",
        "        a, b = hq.heappop(heap_min)\n",
        "        if visited[b]:  # 이미 삭제한 원소\n",
        "            pass\n",
        "        else:\n",
        "            minValue = a\n",
        "            break\n",
        "    else: # que에 원소가 없는 경우\n",
        "        print('EMPTY')\n",
        "        tic = False   # max를 확인할 필요 없음\n",
        "\n",
        "    if tic:   # que에 원소가 남아 있을 경우\n",
        "        while heap_max:\n",
        "            _, a, b = hq.heappop(heap_max)\n",
        "            if visited[b]:  # 이미 삭제한 원소\n",
        "                pass\n",
        "            else:\n",
        "                maxValue = a\n",
        "                break\n",
        "\n",
        "        print(maxValue, minValue)"
      ],
      "metadata": {
        "colab": {
          "base_uri": "https://localhost:8080/"
        },
        "id": "a0M8D0xd5rg3",
        "outputId": "3adb4cb4-8c8a-4a59-ccd0-67ccb8141a70"
      },
      "execution_count": 20,
      "outputs": [
        {
          "output_type": "stream",
          "name": "stdout",
          "text": [
            "1\n",
            "3\n",
            "I 72\n",
            "I -34\n",
            "I 0\n",
            "72 -34\n"
          ]
        }
      ]
    },
    {
      "cell_type": "markdown",
      "source": [
        "2차 수정\n",
        "\n",
        "최대 최소값을 찾을 때 그 값이 이미 삭제한 값 일수도 있으므로 그를 확인하는 과정을 추가"
      ],
      "metadata": {
        "id": "QZLalrY48nd_"
      }
    }
  ]
}

{
  "nbformat": 4,
  "nbformat_minor": 0,
  "metadata": {
    "colab": {
      "name": "5430.ipynb",
      "provenance": [],
      "authorship_tag": "ABX9TyPBK38RjmI2ryv4bVq+z7Vu",
      "include_colab_link": true
    },
    "kernelspec": {
      "name": "python3",
      "display_name": "Python 3"
    },
    "language_info": {
      "name": "python"
    }
  },
  "cells": [
    {
      "cell_type": "markdown",
      "metadata": {
        "id": "view-in-github",
        "colab_type": "text"
      },
      "source": [
        "<a href=\"https://colab.research.google.com/github/apuhapu/algorithm_study/blob/main/5430.ipynb\" target=\"_parent\"><img src=\"https://colab.research.google.com/assets/colab-badge.svg\" alt=\"Open In Colab\"/></a>"
      ]
    },
    {
      "cell_type": "markdown",
      "source": [
        "https://www.acmicpc.net/problem/5430"
      ],
      "metadata": {
        "id": "6A24r8rYhRr6"
      }
    },
    {
      "cell_type": "code",
      "execution_count": 1,
      "metadata": {
        "id": "UhGXfML_hQKo"
      },
      "outputs": [],
      "source": [
        "import sys\n",
        "from collections import deque"
      ]
    },
    {
      "cell_type": "code",
      "source": [
        "t = int(input())\n",
        "for _ in range(t):\n",
        "    st = input().rstrip()\n",
        "    n = int(input())\n",
        "    lst = list(map(int, input().lstrip('[').rstrip(']').split(',')))"
      ],
      "metadata": {
        "colab": {
          "base_uri": "https://localhost:8080/"
        },
        "id": "L9XoF9tOhf5z",
        "outputId": "eb5860e9-4bff-4299-bbc6-1cfb7966de12"
      },
      "execution_count": 16,
      "outputs": [
        {
          "name": "stdout",
          "output_type": "stream",
          "text": [
            "1\n",
            "RDD\n",
            "4\n",
            "[1,2,3,4]\n"
          ]
        }
      ]
    },
    {
      "cell_type": "code",
      "source": [
        "que = deque(lst)"
      ],
      "metadata": {
        "id": "G_W6vYTUotRj"
      },
      "execution_count": 17,
      "outputs": []
    },
    {
      "cell_type": "code",
      "source": [
        "for x in st:\n",
        "    if x == 'R':\n",
        "        que.reverse()\n",
        "    elif x == 'D':\n",
        "        if que:\n",
        "            que.popleft()\n",
        "        else:\n",
        "            print('error')\n",
        "            break\n",
        "else:\n",
        "    print(list(que))"
      ],
      "metadata": {
        "colab": {
          "base_uri": "https://localhost:8080/"
        },
        "id": "mz19d5wbo36g",
        "outputId": "4ac6cdda-7473-47ae-83b9-c002a9628c71"
      },
      "execution_count": 18,
      "outputs": [
        {
          "output_type": "stream",
          "name": "stdout",
          "text": [
            "[2, 1]\n"
          ]
        }
      ]
    },
    {
      "cell_type": "code",
      "source": [
        "import sys\n",
        "from collections import deque\n",
        "#input = sys.stdin.readline\n",
        "\n",
        "t = int(input())\n",
        "for _ in range(t):\n",
        "    st = input().rstrip()\n",
        "    n = int(input())\n",
        "    lst = list(map(int, input().lstrip('[').rstrip(']').split(',')))\n",
        "    for x in st:\n",
        "        if x == 'R':\n",
        "            que.reverse()\n",
        "        elif x == 'D':\n",
        "            if que:\n",
        "                que.popleft()\n",
        "            else:\n",
        "                print('error')\n",
        "                break\n",
        "    else:\n",
        "        print(list(que))"
      ],
      "metadata": {
        "colab": {
          "base_uri": "https://localhost:8080/",
          "height": 541
        },
        "id": "R8S0gP28rSDb",
        "outputId": "e2cddee7-9415-4980-a9c5-27d19bad0ffd"
      },
      "execution_count": 19,
      "outputs": [
        {
          "name": "stdout",
          "output_type": "stream",
          "text": [
            "4\n",
            "RDD\n",
            "4\n",
            "[1,2,3,4]\n",
            "[]\n",
            "DD\n",
            "1\n",
            "[42]\n",
            "error\n",
            "RRD\n",
            "6\n",
            "[1,1,2,3,5,8]\n",
            "error\n",
            "D\n",
            "0\n",
            "[]\n"
          ]
        },
        {
          "output_type": "error",
          "ename": "ValueError",
          "evalue": "ignored",
          "traceback": [
            "\u001b[0;31m---------------------------------------------------------------------------\u001b[0m",
            "\u001b[0;31mValueError\u001b[0m                                Traceback (most recent call last)",
            "\u001b[0;32m<ipython-input-19-634aa27b3b2c>\u001b[0m in \u001b[0;36m<module>\u001b[0;34m\u001b[0m\n\u001b[1;32m      7\u001b[0m     \u001b[0mst\u001b[0m \u001b[0;34m=\u001b[0m \u001b[0minput\u001b[0m\u001b[0;34m(\u001b[0m\u001b[0;34m)\u001b[0m\u001b[0;34m.\u001b[0m\u001b[0mrstrip\u001b[0m\u001b[0;34m(\u001b[0m\u001b[0;34m)\u001b[0m\u001b[0;34m\u001b[0m\u001b[0;34m\u001b[0m\u001b[0m\n\u001b[1;32m      8\u001b[0m     \u001b[0mn\u001b[0m \u001b[0;34m=\u001b[0m \u001b[0mint\u001b[0m\u001b[0;34m(\u001b[0m\u001b[0minput\u001b[0m\u001b[0;34m(\u001b[0m\u001b[0;34m)\u001b[0m\u001b[0;34m)\u001b[0m\u001b[0;34m\u001b[0m\u001b[0;34m\u001b[0m\u001b[0m\n\u001b[0;32m----> 9\u001b[0;31m     \u001b[0mlst\u001b[0m \u001b[0;34m=\u001b[0m \u001b[0mlist\u001b[0m\u001b[0;34m(\u001b[0m\u001b[0mmap\u001b[0m\u001b[0;34m(\u001b[0m\u001b[0mint\u001b[0m\u001b[0;34m,\u001b[0m \u001b[0minput\u001b[0m\u001b[0;34m(\u001b[0m\u001b[0;34m)\u001b[0m\u001b[0;34m.\u001b[0m\u001b[0mlstrip\u001b[0m\u001b[0;34m(\u001b[0m\u001b[0;34m'['\u001b[0m\u001b[0;34m)\u001b[0m\u001b[0;34m.\u001b[0m\u001b[0mrstrip\u001b[0m\u001b[0;34m(\u001b[0m\u001b[0;34m']'\u001b[0m\u001b[0;34m)\u001b[0m\u001b[0;34m.\u001b[0m\u001b[0msplit\u001b[0m\u001b[0;34m(\u001b[0m\u001b[0;34m','\u001b[0m\u001b[0;34m)\u001b[0m\u001b[0;34m)\u001b[0m\u001b[0;34m)\u001b[0m\u001b[0;34m\u001b[0m\u001b[0;34m\u001b[0m\u001b[0m\n\u001b[0m\u001b[1;32m     10\u001b[0m     \u001b[0;32mfor\u001b[0m \u001b[0mx\u001b[0m \u001b[0;32min\u001b[0m \u001b[0mst\u001b[0m\u001b[0;34m:\u001b[0m\u001b[0;34m\u001b[0m\u001b[0;34m\u001b[0m\u001b[0m\n\u001b[1;32m     11\u001b[0m         \u001b[0;32mif\u001b[0m \u001b[0mx\u001b[0m \u001b[0;34m==\u001b[0m \u001b[0;34m'R'\u001b[0m\u001b[0;34m:\u001b[0m\u001b[0;34m\u001b[0m\u001b[0;34m\u001b[0m\u001b[0m\n",
            "\u001b[0;31mValueError\u001b[0m: invalid literal for int() with base 10: ''"
          ]
        }
      ]
    },
    {
      "cell_type": "markdown",
      "source": [
        "공백이 들어올 경우 변경방식에서 오류가 생긴다"
      ],
      "metadata": {
        "id": "SW1sSnN9sSVK"
      }
    },
    {
      "cell_type": "code",
      "source": [
        "import sys\n",
        "from collections import deque\n",
        "#input = sys.stdin.readline\n",
        "\n",
        "t = int(input().rstrip())\n",
        "for _ in range(t):\n",
        "    st = input().rstrip()\n",
        "    n = int(input().rstrip())\n",
        "    p = input().rstrip()\n",
        "    l = p.lstrip('[').rstrip(']')\n",
        "    if l != '':\n",
        "        lst = list(map(int, l.split(',')))\n",
        "    else:\n",
        "        lst = []\n",
        "\n",
        "    que = deque(lst)\n",
        "    switch = False\n",
        "    for x in st:\n",
        "        if x == 'R':\n",
        "            switch = not switch\n",
        "        elif x == 'D':\n",
        "            if que:\n",
        "                if not switch:\n",
        "                    que.popleft()\n",
        "                else:\n",
        "                    que.pop()\n",
        "            else:\n",
        "                print('error')\n",
        "                break\n",
        "    else:\n",
        "        if switch:\n",
        "            que.reverse()\n",
        "        print('['+','.join(map(str,list(que)))+']')"
      ],
      "metadata": {
        "colab": {
          "base_uri": "https://localhost:8080/"
        },
        "id": "vsAqn6QEsVxK",
        "outputId": "67dd8a10-ce20-4d5d-ecc1-f5e5eb7f6323"
      },
      "execution_count": 39,
      "outputs": [
        {
          "output_type": "stream",
          "name": "stdout",
          "text": [
            "1\n",
            "D\n",
            "5\n",
            "[1321,351,235,574,1571]\n",
            "[351,235,574,1571]\n"
          ]
        }
      ]
    },
    {
      "cell_type": "markdown",
      "source": [
        "통과 >> 시간초과가 있어서 reverse를 하지 않고 스위치를 추가하여 마지막에 출력할때만 reverse를 하는 방식을 채택했다"
      ],
      "metadata": {
        "id": "WVtAJywByo9s"
      }
    }
  ]
}

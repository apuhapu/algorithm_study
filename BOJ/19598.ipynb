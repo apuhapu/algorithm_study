{
  "nbformat": 4,
  "nbformat_minor": 0,
  "metadata": {
    "colab": {
      "name": "19598.ipynb",
      "provenance": [],
      "authorship_tag": "ABX9TyNe3Cws8mREB8tewpPuMJw2",
      "include_colab_link": true
    },
    "kernelspec": {
      "name": "python3",
      "display_name": "Python 3"
    },
    "language_info": {
      "name": "python"
    }
  },
  "cells": [
    {
      "cell_type": "markdown",
      "metadata": {
        "id": "view-in-github",
        "colab_type": "text"
      },
      "source": [
        "<a href=\"https://colab.research.google.com/github/apuhapu/algorithm_study/blob/main/19598.ipynb\" target=\"_parent\"><img src=\"https://colab.research.google.com/assets/colab-badge.svg\" alt=\"Open In Colab\"/></a>"
      ]
    },
    {
      "cell_type": "markdown",
      "source": [
        "https://www.acmicpc.net/problem/19598"
      ],
      "metadata": {
        "id": "jmnds_0xVvMy"
      }
    },
    {
      "cell_type": "code",
      "execution_count": 26,
      "metadata": {
        "colab": {
          "base_uri": "https://localhost:8080/"
        },
        "id": "WvTcxb4sVsul",
        "outputId": "ceb39a0e-8f12-4b48-fc4a-9c0a7ff0a920"
      },
      "outputs": [
        {
          "name": "stdout",
          "output_type": "stream",
          "text": [
            "3\n",
            "0 40\n",
            "15 30\n",
            "5 10\n"
          ]
        }
      ],
      "source": [
        "import heapq\n",
        "n = int(input())\n",
        "heap = []\n",
        "for _ in range(n):\n",
        "    heapq.heappush(heap,tuple(map(int, input().rstrip().split())))"
      ]
    },
    {
      "cell_type": "code",
      "source": [
        "def ab(l):\n",
        "    output = 10**17\n",
        "    for x in l:\n",
        "        if x >= 0:\n",
        "            output = min(output, x)\n",
        "    return output"
      ],
      "metadata": {
        "id": "L7zfW3TLadZ1"
      },
      "execution_count": 23,
      "outputs": []
    },
    {
      "cell_type": "code",
      "source": [
        "lst = [0]\n",
        "cnt = 1\n",
        "while heap:\n",
        "    a,b = heapq.heappop(heap)\n",
        "    check = []\n",
        "    for x in range(cnt):\n",
        "        check.append(a - lst[x])\n",
        "    # 회의실이 부족할 때\n",
        "    if max(check) < 0:\n",
        "        cnt += 1\n",
        "        lst.append(b)\n",
        "    else:\n",
        "        idx = check.index(ab(check))\n",
        "        lst[idx] = b\n",
        "print(cnt)"
      ],
      "metadata": {
        "colab": {
          "base_uri": "https://localhost:8080/"
        },
        "id": "riR1782-Wbg9",
        "outputId": "1cdf0cbd-ca45-4caf-ceea-6dd6023f1b15"
      },
      "execution_count": 24,
      "outputs": [
        {
          "output_type": "stream",
          "name": "stdout",
          "text": [
            "[10]\n",
            "[20]\n"
          ]
        }
      ]
    },
    {
      "cell_type": "code",
      "source": [
        "print(lst)"
      ],
      "metadata": {
        "colab": {
          "base_uri": "https://localhost:8080/"
        },
        "id": "mytAZO14ZnLC",
        "outputId": "d778ebbd-1fd1-45ec-9086-6b33160ea7d9"
      },
      "execution_count": 20,
      "outputs": [
        {
          "output_type": "stream",
          "name": "stdout",
          "text": [
            "[40, 30]\n"
          ]
        }
      ]
    },
    {
      "cell_type": "code",
      "source": [
        "print(check)"
      ],
      "metadata": {
        "colab": {
          "base_uri": "https://localhost:8080/"
        },
        "id": "UJ7S9coAZiSR",
        "outputId": "99b1d1af-779e-4839-c60c-f5228ee4c012"
      },
      "execution_count": 21,
      "outputs": [
        {
          "output_type": "stream",
          "name": "stdout",
          "text": [
            "[-25, 5]\n"
          ]
        }
      ]
    },
    {
      "cell_type": "code",
      "source": [
        "lst = [0]\n",
        "cnt = 1\n",
        "while heap:\n",
        "    a,b = heapq.heappop(heap)\n",
        "    check = []\n",
        "    for x in range(cnt):\n",
        "        if a >= lst[x]:\n",
        "            lst[x] = b\n",
        "    else:\n",
        "    # 회의실이 부족할 때\n",
        "        cnt += 1\n",
        "        lst.append(b)\n",
        "\n",
        "print(cnt)"
      ],
      "metadata": {
        "colab": {
          "base_uri": "https://localhost:8080/"
        },
        "id": "_hQEi0e7bQYb",
        "outputId": "88b4b9dd-80fa-4883-9a80-76e53666c11f"
      },
      "execution_count": 27,
      "outputs": [
        {
          "output_type": "stream",
          "name": "stdout",
          "text": [
            "4\n"
          ]
        }
      ]
    },
    {
      "cell_type": "code",
      "source": [
        "import heapq\n",
        "n = int(input())\n",
        "heap = []\n",
        "for _ in range(n):\n",
        "    heapq.heappush(heap,tuple(map(int, input().rstrip().split())))"
      ],
      "metadata": {
        "colab": {
          "base_uri": "https://localhost:8080/"
        },
        "id": "hMtA20HJckDF",
        "outputId": "8da860d9-1228-45cf-8fef-6061c51a3ec9"
      },
      "execution_count": 28,
      "outputs": [
        {
          "name": "stdout",
          "output_type": "stream",
          "text": [
            "3\n",
            "0 40\n",
            "15 30\n",
            "5 10\n"
          ]
        }
      ]
    },
    {
      "cell_type": "code",
      "source": [
        "lst = [0]\n",
        "cnt = 1\n",
        "while heap:\n",
        "    a,b = heapq.heappop(heap)\n",
        "    check = []\n",
        "    for x in range(cnt):\n",
        "        if a >= lst[x]:\n",
        "            lst[x] = b\n",
        "            break\n",
        "    else:\n",
        "    # 회의실이 부족할 때\n",
        "        cnt += 1\n",
        "        lst.append(b)\n",
        "\n",
        "print(cnt)"
      ],
      "metadata": {
        "colab": {
          "base_uri": "https://localhost:8080/"
        },
        "id": "X3UXJvX9clFO",
        "outputId": "7f484d83-7087-4dcb-af95-7ff93959eadc"
      },
      "execution_count": 29,
      "outputs": [
        {
          "output_type": "stream",
          "name": "stdout",
          "text": [
            "2\n"
          ]
        }
      ]
    },
    {
      "cell_type": "markdown",
      "source": [
        "처음에는 차이의 최소를 찾을려 했는데 어쩌피 힙에서 최소인 친구들만 나오니까 그런 고려는 필요가 없다."
      ],
      "metadata": {
        "id": "Uf4qSSUpfdO2"
      }
    }
  ]
}

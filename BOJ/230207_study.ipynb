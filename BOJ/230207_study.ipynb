{
  "nbformat": 4,
  "nbformat_minor": 0,
  "metadata": {
    "colab": {
      "provenance": [],
      "authorship_tag": "ABX9TyOTulaStnslYLaig5W28LaC",
      "include_colab_link": true
    },
    "kernelspec": {
      "name": "python3",
      "display_name": "Python 3"
    },
    "language_info": {
      "name": "python"
    }
  },
  "cells": [
    {
      "cell_type": "markdown",
      "metadata": {
        "id": "view-in-github",
        "colab_type": "text"
      },
      "source": [
        "<a href=\"https://colab.research.google.com/github/apuhapu/algorithm_study/blob/main/BOJ/230207_study.ipynb\" target=\"_parent\"><img src=\"https://colab.research.google.com/assets/colab-badge.svg\" alt=\"Open In Colab\"/></a>"
      ]
    },
    {
      "cell_type": "markdown",
      "source": [
        "https://www.acmicpc.net/problem/15886"
      ],
      "metadata": {
        "id": "FYJykyRRWSw8"
      }
    },
    {
      "cell_type": "code",
      "execution_count": null,
      "metadata": {
        "colab": {
          "base_uri": "https://localhost:8080/"
        },
        "id": "3nD5WkLVVHxz",
        "outputId": "24adf2b2-7966-4513-c51e-cd0830480db8"
      },
      "outputs": [
        {
          "name": "stdout",
          "output_type": "stream",
          "text": [
            "6\n",
            "EEWWEW\n"
          ]
        }
      ],
      "source": [
        "n = int(input())\n",
        "s = str(input().rstrip())"
      ]
    },
    {
      "cell_type": "code",
      "source": [
        "cnt = 0\n",
        "for i in range(n-1):\n",
        "    if s[i:i+2] == \"EW\":\n",
        "        cnt += 1\n",
        "print(cnt)"
      ],
      "metadata": {
        "colab": {
          "base_uri": "https://localhost:8080/"
        },
        "id": "owMpB-OyWoGR",
        "outputId": "4fc523d1-13ee-461c-e7b3-5eed0bd2ba3d"
      },
      "execution_count": null,
      "outputs": [
        {
          "output_type": "stream",
          "name": "stdout",
          "text": [
            "2\n"
          ]
        }
      ]
    },
    {
      "cell_type": "markdown",
      "source": [
        "https://www.acmicpc.net/problem/3182"
      ],
      "metadata": {
        "id": "T9CFwHj9XbIN"
      }
    },
    {
      "cell_type": "code",
      "source": [
        "n = int(input())\n",
        "graph = [0] * (n+1)\n",
        "for i in range(1,n+1):\n",
        "    graph[i] = int(input())"
      ],
      "metadata": {
        "colab": {
          "base_uri": "https://localhost:8080/"
        },
        "id": "4aZlpo1SXn2e",
        "outputId": "429aac9c-4688-4627-af13-01ef10973954"
      },
      "execution_count": null,
      "outputs": [
        {
          "name": "stdout",
          "output_type": "stream",
          "text": [
            "4\n",
            "2\n",
            "3\n",
            "4\n",
            "1\n"
          ]
        }
      ]
    },
    {
      "cell_type": "code",
      "source": [
        "graph"
      ],
      "metadata": {
        "colab": {
          "base_uri": "https://localhost:8080/"
        },
        "id": "p29bFxO7X_nU",
        "outputId": "b20880e7-0780-4a70-b0a7-52c5b80ac7ee"
      },
      "execution_count": null,
      "outputs": [
        {
          "output_type": "execute_result",
          "data": {
            "text/plain": [
              "[[], 2, 3, 4, 1]"
            ]
          },
          "metadata": {},
          "execution_count": 6
        }
      ]
    },
    {
      "cell_type": "code",
      "source": [
        "find_idx = 0\n",
        "max_cnt = 0\n",
        "for i in range(1,n+1):\n",
        "    visited = [False] * (n+1)\n",
        "    cnt = 1\n",
        "    cur = i\n",
        "    visited[i] = True\n",
        "    while True:\n",
        "        if not visited[graph[cur]]: # 방문 x\n",
        "            cur = graph[cur]\n",
        "            cnt += 1\n",
        "            visited[cur] = True\n",
        "        else:\n",
        "            if max_cnt < cnt:\n",
        "                find_idx = i\n",
        "                max_cnt = cnt\n",
        "            break\n",
        "print(find_idx)"
      ],
      "metadata": {
        "colab": {
          "base_uri": "https://localhost:8080/"
        },
        "id": "Jy-f8CjCYH1-",
        "outputId": "3636d053-5aaf-4349-ca5e-31f786b11d7b"
      },
      "execution_count": null,
      "outputs": [
        {
          "output_type": "stream",
          "name": "stdout",
          "text": [
            "1\n"
          ]
        }
      ]
    },
    {
      "cell_type": "markdown",
      "source": [
        "https://www.acmicpc.net/problem/25418"
      ],
      "metadata": {
        "id": "x6e2V7veZoFt"
      }
    },
    {
      "cell_type": "code",
      "source": [
        "a, k = map(int, input().rstrip().split())"
      ],
      "metadata": {
        "colab": {
          "base_uri": "https://localhost:8080/"
        },
        "id": "4AIA9qymZs56",
        "outputId": "e7a518c7-41b3-40c7-d99a-cf6f349d602e"
      },
      "execution_count": null,
      "outputs": [
        {
          "name": "stdout",
          "output_type": "stream",
          "text": [
            "7 77\n"
          ]
        }
      ]
    },
    {
      "cell_type": "code",
      "source": [
        "dp = [0] * (k+1)"
      ],
      "metadata": {
        "id": "nQuoud5UbRRN"
      },
      "execution_count": null,
      "outputs": []
    },
    {
      "cell_type": "code",
      "source": [
        "from collections import deque\n",
        "que = deque([a])"
      ],
      "metadata": {
        "id": "B3Gq6s7ObT1t"
      },
      "execution_count": null,
      "outputs": []
    },
    {
      "cell_type": "code",
      "source": [
        "a, k = map(int, input().rstrip().split())\n",
        "dp = [0] * (k+1)\n",
        "\n",
        "from collections import deque\n",
        "que = deque([a])\n",
        "\n",
        "while True:\n",
        "    a = que.popleft()\n",
        "    if dp[a+1] == 0:\n",
        "        dp[a+1] = dp[a] + 1\n",
        "        que.append(a+1)\n",
        "        if a+1 == k:\n",
        "            print(dp[a+1])\n",
        "            break\n",
        "    if 2*a<=k:\n",
        "        if dp[2*a] == 0:\n",
        "            dp[2*a] = dp[a] + 1\n",
        "            que.append(2*a)\n",
        "            if 2*a == k:\n",
        "                print(dp[2*a])\n",
        "                break"
      ],
      "metadata": {
        "colab": {
          "base_uri": "https://localhost:8080/"
        },
        "id": "fPcxApCIbaAv",
        "outputId": "df513016-3992-4858-c5f3-b632fc0069ae"
      },
      "execution_count": null,
      "outputs": [
        {
          "output_type": "stream",
          "name": "stdout",
          "text": [
            "7\n"
          ]
        }
      ]
    },
    {
      "cell_type": "markdown",
      "source": [
        "https://www.acmicpc.net/problem/3135"
      ],
      "metadata": {
        "id": "sVHThEU1dmL9"
      }
    },
    {
      "cell_type": "code",
      "source": [
        "from collections import deque\n",
        "\n",
        "a, b = map(int, input().rstrip().split())\n",
        "n = int(input())\n",
        "que = deque([])\n",
        "for _ in range(n):\n",
        "    que.append(int(input()))"
      ],
      "metadata": {
        "colab": {
          "base_uri": "https://localhost:8080/"
        },
        "id": "1O2c4-SCdm-F",
        "outputId": "0f08a176-bda2-4d24-ce25-b318e2ff9640"
      },
      "execution_count": null,
      "outputs": [
        {
          "name": "stdout",
          "output_type": "stream",
          "text": [
            "88 17\n",
            "3\n",
            "18\n",
            "1\n",
            "42\n"
          ]
        }
      ]
    },
    {
      "cell_type": "code",
      "source": [
        "def cnt_button(start, end, key = False):\n",
        "    if not key:\n",
        "        return abs(start-end)\n",
        "    else:\n",
        "        return abs(start-end)+1"
      ],
      "metadata": {
        "id": "v_jsnPhReYGP"
      },
      "execution_count": null,
      "outputs": []
    },
    {
      "cell_type": "code",
      "source": [
        "cnt = cnt_button(a,b)"
      ],
      "metadata": {
        "id": "xIA9sQN2ezc_"
      },
      "execution_count": null,
      "outputs": []
    },
    {
      "cell_type": "code",
      "source": [
        "while que:\n",
        "    k = que.popleft()\n",
        "    cnt = min(cnt, cnt_button(k,b,key = True))"
      ],
      "metadata": {
        "id": "RfPl0EFBe6Xe"
      },
      "execution_count": null,
      "outputs": []
    },
    {
      "cell_type": "code",
      "source": [
        "print(cnt)"
      ],
      "metadata": {
        "colab": {
          "base_uri": "https://localhost:8080/"
        },
        "id": "pepuWV4qfL7N",
        "outputId": "2d552889-67a7-4277-bdce-d0e8feb419b1"
      },
      "execution_count": null,
      "outputs": [
        {
          "output_type": "stream",
          "name": "stdout",
          "text": [
            "2\n"
          ]
        }
      ]
    },
    {
      "cell_type": "markdown",
      "source": [
        "https://www.acmicpc.net/problem/15312"
      ],
      "metadata": {
        "id": "iKAcIdJEfgBf"
      }
    },
    {
      "cell_type": "code",
      "source": [
        "A = list(str(input().rstrip()))\n",
        "B = list(str(input().rstrip()))"
      ],
      "metadata": {
        "colab": {
          "base_uri": "https://localhost:8080/"
        },
        "id": "szpaS9HvfhKy",
        "outputId": "8c4cd5e0-d4de-4c0f-e51b-63651405dc27"
      },
      "execution_count": null,
      "outputs": [
        {
          "name": "stdout",
          "output_type": "stream",
          "text": [
            "CJM\n",
            "HER\n"
          ]
        }
      ]
    },
    {
      "cell_type": "code",
      "source": [
        "C = []\n",
        "l = len(A)\n",
        "for i in range(l):\n",
        "    C.append(A[i])\n",
        "    C.append(B[i])"
      ],
      "metadata": {
        "id": "OrhqnIsPf2Ge"
      },
      "execution_count": null,
      "outputs": []
    },
    {
      "cell_type": "code",
      "source": [
        "C"
      ],
      "metadata": {
        "colab": {
          "base_uri": "https://localhost:8080/"
        },
        "id": "hdAufhaHgYM2",
        "outputId": "334916c6-9317-4afa-a770-4650b0c64158"
      },
      "execution_count": null,
      "outputs": [
        {
          "output_type": "execute_result",
          "data": {
            "text/plain": [
              "['C', 'H', 'J', 'E', 'M', 'R']"
            ]
          },
          "metadata": {},
          "execution_count": 41
        }
      ]
    },
    {
      "cell_type": "code",
      "source": [
        "lst = [[-1]*i for i in range(2*l,1,-1)]"
      ],
      "metadata": {
        "id": "kBgLs7c0ge1u"
      },
      "execution_count": null,
      "outputs": []
    },
    {
      "cell_type": "code",
      "source": [
        "lst"
      ],
      "metadata": {
        "colab": {
          "base_uri": "https://localhost:8080/"
        },
        "id": "_KExJOCbg74x",
        "outputId": "531d1d65-e0af-4305-f733-7e23a78f6480"
      },
      "execution_count": null,
      "outputs": [
        {
          "output_type": "execute_result",
          "data": {
            "text/plain": [
              "[[-1, -1, -1, -1, -1, -1],\n",
              " [-1, -1, -1, -1, -1],\n",
              " [-1, -1, -1, -1],\n",
              " [-1, -1, -1],\n",
              " [-1, -1]]"
            ]
          },
          "metadata": {},
          "execution_count": 43
        }
      ]
    },
    {
      "cell_type": "code",
      "source": [
        "def find_cnt(s):\n",
        "    char_cnt = [3, 2, 1, 2, 3, 3, 2, 3, 3, 2, 2, 1, 2, 2, 1, 2, 2, 2, 1, 2, 1, 1, 1, 2, 2, 1]\n",
        "    idx = ord(s)-65\n",
        "    return char_cnt[idx]"
      ],
      "metadata": {
        "id": "iOxFwODmhMIz"
      },
      "execution_count": null,
      "outputs": []
    },
    {
      "cell_type": "code",
      "source": [
        "for i in range(2*l):\n",
        "    lst[0][i] = find_cnt(C[i])"
      ],
      "metadata": {
        "id": "Nhn9ope7g-IP"
      },
      "execution_count": null,
      "outputs": []
    },
    {
      "cell_type": "code",
      "source": [
        "lst[0]"
      ],
      "metadata": {
        "colab": {
          "base_uri": "https://localhost:8080/"
        },
        "id": "cqjlrQQuhcfH",
        "outputId": "ae8b131e-91d6-44cc-b759-a19a891568ee"
      },
      "execution_count": null,
      "outputs": [
        {
          "output_type": "execute_result",
          "data": {
            "text/plain": [
              "[1, 3, 2, 3, 2, 2]"
            ]
          },
          "metadata": {},
          "execution_count": 48
        }
      ]
    },
    {
      "cell_type": "code",
      "source": [
        "for i in range(1,len(lst)):\n",
        "    for j in range(2*l-i):\n",
        "        lst[i][j] = (lst[i-1][j]+lst[i-1][j+1]) % 10"
      ],
      "metadata": {
        "id": "m_LTYtOPhh2S"
      },
      "execution_count": null,
      "outputs": []
    },
    {
      "cell_type": "code",
      "source": [
        "lst"
      ],
      "metadata": {
        "colab": {
          "base_uri": "https://localhost:8080/"
        },
        "id": "dY6WfxZTiVFw",
        "outputId": "17ce628e-9ef0-434c-e74f-7bb4db91c9f0"
      },
      "execution_count": null,
      "outputs": [
        {
          "output_type": "execute_result",
          "data": {
            "text/plain": [
              "[[1, 3, 2, 3, 2, 2], [4, 5, 5, 5, 4], [9, 0, 0, 9], [9, 0, 9], [9, 9]]"
            ]
          },
          "metadata": {},
          "execution_count": 52
        }
      ]
    },
    {
      "cell_type": "code",
      "source": [
        "print(lst[-1][0],lst[-1][1],sep=\"\")"
      ],
      "metadata": {
        "colab": {
          "base_uri": "https://localhost:8080/"
        },
        "id": "YJlTCGfLiano",
        "outputId": "e94ba98d-2549-4ba3-9a69-aab7bc5590e4"
      },
      "execution_count": null,
      "outputs": [
        {
          "output_type": "stream",
          "name": "stdout",
          "text": [
            "99\n"
          ]
        }
      ]
    }
  ]
}
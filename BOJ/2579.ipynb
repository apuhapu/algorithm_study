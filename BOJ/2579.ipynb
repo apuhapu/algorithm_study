{
  "nbformat": 4,
  "nbformat_minor": 0,
  "metadata": {
    "colab": {
      "name": "2579.ipynb",
      "provenance": [],
      "authorship_tag": "ABX9TyNHxr1rSyFspIl+jHKpL0G7",
      "include_colab_link": true
    },
    "kernelspec": {
      "name": "python3",
      "display_name": "Python 3"
    },
    "language_info": {
      "name": "python"
    }
  },
  "cells": [
    {
      "cell_type": "markdown",
      "metadata": {
        "id": "view-in-github",
        "colab_type": "text"
      },
      "source": [
        "<a href=\"https://colab.research.google.com/github/apuhapu/algorithm_study/blob/main/2579.ipynb\" target=\"_parent\"><img src=\"https://colab.research.google.com/assets/colab-badge.svg\" alt=\"Open In Colab\"/></a>"
      ]
    },
    {
      "cell_type": "markdown",
      "source": [
        "https://www.acmicpc.net/problem/2579"
      ],
      "metadata": {
        "id": "s4OzIIDEVDYn"
      }
    },
    {
      "cell_type": "code",
      "execution_count": 1,
      "metadata": {
        "id": "tvwJPA4RVBrC"
      },
      "outputs": [],
      "source": [
        "n = 6\n",
        "stairs = [10,20,15,25,10,20]"
      ]
    },
    {
      "cell_type": "code",
      "source": [
        "dp = [0] * n"
      ],
      "metadata": {
        "id": "aItCXuSPVKQt"
      },
      "execution_count": 6,
      "outputs": []
    },
    {
      "cell_type": "code",
      "source": [
        "dp"
      ],
      "metadata": {
        "colab": {
          "base_uri": "https://localhost:8080/"
        },
        "id": "pZNY4XIhVQY_",
        "outputId": "ff144f2f-3ac8-432b-b81b-1e2f5081a02d"
      },
      "execution_count": 7,
      "outputs": [
        {
          "output_type": "execute_result",
          "data": {
            "text/plain": [
              "[0, 0, 0, 0, 0, 0]"
            ]
          },
          "metadata": {},
          "execution_count": 7
        }
      ]
    },
    {
      "cell_type": "code",
      "source": [
        "dp[0] = stairs[0]\n",
        "dp[1] = dp[0] + stairs[1]"
      ],
      "metadata": {
        "id": "WP3Ipo-UVX41"
      },
      "execution_count": 8,
      "outputs": []
    },
    {
      "cell_type": "code",
      "source": [
        "for i in range(2,n):\n",
        "    dp[i] = stairs[i] + max(dp[i-2], dp[i-3] + stairs[i-1])"
      ],
      "metadata": {
        "id": "NIPtLWzqVoZP"
      },
      "execution_count": 9,
      "outputs": []
    },
    {
      "cell_type": "code",
      "source": [
        "print(dp[-1])"
      ],
      "metadata": {
        "colab": {
          "base_uri": "https://localhost:8080/"
        },
        "id": "NQj208yKWyVr",
        "outputId": "1caf8d7c-de4e-4497-9a39-d300e05b7d09"
      },
      "execution_count": 10,
      "outputs": [
        {
          "output_type": "stream",
          "name": "stdout",
          "text": [
            "75\n"
          ]
        }
      ]
    },
    {
      "cell_type": "markdown",
      "source": [
        "i번째를 3번째라고 생각하면 i-2번째를 밟고 i번째를 밟거나 \n",
        "\n",
        "\n",
        "아니면 i-3 >> i-1 >> i 두개의 경우 (3번연속 한걸음씩 갈 수 없기 때문)"
      ],
      "metadata": {
        "id": "mXQPQufAXCm8"
      }
    },
    {
      "cell_type": "code",
      "source": [
        "import sys\n",
        "input = sys.stdin.readline\n",
        "n = int(input().rstrip())\n",
        "dp = [0] * n\n",
        "stairs = []\n",
        "for _ in range(n):\n",
        "    stairs.append(int(input().rstrip()))\n",
        "dp[0] = stairs[0]\n",
        "if n > 1:\n",
        "    dp[1] = dp[0] + stairs[1]\n",
        "if n > 2:\n",
        "    for i in range(2,n):\n",
        "        dp[i] = stairs[i] + max(dp[i-2], dp[i-3] + stairs[i-1])\n",
        "print(dp[-1])"
      ],
      "metadata": {
        "id": "BD4ve9OfYfbp"
      },
      "execution_count": null,
      "outputs": []
    },
    {
      "cell_type": "markdown",
      "source": [
        "n = 1 인경우를 고려 안해서 추가했음"
      ],
      "metadata": {
        "id": "qvWSkWuiYhI1"
      }
    }
  ]
}

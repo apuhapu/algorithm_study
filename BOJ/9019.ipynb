{
  "nbformat": 4,
  "nbformat_minor": 0,
  "metadata": {
    "colab": {
      "provenance": [],
      "authorship_tag": "ABX9TyMZap6NUgCNOVSXOu6yr7LA",
      "include_colab_link": true
    },
    "kernelspec": {
      "name": "python3",
      "display_name": "Python 3"
    },
    "language_info": {
      "name": "python"
    }
  },
  "cells": [
    {
      "cell_type": "markdown",
      "metadata": {
        "id": "view-in-github",
        "colab_type": "text"
      },
      "source": [
        "<a href=\"https://colab.research.google.com/github/apuhapu/algorithm_study/blob/main/BOJ9019.ipynb\" target=\"_parent\"><img src=\"https://colab.research.google.com/assets/colab-badge.svg\" alt=\"Open In Colab\"/></a>"
      ]
    },
    {
      "cell_type": "markdown",
      "source": [
        "https://www.acmicpc.net/problem/9019"
      ],
      "metadata": {
        "id": "JsMhxkdWqwEx"
      }
    },
    {
      "cell_type": "code",
      "execution_count": 3,
      "metadata": {
        "id": "YWpXRWWLqp7c"
      },
      "outputs": [],
      "source": [
        "import sys\n",
        "from collections import deque\n",
        "\n",
        "\n",
        "def fd(i):\n",
        "    return (2*i)%10000\n",
        "\n",
        "def fs(i):\n",
        "    if i==0:\n",
        "        return 9999\n",
        "    return i-1\n",
        "\n",
        "def fl(i):\n",
        "    a4 = i%10\n",
        "    temp = i//10\n",
        "    a3 = temp%10\n",
        "    temp = temp//10\n",
        "    a2 = temp%10\n",
        "    a1 = temp//10\n",
        "    return 1000*a2+100*a3+10*a4+a1\n",
        "\n",
        "def fr(i):\n",
        "    a4 = i%10\n",
        "    temp = i//10\n",
        "    a3 = temp%10\n",
        "    temp = temp//10\n",
        "    a2 = temp%10\n",
        "    a1 = temp//10\n",
        "    return 1000*a4+100*a1+10*a2+a3"
      ]
    },
    {
      "cell_type": "code",
      "source": [
        "del input"
      ],
      "metadata": {
        "id": "f536LVbfrGBt"
      },
      "execution_count": 5,
      "outputs": []
    },
    {
      "cell_type": "code",
      "source": [
        "t = int(input().rstrip())\n",
        "for _ in range(t):\n",
        "    a, b = map(int, input().rstrip().split())\n",
        "    deq = deque([(a,[])])\n",
        "    while deq:\n",
        "        x, lst = deq.popleft()\n",
        "        y = fd(x)\n",
        "        if y == b:\n",
        "            lst.append('D')\n",
        "            print(''.join(lst))\n",
        "            break\n",
        "        else:\n",
        "            deq.append((y,lst+['D']))\n",
        "\n",
        "        y = fs(x)\n",
        "        if y == b:\n",
        "            lst.append('S')\n",
        "            print(''.join(lst))\n",
        "            break\n",
        "        else:\n",
        "            deq.append((y,lst+['S']))\n",
        "\n",
        "        y = fl(x)\n",
        "        if y == b:\n",
        "            lst.append('L')\n",
        "            print(''.join(lst))\n",
        "            break\n",
        "        else:\n",
        "            deq.append((y,lst+['L']))\n",
        "\n",
        "        y = fr(x)\n",
        "        if y == b:\n",
        "            lst.append('R')\n",
        "            print(''.join(lst))\n",
        "            break\n",
        "        else:\n",
        "            deq.append((y,lst+['R']))"
      ],
      "metadata": {
        "colab": {
          "base_uri": "https://localhost:8080/"
        },
        "id": "GCnSKi5grDTG",
        "outputId": "10cceb4d-70e3-42b7-ad60-53bf422ae7f8"
      },
      "execution_count": 9,
      "outputs": [
        {
          "output_type": "stream",
          "name": "stdout",
          "text": [
            "3\n",
            "1234 3412\n",
            "LL\n",
            "1000 1\n",
            "L\n",
            "1 16\n",
            "DDDD\n"
          ]
        }
      ]
    },
    {
      "cell_type": "markdown",
      "source": [
        "메모리 초과"
      ],
      "metadata": {
        "id": "X-TvBD5xtKpJ"
      }
    },
    {
      "cell_type": "markdown",
      "source": [
        "방문 지점 중복 제거"
      ],
      "metadata": {
        "id": "L2caFvrYtMML"
      }
    },
    {
      "cell_type": "code",
      "source": [
        "t = int(input().rstrip())\n",
        "for _ in range(t):\n",
        "    a, b = map(int, input().rstrip().split())\n",
        "    deq = deque([(a,[])])\n",
        "    visited = [False]*10000\n",
        "    visited[a] = True\n",
        "    while deq:\n",
        "        x, lst = deq.popleft()\n",
        "        y = fd(x)\n",
        "        if y == b:\n",
        "            lst.append('D')\n",
        "            print(''.join(lst))\n",
        "            break\n",
        "        elif not visited[y]:\n",
        "            visited[y] = True\n",
        "            deq.append((y,lst+['D']))\n",
        "\n",
        "        y = fs(x)\n",
        "        if y == b:\n",
        "            lst.append('S')\n",
        "            print(''.join(lst))\n",
        "            break\n",
        "        elif not visited[y]:\n",
        "            visited[y] = True\n",
        "            deq.append((y,lst+['S']))\n",
        "\n",
        "        y = fl(x)\n",
        "        if y == b:\n",
        "            lst.append('L')\n",
        "            print(''.join(lst))\n",
        "            break\n",
        "        elif not visited[y]:\n",
        "            visited[y] = True\n",
        "            deq.append((y,lst+['L']))\n",
        "\n",
        "        y = fr(x)\n",
        "        if y == b:\n",
        "            lst.append('R')\n",
        "            print(''.join(lst))\n",
        "            break\n",
        "        elif not visited[y]:\n",
        "            visited[y] = True\n",
        "            deq.append((y,lst+['R']))"
      ],
      "metadata": {
        "id": "UGq4N7BKrZbj"
      },
      "execution_count": null,
      "outputs": []
    },
    {
      "cell_type": "markdown",
      "source": [
        ">> 통과"
      ],
      "metadata": {
        "id": "dSU9kBoUv8RI"
      }
    }
  ]
}

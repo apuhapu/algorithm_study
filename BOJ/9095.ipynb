{
  "nbformat": 4,
  "nbformat_minor": 0,
  "metadata": {
    "colab": {
      "name": "9095.ipynb",
      "provenance": [],
      "authorship_tag": "ABX9TyN9AQ55vrglTDw0eyffW0xw",
      "include_colab_link": true
    },
    "kernelspec": {
      "name": "python3",
      "display_name": "Python 3"
    },
    "language_info": {
      "name": "python"
    }
  },
  "cells": [
    {
      "cell_type": "markdown",
      "metadata": {
        "id": "view-in-github",
        "colab_type": "text"
      },
      "source": [
        "<a href=\"https://colab.research.google.com/github/apuhapu/algorithm_study/blob/main/9095.ipynb\" target=\"_parent\"><img src=\"https://colab.research.google.com/assets/colab-badge.svg\" alt=\"Open In Colab\"/></a>"
      ]
    },
    {
      "cell_type": "markdown",
      "source": [
        "https://www.acmicpc.net/problem/9095"
      ],
      "metadata": {
        "id": "BUBU1GECNuOo"
      }
    },
    {
      "cell_type": "markdown",
      "source": [
        "n이 주어지면 n = 1 + (n-1)\n",
        "\n",
        "\n",
        "n = 2 + (n-2)\n",
        "\n",
        "\n",
        "n = 3 + (n-3)\n",
        "\n",
        "그래서 an = an-1 + an-2 + an-3 "
      ],
      "metadata": {
        "id": "e9SLVSyeOkAq"
      }
    },
    {
      "cell_type": "code",
      "execution_count": 1,
      "metadata": {
        "id": "lLXXvXMcNr6A"
      },
      "outputs": [],
      "source": [
        "lst = [0] * 11\n",
        "lst[1] = 1\n",
        "lst[2] = 2\n",
        "lst[3] = 4"
      ]
    },
    {
      "cell_type": "code",
      "source": [
        "for x in range(4,11):\n",
        "    lst[x] = lst[x-1] + lst[x-2] + lst[x-3]"
      ],
      "metadata": {
        "id": "VACuqtXjOEpD"
      },
      "execution_count": 2,
      "outputs": []
    },
    {
      "cell_type": "code",
      "source": [
        "lst"
      ],
      "metadata": {
        "colab": {
          "base_uri": "https://localhost:8080/"
        },
        "id": "ZLlgugSKORO0",
        "outputId": "46bed37a-b07a-4e5c-c7e9-c8e0d1d9644f"
      },
      "execution_count": 3,
      "outputs": [
        {
          "output_type": "execute_result",
          "data": {
            "text/plain": [
              "[0, 1, 2, 4, 7, 13, 24, 44, 81, 149, 274]"
            ]
          },
          "metadata": {},
          "execution_count": 3
        }
      ]
    },
    {
      "cell_type": "code",
      "source": [
        "t = int(input())\n",
        "for _ in range(t):\n",
        "    print(lst[int(input())])"
      ],
      "metadata": {
        "colab": {
          "base_uri": "https://localhost:8080/"
        },
        "id": "6jdoFvzROU5j",
        "outputId": "a7b631b5-859d-45cd-8187-403b3aadf34c"
      },
      "execution_count": 4,
      "outputs": [
        {
          "output_type": "stream",
          "name": "stdout",
          "text": [
            "3\n",
            "4\n",
            "7\n",
            "7\n",
            "44\n",
            "10\n",
            "274\n"
          ]
        }
      ]
    },
    {
      "cell_type": "code",
      "source": [
        "lst = [0] * 11\n",
        "lst[1] = 1\n",
        "lst[2] = 2\n",
        "lst[3] = 4\n",
        "\n",
        "for x in range(4,11):\n",
        "    lst[x] = lst[x-1] + lst[x-2] + lst[x-3]\n",
        "\n",
        "t = int(input())\n",
        "for _ in range(t):\n",
        "    print(lst[int(input())])"
      ],
      "metadata": {
        "id": "6gafFlNNPCgV"
      },
      "execution_count": null,
      "outputs": []
    }
  ]
}

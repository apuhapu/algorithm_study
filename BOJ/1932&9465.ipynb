{
  "nbformat": 4,
  "nbformat_minor": 0,
  "metadata": {
    "colab": {
      "name": "1932 & 9465.ipynb",
      "provenance": [],
      "collapsed_sections": [],
      "authorship_tag": "ABX9TyNPFQqwVG1SIFO3Sghjg2nA",
      "include_colab_link": true
    },
    "kernelspec": {
      "name": "python3",
      "display_name": "Python 3"
    },
    "language_info": {
      "name": "python"
    }
  },
  "cells": [
    {
      "cell_type": "markdown",
      "metadata": {
        "id": "view-in-github",
        "colab_type": "text"
      },
      "source": [
        "<a href=\"https://colab.research.google.com/github/apuhapu/algorithm_study/blob/main/1932_%26_9465.ipynb\" target=\"_parent\"><img src=\"https://colab.research.google.com/assets/colab-badge.svg\" alt=\"Open In Colab\"/></a>"
      ]
    },
    {
      "cell_type": "markdown",
      "source": [
        "https://www.acmicpc.net/problem/1932"
      ],
      "metadata": {
        "id": "o-T-OebuCqlY"
      }
    },
    {
      "cell_type": "code",
      "execution_count": 3,
      "metadata": {
        "colab": {
          "base_uri": "https://localhost:8080/"
        },
        "id": "sehJLNqmCl5d",
        "outputId": "ac8f7fd0-686c-4f64-ddc5-cd8e0bb8243c"
      },
      "outputs": [
        {
          "name": "stdout",
          "output_type": "stream",
          "text": [
            "5\n",
            "7\n",
            "3 8\n",
            "8 1 0\n",
            "2 7 4 4\n",
            "4 5 2 6 5\n"
          ]
        }
      ],
      "source": [
        "n = int(input())\n",
        "tri = [list(map(int, input().rstrip().split())) for _ in range(n)]"
      ]
    },
    {
      "cell_type": "code",
      "source": [
        "tri"
      ],
      "metadata": {
        "colab": {
          "base_uri": "https://localhost:8080/"
        },
        "id": "AVOEoFaPDlVO",
        "outputId": "4e694e75-9a5b-4405-881c-56df1273ec66"
      },
      "execution_count": 4,
      "outputs": [
        {
          "output_type": "execute_result",
          "data": {
            "text/plain": [
              "[[7], [3, 8], [8, 1, 0], [2, 7, 4, 4], [4, 5, 2, 6, 5]]"
            ]
          },
          "metadata": {},
          "execution_count": 4
        }
      ]
    },
    {
      "cell_type": "code",
      "source": [
        "dp = [[0]* i for i in range(1,n+1)]\n",
        "dp"
      ],
      "metadata": {
        "colab": {
          "base_uri": "https://localhost:8080/"
        },
        "id": "FE_RdbL4EQR3",
        "outputId": "c19547f4-afb7-4fb0-b674-43c09e1f1461"
      },
      "execution_count": 5,
      "outputs": [
        {
          "output_type": "execute_result",
          "data": {
            "text/plain": [
              "[[0], [0, 0], [0, 0, 0], [0, 0, 0, 0], [0, 0, 0, 0, 0]]"
            ]
          },
          "metadata": {},
          "execution_count": 5
        }
      ]
    },
    {
      "cell_type": "code",
      "source": [
        "dp[0] = tri[0]"
      ],
      "metadata": {
        "id": "_GW3jjeLEhIO"
      },
      "execution_count": 6,
      "outputs": []
    },
    {
      "cell_type": "code",
      "source": [
        "# i는 세로 j는 가로\n",
        "for i in range(n-1):\n",
        "    for j in range(i+1):\n",
        "        dp[i+1][j] = max(dp[i+1][j], dp[i][j]+tri[i+1][j])  # 왼쪽 가지\n",
        "        dp[i+1][j+1] = dp[i][j] + tri[i+1][j+1]             # 오른쪽 가지 (기존 값이 없으므로 max 사용 필요 X)"
      ],
      "metadata": {
        "id": "0lmfgTUjEp5w"
      },
      "execution_count": 7,
      "outputs": []
    },
    {
      "cell_type": "code",
      "source": [
        "print(max(dp[-1]))"
      ],
      "metadata": {
        "colab": {
          "base_uri": "https://localhost:8080/"
        },
        "id": "9O8ZHhujGr_R",
        "outputId": "dc8e0797-ef55-4f5e-b463-f74bd8779142"
      },
      "execution_count": 8,
      "outputs": [
        {
          "output_type": "stream",
          "name": "stdout",
          "text": [
            "30\n"
          ]
        }
      ]
    },
    {
      "cell_type": "markdown",
      "source": [
        "1차 제출"
      ],
      "metadata": {
        "id": "rguhbP2oGzvJ"
      }
    },
    {
      "cell_type": "code",
      "source": [
        "import sys\n",
        "input = sys.stdin.readline\n",
        "\n",
        "n = int(input())\n",
        "tri = [list(map(int, input().rstrip().split())) for _ in range(n)]\n",
        "\n",
        "dp = [[0]* i for i in range(1,n+1)]\n",
        "dp[0] = tri[0]\n",
        "# i는 세로 j는 가로\n",
        "for i in range(n-1):\n",
        "    for j in range(i+1):\n",
        "        dp[i+1][j] = max(dp[i+1][j], dp[i][j]+tri[i+1][j])  # 왼쪽 가지\n",
        "        dp[i+1][j+1] = dp[i][j] + tri[i+1][j+1]             # 오른쪽 가지 (기존 값이 없으므로 max 사용 필요 X)\n",
        "\n",
        "print(max(dp[-1]))"
      ],
      "metadata": {
        "id": "PBH4zFEPGzSQ"
      },
      "execution_count": null,
      "outputs": []
    },
    {
      "cell_type": "markdown",
      "source": [
        "해결"
      ],
      "metadata": {
        "id": "KOJKPGRjHFkN"
      }
    },
    {
      "cell_type": "markdown",
      "source": [
        "----------------------"
      ],
      "metadata": {
        "id": "2giSRZ3xJIF8"
      }
    },
    {
      "cell_type": "markdown",
      "source": [
        "https://www.acmicpc.net/problem/9465"
      ],
      "metadata": {
        "id": "W8aQ8LpPJIZJ"
      }
    },
    {
      "cell_type": "code",
      "source": [
        "n = 5\n",
        "stickers = [[50,10,100,20,40],[30,50,70,10,60]]"
      ],
      "metadata": {
        "id": "Mm7tsAclJRn_"
      },
      "execution_count": 9,
      "outputs": []
    },
    {
      "cell_type": "code",
      "source": [
        "dp = [[0] * n,[0] * n]\n",
        "dp"
      ],
      "metadata": {
        "colab": {
          "base_uri": "https://localhost:8080/"
        },
        "id": "5h1NDWIRJoo8",
        "outputId": "9c0a7cc2-f774-4d63-b84b-60f0cba598df"
      },
      "execution_count": 14,
      "outputs": [
        {
          "output_type": "execute_result",
          "data": {
            "text/plain": [
              "[[0, 0, 0, 0, 0], [0, 0, 0, 0, 0]]"
            ]
          },
          "metadata": {},
          "execution_count": 14
        }
      ]
    },
    {
      "cell_type": "code",
      "source": [
        "dp[0][0] = stickers[0][0]\n",
        "dp[1][0] = stickers[1][0]\n",
        "if n > 1:\n",
        "    dp[0][1] = dp[1][0] + stickers[0][1]\n",
        "    dp[1][1] = dp[0][0] + stickers[1][1]\n",
        "    if n > 2:\n",
        "        for i in range(2,n):\n",
        "            dp[0][i] = stickers[0][i] + max(dp[1][i-1], dp[1][i-2])\n",
        "            dp[1][i] = stickers[1][i] + max(dp[0][i-1], dp[0][i-2])"
      ],
      "metadata": {
        "id": "rXyXYA7zOD6h"
      },
      "execution_count": 15,
      "outputs": []
    },
    {
      "cell_type": "code",
      "source": [
        "print(max(dp[0][-1],dp[1][-1]))"
      ],
      "metadata": {
        "colab": {
          "base_uri": "https://localhost:8080/"
        },
        "id": "iU-9YygYOhM1",
        "outputId": "6491a50a-4ae3-4b78-8d24-c458043023f1"
      },
      "execution_count": 17,
      "outputs": [
        {
          "output_type": "stream",
          "name": "stdout",
          "text": [
            "260\n"
          ]
        }
      ]
    },
    {
      "cell_type": "markdown",
      "source": [
        "1차 제출"
      ],
      "metadata": {
        "id": "L_BpHwPZSYJr"
      }
    },
    {
      "cell_type": "code",
      "source": [
        "import sys\n",
        "input = sys.stdin.readline\n",
        "\n",
        "t = int(input())\n",
        "for _ in range(t):\n",
        "    n = int(input())\n",
        "    stickers = [list(map(int, input().rstrip().split())) for _ in range(2)]\n",
        "    dp = [[0] * n,[0] * n]\n",
        "    dp[0][0] = stickers[0][0]\n",
        "    dp[1][0] = stickers[1][0]\n",
        "    if n > 1:\n",
        "        dp[0][1] = dp[1][0] + stickers[0][1]\n",
        "        dp[1][1] = dp[0][0] + stickers[1][1]\n",
        "        if n > 2:\n",
        "            for i in range(2,n):\n",
        "                dp[0][i] = stickers[0][i] + max(dp[1][i-1], dp[1][i-2])\n",
        "                dp[1][i] = stickers[1][i] + max(dp[0][i-1], dp[0][i-2])\n",
        "    print(max(dp[0][-1],dp[1][-1]))"
      ],
      "metadata": {
        "id": "KE6TRlFuSXKK"
      },
      "execution_count": null,
      "outputs": []
    },
    {
      "cell_type": "markdown",
      "source": [
        "해결"
      ],
      "metadata": {
        "id": "5NMh5FntTR0k"
      }
    }
  ]
}

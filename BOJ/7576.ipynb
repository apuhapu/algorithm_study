{
  "nbformat": 4,
  "nbformat_minor": 0,
  "metadata": {
    "colab": {
      "name": "7576.ipynb",
      "provenance": [],
      "collapsed_sections": [],
      "authorship_tag": "ABX9TyPVh13yf79WHE3/rJ8LBsLF",
      "include_colab_link": true
    },
    "kernelspec": {
      "name": "python3",
      "display_name": "Python 3"
    },
    "language_info": {
      "name": "python"
    }
  },
  "cells": [
    {
      "cell_type": "markdown",
      "metadata": {
        "id": "view-in-github",
        "colab_type": "text"
      },
      "source": [
        "<a href=\"https://colab.research.google.com/github/apuhapu/algorithm_study/blob/main/7576.ipynb\" target=\"_parent\"><img src=\"https://colab.research.google.com/assets/colab-badge.svg\" alt=\"Open In Colab\"/></a>"
      ]
    },
    {
      "cell_type": "markdown",
      "source": [
        "https://www.acmicpc.net/problem/7576"
      ],
      "metadata": {
        "id": "nU_PUMVoyMxS"
      }
    },
    {
      "cell_type": "code",
      "execution_count": null,
      "metadata": {
        "colab": {
          "base_uri": "https://localhost:8080/"
        },
        "id": "BsxN6sxjyCu9",
        "outputId": "6c0d7c0b-6120-4f5a-e38b-12e5acc0add3"
      },
      "outputs": [
        {
          "name": "stdout",
          "output_type": "stream",
          "text": [
            "6 4\n",
            "1 -1 0 0 0 0\n",
            "0 -1 0 0 0 0\n",
            "0 0 0 0 -1 0\n",
            "0 0 0 0 -1 1\n"
          ]
        }
      ],
      "source": [
        "from collections import deque\n",
        "# import sys\n",
        "# input = sys.stdin.readline\n",
        "deq = deque()\n",
        "m, n = map(int, input().rstrip().split())\n",
        "tomatoes = []\n",
        "for _ in range(n):\n",
        "    tomatoes.append(list(map(int, input().rstrip().split())))"
      ]
    },
    {
      "cell_type": "code",
      "source": [
        "# 이미 다 익은 상태일 때\n",
        "tic = False\n",
        "for tomato in tomatoes:\n",
        "    if 0 in tomato:\n",
        "        break\n",
        "else:\n",
        "    tic = True\n",
        "    print(0)"
      ],
      "metadata": {
        "id": "IrZld6uN1yBy"
      },
      "execution_count": null,
      "outputs": []
    },
    {
      "cell_type": "code",
      "source": [
        "dr = [1,-1,0,0]\n",
        "dc = [0,0,1,-1]\n",
        "visited = [[-1]*m for _ in range(n)]"
      ],
      "metadata": {
        "id": "eleHPwrL2sVu"
      },
      "execution_count": null,
      "outputs": []
    },
    {
      "cell_type": "code",
      "source": [
        "def isinside(r, c):\n",
        "    if r >= 0 and r < n and c >= 0 and c < m:\n",
        "        return True\n",
        "    else:\n",
        "        return False"
      ],
      "metadata": {
        "id": "-AMNndHe3i1I"
      },
      "execution_count": null,
      "outputs": []
    },
    {
      "cell_type": "code",
      "source": [
        "def bfs(t):\n",
        "    row, col = t\n",
        "    visited[row][col] = 0\n",
        "    deq.append(t)\n",
        "\n",
        "    while deq:\n",
        "        r, c = deq.popleft()\n",
        "        for i, j in zip(dr,dc):\n",
        "            a = r + i\n",
        "            b = c + j\n",
        "            if isinside(a, b):\n",
        "                if tomatoes[a][b] == 0:\n",
        "                    if visited[a][b] == -1 or visited[a][b] > visited[r][c] + 1:\n",
        "                        visited[a][b] = visited[r][c] +1\n",
        "                        deq.append((a,b))                "
      ],
      "metadata": {
        "id": "7K2FMj3a4lLJ"
      },
      "execution_count": null,
      "outputs": []
    },
    {
      "cell_type": "code",
      "source": [
        "for x in range(n):\n",
        "    for y in range(m):\n",
        "        if tomatoes[x][y] == 1:\n",
        "            bfs((x,y))"
      ],
      "metadata": {
        "id": "OgJ-j_c-9Qsn"
      },
      "execution_count": null,
      "outputs": []
    },
    {
      "cell_type": "code",
      "source": [
        "ti = False\n",
        "for x in range(n):\n",
        "    for y in range(m):\n",
        "        print(x,y)\n",
        "        if tomatoes[x][y] == 0:\n",
        "            if visited[x][y] == 6:\n",
        "                print(-1)\n",
        "                ti = True\n",
        "                break\n",
        "    if ti:\n",
        "        break"
      ],
      "metadata": {
        "colab": {
          "base_uri": "https://localhost:8080/"
        },
        "id": "1DblDxgz4u59",
        "outputId": "a59e6f4d-2378-47b5-f039-568e985a75a6"
      },
      "execution_count": null,
      "outputs": [
        {
          "output_type": "stream",
          "name": "stdout",
          "text": [
            "0 0\n",
            "0 1\n",
            "0 2\n",
            "-1\n"
          ]
        }
      ]
    },
    {
      "cell_type": "code",
      "source": [
        "ma = 0\n",
        "for ii in visited:\n",
        "    com = max(ii)\n",
        "    ma = max(com, ma)\n",
        "print(ma)"
      ],
      "metadata": {
        "colab": {
          "base_uri": "https://localhost:8080/"
        },
        "id": "9Y-uYw6H-dtB",
        "outputId": "e33c06ee-0ad5-40b5-c0ff-d2e39c719fd8"
      },
      "execution_count": null,
      "outputs": [
        {
          "output_type": "stream",
          "name": "stdout",
          "text": [
            "6\n"
          ]
        }
      ]
    },
    {
      "cell_type": "code",
      "source": [
        "from collections import deque\n",
        "# import sys\n",
        "# input = sys.stdin.readline\n",
        "deq = deque()\n",
        "m, n = map(int, input().rstrip().split())\n",
        "tomatoes = []\n",
        "for _ in range(n):\n",
        "    tomatoes.append(list(map(int, input().rstrip().split())))\n",
        "\n",
        "dr = [1,-1,0,0]\n",
        "dc = [0,0,1,-1]\n",
        "visited = [[-1]*m for _ in range(n)]\n",
        "\n",
        "def isinside(r, c):\n",
        "    if r >= 0 and r < n and c >= 0 and c < m:\n",
        "        return True\n",
        "    else:\n",
        "        return False\n",
        "\n",
        "def bfs(t):\n",
        "    row, col = t\n",
        "    visited[row][col] = 0\n",
        "    deq.append(t)\n",
        "\n",
        "    while deq:\n",
        "        r, c = deq.popleft()\n",
        "        for i, j in zip(dr,dc):\n",
        "            a = r + i\n",
        "            b = c + j\n",
        "            if isinside(a, b):\n",
        "                if tomatoes[a][b] == 0:\n",
        "                    if visited[a][b] == -1 or visited[a][b] > visited[r][c] + 1:\n",
        "                        visited[a][b] = visited[r][c] +1\n",
        "                        deq.append((a,b))      \n",
        "\n",
        "# 이미 다 익은 상태일 때\n",
        "tic = False\n",
        "for tomato in tomatoes:\n",
        "    if 0 in tomato:\n",
        "        break\n",
        "else:\n",
        "    tic = True\n",
        "    print(0)\n",
        "\n",
        "if not tic:\n",
        "    for x in range(n):\n",
        "        for y in range(m):\n",
        "            if tomatoes[x][y] == 1:\n",
        "                bfs((x,y))\n",
        "    \n",
        "    # 다 잘 익었는지 확인\n",
        "    ti = False\n",
        "    for x in range(n):\n",
        "        for y in range(m):\n",
        "            if tomatoes[x][y] == 0:\n",
        "                if visited[x][y] == -1:\n",
        "                    print(-1)\n",
        "                    ti = True\n",
        "                    break\n",
        "        if ti:\n",
        "            break\n",
        "    \n",
        "    # 최대 시간\n",
        "    if not ti:\n",
        "        ma = 0\n",
        "        for ii in visited:\n",
        "            com = max(ii)\n",
        "            ma = max(com, ma)\n",
        "        print(ma)"
      ],
      "metadata": {
        "colab": {
          "base_uri": "https://localhost:8080/"
        },
        "id": "aTRf8Pxw6Dvd",
        "outputId": "a4ced9fa-0bb6-47bd-eaf6-f77577bf5424"
      },
      "execution_count": null,
      "outputs": [
        {
          "output_type": "stream",
          "name": "stdout",
          "text": [
            "6 4\n",
            "0 0 0 0 0 0\n",
            "0 0 0 0 0 0\n",
            "0 0 0 0 0 0\n",
            "0 0 0 0 0 1\n",
            "-1\n"
          ]
        }
      ]
    },
    {
      "cell_type": "markdown",
      "source": [
        "시간초과남\n",
        "더 변경해야할듯"
      ],
      "metadata": {
        "id": "kmn9T4mE8XKI"
      }
    },
    {
      "cell_type": "code",
      "source": [
        "from collections import deque\n",
        "#import sys\n",
        "#input = sys.stdin.readline\n",
        "deq = deque()\n",
        "m, n = map(int, input().rstrip().split())\n",
        "tomatoes = []\n",
        "for _ in range(n):\n",
        "    tomatoes.append(list(map(int, input().rstrip().split())))\n",
        "\n",
        "dr = [1,-1,0,0]\n",
        "dc = [0,0,1,-1]\n",
        "date = [[0]*m for _ in range(n)]\n",
        "last_r, last_c = 0, 0\n",
        "\n",
        "def isinside(r, c):\n",
        "    if r >= 0 and r < n and c >= 0 and c < m:\n",
        "        return True\n",
        "    else:\n",
        "        return False\n",
        "\n",
        "def com(a, b):\n",
        "    if a == 0:\n",
        "        return b\n",
        "    elif b == 0:\n",
        "        return a\n",
        "    else:\n",
        "        return min(a,b)\n",
        "\n",
        "def bfs(t):\n",
        "    visited = [[False]*m for _ in range(n)]\n",
        "    row, col = t\n",
        "    visited[row][col] = True\n",
        "    deq.append(t)\n",
        "\n",
        "    while deq:\n",
        "        r, c = deq.popleft()\n",
        "        for i, j in zip(dr,dc):\n",
        "            a = r + i\n",
        "            b = c + j\n",
        "            if isinside(a, b):\n",
        "                if tomatoes[a][b] == 0:\n",
        "                    if visited[a][b] == False:\n",
        "                        visited[a][b] = True\n",
        "                        date[a][b] = com(date[a][b], date[r][c] + 1)\n",
        "                        deq.append((a,b))      \n",
        "\n",
        "for x in range(n):\n",
        "    for y in range(m):\n",
        "        if tomatoes[x][y] == 1:\n",
        "            bfs((x,y))\n",
        "    \n",
        "# 다 잘 익었는지 확인\n",
        "ti = False\n",
        "for x in range(n):\n",
        "    for y in range(m):\n",
        "        if tomatoes[x][y] == 0:\n",
        "            if date[x][y] == 0:\n",
        "                print(-1)\n",
        "                ti = True\n",
        "                break\n",
        "    if ti:\n",
        "        break\n",
        "    \n",
        "# 최대 시간\n",
        "if not ti:\n",
        "    ma = 0\n",
        "    for ii in date:\n",
        "        com = max(ii)\n",
        "        ma = max(com, ma)\n",
        "    print(ma)"
      ],
      "metadata": {
        "colab": {
          "base_uri": "https://localhost:8080/"
        },
        "id": "NuRAdplPNgJ8",
        "outputId": "81d592d7-d9df-441b-f0ea-656181f8dc1b"
      },
      "execution_count": 5,
      "outputs": [
        {
          "output_type": "stream",
          "name": "stdout",
          "text": [
            "5 5\n",
            "-1 1 0 0 0\n",
            "0 -1 -1 -1 0\n",
            "0 -1 -1 -1 0\n",
            "0 -1 -1 -1 0\n",
            "0 0 0 0 0\n",
            "14\n"
          ]
        }
      ]
    },
    {
      "cell_type": "code",
      "source": [
        "from collections import deque\n",
        "# import sys\n",
        "# input = sys.stdin.readline\n",
        "deq = deque()\n",
        "m, n = map(int, input().rstrip().split())\n",
        "tomatoes = []\n",
        "for _ in range(n):\n",
        "    tomatoes.append(list(map(int, input().rstrip().split())))\n",
        "\n",
        "dr = [1,-1,0,0]\n",
        "dc = [0,0,1,-1]\n",
        "visited = [[-1]*m for _ in range(n)]\n",
        "\n",
        "def isinside(r, c):\n",
        "    if r >= 0 and r < n and c >= 0 and c < m:\n",
        "        return True\n",
        "    else:\n",
        "        return False\n",
        "\n",
        "def bfs():\n",
        "    global ma\n",
        "    ma = 0\n",
        "    while deq:\n",
        "        r, c = deq.popleft()\n",
        "        for i, j in zip(dr,dc):\n",
        "            a = r + i\n",
        "            b = c + j\n",
        "            if isinside(a, b):\n",
        "                if tomatoes[a][b] == 0:\n",
        "                    if visited[a][b] == -1:\n",
        "                        visited[a][b] = visited[r][c] +1\n",
        "                        deq.append((a,b))\n",
        "                        ma = visited[a][b]\n",
        "\n",
        "for x in range(n):\n",
        "    for y in range(m):\n",
        "        if tomatoes[x][y] == 1:\n",
        "            visited[x][y] = 0\n",
        "            deq.append((x,y))\n",
        "\n",
        "bfs()\n",
        "\n",
        "# 다 잘 익었는지 확인\n",
        "ti = False\n",
        "for x in range(n):\n",
        "    for y in range(m):\n",
        "        if tomatoes[x][y] == 0:\n",
        "            if visited[x][y] == -1:\n",
        "                print(-1)\n",
        "                ti = True\n",
        "                break\n",
        "    if ti:\n",
        "        break\n",
        "\n",
        "# 최대 시간\n",
        "if not ti:\n",
        "    print(ma)"
      ],
      "metadata": {
        "colab": {
          "base_uri": "https://localhost:8080/"
        },
        "id": "_5u5ZPn7Y5l-",
        "outputId": "16f03c68-cd27-40c5-ecf9-f2ee4a1a5437"
      },
      "execution_count": 51,
      "outputs": [
        {
          "output_type": "stream",
          "name": "stdout",
          "text": [
            "2 2\n",
            "1 -1\n",
            "-1 1\n",
            "0\n"
          ]
        }
      ]
    },
    {
      "cell_type": "code",
      "source": [
        "visited"
      ],
      "metadata": {
        "colab": {
          "base_uri": "https://localhost:8080/"
        },
        "id": "HDEh6oh6bFYN",
        "outputId": "8168b28f-116d-4550-9ad5-006d6d42058e"
      },
      "execution_count": 45,
      "outputs": [
        {
          "output_type": "execute_result",
          "data": {
            "text/plain": [
              "[[0, -1, 6, 5, 4, 3],\n",
              " [1, -1, 5, 4, 3, 2],\n",
              " [2, 3, 4, 5, -1, 1],\n",
              " [3, 4, 5, 6, -1, 0]]"
            ]
          },
          "metadata": {},
          "execution_count": 45
        }
      ]
    },
    {
      "cell_type": "code",
      "source": [
        "tomatoes"
      ],
      "metadata": {
        "colab": {
          "base_uri": "https://localhost:8080/"
        },
        "id": "T6q7Ud8rbxOd",
        "outputId": "3f8fad05-772a-450c-9bc6-bac939dc44cd"
      },
      "execution_count": 43,
      "outputs": [
        {
          "output_type": "execute_result",
          "data": {
            "text/plain": [
              "[[1, -1, 0, 0, 0, 0],\n",
              " [0, -1, 0, 0, 0, 0],\n",
              " [0, 0, 0, 0, -1, 0],\n",
              " [0, 0, 0, 0, -1, 1]]"
            ]
          },
          "metadata": {},
          "execution_count": 43
        }
      ]
    },
    {
      "cell_type": "markdown",
      "source": [
        "그냥 que에 익은토마토를 동시에 넣으면 해결 ㅜㅜ"
      ],
      "metadata": {
        "id": "W_G0xmmKw8qZ"
      }
    }
  ]
}

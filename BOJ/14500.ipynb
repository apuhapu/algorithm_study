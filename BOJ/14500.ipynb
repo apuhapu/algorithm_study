{
  "nbformat": 4,
  "nbformat_minor": 0,
  "metadata": {
    "colab": {
      "provenance": [],
      "authorship_tag": "ABX9TyP/69GRRpKFPWZtJ4i05VpL",
      "include_colab_link": true
    },
    "kernelspec": {
      "name": "python3",
      "display_name": "Python 3"
    },
    "language_info": {
      "name": "python"
    }
  },
  "cells": [
    {
      "cell_type": "markdown",
      "metadata": {
        "id": "view-in-github",
        "colab_type": "text"
      },
      "source": [
        "<a href=\"https://colab.research.google.com/github/apuhapu/algorithm_study/blob/main/BOJ/BOJ14500.ipynb\" target=\"_parent\"><img src=\"https://colab.research.google.com/assets/colab-badge.svg\" alt=\"Open In Colab\"/></a>"
      ]
    },
    {
      "cell_type": "markdown",
      "source": [
        "https://www.acmicpc.net/problem/14500"
      ],
      "metadata": {
        "id": "S3WP-VVoMo7C"
      }
    },
    {
      "cell_type": "code",
      "source": [
        "import heapq as hq"
      ],
      "metadata": {
        "id": "OxqZHrBiNbBg"
      },
      "execution_count": 3,
      "outputs": []
    },
    {
      "cell_type": "code",
      "source": [
        "n, m = map(int, input().rstrip().split())"
      ],
      "metadata": {
        "colab": {
          "base_uri": "https://localhost:8080/"
        },
        "id": "nY-M3ESLUl4-",
        "outputId": "3d4b2578-76be-4097-9f52-9de10186bdd8"
      },
      "execution_count": 5,
      "outputs": [
        {
          "name": "stdout",
          "output_type": "stream",
          "text": [
            "5 5\n"
          ]
        }
      ]
    },
    {
      "cell_type": "code",
      "source": [
        "graph = []"
      ],
      "metadata": {
        "id": "BzYBt-TZU00H"
      },
      "execution_count": 6,
      "outputs": []
    },
    {
      "cell_type": "code",
      "source": [
        "for i in range(n):\n",
        "    graph.append(list(map(int, input().rstrip().split())))"
      ],
      "metadata": {
        "colab": {
          "base_uri": "https://localhost:8080/"
        },
        "id": "lqtMDB--UwYY",
        "outputId": "6f9acb65-3d62-4136-de18-1c1fd67d971f"
      },
      "execution_count": 7,
      "outputs": [
        {
          "name": "stdout",
          "output_type": "stream",
          "text": [
            "1 2 3 4 5\n",
            "5 4 3 2 1\n",
            "2 3 4 5 6\n",
            "6 5 4 3 2\n",
            "1 2 1 2 1\n"
          ]
        }
      ]
    },
    {
      "cell_type": "code",
      "execution_count": 12,
      "metadata": {
        "id": "JC3cqGLWMn2b"
      },
      "outputs": [],
      "source": [
        "def cal4by4(r,c,n,m):\n",
        "    lst = []\n",
        "    if n-r>3:\n",
        "        temp = graph[r][c] + graph[r+1][c] + graph[r+2][c] + graph[r+3][c]\n",
        "        hq.heappush(lst,-temp)\n",
        "    if n-r>2:\n",
        "        if m-c>1:\n",
        "            temp = graph[r][c] + graph[r+1][c] + graph[r+2][c]\n",
        "            temp += max(graph[r][c+1], graph[r+1][c+1], graph[r+2][c+1])\n",
        "            hq.heappush(lst,-temp)\n",
        "\n",
        "            temp = graph[r][c+1] + graph[r+1][c+1] + graph[r+2][c+1]\n",
        "            temp += max(graph[r][c], graph[r+1][c], graph[r+2][c])\n",
        "            hq.heappush(lst,-temp)\n",
        "\n",
        "            temp = graph[r][c] + graph[r+1][c] + graph[r+1][c+1] + graph[r+2][c+1]\n",
        "            hq.heappush(lst,-temp)\n",
        "            temp = graph[r][c+1] + graph[r+1][c+1] + graph[r+1][c] + graph[r+2][c]\n",
        "            hq.heappush(lst,-temp)\n",
        "    if n-r>1:\n",
        "        if m-c>2:\n",
        "            temp = graph[r][c] + graph[r][c+1] + graph[r][c+2]\n",
        "            temp += max(graph[r+1][c], graph[r+1][c+1], graph[r+1][c+2])\n",
        "            hq.heappush(lst,-temp)\n",
        "\n",
        "            temp = graph[r+1][c] + graph[r+1][c+1] + graph[r+1][c+2]\n",
        "            temp += max(graph[r][c], graph[r][c+1], graph[r][c+2])\n",
        "            hq.heappush(lst,-temp)\n",
        "\n",
        "            temp = graph[r][c] + graph[r][c+1] + graph[r+1][c+1] + graph[r+1][c+2]\n",
        "            hq.heappush(lst,-temp)\n",
        "            temp = graph[r+1][c] + graph[r+1][c+1] + graph[r][c+1] + graph[r][c+2]\n",
        "            hq.heappush(lst,-temp)\n",
        "        if m-c>1:\n",
        "            temp = graph[r][c] + graph[r][c+1] + graph[r+1][c] + graph[r+1][c+1]\n",
        "            hq.heappush(lst,-temp)\n",
        "    if n-r>0:\n",
        "        if m-c>3:\n",
        "            temp = graph[r][c] + graph[r][c+1] + graph[r][c+2] + graph[r][c+3]\n",
        "            hq.heappush(lst,-temp)\n",
        "\n",
        "    if not lst:\n",
        "        return 0\n",
        "    return -lst[0]"
      ]
    },
    {
      "cell_type": "code",
      "source": [
        "maxi = 0"
      ],
      "metadata": {
        "id": "JqlbCLg1VM5d"
      },
      "execution_count": 13,
      "outputs": []
    },
    {
      "cell_type": "code",
      "source": [
        "for r in range(n):\n",
        "    for c in range(m):\n",
        "        result = cal4by4(r,c,n,m)\n",
        "        if maxi< result:\n",
        "            maxi = result"
      ],
      "metadata": {
        "id": "RzfrziAKUhrT"
      },
      "execution_count": 14,
      "outputs": []
    },
    {
      "cell_type": "code",
      "source": [
        "maxi"
      ],
      "metadata": {
        "colab": {
          "base_uri": "https://localhost:8080/"
        },
        "id": "ySG0w8dZV0Fb",
        "outputId": "d9e0fc70-66bb-40f8-f5fb-3fe183eabc59"
      },
      "execution_count": 15,
      "outputs": [
        {
          "output_type": "execute_result",
          "data": {
            "text/plain": [
              "19"
            ]
          },
          "metadata": {},
          "execution_count": 15
        }
      ]
    },
    {
      "cell_type": "markdown",
      "source": [
        "제출본"
      ],
      "metadata": {
        "id": "rzv5cczMXtev"
      }
    },
    {
      "cell_type": "code",
      "source": [
        "import heapq as hq\n",
        "import sys\n",
        "input = sys.stdin.readline\n",
        "\n",
        "n, m = map(int, input().rstrip().split())\n",
        "graph = [list(map(int, input().rstrip().split())) for _ in range(n)]\n",
        "\n",
        "def cal4by4(r,c,n,m):\n",
        "    lst = []\n",
        "    if n-r>3:\n",
        "        temp = graph[r][c] + graph[r+1][c] + graph[r+2][c] + graph[r+3][c]\n",
        "        hq.heappush(lst,-temp)\n",
        "    if n-r>2:\n",
        "        if m-c>1:\n",
        "            temp = graph[r][c] + graph[r+1][c] + graph[r+2][c]\n",
        "            temp += max(graph[r][c+1], graph[r+1][c+1], graph[r+2][c+1])\n",
        "            hq.heappush(lst,-temp)\n",
        "\n",
        "            temp = graph[r][c+1] + graph[r+1][c+1] + graph[r+2][c+1]\n",
        "            temp += max(graph[r][c], graph[r+1][c], graph[r+2][c])\n",
        "            hq.heappush(lst,-temp)\n",
        "\n",
        "            temp = graph[r][c] + graph[r+1][c] + graph[r+1][c+1] + graph[r+2][c+1]\n",
        "            hq.heappush(lst,-temp)\n",
        "            temp = graph[r][c+1] + graph[r+1][c+1] + graph[r+1][c] + graph[r+2][c]\n",
        "            hq.heappush(lst,-temp)\n",
        "    if n-r>1:\n",
        "        if m-c>2:\n",
        "            temp = graph[r][c] + graph[r][c+1] + graph[r][c+2]\n",
        "            temp += max(graph[r+1][c], graph[r+1][c+1], graph[r+1][c+2])\n",
        "            hq.heappush(lst,-temp)\n",
        "\n",
        "            temp = graph[r+1][c] + graph[r+1][c+1] + graph[r+1][c+2]\n",
        "            temp += max(graph[r][c], graph[r][c+1], graph[r][c+2])\n",
        "            hq.heappush(lst,-temp)\n",
        "\n",
        "            temp = graph[r][c] + graph[r][c+1] + graph[r+1][c+1] + graph[r+1][c+2]\n",
        "            hq.heappush(lst,-temp)\n",
        "            temp = graph[r+1][c] + graph[r+1][c+1] + graph[r][c+1] + graph[r][c+2]\n",
        "            hq.heappush(lst,-temp)\n",
        "        if m-c>1:\n",
        "            temp = graph[r][c] + graph[r][c+1] + graph[r+1][c] + graph[r+1][c+1]\n",
        "            hq.heappush(lst,-temp)\n",
        "    if n-r>0:\n",
        "        if m-c>3:\n",
        "            temp = graph[r][c] + graph[r][c+1] + graph[r][c+2] + graph[r][c+3]\n",
        "            hq.heappush(lst,-temp)\n",
        "\n",
        "    if not lst:\n",
        "        return 0\n",
        "    return -lst[0]\n",
        "\n",
        "maxi = 0\n",
        "for r in range(n):\n",
        "    for c in range(m):\n",
        "        result = cal4by4(r,c,n,m)\n",
        "        if maxi< result:\n",
        "            maxi = result\n",
        "\n",
        "print(maxi)"
      ],
      "metadata": {
        "id": "xV77SO4SXush"
      },
      "execution_count": null,
      "outputs": []
    }
  ]
}

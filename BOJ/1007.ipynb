{
  "nbformat": 4,
  "nbformat_minor": 0,
  "metadata": {
    "colab": {
      "provenance": [],
      "authorship_tag": "ABX9TyNzSk+T4fVjZfCvEEAMgdnf",
      "include_colab_link": true
    },
    "kernelspec": {
      "name": "python3",
      "display_name": "Python 3"
    },
    "language_info": {
      "name": "python"
    }
  },
  "cells": [
    {
      "cell_type": "markdown",
      "metadata": {
        "id": "view-in-github",
        "colab_type": "text"
      },
      "source": [
        "<a href=\"https://colab.research.google.com/github/apuhapu/algorithm_study/blob/main/BOJ/1007.ipynb\" target=\"_parent\"><img src=\"https://colab.research.google.com/assets/colab-badge.svg\" alt=\"Open In Colab\"/></a>"
      ]
    },
    {
      "cell_type": "code",
      "execution_count": null,
      "metadata": {
        "id": "9nY1LRwd5dPs"
      },
      "outputs": [],
      "source": [
        "t = int(input())"
      ]
    },
    {
      "cell_type": "code",
      "source": [
        "n = int(input())\n",
        "vector = []\n",
        "for _ in range(n):\n",
        "    a, b = map(int, input().rstrip().split())\n",
        "    vector.append((a,b))"
      ],
      "metadata": {
        "colab": {
          "base_uri": "https://localhost:8080/"
        },
        "id": "Ll8wgzenRQzo",
        "outputId": "e352b209-a514-475f-ecfd-f2829f5f9b8f"
      },
      "execution_count": 1,
      "outputs": [
        {
          "name": "stdout",
          "output_type": "stream",
          "text": [
            "10\n",
            "26 -76\n",
            "65 -83\n",
            "78 38\n",
            "92 22\n",
            "-60 -42\n",
            "-27 85\n",
            "42 46\n",
            "-86 98\n",
            "92 -47\n",
            "-41 38\n"
          ]
        }
      ]
    },
    {
      "cell_type": "code",
      "source": [
        "add_v = [[None]*n for _ in range(n)]"
      ],
      "metadata": {
        "id": "GB0gm1VSR3et"
      },
      "execution_count": 10,
      "outputs": []
    },
    {
      "cell_type": "code",
      "source": [
        "def gener_vector(v1, v2):\n",
        "    x1, y1 = v1\n",
        "    x2, y2 = v2\n",
        "    return (x2-x1, y2-y1)"
      ],
      "metadata": {
        "id": "ibK4OSUqSAMo"
      },
      "execution_count": 7,
      "outputs": []
    },
    {
      "cell_type": "code",
      "source": [
        "for i in range(n):\n",
        "    for j in range(n):\n",
        "        if i == j:\n",
        "            continue\n",
        "        add_v[i][j] = gener_vector(vector[i],vector[j])"
      ],
      "metadata": {
        "id": "QqyTAiMVS1or"
      },
      "execution_count": 12,
      "outputs": []
    },
    {
      "cell_type": "code",
      "source": [
        "for i in add_v:\n",
        "    print(i)"
      ],
      "metadata": {
        "colab": {
          "base_uri": "https://localhost:8080/"
        },
        "id": "0PNvLQacTSCj",
        "outputId": "bff5320f-41de-4ea6-f2f3-80cd4fb4bafc"
      },
      "execution_count": 15,
      "outputs": [
        {
          "output_type": "stream",
          "name": "stdout",
          "text": [
            "[None, (39, -7), (52, 114), (66, 98), (-86, 34), (-53, 161), (16, 122), (-112, 174), (66, 29), (-67, 114)]\n",
            "[(-39, 7), None, (13, 121), (27, 105), (-125, 41), (-92, 168), (-23, 129), (-151, 181), (27, 36), (-106, 121)]\n",
            "[(-52, -114), (-13, -121), None, (14, -16), (-138, -80), (-105, 47), (-36, 8), (-164, 60), (14, -85), (-119, 0)]\n",
            "[(-66, -98), (-27, -105), (-14, 16), None, (-152, -64), (-119, 63), (-50, 24), (-178, 76), (0, -69), (-133, 16)]\n",
            "[(86, -34), (125, -41), (138, 80), (152, 64), None, (33, 127), (102, 88), (-26, 140), (152, -5), (19, 80)]\n",
            "[(53, -161), (92, -168), (105, -47), (119, -63), (-33, -127), None, (69, -39), (-59, 13), (119, -132), (-14, -47)]\n",
            "[(-16, -122), (23, -129), (36, -8), (50, -24), (-102, -88), (-69, 39), None, (-128, 52), (50, -93), (-83, -8)]\n",
            "[(112, -174), (151, -181), (164, -60), (178, -76), (26, -140), (59, -13), (128, -52), None, (178, -145), (45, -60)]\n",
            "[(-66, -29), (-27, -36), (-14, 85), (0, 69), (-152, 5), (-119, 132), (-50, 93), (-178, 145), None, (-133, 85)]\n",
            "[(67, -114), (106, -121), (119, 0), (133, -16), (-19, -80), (14, 47), (83, 8), (-45, 60), (133, -85), None]\n"
          ]
        }
      ]
    },
    {
      "cell_type": "code",
      "source": [
        "check = [False]*n\n",
        "min_sum = 20*10**5"
      ],
      "metadata": {
        "id": "0OQIYWKxWcKR"
      },
      "execution_count": 31,
      "outputs": []
    },
    {
      "cell_type": "code",
      "source": [
        "def pick_vectors(cnt, s_x, s_y):\n",
        "    global min_sum\n",
        "    if cnt == n//2:\n",
        "        min_sum = min(min_sum, ((s_x)**2+(s_y)**2)**0.5)\n",
        "    else:\n",
        "        for i in range(cnt, n):\n",
        "            for j in range(cnt, n):\n",
        "                if i == j or check[i] or check[j]:\n",
        "                    continue\n",
        "                else:\n",
        "                    check[i] = True\n",
        "                    check[j] = True\n",
        "                    pick_vectors(cnt+1, s_x+add_v[i][j][0], s_y+add_v[i][j][1])\n",
        "                    check[i] = False\n",
        "                    check[j] = False"
      ],
      "metadata": {
        "id": "5I2iIdIiTiIk"
      },
      "execution_count": 35,
      "outputs": []
    },
    {
      "cell_type": "code",
      "source": [
        "pick_vectors(0,0,0)"
      ],
      "metadata": {
        "id": "0qJSvfNwX9kZ"
      },
      "execution_count": 36,
      "outputs": []
    },
    {
      "cell_type": "code",
      "source": [
        "print(min_sum)"
      ],
      "metadata": {
        "colab": {
          "base_uri": "https://localhost:8080/"
        },
        "id": "oLlvqjm2YFZb",
        "outputId": "43e147f5-55c0-453c-dbb2-51d1bd344212"
      },
      "execution_count": 37,
      "outputs": [
        {
          "output_type": "stream",
          "name": "stdout",
          "text": [
            "13.341664064126334\n"
          ]
        }
      ]
    },
    {
      "cell_type": "markdown",
      "source": [
        "1차 제출"
      ],
      "metadata": {
        "id": "bLIVJLkFaHS9"
      }
    },
    {
      "cell_type": "code",
      "source": [
        "import sys\n",
        "input = sys.stdin.readline\n",
        "\n",
        "def gener_vector(v1, v2):\n",
        "    x1, y1 = v1\n",
        "    x2, y2 = v2\n",
        "    return (x2-x1, y2-y1)\n",
        "\n",
        "def pick_vectors(cnt, s_x, s_y):\n",
        "    global min_sum\n",
        "    if cnt == n//2:\n",
        "        min_sum = min(min_sum, ((s_x)**2+(s_y)**2)**0.5)\n",
        "    else:\n",
        "        for i in range(cnt, n):\n",
        "            for j in range(cnt, n):\n",
        "                if i == j or check[i] or check[j]:\n",
        "                    continue\n",
        "                else:\n",
        "                    check[i] = True\n",
        "                    check[j] = True\n",
        "                    pick_vectors(cnt+1, s_x+add_v[i][j][0], s_y+add_v[i][j][1])\n",
        "                    check[i] = False\n",
        "                    check[j] = False\n",
        "                    \n",
        "t = int(input())\n",
        "for _ in range(t):\n",
        "    n = int(input())\n",
        "    vector = []\n",
        "    for _ in range(n):\n",
        "        a, b = map(int, input().rstrip().split())\n",
        "        vector.append((a,b))\n",
        "        \n",
        "    add_v = [[None]*n for _ in range(n)]\n",
        "    for i in range(n):\n",
        "        for j in range(n):\n",
        "            if i == j:\n",
        "                continue\n",
        "            add_v[i][j] = gener_vector(vector[i],vector[j])\n",
        "            \n",
        "    check = [False]*n\n",
        "    min_sum = 20*10**5\n",
        "    \n",
        "    pick_vectors(0,0,0)\n",
        "    print(min_sum)"
      ],
      "metadata": {
        "id": "X0MM1-_-aIcn"
      },
      "execution_count": null,
      "outputs": []
    },
    {
      "cell_type": "markdown",
      "source": [
        "시간초과"
      ],
      "metadata": {
        "id": "N5T3SVj1aJK6"
      }
    },
    {
      "cell_type": "markdown",
      "source": [
        "N개의 점에서 절반의 좌표는 더해지고 절반의 좌표는 - 하게됨을 이용"
      ],
      "metadata": {
        "id": "h0Fa0qSncL1J"
      }
    },
    {
      "cell_type": "code",
      "source": [
        "import sys\n",
        "# input = sys.stdin.readline\n",
        "\n",
        "def sum_vectors(s_x,s_y):\n",
        "    return ((s_x)**2+(s_y)**2)**0.5\n",
        "\n",
        "def pick_vectors(cnt, key, s_x, s_y):\n",
        "    global min_sum\n",
        "    if cnt == n//2:\n",
        "        min_sum = min(min_sum, sum_vectors(s_x,s_y))\n",
        "    else:\n",
        "        for i in range(key, n):\n",
        "            if check[i]:\n",
        "                continue\n",
        "            else:\n",
        "                if n-i+1 < n//2 - cnt: # 가지치기\n",
        "                    break\n",
        "                check[i] = True\n",
        "                pick_vectors(cnt+1, i+1, s_x-v[i][0], s_y-v[i][1])\n",
        "                check[i] = False\n",
        "                    \n",
        "t = int(input())\n",
        "for _ in range(t):\n",
        "    n = int(input())\n",
        "    v = []\n",
        "    m_a, m_b = 0, 0\n",
        "    for _ in range(n):\n",
        "        a, b = map(int, input().rstrip().split())\n",
        "        m_a += a\n",
        "        m_b += b\n",
        "        v.append((a,b))\n",
        "                    \n",
        "    check = [False]*n\n",
        "    min_sum = sum_vectors(m_a, m_b)\n",
        "    \n",
        "    pick_vectors(0, m_a, m_b)\n",
        "    print(min_sum)"
      ],
      "metadata": {
        "colab": {
          "base_uri": "https://localhost:8080/"
        },
        "id": "CyNZoouBcaS0",
        "outputId": "b2b6b2ab-c787-48dd-a608-4e02f93c6c94"
      },
      "execution_count": 39,
      "outputs": [
        {
          "output_type": "stream",
          "name": "stdout",
          "text": [
            "1\n",
            "10\n",
            "26 -76\n",
            "65 -83\n",
            "78 38\n",
            "92 22\n",
            "-60 -42\n",
            "-27 85\n",
            "42 46\n",
            "-86 98\n",
            "92 -47\n",
            "-41 38\n",
            "19.4164878389476\n"
          ]
        }
      ]
    },
    {
      "cell_type": "code",
      "source": [
        "def cal_v(visited):\n",
        "    x, y = 0, 0\n",
        "    for i in range(n):\n",
        "        if visited[i]:\n",
        "            x -= v[i][0]\n",
        "            y -= v[i][1]\n",
        "        else:\n",
        "            x += v[i][0]\n",
        "            y += v[i][1]\n",
        "    return sum_vectors(x,y)"
      ],
      "metadata": {
        "id": "is9f9fgXjId3"
      },
      "execution_count": 50,
      "outputs": []
    },
    {
      "cell_type": "code",
      "source": [
        "def pick_vectors(cnt, key):\n",
        "    global min_sum\n",
        "    if cnt == n//2:\n",
        "        min_sum = min(min_sum, cal_v(check))\n",
        "    else:\n",
        "        for i in range(key, n):\n",
        "            if check[i]:\n",
        "                continue\n",
        "            else:\n",
        "                if n-i+1 < n//2 - cnt: # 가지치기\n",
        "                    break\n",
        "                check[i] = True\n",
        "                pick_vectors(cnt+1, i+1)\n",
        "                check[i] = False"
      ],
      "metadata": {
        "id": "iTLMW1FPh77n"
      },
      "execution_count": 51,
      "outputs": []
    },
    {
      "cell_type": "code",
      "source": [
        "v"
      ],
      "metadata": {
        "colab": {
          "base_uri": "https://localhost:8080/"
        },
        "id": "Yj-XFylVifQr",
        "outputId": "6a95f636-fc2b-4eed-ff54-f3614cdf37a0"
      },
      "execution_count": 52,
      "outputs": [
        {
          "output_type": "execute_result",
          "data": {
            "text/plain": [
              "[(26, -76),\n",
              " (65, -83),\n",
              " (78, 38),\n",
              " (92, 22),\n",
              " (-60, -42),\n",
              " (-27, 85),\n",
              " (42, 46),\n",
              " (-86, 98),\n",
              " (92, -47),\n",
              " (-41, 38)]"
            ]
          },
          "metadata": {},
          "execution_count": 52
        }
      ]
    },
    {
      "cell_type": "code",
      "source": [
        "check = [False]*n\n",
        "min_sum = sum_vectors(m_a, m_b)\n",
        "\n",
        "pick_vectors(0, 0)\n",
        "print(min_sum)"
      ],
      "metadata": {
        "colab": {
          "base_uri": "https://localhost:8080/"
        },
        "id": "iUe8k7jch8wj",
        "outputId": "f3ee5ccb-3157-4fe8-8cb3-a58176249212"
      },
      "execution_count": 53,
      "outputs": [
        {
          "output_type": "stream",
          "name": "stdout",
          "text": [
            "[True, True, True, True, True, False, False, False, False, False]\n",
            "[True, True, True, True, False, True, False, False, False, False]\n",
            "[True, True, True, True, False, False, True, False, False, False]\n",
            "[True, True, True, True, False, False, False, True, False, False]\n",
            "[True, True, True, True, False, False, False, False, True, False]\n",
            "[True, True, True, True, False, False, False, False, False, True]\n",
            "[True, True, True, False, True, True, False, False, False, False]\n",
            "[True, True, True, False, True, False, True, False, False, False]\n",
            "[True, True, True, False, True, False, False, True, False, False]\n",
            "[True, True, True, False, True, False, False, False, True, False]\n",
            "[True, True, True, False, True, False, False, False, False, True]\n",
            "[True, True, True, False, False, True, True, False, False, False]\n",
            "[True, True, True, False, False, True, False, True, False, False]\n",
            "[True, True, True, False, False, True, False, False, True, False]\n",
            "[True, True, True, False, False, True, False, False, False, True]\n",
            "[True, True, True, False, False, False, True, True, False, False]\n",
            "[True, True, True, False, False, False, True, False, True, False]\n",
            "[True, True, True, False, False, False, True, False, False, True]\n",
            "[True, True, True, False, False, False, False, True, True, False]\n",
            "[True, True, True, False, False, False, False, True, False, True]\n",
            "[True, True, True, False, False, False, False, False, True, True]\n",
            "[True, True, False, True, True, True, False, False, False, False]\n",
            "[True, True, False, True, True, False, True, False, False, False]\n",
            "[True, True, False, True, True, False, False, True, False, False]\n",
            "[True, True, False, True, True, False, False, False, True, False]\n",
            "[True, True, False, True, True, False, False, False, False, True]\n",
            "[True, True, False, True, False, True, True, False, False, False]\n",
            "[True, True, False, True, False, True, False, True, False, False]\n",
            "[True, True, False, True, False, True, False, False, True, False]\n",
            "[True, True, False, True, False, True, False, False, False, True]\n",
            "[True, True, False, True, False, False, True, True, False, False]\n",
            "[True, True, False, True, False, False, True, False, True, False]\n",
            "[True, True, False, True, False, False, True, False, False, True]\n",
            "[True, True, False, True, False, False, False, True, True, False]\n",
            "[True, True, False, True, False, False, False, True, False, True]\n",
            "[True, True, False, True, False, False, False, False, True, True]\n",
            "[True, True, False, False, True, True, True, False, False, False]\n",
            "[True, True, False, False, True, True, False, True, False, False]\n",
            "[True, True, False, False, True, True, False, False, True, False]\n",
            "[True, True, False, False, True, True, False, False, False, True]\n",
            "[True, True, False, False, True, False, True, True, False, False]\n",
            "[True, True, False, False, True, False, True, False, True, False]\n",
            "[True, True, False, False, True, False, True, False, False, True]\n",
            "[True, True, False, False, True, False, False, True, True, False]\n",
            "[True, True, False, False, True, False, False, True, False, True]\n",
            "[True, True, False, False, True, False, False, False, True, True]\n",
            "[True, True, False, False, False, True, True, True, False, False]\n",
            "[True, True, False, False, False, True, True, False, True, False]\n",
            "[True, True, False, False, False, True, True, False, False, True]\n",
            "[True, True, False, False, False, True, False, True, True, False]\n",
            "[True, True, False, False, False, True, False, True, False, True]\n",
            "[True, True, False, False, False, True, False, False, True, True]\n",
            "[True, True, False, False, False, False, True, True, True, False]\n",
            "[True, True, False, False, False, False, True, True, False, True]\n",
            "[True, True, False, False, False, False, True, False, True, True]\n",
            "[True, True, False, False, False, False, False, True, True, True]\n",
            "[True, False, True, True, True, True, False, False, False, False]\n",
            "[True, False, True, True, True, False, True, False, False, False]\n",
            "[True, False, True, True, True, False, False, True, False, False]\n",
            "[True, False, True, True, True, False, False, False, True, False]\n",
            "[True, False, True, True, True, False, False, False, False, True]\n",
            "[True, False, True, True, False, True, True, False, False, False]\n",
            "[True, False, True, True, False, True, False, True, False, False]\n",
            "[True, False, True, True, False, True, False, False, True, False]\n",
            "[True, False, True, True, False, True, False, False, False, True]\n",
            "[True, False, True, True, False, False, True, True, False, False]\n",
            "[True, False, True, True, False, False, True, False, True, False]\n",
            "[True, False, True, True, False, False, True, False, False, True]\n",
            "[True, False, True, True, False, False, False, True, True, False]\n",
            "[True, False, True, True, False, False, False, True, False, True]\n",
            "[True, False, True, True, False, False, False, False, True, True]\n",
            "[True, False, True, False, True, True, True, False, False, False]\n",
            "[True, False, True, False, True, True, False, True, False, False]\n",
            "[True, False, True, False, True, True, False, False, True, False]\n",
            "[True, False, True, False, True, True, False, False, False, True]\n",
            "[True, False, True, False, True, False, True, True, False, False]\n",
            "[True, False, True, False, True, False, True, False, True, False]\n",
            "[True, False, True, False, True, False, True, False, False, True]\n",
            "[True, False, True, False, True, False, False, True, True, False]\n",
            "[True, False, True, False, True, False, False, True, False, True]\n",
            "[True, False, True, False, True, False, False, False, True, True]\n",
            "[True, False, True, False, False, True, True, True, False, False]\n",
            "[True, False, True, False, False, True, True, False, True, False]\n",
            "[True, False, True, False, False, True, True, False, False, True]\n",
            "[True, False, True, False, False, True, False, True, True, False]\n",
            "[True, False, True, False, False, True, False, True, False, True]\n",
            "[True, False, True, False, False, True, False, False, True, True]\n",
            "[True, False, True, False, False, False, True, True, True, False]\n",
            "[True, False, True, False, False, False, True, True, False, True]\n",
            "[True, False, True, False, False, False, True, False, True, True]\n",
            "[True, False, True, False, False, False, False, True, True, True]\n",
            "[True, False, False, True, True, True, True, False, False, False]\n",
            "[True, False, False, True, True, True, False, True, False, False]\n",
            "[True, False, False, True, True, True, False, False, True, False]\n",
            "[True, False, False, True, True, True, False, False, False, True]\n",
            "[True, False, False, True, True, False, True, True, False, False]\n",
            "[True, False, False, True, True, False, True, False, True, False]\n",
            "[True, False, False, True, True, False, True, False, False, True]\n",
            "[True, False, False, True, True, False, False, True, True, False]\n",
            "[True, False, False, True, True, False, False, True, False, True]\n",
            "[True, False, False, True, True, False, False, False, True, True]\n",
            "[True, False, False, True, False, True, True, True, False, False]\n",
            "[True, False, False, True, False, True, True, False, True, False]\n",
            "[True, False, False, True, False, True, True, False, False, True]\n",
            "[True, False, False, True, False, True, False, True, True, False]\n",
            "[True, False, False, True, False, True, False, True, False, True]\n",
            "[True, False, False, True, False, True, False, False, True, True]\n",
            "[True, False, False, True, False, False, True, True, True, False]\n",
            "[True, False, False, True, False, False, True, True, False, True]\n",
            "[True, False, False, True, False, False, True, False, True, True]\n",
            "[True, False, False, True, False, False, False, True, True, True]\n",
            "[True, False, False, False, True, True, True, True, False, False]\n",
            "[True, False, False, False, True, True, True, False, True, False]\n",
            "[True, False, False, False, True, True, True, False, False, True]\n",
            "[True, False, False, False, True, True, False, True, True, False]\n",
            "[True, False, False, False, True, True, False, True, False, True]\n",
            "[True, False, False, False, True, True, False, False, True, True]\n",
            "[True, False, False, False, True, False, True, True, True, False]\n",
            "[True, False, False, False, True, False, True, True, False, True]\n",
            "[True, False, False, False, True, False, True, False, True, True]\n",
            "[True, False, False, False, True, False, False, True, True, True]\n",
            "[True, False, False, False, False, True, True, True, True, False]\n",
            "[True, False, False, False, False, True, True, True, False, True]\n",
            "[True, False, False, False, False, True, True, False, True, True]\n",
            "[True, False, False, False, False, True, False, True, True, True]\n",
            "[True, False, False, False, False, False, True, True, True, True]\n",
            "[False, True, True, True, True, True, False, False, False, False]\n",
            "[False, True, True, True, True, False, True, False, False, False]\n",
            "[False, True, True, True, True, False, False, True, False, False]\n",
            "[False, True, True, True, True, False, False, False, True, False]\n",
            "[False, True, True, True, True, False, False, False, False, True]\n",
            "[False, True, True, True, False, True, True, False, False, False]\n",
            "[False, True, True, True, False, True, False, True, False, False]\n",
            "[False, True, True, True, False, True, False, False, True, False]\n",
            "[False, True, True, True, False, True, False, False, False, True]\n",
            "[False, True, True, True, False, False, True, True, False, False]\n",
            "[False, True, True, True, False, False, True, False, True, False]\n",
            "[False, True, True, True, False, False, True, False, False, True]\n",
            "[False, True, True, True, False, False, False, True, True, False]\n",
            "[False, True, True, True, False, False, False, True, False, True]\n",
            "[False, True, True, True, False, False, False, False, True, True]\n",
            "[False, True, True, False, True, True, True, False, False, False]\n",
            "[False, True, True, False, True, True, False, True, False, False]\n",
            "[False, True, True, False, True, True, False, False, True, False]\n",
            "[False, True, True, False, True, True, False, False, False, True]\n",
            "[False, True, True, False, True, False, True, True, False, False]\n",
            "[False, True, True, False, True, False, True, False, True, False]\n",
            "[False, True, True, False, True, False, True, False, False, True]\n",
            "[False, True, True, False, True, False, False, True, True, False]\n",
            "[False, True, True, False, True, False, False, True, False, True]\n",
            "[False, True, True, False, True, False, False, False, True, True]\n",
            "[False, True, True, False, False, True, True, True, False, False]\n",
            "[False, True, True, False, False, True, True, False, True, False]\n",
            "[False, True, True, False, False, True, True, False, False, True]\n",
            "[False, True, True, False, False, True, False, True, True, False]\n",
            "[False, True, True, False, False, True, False, True, False, True]\n",
            "[False, True, True, False, False, True, False, False, True, True]\n",
            "[False, True, True, False, False, False, True, True, True, False]\n",
            "[False, True, True, False, False, False, True, True, False, True]\n",
            "[False, True, True, False, False, False, True, False, True, True]\n",
            "[False, True, True, False, False, False, False, True, True, True]\n",
            "[False, True, False, True, True, True, True, False, False, False]\n",
            "[False, True, False, True, True, True, False, True, False, False]\n",
            "[False, True, False, True, True, True, False, False, True, False]\n",
            "[False, True, False, True, True, True, False, False, False, True]\n",
            "[False, True, False, True, True, False, True, True, False, False]\n",
            "[False, True, False, True, True, False, True, False, True, False]\n",
            "[False, True, False, True, True, False, True, False, False, True]\n",
            "[False, True, False, True, True, False, False, True, True, False]\n",
            "[False, True, False, True, True, False, False, True, False, True]\n",
            "[False, True, False, True, True, False, False, False, True, True]\n",
            "[False, True, False, True, False, True, True, True, False, False]\n",
            "[False, True, False, True, False, True, True, False, True, False]\n",
            "[False, True, False, True, False, True, True, False, False, True]\n",
            "[False, True, False, True, False, True, False, True, True, False]\n",
            "[False, True, False, True, False, True, False, True, False, True]\n",
            "[False, True, False, True, False, True, False, False, True, True]\n",
            "[False, True, False, True, False, False, True, True, True, False]\n",
            "[False, True, False, True, False, False, True, True, False, True]\n",
            "[False, True, False, True, False, False, True, False, True, True]\n",
            "[False, True, False, True, False, False, False, True, True, True]\n",
            "[False, True, False, False, True, True, True, True, False, False]\n",
            "[False, True, False, False, True, True, True, False, True, False]\n",
            "[False, True, False, False, True, True, True, False, False, True]\n",
            "[False, True, False, False, True, True, False, True, True, False]\n",
            "[False, True, False, False, True, True, False, True, False, True]\n",
            "[False, True, False, False, True, True, False, False, True, True]\n",
            "[False, True, False, False, True, False, True, True, True, False]\n",
            "[False, True, False, False, True, False, True, True, False, True]\n",
            "[False, True, False, False, True, False, True, False, True, True]\n",
            "[False, True, False, False, True, False, False, True, True, True]\n",
            "[False, True, False, False, False, True, True, True, True, False]\n",
            "[False, True, False, False, False, True, True, True, False, True]\n",
            "[False, True, False, False, False, True, True, False, True, True]\n",
            "[False, True, False, False, False, True, False, True, True, True]\n",
            "[False, True, False, False, False, False, True, True, True, True]\n",
            "[False, False, True, True, True, True, True, False, False, False]\n",
            "[False, False, True, True, True, True, False, True, False, False]\n",
            "[False, False, True, True, True, True, False, False, True, False]\n",
            "[False, False, True, True, True, True, False, False, False, True]\n",
            "[False, False, True, True, True, False, True, True, False, False]\n",
            "[False, False, True, True, True, False, True, False, True, False]\n",
            "[False, False, True, True, True, False, True, False, False, True]\n",
            "[False, False, True, True, True, False, False, True, True, False]\n",
            "[False, False, True, True, True, False, False, True, False, True]\n",
            "[False, False, True, True, True, False, False, False, True, True]\n",
            "[False, False, True, True, False, True, True, True, False, False]\n",
            "[False, False, True, True, False, True, True, False, True, False]\n",
            "[False, False, True, True, False, True, True, False, False, True]\n",
            "[False, False, True, True, False, True, False, True, True, False]\n",
            "[False, False, True, True, False, True, False, True, False, True]\n",
            "[False, False, True, True, False, True, False, False, True, True]\n",
            "[False, False, True, True, False, False, True, True, True, False]\n",
            "[False, False, True, True, False, False, True, True, False, True]\n",
            "[False, False, True, True, False, False, True, False, True, True]\n",
            "[False, False, True, True, False, False, False, True, True, True]\n",
            "[False, False, True, False, True, True, True, True, False, False]\n",
            "[False, False, True, False, True, True, True, False, True, False]\n",
            "[False, False, True, False, True, True, True, False, False, True]\n",
            "[False, False, True, False, True, True, False, True, True, False]\n",
            "[False, False, True, False, True, True, False, True, False, True]\n",
            "[False, False, True, False, True, True, False, False, True, True]\n",
            "[False, False, True, False, True, False, True, True, True, False]\n",
            "[False, False, True, False, True, False, True, True, False, True]\n",
            "[False, False, True, False, True, False, True, False, True, True]\n",
            "[False, False, True, False, True, False, False, True, True, True]\n",
            "[False, False, True, False, False, True, True, True, True, False]\n",
            "[False, False, True, False, False, True, True, True, False, True]\n",
            "[False, False, True, False, False, True, True, False, True, True]\n",
            "[False, False, True, False, False, True, False, True, True, True]\n",
            "[False, False, True, False, False, False, True, True, True, True]\n",
            "[False, False, False, True, True, True, True, True, False, False]\n",
            "[False, False, False, True, True, True, True, False, True, False]\n",
            "[False, False, False, True, True, True, True, False, False, True]\n",
            "[False, False, False, True, True, True, False, True, True, False]\n",
            "[False, False, False, True, True, True, False, True, False, True]\n",
            "[False, False, False, True, True, True, False, False, True, True]\n",
            "[False, False, False, True, True, False, True, True, True, False]\n",
            "[False, False, False, True, True, False, True, True, False, True]\n",
            "[False, False, False, True, True, False, True, False, True, True]\n",
            "[False, False, False, True, True, False, False, True, True, True]\n",
            "[False, False, False, True, False, True, True, True, True, False]\n",
            "[False, False, False, True, False, True, True, True, False, True]\n",
            "[False, False, False, True, False, True, True, False, True, True]\n",
            "[False, False, False, True, False, True, False, True, True, True]\n",
            "[False, False, False, True, False, False, True, True, True, True]\n",
            "[False, False, False, False, True, True, True, True, True, False]\n",
            "[False, False, False, False, True, True, True, True, False, True]\n",
            "[False, False, False, False, True, True, True, False, True, True]\n",
            "[False, False, False, False, True, True, False, True, True, True]\n",
            "[False, False, False, False, True, False, True, True, True, True]\n",
            "[False, False, False, False, False, True, True, True, True, True]\n",
            "13.341664064126334\n"
          ]
        }
      ]
    },
    {
      "cell_type": "markdown",
      "source": [
        "2차 제출"
      ],
      "metadata": {
        "id": "90fOlL49j64P"
      }
    },
    {
      "cell_type": "code",
      "source": [
        "import sys\n",
        "# input = sys.stdin.readline\n",
        "\n",
        "def sum_vectors(s_x,s_y):\n",
        "    return ((s_x)**2+(s_y)**2)**0.5\n",
        "\n",
        "def cal_v(visited):\n",
        "    x, y = 0, 0\n",
        "    for i in range(n):\n",
        "        if visited[i]:\n",
        "            x -= v[i][0]\n",
        "            y -= v[i][1]\n",
        "        else:\n",
        "            x += v[i][0]\n",
        "            y += v[i][1]\n",
        "    return sum_vectors(x,y)\n",
        "\n",
        "def pick_vectors(cnt, key):\n",
        "    global min_sum\n",
        "    if cnt == n//2:\n",
        "        min_sum = min(min_sum, cal_v(check))\n",
        "    else:\n",
        "        for i in range(key, n):\n",
        "            if check[i]:\n",
        "                continue\n",
        "            else:\n",
        "                if n-i+1 < n//2 - cnt: # 가지치기\n",
        "                    break\n",
        "                check[i] = True\n",
        "                pick_vectors(cnt+1, i+1)\n",
        "                check[i] = False\n",
        "                    \n",
        "t = int(input())\n",
        "for _ in range(t):\n",
        "    n = int(input())\n",
        "    v = []\n",
        "    m_a, m_b = 0, 0\n",
        "    for _ in range(n):\n",
        "        a, b = map(int, input().rstrip().split())\n",
        "        v.append((a,b))\n",
        "                    \n",
        "    check = [False]*n\n",
        "    min_sum = 20*10**5\n",
        "\n",
        "    pick_vectors(0, 0)\n",
        "    print(min_sum)"
      ],
      "metadata": {
        "id": "PfUG0TvTj8Zj"
      },
      "execution_count": null,
      "outputs": []
    }
  ]
}
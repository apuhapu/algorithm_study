{
  "nbformat": 4,
  "nbformat_minor": 0,
  "metadata": {
    "colab": {
      "name": "11404.ipynb",
      "provenance": [],
      "authorship_tag": "ABX9TyOJyw7OYDctfldYoykSw5kQ",
      "include_colab_link": true
    },
    "kernelspec": {
      "name": "python3",
      "display_name": "Python 3"
    },
    "language_info": {
      "name": "python"
    }
  },
  "cells": [
    {
      "cell_type": "markdown",
      "metadata": {
        "id": "view-in-github",
        "colab_type": "text"
      },
      "source": [
        "<a href=\"https://colab.research.google.com/github/apuhapu/algorithm_study/blob/main/11404.ipynb\" target=\"_parent\"><img src=\"https://colab.research.google.com/assets/colab-badge.svg\" alt=\"Open In Colab\"/></a>"
      ]
    },
    {
      "cell_type": "markdown",
      "source": [
        "https://www.acmicpc.net/problem/11404"
      ],
      "metadata": {
        "id": "5mEpB2B55TLg"
      }
    },
    {
      "cell_type": "code",
      "execution_count": 5,
      "metadata": {
        "colab": {
          "base_uri": "https://localhost:8080/"
        },
        "id": "yUJBdhsh5Q4C",
        "outputId": "40134bfd-9602-4589-9be0-8860b4a94dff"
      },
      "outputs": [
        {
          "output_type": "stream",
          "name": "stdout",
          "text": [
            "5\n",
            "14\n",
            "1 2 2\n",
            "1 3 3\n",
            "1 4 1\n",
            "1 5 10\n",
            "2 4 2\n",
            "3 4 1\n",
            "3 5 1\n",
            "4 5 3\n",
            "3 5 10\n",
            "3 1 8\n",
            "1 4 2\n",
            "5 1 7\n",
            "3 4 2\n",
            "5 2 4\n",
            "0 2 3 1 4 \n",
            "12 0 15 2 5 \n",
            "8 5 0 1 1 \n",
            "10 7 13 0 3 \n",
            "7 4 10 6 0 \n"
          ]
        }
      ],
      "source": [
        "# 입력파트\n",
        "n = int(input())\n",
        "m = int(input())\n",
        "Inf = 100001\n",
        "graph = [[Inf] * (n+1) for _ in range(n+1)]\n",
        "\n",
        "# 자기에서 자기는 0\n",
        "for x in range(1,n+1):\n",
        "    graph[x][x] = 0\n",
        "\n",
        "# 그래프 채우기\n",
        "for _ in range(m):\n",
        "    a, b, c = map(int,input().rstrip().split())\n",
        "    graph[a][b] = min(c, graph[a][b])\n",
        "\n",
        "# 플로이드 워셜\n",
        "for k in range(1,n+1):\n",
        "    for a in range(1,n+1):\n",
        "        for b in range(1,n+1):\n",
        "            graph[a][b] = min(graph[a][b], graph[a][k] + graph[k][b])\n",
        "\n",
        "# 출력 파트\n",
        "for i in range(1,n+1):\n",
        "    for j in range(1,n+1):\n",
        "        if graph[i][j] != Inf:\n",
        "            print(graph[i][j], end = ' ')\n",
        "        else:\n",
        "            print(0, end = ' ')\n",
        "    else:\n",
        "        print()"
      ]
    },
    {
      "cell_type": "markdown",
      "source": [
        "실패\n",
        "\n",
        "그냥 inf를 모든 간선보다 무조건 긴 100001으로 했지만\n",
        "최단거리가 그것보다 길 수도 있다."
      ],
      "metadata": {
        "id": "NJ_FzEmS9jPr"
      }
    },
    {
      "cell_type": "code",
      "source": [
        "# 입력파트\n",
        "n = int(input())\n",
        "m = int(input())\n",
        "Inf = int(10**7)\n",
        "graph = [[Inf] * (n+1) for _ in range(n+1)]\n",
        "\n",
        "# 자기에서 자기는 0\n",
        "for x in range(1,n+1):\n",
        "    graph[x][x] = 0\n",
        "\n",
        "# 그래프 채우기\n",
        "for _ in range(m):\n",
        "    a, b, c = map(int,input().rstrip().split())\n",
        "    graph[a][b] = min(c, graph[a][b])\n",
        "\n",
        "# 플로이드 워셜\n",
        "for k in range(1,n+1):\n",
        "    for a in range(1,n+1):\n",
        "        for b in range(1,n+1):\n",
        "            graph[a][b] = min(graph[a][b], graph[a][k] + graph[k][b])\n",
        "\n",
        "# 출력 파트\n",
        "for i in range(1,n+1):\n",
        "    for j in range(1,n+1):\n",
        "        if graph[i][j] != Inf:\n",
        "            print(graph[i][j], end = ' ')\n",
        "        else:\n",
        "            print(0, end = ' ')\n",
        "    else:\n",
        "        print()"
      ],
      "metadata": {
        "id": "yU6B7JVA-Q26"
      },
      "execution_count": null,
      "outputs": []
    },
    {
      "cell_type": "markdown",
      "source": [
        "성공"
      ],
      "metadata": {
        "id": "HTNDI7F0-nDR"
      }
    },
    {
      "cell_type": "markdown",
      "source": [
        "플로이드는 모든 정점에 대해서 구할 때 + 음의 간선이 존재할 때 도 가능\n",
        "\n",
        "다익스트라는 정점 한개 + 음의 간선이 없을때만 "
      ],
      "metadata": {
        "id": "ua3_kEqa9YBa"
      }
    }
  ]
}
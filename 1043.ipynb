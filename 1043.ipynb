{
  "nbformat": 4,
  "nbformat_minor": 0,
  "metadata": {
    "colab": {
      "name": "1043.ipynb",
      "provenance": [],
      "collapsed_sections": [],
      "authorship_tag": "ABX9TyOYiysFDyQtkEVwN0wXdANF",
      "include_colab_link": true
    },
    "kernelspec": {
      "name": "python3",
      "display_name": "Python 3"
    },
    "language_info": {
      "name": "python"
    }
  },
  "cells": [
    {
      "cell_type": "markdown",
      "metadata": {
        "id": "view-in-github",
        "colab_type": "text"
      },
      "source": [
        "<a href=\"https://colab.research.google.com/github/apuhapu/algorithm_study/blob/main/1043.ipynb\" target=\"_parent\"><img src=\"https://colab.research.google.com/assets/colab-badge.svg\" alt=\"Open In Colab\"/></a>"
      ]
    },
    {
      "cell_type": "markdown",
      "source": [
        "https://www.acmicpc.net/problem/1043"
      ],
      "metadata": {
        "id": "GMJHywzlpfUC"
      }
    },
    {
      "cell_type": "code",
      "source": [
        "n, m = map(int, input().rstrip().split())\n",
        "string = input().rstrip()\n",
        "known = []\n",
        "if string != '0':\n",
        "    known = list(map(int, string.split()))\n",
        "    known = known[1:]\n",
        "party = [[] for _ in range(m+1)]\n",
        "participation = [[] for _ in range(n+1)]\n",
        "for i in range(1, m+1):\n",
        "    lst = list(map(int, input().rstrip().split()))\n",
        "    party[i] = lst[1:]\n",
        "    for x in lst[1:]:\n",
        "        participation[x].append(i)"
      ],
      "metadata": {
        "colab": {
          "base_uri": "https://localhost:8080/"
        },
        "id": "88bn8ozOppiu",
        "outputId": "eb11baa5-e5b5-47e5-9e08-440b4f9d28a2"
      },
      "execution_count": 17,
      "outputs": [
        {
          "name": "stdout",
          "output_type": "stream",
          "text": [
            "4 3\n",
            "0\n",
            "2 1 2\n",
            "1 3\n",
            "3 2 3 4\n"
          ]
        }
      ]
    },
    {
      "cell_type": "code",
      "source": [
        "known = []"
      ],
      "metadata": {
        "id": "cot5M6PNgDf0"
      },
      "execution_count": 25,
      "outputs": []
    },
    {
      "cell_type": "code",
      "source": [
        "participation"
      ],
      "metadata": {
        "colab": {
          "base_uri": "https://localhost:8080/"
        },
        "id": "vwecuw1z1_lv",
        "outputId": "51149af2-cdc3-4bb2-87d6-552f665279b4"
      },
      "execution_count": 18,
      "outputs": [
        {
          "output_type": "execute_result",
          "data": {
            "text/plain": [
              "[[], [1], [1, 3], [2, 3], [3]]"
            ]
          },
          "metadata": {},
          "execution_count": 18
        }
      ]
    },
    {
      "cell_type": "code",
      "source": [
        "party"
      ],
      "metadata": {
        "colab": {
          "base_uri": "https://localhost:8080/"
        },
        "id": "ydED-a8GaM9W",
        "outputId": "34e3b7da-3c36-4bd8-9873-d2d7a3a2daff"
      },
      "execution_count": 19,
      "outputs": [
        {
          "output_type": "execute_result",
          "data": {
            "text/plain": [
              "[[], [1, 2], [3], [2, 3, 4]]"
            ]
          },
          "metadata": {},
          "execution_count": 19
        }
      ]
    },
    {
      "cell_type": "code",
      "source": [
        "from collections import deque"
      ],
      "metadata": {
        "id": "H-XtrOvG2mAw"
      },
      "execution_count": 5,
      "outputs": []
    },
    {
      "cell_type": "code",
      "source": [
        "def bfs(known, participation, party):\n",
        "    check_party = [False] * (m+1) # 처리된 파티\n",
        "    visited = [False] * (n+1)\n",
        "    for a in known:\n",
        "        visited[a] = True\n",
        "    que = deque(known)\n",
        "    while que:\n",
        "        x = que.popleft()\n",
        "        lst = participation[x]  # x번 사람이 참가하는 파티 번호 배열\n",
        "        for p in lst:\n",
        "            if not check_party[p]:\n",
        "                check_party[p] = True\n",
        "                for q in party[p]:\n",
        "                    if not visited[q]:\n",
        "                        visited[q] = True\n",
        "                        que.append(q)\n",
        "    cnt = 0\n",
        "    for b in check_party[1:]:\n",
        "        if not b:\n",
        "            cnt += 1\n",
        "    return cnt"
      ],
      "metadata": {
        "id": "YBy2Urp52ckv"
      },
      "execution_count": 28,
      "outputs": []
    },
    {
      "cell_type": "code",
      "source": [
        "bfs(known, participation, party)"
      ],
      "metadata": {
        "colab": {
          "base_uri": "https://localhost:8080/"
        },
        "id": "ilTFphyodG00",
        "outputId": "2d80f95b-abf2-4c9c-ca04-609aa350b05d"
      },
      "execution_count": 29,
      "outputs": [
        {
          "output_type": "execute_result",
          "data": {
            "text/plain": [
              "3"
            ]
          },
          "metadata": {},
          "execution_count": 29
        }
      ]
    },
    {
      "cell_type": "code",
      "source": [
        "from collections import deque\n",
        "\n",
        "def bfs(known, participation, party):\n",
        "    check_party = [False] * (m+1) # 처리된 파티\n",
        "    visited = [False] * (n+1)\n",
        "    for a in known:\n",
        "        visited[a] = True\n",
        "    que = deque(known)\n",
        "    while que:\n",
        "        x = que.popleft()\n",
        "        lst = participation[x]  # x번 사람이 참가하는 파티 번호 배열\n",
        "        for p in lst:\n",
        "            if not check_party[p]:\n",
        "                check_party[p] = True\n",
        "                for q in party[p]:\n",
        "                    if not visited[q]:\n",
        "                        visited[q] = True\n",
        "                        que.append(q)\n",
        "    cnt = 0\n",
        "    for b in check_party[1:]:\n",
        "        if not b:\n",
        "            cnt += 1\n",
        "    return cnt\n",
        "\n",
        "n, m = map(int, input().rstrip().split())\n",
        "string = input().rstrip()\n",
        "known = []\n",
        "if string != '0':\n",
        "    known = list(map(int, string.split()))\n",
        "    known = known[1:]\n",
        "party = [[] for _ in range(m+1)]\n",
        "participation = [[] for _ in range(n+1)]\n",
        "for i in range(1, m+1):\n",
        "    lst = list(map(int, input().rstrip().split()))\n",
        "    party[i] = lst[1:]\n",
        "    for x in lst[1:]:\n",
        "        participation[x].append(i)\n",
        "\n",
        "print(bfs(known, participation, party))"
      ],
      "metadata": {
        "colab": {
          "base_uri": "https://localhost:8080/"
        },
        "id": "omTKplOdfUWD",
        "outputId": "081a50cb-6a41-42e3-fb22-3d7279d3a3fc"
      },
      "execution_count": 59,
      "outputs": [
        {
          "name": "stdout",
          "output_type": "stream",
          "text": [
            "9 4\n",
            "1 1\n",
            "4 1 2 3 4\n",
            "3 5 6 7 8\n",
            "2 8 9\n",
            "2 4 9\n"
          ]
        },
        {
          "output_type": "execute_result",
          "data": {
            "text/plain": [
              "0"
            ]
          },
          "metadata": {},
          "execution_count": 59
        }
      ]
    },
    {
      "cell_type": "markdown",
      "source": [
        "bfs로 해결"
      ],
      "metadata": {
        "id": "BTXxPQK2lUHs"
      }
    }
  ]
}